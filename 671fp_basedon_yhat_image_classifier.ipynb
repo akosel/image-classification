{
 "metadata": {
  "name": ""
 },
 "nbformat": 3,
 "nbformat_minor": 0,
 "worksheets": [
  {
   "cells": [
    {
     "cell_type": "code",
     "collapsed": false,
     "input": [
      "import pandas as pd\n",
      "import numpy as np\n",
      "import pylab as pl\n",
      "from PIL import Image\n",
      "import os"
     ],
     "language": "python",
     "metadata": {},
     "outputs": [],
     "prompt_number": 1
    },
    {
     "cell_type": "code",
     "collapsed": false,
     "input": [
      "from sklearn.decomposition import RandomizedPCA\n",
      "from sklearn.neighbors import KNeighborsClassifier"
     ],
     "language": "python",
     "metadata": {},
     "outputs": [],
     "prompt_number": 2
    },
    {
     "cell_type": "markdown",
     "metadata": {},
     "source": [
      "<h2>Importing Image Data</h2>"
     ]
    },
    {
     "cell_type": "markdown",
     "metadata": {},
     "source": [
      "<h5>Create Processing Functions</h5>"
     ]
    },
    {
     "cell_type": "code",
     "collapsed": false,
     "input": [
      "#setup a standard image size; this will distort some images but will get everything into the same shape\n",
      "STANDARD_SIZE = (300, 167)\n",
      "def img_to_matrix(filename, verbose=False):\n",
      "    \"\"\"\n",
      "    takes a filename and turns it into a numpy array of RGB pixels\n",
      "    \"\"\"\n",
      "    img = Image.open(filename)\n",
      "    if verbose==True:\n",
      "        print \"changing size from %s to %s\" % (str(img.size), str(STANDARD_SIZE))\n",
      "    img = img.resize(STANDARD_SIZE)\n",
      "    img = list(img.getdata())\n",
      "    img = map(list, img)\n",
      "    img = np.array(img)\n",
      "    return img\n",
      "\n",
      "def flatten_image(img):\n",
      "    \"\"\"\n",
      "    takes in an (m, n) numpy array and flattens it \n",
      "    into an array of shape (1, m * n)\n",
      "    \"\"\"\n",
      "    s = img.shape[0] * img.shape[1]\n",
      "    img_wide = img.reshape(1, s)\n",
      "    return img_wide[0]"
     ],
     "language": "python",
     "metadata": {},
     "outputs": [],
     "prompt_number": 3
    },
    {
     "cell_type": "markdown",
     "metadata": {},
     "source": [
      "<h5>Define the location of your data and import it</h5>"
     ]
    },
    {
     "cell_type": "code",
     "collapsed": false,
     "input": [
      "img_dir = \"../102_Categories/\"\n",
      "images = [img_dir+ f for f in os.listdir(img_dir)]\n",
      "#print images\n",
      "labels = [x[len(\"../102_Categories/\"):] for x in images if \".DS_Store\" not in x]\n",
      "#labels = [\"check\" if \"check\" in f.split('/')[-1] else \"drivers_license\" for f in images]\n",
      "#print labels\n",
      "labels = []\n",
      "\n",
      "flag = True # hm\n",
      "data = []\n",
      "for i in images:\n",
      "    #flag = True\n",
      "    print i\n",
      "    print type(i)\n",
      "    if \".DS_Store\" not in i:\n",
      "        for image in os.listdir(i):\n",
      "            try:\n",
      "                image = \"{}/{}\".format(i,image)\n",
      "                #print image\n",
      "                #print \"IMAGE\", fullpath\n",
      "                img = img_to_matrix(image)\n",
      "                print \"img matrix\",img\n",
      "                img = flatten_image(img)\n",
      "                data.append(img)\n",
      "                labels.append(image[len(\"../102_Categories/\"):-len(\"/image_0016.jpg\")])\n",
      "                print len(data),len(labels)\n",
      "                print labels\n",
      "            except Exception, e:\n",
      "                #flag = False\n",
      "                print \"Sorry.\", e\n",
      "                print \"Had trouble with {}\".format(image)\n",
      "            #if flag:\n",
      "\n",
      "\n",
      "data = np.array(data)\n",
      "data"
     ],
     "language": "python",
     "metadata": {},
     "outputs": [
      {
       "output_type": "stream",
       "stream": "stdout",
       "text": [
        "../102_Categories/airplanes\n",
        "<type 'str'>\n",
        "Sorry. cannot identify image file\n",
        "Had trouble with ../102_Categories/airplanes/.DS_Store\n",
        "img matrix"
       ]
      },
      {
       "output_type": "stream",
       "stream": "stdout",
       "text": [
        " [[255 255 255]\n",
        " [255 255 255]\n",
        " [255 255 255]\n",
        " ..., \n",
        " [255 255 255]\n",
        " [255 255 255]\n",
        " [255 255 255]]\n",
        "1 1\n",
        "['airplanes']\n",
        "img matrix"
       ]
      },
      {
       "output_type": "stream",
       "stream": "stdout",
       "text": [
        " [[255 255 255]\n",
        " [255 255 255]\n",
        " [255 255 255]\n",
        " ..., \n",
        " [180 171 140]\n",
        " [181 172 143]\n",
        " [182 172 145]]\n",
        "2 2\n",
        "['airplanes', 'airplanes']\n",
        "img matrix"
       ]
      },
      {
       "output_type": "stream",
       "stream": "stdout",
       "text": [
        " [[255 255 255]\n",
        " [255 255 255]\n",
        " [255 255 255]\n",
        " ..., \n",
        " [255 255 255]\n",
        " [255 255 255]\n",
        " [255 255 255]]\n",
        "3 3\n",
        "['airplanes', 'airplanes', 'airplanes']\n",
        "img matrix"
       ]
      },
      {
       "output_type": "stream",
       "stream": "stdout",
       "text": [
        " [[255 255 255]\n",
        " [255 255 255]\n",
        " [255 255 255]\n",
        " ..., \n",
        " [131 120  28]\n",
        " [129 118  26]\n",
        " [120 109  17]]\n",
        "4 4\n",
        "['airplanes', 'airplanes', 'airplanes', 'airplanes']\n",
        "img matrix"
       ]
      },
      {
       "output_type": "stream",
       "stream": "stdout",
       "text": [
        " [[255 255 255]\n",
        " [255 255 255]\n",
        " [255 255 255]\n",
        " ..., \n",
        " [255 255 255]\n",
        " [255 255 255]\n",
        " [255 255 255]]\n",
        "5 5\n",
        "['airplanes', 'airplanes', 'airplanes', 'airplanes', 'airplanes']\n",
        "img matrix"
       ]
      },
      {
       "output_type": "stream",
       "stream": "stdout",
       "text": [
        " [[255 255 255]\n",
        " [255 255 255]\n",
        " [255 255 255]\n",
        " ..., \n",
        " [255 255 255]\n",
        " [255 255 255]\n",
        " [255 255 255]]\n",
        "6 6\n",
        "['airplanes', 'airplanes', 'airplanes', 'airplanes', 'airplanes', 'airplanes']\n",
        "img matrix"
       ]
      },
      {
       "output_type": "stream",
       "stream": "stdout",
       "text": [
        " [[255 255 255]\n",
        " [255 255 255]\n",
        " [255 255 255]\n",
        " ..., \n",
        " [255 255 255]\n",
        " [255 255 255]\n",
        " [255 255 255]]\n",
        "7 7\n",
        "['airplanes', 'airplanes', 'airplanes', 'airplanes', 'airplanes', 'airplanes', 'airplanes']\n",
        "img matrix"
       ]
      },
      {
       "output_type": "stream",
       "stream": "stdout",
       "text": [
        " [[255 255 255]\n",
        " [255 255 255]\n",
        " [255 255 255]\n",
        " ..., \n",
        " [104  71  38]\n",
        " [100  76  52]\n",
        " [255 245 230]]\n",
        "8 8\n",
        "['airplanes', 'airplanes', 'airplanes', 'airplanes', 'airplanes', 'airplanes', 'airplanes', 'airplanes']\n",
        "img matrix"
       ]
      },
      {
       "output_type": "stream",
       "stream": "stdout",
       "text": [
        " [[255 255 255]\n",
        " [255 255 255]\n",
        " [255 255 255]\n",
        " ..., \n",
        " [255 255 255]\n",
        " [255 255 255]\n",
        " [255 255 255]]\n",
        "9 9\n",
        "['airplanes', 'airplanes', 'airplanes', 'airplanes', 'airplanes', 'airplanes', 'airplanes', 'airplanes', 'airplanes']\n",
        "img matrix"
       ]
      },
      {
       "output_type": "stream",
       "stream": "stdout",
       "text": [
        " [[255 255 255]\n",
        " [255 255 255]\n",
        " [255 255 255]\n",
        " ..., \n",
        " [255 255 255]\n",
        " [255 255 255]\n",
        " [255 255 255]]\n",
        "10 10\n",
        "['airplanes', 'airplanes', 'airplanes', 'airplanes', 'airplanes', 'airplanes', 'airplanes', 'airplanes', 'airplanes', 'airplanes']\n",
        "img matrix"
       ]
      },
      {
       "output_type": "stream",
       "stream": "stdout",
       "text": [
        " [[255 255 255]\n",
        " [255 255 255]\n",
        " [255 255 255]\n",
        " ..., \n",
        " [255 255 237]\n",
        " [255 254 253]\n",
        " [253 253 255]]\n",
        "11 11\n",
        "['airplanes', 'airplanes', 'airplanes', 'airplanes', 'airplanes', 'airplanes', 'airplanes', 'airplanes', 'airplanes', 'airplanes', 'airplanes']\n",
        "img matrix"
       ]
      },
      {
       "output_type": "stream",
       "stream": "stdout",
       "text": [
        " [[255 255 255]\n",
        " [255 255 255]\n",
        " [255 255 255]\n",
        " ..., \n",
        " [255 255 255]\n",
        " [255 255 255]\n",
        " [255 255 255]]\n",
        "12 12\n",
        "['airplanes', 'airplanes', 'airplanes', 'airplanes', 'airplanes', 'airplanes', 'airplanes', 'airplanes', 'airplanes', 'airplanes', 'airplanes', 'airplanes']\n",
        "img matrix"
       ]
      },
      {
       "output_type": "stream",
       "stream": "stdout",
       "text": [
        " [[255 255 255]\n",
        " [255 255 255]\n",
        " [255 255 255]\n",
        " ..., \n",
        " [255 255 255]\n",
        " [255 255 255]\n",
        " [255 255 255]]\n",
        "13 13\n",
        "['airplanes', 'airplanes', 'airplanes', 'airplanes', 'airplanes', 'airplanes', 'airplanes', 'airplanes', 'airplanes', 'airplanes', 'airplanes', 'airplanes', 'airplanes']\n",
        "img matrix"
       ]
      },
      {
       "output_type": "stream",
       "stream": "stdout",
       "text": [
        " [[255 255 255]\n",
        " [255 255 255]\n",
        " [255 255 255]\n",
        " ..., \n",
        " [254 255 251]\n",
        " [255 255 251]\n",
        " [255 255 253]]\n",
        "14 14\n",
        "['airplanes', 'airplanes', 'airplanes', 'airplanes', 'airplanes', 'airplanes', 'airplanes', 'airplanes', 'airplanes', 'airplanes', 'airplanes', 'airplanes', 'airplanes', 'airplanes']\n",
        "img matrix"
       ]
      },
      {
       "output_type": "stream",
       "stream": "stdout",
       "text": [
        " [[ 33   4   0]\n",
        " [ 33   4   0]\n",
        " [ 33   4   0]\n",
        " ..., \n",
        " [ 59  97  14]\n",
        " [248 255 239]\n",
        " [254 255 255]]\n",
        "15 15\n",
        "['airplanes', 'airplanes', 'airplanes', 'airplanes', 'airplanes', 'airplanes', 'airplanes', 'airplanes', 'airplanes', 'airplanes', 'airplanes', 'airplanes', 'airplanes', 'airplanes', 'airplanes']\n",
        "img matrix"
       ]
      },
      {
       "output_type": "stream",
       "stream": "stdout",
       "text": [
        " [[255 255 255]\n",
        " [255 255 255]\n",
        " [255 255 255]\n",
        " ..., \n",
        " [255 255 255]\n",
        " [255 255 255]\n",
        " [255 255 255]]\n",
        "16 16\n",
        "['airplanes', 'airplanes', 'airplanes', 'airplanes', 'airplanes', 'airplanes', 'airplanes', 'airplanes', 'airplanes', 'airplanes', 'airplanes', 'airplanes', 'airplanes', 'airplanes', 'airplanes', 'airplanes']\n",
        "img matrix"
       ]
      },
      {
       "output_type": "stream",
       "stream": "stdout",
       "text": [
        " [[255 255 255]\n",
        " [255 255 255]\n",
        " [255 255 255]\n",
        " ..., \n",
        " [ 46  86   0]\n",
        " [ 51  90   7]\n",
        " [ 53  92   9]]\n",
        "17 17\n",
        "['airplanes', 'airplanes', 'airplanes', 'airplanes', 'airplanes', 'airplanes', 'airplanes', 'airplanes', 'airplanes', 'airplanes', 'airplanes', 'airplanes', 'airplanes', 'airplanes', 'airplanes', 'airplanes', 'airplanes']\n",
        "img matrix"
       ]
      },
      {
       "output_type": "stream",
       "stream": "stdout",
       "text": [
        " [[255 255 255]\n",
        " [255 255 255]\n",
        " [255 255 255]\n",
        " ..., \n",
        " [ 88 129   9]\n",
        " [ 89 130   8]\n",
        " [ 90 131   9]]\n",
        "18 18\n",
        "['airplanes', 'airplanes', 'airplanes', 'airplanes', 'airplanes', 'airplanes', 'airplanes', 'airplanes', 'airplanes', 'airplanes', 'airplanes', 'airplanes', 'airplanes', 'airplanes', 'airplanes', 'airplanes', 'airplanes', 'airplanes']\n",
        "img matrix"
       ]
      },
      {
       "output_type": "stream",
       "stream": "stdout",
       "text": [
        " [[255 255 255]\n",
        " [255 255 255]\n",
        " [255 255 255]\n",
        " ..., \n",
        " [255 255 255]\n",
        " [255 255 255]\n",
        " [255 255 255]]\n",
        "19 19\n",
        "['airplanes', 'airplanes', 'airplanes', 'airplanes', 'airplanes', 'airplanes', 'airplanes', 'airplanes', 'airplanes', 'airplanes', 'airplanes', 'airplanes', 'airplanes', 'airplanes', 'airplanes', 'airplanes', 'airplanes', 'airplanes', 'airplanes']\n",
        "img matrix"
       ]
      },
      {
       "output_type": "stream",
       "stream": "stdout",
       "text": [
        " [[255 255 255]\n",
        " [255 255 255]\n",
        " [255 255 255]\n",
        " ..., \n",
        " [255 255 255]\n",
        " [255 255 255]\n",
        " [255 255 255]]\n",
        "20 20\n",
        "['airplanes', 'airplanes', 'airplanes', 'airplanes', 'airplanes', 'airplanes', 'airplanes', 'airplanes', 'airplanes', 'airplanes', 'airplanes', 'airplanes', 'airplanes', 'airplanes', 'airplanes', 'airplanes', 'airplanes', 'airplanes', 'airplanes', 'airplanes']\n",
        "img matrix"
       ]
      },
      {
       "output_type": "stream",
       "stream": "stdout",
       "text": [
        " [[255 255 255]\n",
        " [255 255 255]\n",
        " [255 255 255]\n",
        " ..., \n",
        " [255 255 255]\n",
        " [255 255 255]\n",
        " [255 255 255]]\n",
        "21 21\n",
        "['airplanes', 'airplanes', 'airplanes', 'airplanes', 'airplanes', 'airplanes', 'airplanes', 'airplanes', 'airplanes', 'airplanes', 'airplanes', 'airplanes', 'airplanes', 'airplanes', 'airplanes', 'airplanes', 'airplanes', 'airplanes', 'airplanes', 'airplanes', 'airplanes']\n",
        "img matrix"
       ]
      },
      {
       "output_type": "stream",
       "stream": "stdout",
       "text": [
        " [[255 255 255]\n",
        " [255 255 255]\n",
        " [255 255 255]\n",
        " ..., \n",
        " [255 255 255]\n",
        " [255 255 255]\n",
        " [255 255 255]]\n",
        "22 22\n",
        "['airplanes', 'airplanes', 'airplanes', 'airplanes', 'airplanes', 'airplanes', 'airplanes', 'airplanes', 'airplanes', 'airplanes', 'airplanes', 'airplanes', 'airplanes', 'airplanes', 'airplanes', 'airplanes', 'airplanes', 'airplanes', 'airplanes', 'airplanes', 'airplanes', 'airplanes']\n",
        "img matrix"
       ]
      },
      {
       "output_type": "stream",
       "stream": "stdout",
       "text": [
        " [[255 255 255]\n",
        " [255 255 255]\n",
        " [255 255 255]\n",
        " ..., \n",
        " [255 255 255]\n",
        " [255 255 255]\n",
        " [255 255 255]]\n",
        "23 23\n",
        "['airplanes', 'airplanes', 'airplanes', 'airplanes', 'airplanes', 'airplanes', 'airplanes', 'airplanes', 'airplanes', 'airplanes', 'airplanes', 'airplanes', 'airplanes', 'airplanes', 'airplanes', 'airplanes', 'airplanes', 'airplanes', 'airplanes', 'airplanes', 'airplanes', 'airplanes', 'airplanes']\n",
        "img matrix"
       ]
      },
      {
       "output_type": "stream",
       "stream": "stdout",
       "text": [
        " [[255 255 255]\n",
        " [255 255 255]\n",
        " [255 255 255]\n",
        " ..., \n",
        " [255 255 255]\n",
        " [255 255 255]\n",
        " [255 255 255]]\n",
        "24 24\n",
        "['airplanes', 'airplanes', 'airplanes', 'airplanes', 'airplanes', 'airplanes', 'airplanes', 'airplanes', 'airplanes', 'airplanes', 'airplanes', 'airplanes', 'airplanes', 'airplanes', 'airplanes', 'airplanes', 'airplanes', 'airplanes', 'airplanes', 'airplanes', 'airplanes', 'airplanes', 'airplanes', 'airplanes']\n",
        "img matrix"
       ]
      },
      {
       "output_type": "stream",
       "stream": "stdout",
       "text": [
        " [[255 255 255]\n",
        " [255 255 255]\n",
        " [255 255 255]\n",
        " ..., \n",
        " [175 162 153]\n",
        " [255 253 246]\n",
        " [255 254 250]]\n",
        "25 25\n",
        "['airplanes', 'airplanes', 'airplanes', 'airplanes', 'airplanes', 'airplanes', 'airplanes', 'airplanes', 'airplanes', 'airplanes', 'airplanes', 'airplanes', 'airplanes', 'airplanes', 'airplanes', 'airplanes', 'airplanes', 'airplanes', 'airplanes', 'airplanes', 'airplanes', 'airplanes', 'airplanes', 'airplanes', 'airplanes']\n",
        "img matrix"
       ]
      },
      {
       "output_type": "stream",
       "stream": "stdout",
       "text": [
        " [[255 255 255]\n",
        " [255 255 255]\n",
        " [255 255 255]\n",
        " ..., \n",
        " [255 255 255]\n",
        " [255 255 255]\n",
        " [255 255 255]]\n",
        "26 26\n",
        "['airplanes', 'airplanes', 'airplanes', 'airplanes', 'airplanes', 'airplanes', 'airplanes', 'airplanes', 'airplanes', 'airplanes', 'airplanes', 'airplanes', 'airplanes', 'airplanes', 'airplanes', 'airplanes', 'airplanes', 'airplanes', 'airplanes', 'airplanes', 'airplanes', 'airplanes', 'airplanes', 'airplanes', 'airplanes', 'airplanes']\n",
        "img matrix"
       ]
      },
      {
       "output_type": "stream",
       "stream": "stdout",
       "text": [
        " [[255 255 255]\n",
        " [255 255 255]\n",
        " [255 255 255]\n",
        " ..., \n",
        " [255 255 255]\n",
        " [255 255 253]\n",
        " [255 255 251]]\n",
        "27 27\n",
        "['airplanes', 'airplanes', 'airplanes', 'airplanes', 'airplanes', 'airplanes', 'airplanes', 'airplanes', 'airplanes', 'airplanes', 'airplanes', 'airplanes', 'airplanes', 'airplanes', 'airplanes', 'airplanes', 'airplanes', 'airplanes', 'airplanes', 'airplanes', 'airplanes', 'airplanes', 'airplanes', 'airplanes', 'airplanes', 'airplanes', 'airplanes']\n",
        "img matrix"
       ]
      },
      {
       "output_type": "stream",
       "stream": "stdout",
       "text": [
        " [[255 255 255]\n",
        " [255 255 255]\n",
        " [255 255 255]\n",
        " ..., \n",
        " [ 42  63   0]\n",
        " [ 43  63   0]\n",
        " [ 48  68   5]]\n",
        "28 28\n",
        "['airplanes', 'airplanes', 'airplanes', 'airplanes', 'airplanes', 'airplanes', 'airplanes', 'airplanes', 'airplanes', 'airplanes', 'airplanes', 'airplanes', 'airplanes', 'airplanes', 'airplanes', 'airplanes', 'airplanes', 'airplanes', 'airplanes', 'airplanes', 'airplanes', 'airplanes', 'airplanes', 'airplanes', 'airplanes', 'airplanes', 'airplanes', 'airplanes']\n",
        "img matrix"
       ]
      },
      {
       "output_type": "stream",
       "stream": "stdout",
       "text": [
        " [[255 255 255]\n",
        " [255 255 255]\n",
        " [255 255 255]\n",
        " ..., \n",
        " [255 255 239]\n",
        " [255 255 244]\n",
        " [255 255 253]]\n",
        "29 29\n",
        "['airplanes', 'airplanes', 'airplanes', 'airplanes', 'airplanes', 'airplanes', 'airplanes', 'airplanes', 'airplanes', 'airplanes', 'airplanes', 'airplanes', 'airplanes', 'airplanes', 'airplanes', 'airplanes', 'airplanes', 'airplanes', 'airplanes', 'airplanes', 'airplanes', 'airplanes', 'airplanes', 'airplanes', 'airplanes', 'airplanes', 'airplanes', 'airplanes', 'airplanes']\n",
        "img matrix"
       ]
      },
      {
       "output_type": "stream",
       "stream": "stdout",
       "text": [
        " [[255 255 255]\n",
        " [255 255 255]\n",
        " [255 255 255]\n",
        " ..., \n",
        " [255 255 255]\n",
        " [255 255 255]\n",
        " [255 255 255]]\n",
        "30 30\n",
        "['airplanes', 'airplanes', 'airplanes', 'airplanes', 'airplanes', 'airplanes', 'airplanes', 'airplanes', 'airplanes', 'airplanes', 'airplanes', 'airplanes', 'airplanes', 'airplanes', 'airplanes', 'airplanes', 'airplanes', 'airplanes', 'airplanes', 'airplanes', 'airplanes', 'airplanes', 'airplanes', 'airplanes', 'airplanes', 'airplanes', 'airplanes', 'airplanes', 'airplanes', 'airplanes']\n",
        "img matrix"
       ]
      },
      {
       "output_type": "stream",
       "stream": "stdout",
       "text": [
        " [[255 255 255]\n",
        " [255 255 255]\n",
        " [255 255 255]\n",
        " ..., \n",
        " [197 205 194]\n",
        " [197 205 194]\n",
        " [199 207 196]]\n",
        "31 31\n",
        "['airplanes', 'airplanes', 'airplanes', 'airplanes', 'airplanes', 'airplanes', 'airplanes', 'airplanes', 'airplanes', 'airplanes', 'airplanes', 'airplanes', 'airplanes', 'airplanes', 'airplanes', 'airplanes', 'airplanes', 'airplanes', 'airplanes', 'airplanes', 'airplanes', 'airplanes', 'airplanes', 'airplanes', 'airplanes', 'airplanes', 'airplanes', 'airplanes', 'airplanes', 'airplanes', 'airplanes']\n",
        "img matrix"
       ]
      },
      {
       "output_type": "stream",
       "stream": "stdout",
       "text": [
        " [[255 255 255]\n",
        " [255 255 255]\n",
        " [255 255 255]\n",
        " ..., \n",
        " [255 255 255]\n",
        " [255 255 255]\n",
        " [255 255 255]]\n",
        "32 32\n",
        "['airplanes', 'airplanes', 'airplanes', 'airplanes', 'airplanes', 'airplanes', 'airplanes', 'airplanes', 'airplanes', 'airplanes', 'airplanes', 'airplanes', 'airplanes', 'airplanes', 'airplanes', 'airplanes', 'airplanes', 'airplanes', 'airplanes', 'airplanes', 'airplanes', 'airplanes', 'airplanes', 'airplanes', 'airplanes', 'airplanes', 'airplanes', 'airplanes', 'airplanes', 'airplanes', 'airplanes', 'airplanes']\n",
        "img matrix"
       ]
      },
      {
       "output_type": "stream",
       "stream": "stdout",
       "text": [
        " [[255 255 255]\n",
        " [255 255 255]\n",
        " [255 255 255]\n",
        " ..., \n",
        " [255 255 255]\n",
        " [255 255 255]\n",
        " [255 255 255]]\n",
        "33 33\n",
        "['airplanes', 'airplanes', 'airplanes', 'airplanes', 'airplanes', 'airplanes', 'airplanes', 'airplanes', 'airplanes', 'airplanes', 'airplanes', 'airplanes', 'airplanes', 'airplanes', 'airplanes', 'airplanes', 'airplanes', 'airplanes', 'airplanes', 'airplanes', 'airplanes', 'airplanes', 'airplanes', 'airplanes', 'airplanes', 'airplanes', 'airplanes', 'airplanes', 'airplanes', 'airplanes', 'airplanes', 'airplanes', 'airplanes']\n",
        "img matrix"
       ]
      },
      {
       "output_type": "stream",
       "stream": "stdout",
       "text": [
        " [[255 255 255]\n",
        " [255 255 255]\n",
        " [255 255 255]\n",
        " ..., \n",
        " [255 255 255]\n",
        " [255 255 255]\n",
        " [255 255 255]]\n",
        "34 34\n",
        "['airplanes', 'airplanes', 'airplanes', 'airplanes', 'airplanes', 'airplanes', 'airplanes', 'airplanes', 'airplanes', 'airplanes', 'airplanes', 'airplanes', 'airplanes', 'airplanes', 'airplanes', 'airplanes', 'airplanes', 'airplanes', 'airplanes', 'airplanes', 'airplanes', 'airplanes', 'airplanes', 'airplanes', 'airplanes', 'airplanes', 'airplanes', 'airplanes', 'airplanes', 'airplanes', 'airplanes', 'airplanes', 'airplanes', 'airplanes']\n",
        "img matrix"
       ]
      },
      {
       "output_type": "stream",
       "stream": "stdout",
       "text": [
        " [[255 255 255]\n",
        " [255 255 255]\n",
        " [255 255 255]\n",
        " ..., \n",
        " [255 255 255]\n",
        " [255 255 255]\n",
        " [255 255 255]]\n",
        "35 35\n",
        "['airplanes', 'airplanes', 'airplanes', 'airplanes', 'airplanes', 'airplanes', 'airplanes', 'airplanes', 'airplanes', 'airplanes', 'airplanes', 'airplanes', 'airplanes', 'airplanes', 'airplanes', 'airplanes', 'airplanes', 'airplanes', 'airplanes', 'airplanes', 'airplanes', 'airplanes', 'airplanes', 'airplanes', 'airplanes', 'airplanes', 'airplanes', 'airplanes', 'airplanes', 'airplanes', 'airplanes', 'airplanes', 'airplanes', 'airplanes', 'airplanes']\n",
        "img matrix"
       ]
      },
      {
       "output_type": "stream",
       "stream": "stdout",
       "text": [
        " [[255 255 255]\n",
        " [255 255 255]\n",
        " [255 255 255]\n",
        " ..., \n",
        " [255 255 255]\n",
        " [255 255 255]\n",
        " [255 255 255]]\n",
        "36 36\n",
        "['airplanes', 'airplanes', 'airplanes', 'airplanes', 'airplanes', 'airplanes', 'airplanes', 'airplanes', 'airplanes', 'airplanes', 'airplanes', 'airplanes', 'airplanes', 'airplanes', 'airplanes', 'airplanes', 'airplanes', 'airplanes', 'airplanes', 'airplanes', 'airplanes', 'airplanes', 'airplanes', 'airplanes', 'airplanes', 'airplanes', 'airplanes', 'airplanes', 'airplanes', 'airplanes', 'airplanes', 'airplanes', 'airplanes', 'airplanes', 'airplanes', 'airplanes']\n",
        "img matrix"
       ]
      },
      {
       "output_type": "stream",
       "stream": "stdout",
       "text": [
        " [[255 255 255]\n",
        " [255 255 255]\n",
        " [255 255 255]\n",
        " ..., \n",
        " [255 254 255]\n",
        " [253 252 255]\n",
        " [255 254 255]]\n",
        "37 37\n",
        "['airplanes', 'airplanes', 'airplanes', 'airplanes', 'airplanes', 'airplanes', 'airplanes', 'airplanes', 'airplanes', 'airplanes', 'airplanes', 'airplanes', 'airplanes', 'airplanes', 'airplanes', 'airplanes', 'airplanes', 'airplanes', 'airplanes', 'airplanes', 'airplanes', 'airplanes', 'airplanes', 'airplanes', 'airplanes', 'airplanes', 'airplanes', 'airplanes', 'airplanes', 'airplanes', 'airplanes', 'airplanes', 'airplanes', 'airplanes', 'airplanes', 'airplanes', 'airplanes']\n",
        "img matrix"
       ]
      },
      {
       "output_type": "stream",
       "stream": "stdout",
       "text": [
        " [[255 255 255]\n",
        " [255 255 255]\n",
        " [255 255 255]\n",
        " ..., \n",
        " [255 255 255]\n",
        " [255 255 255]\n",
        " [255 255 255]]\n",
        "38 38\n",
        "['airplanes', 'airplanes', 'airplanes', 'airplanes', 'airplanes', 'airplanes', 'airplanes', 'airplanes', 'airplanes', 'airplanes', 'airplanes', 'airplanes', 'airplanes', 'airplanes', 'airplanes', 'airplanes', 'airplanes', 'airplanes', 'airplanes', 'airplanes', 'airplanes', 'airplanes', 'airplanes', 'airplanes', 'airplanes', 'airplanes', 'airplanes', 'airplanes', 'airplanes', 'airplanes', 'airplanes', 'airplanes', 'airplanes', 'airplanes', 'airplanes', 'airplanes', 'airplanes', 'airplanes']\n",
        "img matrix"
       ]
      },
      {
       "output_type": "stream",
       "stream": "stdout",
       "text": [
        " [[255 255 255]\n",
        " [255 255 255]\n",
        " [255 255 255]\n",
        " ..., \n",
        " [255 255 255]\n",
        " [255 255 255]\n",
        " [255 255 255]]\n",
        "39 39\n",
        "['airplanes', 'airplanes', 'airplanes', 'airplanes', 'airplanes', 'airplanes', 'airplanes', 'airplanes', 'airplanes', 'airplanes', 'airplanes', 'airplanes', 'airplanes', 'airplanes', 'airplanes', 'airplanes', 'airplanes', 'airplanes', 'airplanes', 'airplanes', 'airplanes', 'airplanes', 'airplanes', 'airplanes', 'airplanes', 'airplanes', 'airplanes', 'airplanes', 'airplanes', 'airplanes', 'airplanes', 'airplanes', 'airplanes', 'airplanes', 'airplanes', 'airplanes', 'airplanes', 'airplanes', 'airplanes']\n",
        "img matrix"
       ]
      },
      {
       "output_type": "stream",
       "stream": "stdout",
       "text": [
        " [[255 255 255]\n",
        " [255 255 255]\n",
        " [255 255 255]\n",
        " ..., \n",
        " [255 255 255]\n",
        " [255 255 255]\n",
        " [255 255 255]]\n",
        "40 40\n",
        "['airplanes', 'airplanes', 'airplanes', 'airplanes', 'airplanes', 'airplanes', 'airplanes', 'airplanes', 'airplanes', 'airplanes', 'airplanes', 'airplanes', 'airplanes', 'airplanes', 'airplanes', 'airplanes', 'airplanes', 'airplanes', 'airplanes', 'airplanes', 'airplanes', 'airplanes', 'airplanes', 'airplanes', 'airplanes', 'airplanes', 'airplanes', 'airplanes', 'airplanes', 'airplanes', 'airplanes', 'airplanes', 'airplanes', 'airplanes', 'airplanes', 'airplanes', 'airplanes', 'airplanes', 'airplanes', 'airplanes']\n",
        "img matrix"
       ]
      },
      {
       "output_type": "stream",
       "stream": "stdout",
       "text": [
        " [[255 255 255]\n",
        " [255 255 255]\n",
        " [255 255 255]\n",
        " ..., \n",
        " [255 255 255]\n",
        " [255 255 255]\n",
        " [255 255 255]]\n",
        "41 41\n",
        "['airplanes', 'airplanes', 'airplanes', 'airplanes', 'airplanes', 'airplanes', 'airplanes', 'airplanes', 'airplanes', 'airplanes', 'airplanes', 'airplanes', 'airplanes', 'airplanes', 'airplanes', 'airplanes', 'airplanes', 'airplanes', 'airplanes', 'airplanes', 'airplanes', 'airplanes', 'airplanes', 'airplanes', 'airplanes', 'airplanes', 'airplanes', 'airplanes', 'airplanes', 'airplanes', 'airplanes', 'airplanes', 'airplanes', 'airplanes', 'airplanes', 'airplanes', 'airplanes', 'airplanes', 'airplanes', 'airplanes', 'airplanes']\n",
        "img matrix"
       ]
      },
      {
       "output_type": "stream",
       "stream": "stdout",
       "text": [
        " [[255 255 255]\n",
        " [255 255 255]\n",
        " [255 255 255]\n",
        " ..., \n",
        " [255 255 255]\n",
        " [255 255 255]\n",
        " [255 255 255]]\n",
        "42 42\n",
        "['airplanes', 'airplanes', 'airplanes', 'airplanes', 'airplanes', 'airplanes', 'airplanes', 'airplanes', 'airplanes', 'airplanes', 'airplanes', 'airplanes', 'airplanes', 'airplanes', 'airplanes', 'airplanes', 'airplanes', 'airplanes', 'airplanes', 'airplanes', 'airplanes', 'airplanes', 'airplanes', 'airplanes', 'airplanes', 'airplanes', 'airplanes', 'airplanes', 'airplanes', 'airplanes', 'airplanes', 'airplanes', 'airplanes', 'airplanes', 'airplanes', 'airplanes', 'airplanes', 'airplanes', 'airplanes', 'airplanes', 'airplanes', 'airplanes']\n",
        "img matrix"
       ]
      },
      {
       "output_type": "stream",
       "stream": "stdout",
       "text": [
        " [[255 255 255]\n",
        " [255 255 255]\n",
        " [255 255 255]\n",
        " ..., \n",
        " [253 253 251]\n",
        " [255 255 255]\n",
        " [255 255 255]]\n",
        "43 43\n",
        "['airplanes', 'airplanes', 'airplanes', 'airplanes', 'airplanes', 'airplanes', 'airplanes', 'airplanes', 'airplanes', 'airplanes', 'airplanes', 'airplanes', 'airplanes', 'airplanes', 'airplanes', 'airplanes', 'airplanes', 'airplanes', 'airplanes', 'airplanes', 'airplanes', 'airplanes', 'airplanes', 'airplanes', 'airplanes', 'airplanes', 'airplanes', 'airplanes', 'airplanes', 'airplanes', 'airplanes', 'airplanes', 'airplanes', 'airplanes', 'airplanes', 'airplanes', 'airplanes', 'airplanes', 'airplanes', 'airplanes', 'airplanes', 'airplanes', 'airplanes']\n",
        "img matrix"
       ]
      },
      {
       "output_type": "stream",
       "stream": "stdout",
       "text": [
        " [[255 255 255]\n",
        " [255 255 255]\n",
        " [255 255 255]\n",
        " ..., \n",
        " [255 255 255]\n",
        " [255 255 255]\n",
        " [255 255 255]]\n",
        "44 44\n",
        "['airplanes', 'airplanes', 'airplanes', 'airplanes', 'airplanes', 'airplanes', 'airplanes', 'airplanes', 'airplanes', 'airplanes', 'airplanes', 'airplanes', 'airplanes', 'airplanes', 'airplanes', 'airplanes', 'airplanes', 'airplanes', 'airplanes', 'airplanes', 'airplanes', 'airplanes', 'airplanes', 'airplanes', 'airplanes', 'airplanes', 'airplanes', 'airplanes', 'airplanes', 'airplanes', 'airplanes', 'airplanes', 'airplanes', 'airplanes', 'airplanes', 'airplanes', 'airplanes', 'airplanes', 'airplanes', 'airplanes', 'airplanes', 'airplanes', 'airplanes', 'airplanes']\n",
        "img matrix"
       ]
      },
      {
       "output_type": "stream",
       "stream": "stdout",
       "text": [
        " [[255 255 255]\n",
        " [255 255 255]\n",
        " [255 255 255]\n",
        " ..., \n",
        " [255 254 255]\n",
        " [255 254 255]\n",
        " [255 254 255]]\n",
        "45 45\n",
        "['airplanes', 'airplanes', 'airplanes', 'airplanes', 'airplanes', 'airplanes', 'airplanes', 'airplanes', 'airplanes', 'airplanes', 'airplanes', 'airplanes', 'airplanes', 'airplanes', 'airplanes', 'airplanes', 'airplanes', 'airplanes', 'airplanes', 'airplanes', 'airplanes', 'airplanes', 'airplanes', 'airplanes', 'airplanes', 'airplanes', 'airplanes', 'airplanes', 'airplanes', 'airplanes', 'airplanes', 'airplanes', 'airplanes', 'airplanes', 'airplanes', 'airplanes', 'airplanes', 'airplanes', 'airplanes', 'airplanes', 'airplanes', 'airplanes', 'airplanes', 'airplanes', 'airplanes']\n",
        "img matrix"
       ]
      },
      {
       "output_type": "stream",
       "stream": "stdout",
       "text": [
        " [[255 255 255]\n",
        " [255 255 255]\n",
        " [255 255 255]\n",
        " ..., \n",
        " [255 255 255]\n",
        " [255 255 255]\n",
        " [255 255 255]]\n",
        "46 46\n",
        "['airplanes', 'airplanes', 'airplanes', 'airplanes', 'airplanes', 'airplanes', 'airplanes', 'airplanes', 'airplanes', 'airplanes', 'airplanes', 'airplanes', 'airplanes', 'airplanes', 'airplanes', 'airplanes', 'airplanes', 'airplanes', 'airplanes', 'airplanes', 'airplanes', 'airplanes', 'airplanes', 'airplanes', 'airplanes', 'airplanes', 'airplanes', 'airplanes', 'airplanes', 'airplanes', 'airplanes', 'airplanes', 'airplanes', 'airplanes', 'airplanes', 'airplanes', 'airplanes', 'airplanes', 'airplanes', 'airplanes', 'airplanes', 'airplanes', 'airplanes', 'airplanes', 'airplanes', 'airplanes']\n",
        "img matrix"
       ]
      },
      {
       "output_type": "stream",
       "stream": "stdout",
       "text": [
        " [[255 255 255]\n",
        " [255 255 255]\n",
        " [255 255 255]\n",
        " ..., \n",
        " [255 255 255]\n",
        " [255 255 255]\n",
        " [255 255 255]]\n",
        "47 47\n",
        "['airplanes', 'airplanes', 'airplanes', 'airplanes', 'airplanes', 'airplanes', 'airplanes', 'airplanes', 'airplanes', 'airplanes', 'airplanes', 'airplanes', 'airplanes', 'airplanes', 'airplanes', 'airplanes', 'airplanes', 'airplanes', 'airplanes', 'airplanes', 'airplanes', 'airplanes', 'airplanes', 'airplanes', 'airplanes', 'airplanes', 'airplanes', 'airplanes', 'airplanes', 'airplanes', 'airplanes', 'airplanes', 'airplanes', 'airplanes', 'airplanes', 'airplanes', 'airplanes', 'airplanes', 'airplanes', 'airplanes', 'airplanes', 'airplanes', 'airplanes', 'airplanes', 'airplanes', 'airplanes', 'airplanes']\n",
        "img matrix"
       ]
      },
      {
       "output_type": "stream",
       "stream": "stdout",
       "text": [
        " [[255 255 255]\n",
        " [255 255 255]\n",
        " [255 255 255]\n",
        " ..., \n",
        " [255 255 255]\n",
        " [255 255 255]\n",
        " [255 255 255]]\n",
        "48 48\n",
        "['airplanes', 'airplanes', 'airplanes', 'airplanes', 'airplanes', 'airplanes', 'airplanes', 'airplanes', 'airplanes', 'airplanes', 'airplanes', 'airplanes', 'airplanes', 'airplanes', 'airplanes', 'airplanes', 'airplanes', 'airplanes', 'airplanes', 'airplanes', 'airplanes', 'airplanes', 'airplanes', 'airplanes', 'airplanes', 'airplanes', 'airplanes', 'airplanes', 'airplanes', 'airplanes', 'airplanes', 'airplanes', 'airplanes', 'airplanes', 'airplanes', 'airplanes', 'airplanes', 'airplanes', 'airplanes', 'airplanes', 'airplanes', 'airplanes', 'airplanes', 'airplanes', 'airplanes', 'airplanes', 'airplanes', 'airplanes']\n",
        "img matrix"
       ]
      },
      {
       "output_type": "stream",
       "stream": "stdout",
       "text": [
        " [[255 255 255]\n",
        " [255 255 255]\n",
        " [255 255 255]\n",
        " ..., \n",
        " [253 255 252]\n",
        " [253 255 252]\n",
        " [253 255 252]]\n",
        "49 49\n",
        "['airplanes', 'airplanes', 'airplanes', 'airplanes', 'airplanes', 'airplanes', 'airplanes', 'airplanes', 'airplanes', 'airplanes', 'airplanes', 'airplanes', 'airplanes', 'airplanes', 'airplanes', 'airplanes', 'airplanes', 'airplanes', 'airplanes', 'airplanes', 'airplanes', 'airplanes', 'airplanes', 'airplanes', 'airplanes', 'airplanes', 'airplanes', 'airplanes', 'airplanes', 'airplanes', 'airplanes', 'airplanes', 'airplanes', 'airplanes', 'airplanes', 'airplanes', 'airplanes', 'airplanes', 'airplanes', 'airplanes', 'airplanes', 'airplanes', 'airplanes', 'airplanes', 'airplanes', 'airplanes', 'airplanes', 'airplanes', 'airplanes']\n",
        "img matrix"
       ]
      },
      {
       "output_type": "stream",
       "stream": "stdout",
       "text": [
        " [[255 255 255]\n",
        " [255 255 255]\n",
        " [255 255 255]\n",
        " ..., \n",
        " [255 255 255]\n",
        " [255 255 255]\n",
        " [255 255 255]]\n",
        "50 50\n",
        "['airplanes', 'airplanes', 'airplanes', 'airplanes', 'airplanes', 'airplanes', 'airplanes', 'airplanes', 'airplanes', 'airplanes', 'airplanes', 'airplanes', 'airplanes', 'airplanes', 'airplanes', 'airplanes', 'airplanes', 'airplanes', 'airplanes', 'airplanes', 'airplanes', 'airplanes', 'airplanes', 'airplanes', 'airplanes', 'airplanes', 'airplanes', 'airplanes', 'airplanes', 'airplanes', 'airplanes', 'airplanes', 'airplanes', 'airplanes', 'airplanes', 'airplanes', 'airplanes', 'airplanes', 'airplanes', 'airplanes', 'airplanes', 'airplanes', 'airplanes', 'airplanes', 'airplanes', 'airplanes', 'airplanes', 'airplanes', 'airplanes', 'airplanes']\n",
        "img matrix"
       ]
      },
      {
       "output_type": "stream",
       "stream": "stdout",
       "text": [
        " [[255 255 255]\n",
        " [255 255 255]\n",
        " [255 255 255]\n",
        " ..., \n",
        " [255 255 255]\n",
        " [255 255 255]\n",
        " [255 255 255]]\n",
        "51 51\n",
        "['airplanes', 'airplanes', 'airplanes', 'airplanes', 'airplanes', 'airplanes', 'airplanes', 'airplanes', 'airplanes', 'airplanes', 'airplanes', 'airplanes', 'airplanes', 'airplanes', 'airplanes', 'airplanes', 'airplanes', 'airplanes', 'airplanes', 'airplanes', 'airplanes', 'airplanes', 'airplanes', 'airplanes', 'airplanes', 'airplanes', 'airplanes', 'airplanes', 'airplanes', 'airplanes', 'airplanes', 'airplanes', 'airplanes', 'airplanes', 'airplanes', 'airplanes', 'airplanes', 'airplanes', 'airplanes', 'airplanes', 'airplanes', 'airplanes', 'airplanes', 'airplanes', 'airplanes', 'airplanes', 'airplanes', 'airplanes', 'airplanes', 'airplanes', 'airplanes']\n",
        "img matrix"
       ]
      },
      {
       "output_type": "stream",
       "stream": "stdout",
       "text": [
        " [[255 255 255]\n",
        " [255 255 255]\n",
        " [255 255 255]\n",
        " ..., \n",
        " [255 255 255]\n",
        " [255 255 255]\n",
        " [255 255 255]]\n",
        "52 52\n",
        "['airplanes', 'airplanes', 'airplanes', 'airplanes', 'airplanes', 'airplanes', 'airplanes', 'airplanes', 'airplanes', 'airplanes', 'airplanes', 'airplanes', 'airplanes', 'airplanes', 'airplanes', 'airplanes', 'airplanes', 'airplanes', 'airplanes', 'airplanes', 'airplanes', 'airplanes', 'airplanes', 'airplanes', 'airplanes', 'airplanes', 'airplanes', 'airplanes', 'airplanes', 'airplanes', 'airplanes', 'airplanes', 'airplanes', 'airplanes', 'airplanes', 'airplanes', 'airplanes', 'airplanes', 'airplanes', 'airplanes', 'airplanes', 'airplanes', 'airplanes', 'airplanes', 'airplanes', 'airplanes', 'airplanes', 'airplanes', 'airplanes', 'airplanes', 'airplanes', 'airplanes']\n",
        "img matrix"
       ]
      },
      {
       "output_type": "stream",
       "stream": "stdout",
       "text": [
        " [[255 255 255]\n",
        " [255 255 255]\n",
        " [255 255 255]\n",
        " ..., \n",
        " [255 255 255]\n",
        " [255 255 255]\n",
        " [255 255 255]]\n",
        "53 53\n",
        "['airplanes', 'airplanes', 'airplanes', 'airplanes', 'airplanes', 'airplanes', 'airplanes', 'airplanes', 'airplanes', 'airplanes', 'airplanes', 'airplanes', 'airplanes', 'airplanes', 'airplanes', 'airplanes', 'airplanes', 'airplanes', 'airplanes', 'airplanes', 'airplanes', 'airplanes', 'airplanes', 'airplanes', 'airplanes', 'airplanes', 'airplanes', 'airplanes', 'airplanes', 'airplanes', 'airplanes', 'airplanes', 'airplanes', 'airplanes', 'airplanes', 'airplanes', 'airplanes', 'airplanes', 'airplanes', 'airplanes', 'airplanes', 'airplanes', 'airplanes', 'airplanes', 'airplanes', 'airplanes', 'airplanes', 'airplanes', 'airplanes', 'airplanes', 'airplanes', 'airplanes', 'airplanes']\n",
        "img matrix"
       ]
      },
      {
       "output_type": "stream",
       "stream": "stdout",
       "text": [
        " [[204 225 218]\n",
        " [205 226 219]\n",
        " [206 227 220]\n",
        " ..., \n",
        " [184 138  79]\n",
        " [187 138  79]\n",
        " [190 141  82]]\n",
        "54 54\n",
        "['airplanes', 'airplanes', 'airplanes', 'airplanes', 'airplanes', 'airplanes', 'airplanes', 'airplanes', 'airplanes', 'airplanes', 'airplanes', 'airplanes', 'airplanes', 'airplanes', 'airplanes', 'airplanes', 'airplanes', 'airplanes', 'airplanes', 'airplanes', 'airplanes', 'airplanes', 'airplanes', 'airplanes', 'airplanes', 'airplanes', 'airplanes', 'airplanes', 'airplanes', 'airplanes', 'airplanes', 'airplanes', 'airplanes', 'airplanes', 'airplanes', 'airplanes', 'airplanes', 'airplanes', 'airplanes', 'airplanes', 'airplanes', 'airplanes', 'airplanes', 'airplanes', 'airplanes', 'airplanes', 'airplanes', 'airplanes', 'airplanes', 'airplanes', 'airplanes', 'airplanes', 'airplanes', 'airplanes']\n",
        "img matrix"
       ]
      },
      {
       "output_type": "stream",
       "stream": "stdout",
       "text": [
        " [[255 255 255]\n",
        " [255 255 255]\n",
        " [255 255 255]\n",
        " ..., \n",
        " [255 255 255]\n",
        " [255 255 255]\n",
        " [255 255 255]]\n",
        "55 55\n",
        "['airplanes', 'airplanes', 'airplanes', 'airplanes', 'airplanes', 'airplanes', 'airplanes', 'airplanes', 'airplanes', 'airplanes', 'airplanes', 'airplanes', 'airplanes', 'airplanes', 'airplanes', 'airplanes', 'airplanes', 'airplanes', 'airplanes', 'airplanes', 'airplanes', 'airplanes', 'airplanes', 'airplanes', 'airplanes', 'airplanes', 'airplanes', 'airplanes', 'airplanes', 'airplanes', 'airplanes', 'airplanes', 'airplanes', 'airplanes', 'airplanes', 'airplanes', 'airplanes', 'airplanes', 'airplanes', 'airplanes', 'airplanes', 'airplanes', 'airplanes', 'airplanes', 'airplanes', 'airplanes', 'airplanes', 'airplanes', 'airplanes', 'airplanes', 'airplanes', 'airplanes', 'airplanes', 'airplanes', 'airplanes']\n",
        "img matrix"
       ]
      },
      {
       "output_type": "stream",
       "stream": "stdout",
       "text": [
        " [[255 255 255]\n",
        " [255 255 255]\n",
        " [255 255 255]\n",
        " ..., \n",
        " [195 214 220]\n",
        " [195 214 220]\n",
        " [195 214 220]]\n",
        "56 56\n",
        "['airplanes', 'airplanes', 'airplanes', 'airplanes', 'airplanes', 'airplanes', 'airplanes', 'airplanes', 'airplanes', 'airplanes', 'airplanes', 'airplanes', 'airplanes', 'airplanes', 'airplanes', 'airplanes', 'airplanes', 'airplanes', 'airplanes', 'airplanes', 'airplanes', 'airplanes', 'airplanes', 'airplanes', 'airplanes', 'airplanes', 'airplanes', 'airplanes', 'airplanes', 'airplanes', 'airplanes', 'airplanes', 'airplanes', 'airplanes', 'airplanes', 'airplanes', 'airplanes', 'airplanes', 'airplanes', 'airplanes', 'airplanes', 'airplanes', 'airplanes', 'airplanes', 'airplanes', 'airplanes', 'airplanes', 'airplanes', 'airplanes', 'airplanes', 'airplanes', 'airplanes', 'airplanes', 'airplanes', 'airplanes', 'airplanes']\n",
        "img matrix"
       ]
      },
      {
       "output_type": "stream",
       "stream": "stdout",
       "text": [
        " [[255 255 255]\n",
        " [255 255 255]\n",
        " [255 255 255]\n",
        " ..., \n",
        " [255 255 255]\n",
        " [255 255 255]\n",
        " [255 255 255]]\n",
        "57 57\n",
        "['airplanes', 'airplanes', 'airplanes', 'airplanes', 'airplanes', 'airplanes', 'airplanes', 'airplanes', 'airplanes', 'airplanes', 'airplanes', 'airplanes', 'airplanes', 'airplanes', 'airplanes', 'airplanes', 'airplanes', 'airplanes', 'airplanes', 'airplanes', 'airplanes', 'airplanes', 'airplanes', 'airplanes', 'airplanes', 'airplanes', 'airplanes', 'airplanes', 'airplanes', 'airplanes', 'airplanes', 'airplanes', 'airplanes', 'airplanes', 'airplanes', 'airplanes', 'airplanes', 'airplanes', 'airplanes', 'airplanes', 'airplanes', 'airplanes', 'airplanes', 'airplanes', 'airplanes', 'airplanes', 'airplanes', 'airplanes', 'airplanes', 'airplanes', 'airplanes', 'airplanes', 'airplanes', 'airplanes', 'airplanes', 'airplanes', 'airplanes']\n",
        "img matrix"
       ]
      },
      {
       "output_type": "stream",
       "stream": "stdout",
       "text": [
        " [[255 255 255]\n",
        " [255 255 255]\n",
        " [255 255 255]\n",
        " ..., \n",
        " [255 255 255]\n",
        " [255 255 255]\n",
        " [255 255 255]]\n",
        "58 58\n",
        "['airplanes', 'airplanes', 'airplanes', 'airplanes', 'airplanes', 'airplanes', 'airplanes', 'airplanes', 'airplanes', 'airplanes', 'airplanes', 'airplanes', 'airplanes', 'airplanes', 'airplanes', 'airplanes', 'airplanes', 'airplanes', 'airplanes', 'airplanes', 'airplanes', 'airplanes', 'airplanes', 'airplanes', 'airplanes', 'airplanes', 'airplanes', 'airplanes', 'airplanes', 'airplanes', 'airplanes', 'airplanes', 'airplanes', 'airplanes', 'airplanes', 'airplanes', 'airplanes', 'airplanes', 'airplanes', 'airplanes', 'airplanes', 'airplanes', 'airplanes', 'airplanes', 'airplanes', 'airplanes', 'airplanes', 'airplanes', 'airplanes', 'airplanes', 'airplanes', 'airplanes', 'airplanes', 'airplanes', 'airplanes', 'airplanes', 'airplanes', 'airplanes']\n",
        "img matrix"
       ]
      },
      {
       "output_type": "stream",
       "stream": "stdout",
       "text": [
        " [[255 255 255]\n",
        " [255 255 255]\n",
        " [255 255 255]\n",
        " ..., \n",
        " [255 255 255]\n",
        " [255 255 255]\n",
        " [255 255 255]]\n",
        "59 59\n",
        "['airplanes', 'airplanes', 'airplanes', 'airplanes', 'airplanes', 'airplanes', 'airplanes', 'airplanes', 'airplanes', 'airplanes', 'airplanes', 'airplanes', 'airplanes', 'airplanes', 'airplanes', 'airplanes', 'airplanes', 'airplanes', 'airplanes', 'airplanes', 'airplanes', 'airplanes', 'airplanes', 'airplanes', 'airplanes', 'airplanes', 'airplanes', 'airplanes', 'airplanes', 'airplanes', 'airplanes', 'airplanes', 'airplanes', 'airplanes', 'airplanes', 'airplanes', 'airplanes', 'airplanes', 'airplanes', 'airplanes', 'airplanes', 'airplanes', 'airplanes', 'airplanes', 'airplanes', 'airplanes', 'airplanes', 'airplanes', 'airplanes', 'airplanes', 'airplanes', 'airplanes', 'airplanes', 'airplanes', 'airplanes', 'airplanes', 'airplanes', 'airplanes', 'airplanes']\n",
        "img matrix"
       ]
      },
      {
       "output_type": "stream",
       "stream": "stdout",
       "text": [
        " [[255 255 255]\n",
        " [255 255 255]\n",
        " [255 255 255]\n",
        " ..., \n",
        " [173 142 121]\n",
        " [173 142 121]\n",
        " [172 141 120]]\n",
        "60 60\n",
        "['airplanes', 'airplanes', 'airplanes', 'airplanes', 'airplanes', 'airplanes', 'airplanes', 'airplanes', 'airplanes', 'airplanes', 'airplanes', 'airplanes', 'airplanes', 'airplanes', 'airplanes', 'airplanes', 'airplanes', 'airplanes', 'airplanes', 'airplanes', 'airplanes', 'airplanes', 'airplanes', 'airplanes', 'airplanes', 'airplanes', 'airplanes', 'airplanes', 'airplanes', 'airplanes', 'airplanes', 'airplanes', 'airplanes', 'airplanes', 'airplanes', 'airplanes', 'airplanes', 'airplanes', 'airplanes', 'airplanes', 'airplanes', 'airplanes', 'airplanes', 'airplanes', 'airplanes', 'airplanes', 'airplanes', 'airplanes', 'airplanes', 'airplanes', 'airplanes', 'airplanes', 'airplanes', 'airplanes', 'airplanes', 'airplanes', 'airplanes', 'airplanes', 'airplanes', 'airplanes']\n",
        "img matrix"
       ]
      },
      {
       "output_type": "stream",
       "stream": "stdout",
       "text": [
        " [[255 255 255]\n",
        " [255 255 255]\n",
        " [255 255 255]\n",
        " ..., \n",
        " [255 255 255]\n",
        " [255 255 255]\n",
        " [255 255 255]]\n",
        "61 61\n",
        "['airplanes', 'airplanes', 'airplanes', 'airplanes', 'airplanes', 'airplanes', 'airplanes', 'airplanes', 'airplanes', 'airplanes', 'airplanes', 'airplanes', 'airplanes', 'airplanes', 'airplanes', 'airplanes', 'airplanes', 'airplanes', 'airplanes', 'airplanes', 'airplanes', 'airplanes', 'airplanes', 'airplanes', 'airplanes', 'airplanes', 'airplanes', 'airplanes', 'airplanes', 'airplanes', 'airplanes', 'airplanes', 'airplanes', 'airplanes', 'airplanes', 'airplanes', 'airplanes', 'airplanes', 'airplanes', 'airplanes', 'airplanes', 'airplanes', 'airplanes', 'airplanes', 'airplanes', 'airplanes', 'airplanes', 'airplanes', 'airplanes', 'airplanes', 'airplanes', 'airplanes', 'airplanes', 'airplanes', 'airplanes', 'airplanes', 'airplanes', 'airplanes', 'airplanes', 'airplanes', 'airplanes']\n",
        "img matrix"
       ]
      },
      {
       "output_type": "stream",
       "stream": "stdout",
       "text": [
        " [[255 255 255]\n",
        " [255 255 255]\n",
        " [255 255 255]\n",
        " ..., \n",
        " [255 255 255]\n",
        " [255 255 255]\n",
        " [255 255 255]]\n",
        "62 62\n",
        "['airplanes', 'airplanes', 'airplanes', 'airplanes', 'airplanes', 'airplanes', 'airplanes', 'airplanes', 'airplanes', 'airplanes', 'airplanes', 'airplanes', 'airplanes', 'airplanes', 'airplanes', 'airplanes', 'airplanes', 'airplanes', 'airplanes', 'airplanes', 'airplanes', 'airplanes', 'airplanes', 'airplanes', 'airplanes', 'airplanes', 'airplanes', 'airplanes', 'airplanes', 'airplanes', 'airplanes', 'airplanes', 'airplanes', 'airplanes', 'airplanes', 'airplanes', 'airplanes', 'airplanes', 'airplanes', 'airplanes', 'airplanes', 'airplanes', 'airplanes', 'airplanes', 'airplanes', 'airplanes', 'airplanes', 'airplanes', 'airplanes', 'airplanes', 'airplanes', 'airplanes', 'airplanes', 'airplanes', 'airplanes', 'airplanes', 'airplanes', 'airplanes', 'airplanes', 'airplanes', 'airplanes', 'airplanes']\n",
        "img matrix"
       ]
      },
      {
       "output_type": "stream",
       "stream": "stdout",
       "text": [
        " [[255 255 255]\n",
        " [255 255 255]\n",
        " [255 255 255]\n",
        " ..., \n",
        " [255 255 255]\n",
        " [255 255 255]\n",
        " [255 255 255]]\n",
        "63 63\n",
        "['airplanes', 'airplanes', 'airplanes', 'airplanes', 'airplanes', 'airplanes', 'airplanes', 'airplanes', 'airplanes', 'airplanes', 'airplanes', 'airplanes', 'airplanes', 'airplanes', 'airplanes', 'airplanes', 'airplanes', 'airplanes', 'airplanes', 'airplanes', 'airplanes', 'airplanes', 'airplanes', 'airplanes', 'airplanes', 'airplanes', 'airplanes', 'airplanes', 'airplanes', 'airplanes', 'airplanes', 'airplanes', 'airplanes', 'airplanes', 'airplanes', 'airplanes', 'airplanes', 'airplanes', 'airplanes', 'airplanes', 'airplanes', 'airplanes', 'airplanes', 'airplanes', 'airplanes', 'airplanes', 'airplanes', 'airplanes', 'airplanes', 'airplanes', 'airplanes', 'airplanes', 'airplanes', 'airplanes', 'airplanes', 'airplanes', 'airplanes', 'airplanes', 'airplanes', 'airplanes', 'airplanes', 'airplanes', 'airplanes']\n",
        "img matrix"
       ]
      },
      {
       "output_type": "stream",
       "stream": "stdout",
       "text": [
        " [[255 255 255]\n",
        " [255 255 255]\n",
        " [255 255 255]\n",
        " ..., \n",
        " [255 255 255]\n",
        " [255 255 255]\n",
        " [255 255 255]]\n",
        "64 64\n",
        "['airplanes', 'airplanes', 'airplanes', 'airplanes', 'airplanes', 'airplanes', 'airplanes', 'airplanes', 'airplanes', 'airplanes', 'airplanes', 'airplanes', 'airplanes', 'airplanes', 'airplanes', 'airplanes', 'airplanes', 'airplanes', 'airplanes', 'airplanes', 'airplanes', 'airplanes', 'airplanes', 'airplanes', 'airplanes', 'airplanes', 'airplanes', 'airplanes', 'airplanes', 'airplanes', 'airplanes', 'airplanes', 'airplanes', 'airplanes', 'airplanes', 'airplanes', 'airplanes', 'airplanes', 'airplanes', 'airplanes', 'airplanes', 'airplanes', 'airplanes', 'airplanes', 'airplanes', 'airplanes', 'airplanes', 'airplanes', 'airplanes', 'airplanes', 'airplanes', 'airplanes', 'airplanes', 'airplanes', 'airplanes', 'airplanes', 'airplanes', 'airplanes', 'airplanes', 'airplanes', 'airplanes', 'airplanes', 'airplanes', 'airplanes']\n",
        "img matrix"
       ]
      },
      {
       "output_type": "stream",
       "stream": "stdout",
       "text": [
        " [[255 255 255]\n",
        " [255 255 255]\n",
        " [255 255 255]\n",
        " ..., \n",
        " [255 255 255]\n",
        " [255 255 255]\n",
        " [255 255 255]]\n",
        "65 65\n",
        "['airplanes', 'airplanes', 'airplanes', 'airplanes', 'airplanes', 'airplanes', 'airplanes', 'airplanes', 'airplanes', 'airplanes', 'airplanes', 'airplanes', 'airplanes', 'airplanes', 'airplanes', 'airplanes', 'airplanes', 'airplanes', 'airplanes', 'airplanes', 'airplanes', 'airplanes', 'airplanes', 'airplanes', 'airplanes', 'airplanes', 'airplanes', 'airplanes', 'airplanes', 'airplanes', 'airplanes', 'airplanes', 'airplanes', 'airplanes', 'airplanes', 'airplanes', 'airplanes', 'airplanes', 'airplanes', 'airplanes', 'airplanes', 'airplanes', 'airplanes', 'airplanes', 'airplanes', 'airplanes', 'airplanes', 'airplanes', 'airplanes', 'airplanes', 'airplanes', 'airplanes', 'airplanes', 'airplanes', 'airplanes', 'airplanes', 'airplanes', 'airplanes', 'airplanes', 'airplanes', 'airplanes', 'airplanes', 'airplanes', 'airplanes', 'airplanes']\n",
        "img matrix"
       ]
      },
      {
       "output_type": "stream",
       "stream": "stdout",
       "text": [
        " [[255 255 255]\n",
        " [255 255 255]\n",
        " [255 255 255]\n",
        " ..., \n",
        " [254 254 255]\n",
        " [251 255 255]\n",
        " [251 255 243]]\n",
        "66 66\n",
        "['airplanes', 'airplanes', 'airplanes', 'airplanes', 'airplanes', 'airplanes', 'airplanes', 'airplanes', 'airplanes', 'airplanes', 'airplanes', 'airplanes', 'airplanes', 'airplanes', 'airplanes', 'airplanes', 'airplanes', 'airplanes', 'airplanes', 'airplanes', 'airplanes', 'airplanes', 'airplanes', 'airplanes', 'airplanes', 'airplanes', 'airplanes', 'airplanes', 'airplanes', 'airplanes', 'airplanes', 'airplanes', 'airplanes', 'airplanes', 'airplanes', 'airplanes', 'airplanes', 'airplanes', 'airplanes', 'airplanes', 'airplanes', 'airplanes', 'airplanes', 'airplanes', 'airplanes', 'airplanes', 'airplanes', 'airplanes', 'airplanes', 'airplanes', 'airplanes', 'airplanes', 'airplanes', 'airplanes', 'airplanes', 'airplanes', 'airplanes', 'airplanes', 'airplanes', 'airplanes', 'airplanes', 'airplanes', 'airplanes', 'airplanes', 'airplanes', 'airplanes']\n",
        "img matrix"
       ]
      },
      {
       "output_type": "stream",
       "stream": "stdout",
       "text": [
        " [[255 255 255]\n",
        " [255 255 255]\n",
        " [255 255 255]\n",
        " ..., \n",
        " [255 255 255]\n",
        " [255 255 255]\n",
        " [255 255 255]]\n",
        "67 67\n",
        "['airplanes', 'airplanes', 'airplanes', 'airplanes', 'airplanes', 'airplanes', 'airplanes', 'airplanes', 'airplanes', 'airplanes', 'airplanes', 'airplanes', 'airplanes', 'airplanes', 'airplanes', 'airplanes', 'airplanes', 'airplanes', 'airplanes', 'airplanes', 'airplanes', 'airplanes', 'airplanes', 'airplanes', 'airplanes', 'airplanes', 'airplanes', 'airplanes', 'airplanes', 'airplanes', 'airplanes', 'airplanes', 'airplanes', 'airplanes', 'airplanes', 'airplanes', 'airplanes', 'airplanes', 'airplanes', 'airplanes', 'airplanes', 'airplanes', 'airplanes', 'airplanes', 'airplanes', 'airplanes', 'airplanes', 'airplanes', 'airplanes', 'airplanes', 'airplanes', 'airplanes', 'airplanes', 'airplanes', 'airplanes', 'airplanes', 'airplanes', 'airplanes', 'airplanes', 'airplanes', 'airplanes', 'airplanes', 'airplanes', 'airplanes', 'airplanes', 'airplanes', 'airplanes']\n",
        "img matrix"
       ]
      },
      {
       "output_type": "stream",
       "stream": "stdout",
       "text": [
        " [[255 255 255]\n",
        " [255 255 255]\n",
        " [255 255 255]\n",
        " ..., \n",
        " [255 255 255]\n",
        " [255 255 255]\n",
        " [255 255 255]]\n",
        "68 68\n",
        "['airplanes', 'airplanes', 'airplanes', 'airplanes', 'airplanes', 'airplanes', 'airplanes', 'airplanes', 'airplanes', 'airplanes', 'airplanes', 'airplanes', 'airplanes', 'airplanes', 'airplanes', 'airplanes', 'airplanes', 'airplanes', 'airplanes', 'airplanes', 'airplanes', 'airplanes', 'airplanes', 'airplanes', 'airplanes', 'airplanes', 'airplanes', 'airplanes', 'airplanes', 'airplanes', 'airplanes', 'airplanes', 'airplanes', 'airplanes', 'airplanes', 'airplanes', 'airplanes', 'airplanes', 'airplanes', 'airplanes', 'airplanes', 'airplanes', 'airplanes', 'airplanes', 'airplanes', 'airplanes', 'airplanes', 'airplanes', 'airplanes', 'airplanes', 'airplanes', 'airplanes', 'airplanes', 'airplanes', 'airplanes', 'airplanes', 'airplanes', 'airplanes', 'airplanes', 'airplanes', 'airplanes', 'airplanes', 'airplanes', 'airplanes', 'airplanes', 'airplanes', 'airplanes', 'airplanes']\n",
        "img matrix"
       ]
      },
      {
       "output_type": "stream",
       "stream": "stdout",
       "text": [
        " [[255 255 255]\n",
        " [255 255 255]\n",
        " [255 255 255]\n",
        " ..., \n",
        " [143 128  97]\n",
        " [142 127  96]\n",
        " [141 126  95]]\n",
        "69 69\n",
        "['airplanes', 'airplanes', 'airplanes', 'airplanes', 'airplanes', 'airplanes', 'airplanes', 'airplanes', 'airplanes', 'airplanes', 'airplanes', 'airplanes', 'airplanes', 'airplanes', 'airplanes', 'airplanes', 'airplanes', 'airplanes', 'airplanes', 'airplanes', 'airplanes', 'airplanes', 'airplanes', 'airplanes', 'airplanes', 'airplanes', 'airplanes', 'airplanes', 'airplanes', 'airplanes', 'airplanes', 'airplanes', 'airplanes', 'airplanes', 'airplanes', 'airplanes', 'airplanes', 'airplanes', 'airplanes', 'airplanes', 'airplanes', 'airplanes', 'airplanes', 'airplanes', 'airplanes', 'airplanes', 'airplanes', 'airplanes', 'airplanes', 'airplanes', 'airplanes', 'airplanes', 'airplanes', 'airplanes', 'airplanes', 'airplanes', 'airplanes', 'airplanes', 'airplanes', 'airplanes', 'airplanes', 'airplanes', 'airplanes', 'airplanes', 'airplanes', 'airplanes', 'airplanes', 'airplanes', 'airplanes']\n",
        "img matrix"
       ]
      },
      {
       "output_type": "stream",
       "stream": "stdout",
       "text": [
        " [[255 255 255]\n",
        " [255 255 255]\n",
        " [255 255 255]\n",
        " ..., \n",
        " [222 193  76]\n",
        " [223 194  77]\n",
        " [210 181  64]]\n",
        "70 70\n",
        "['airplanes', 'airplanes', 'airplanes', 'airplanes', 'airplanes', 'airplanes', 'airplanes', 'airplanes', 'airplanes', 'airplanes', 'airplanes', 'airplanes', 'airplanes', 'airplanes', 'airplanes', 'airplanes', 'airplanes', 'airplanes', 'airplanes', 'airplanes', 'airplanes', 'airplanes', 'airplanes', 'airplanes', 'airplanes', 'airplanes', 'airplanes', 'airplanes', 'airplanes', 'airplanes', 'airplanes', 'airplanes', 'airplanes', 'airplanes', 'airplanes', 'airplanes', 'airplanes', 'airplanes', 'airplanes', 'airplanes', 'airplanes', 'airplanes', 'airplanes', 'airplanes', 'airplanes', 'airplanes', 'airplanes', 'airplanes', 'airplanes', 'airplanes', 'airplanes', 'airplanes', 'airplanes', 'airplanes', 'airplanes', 'airplanes', 'airplanes', 'airplanes', 'airplanes', 'airplanes', 'airplanes', 'airplanes', 'airplanes', 'airplanes', 'airplanes', 'airplanes', 'airplanes', 'airplanes', 'airplanes', 'airplanes']\n",
        "img matrix"
       ]
      },
      {
       "output_type": "stream",
       "stream": "stdout",
       "text": [
        " [[225 249 251]\n",
        " [225 249 251]\n",
        " [226 250 252]\n",
        " ..., \n",
        " [220 237 231]\n",
        " [221 238 232]\n",
        " [221 238 232]]\n",
        "71 71\n",
        "['airplanes', 'airplanes', 'airplanes', 'airplanes', 'airplanes', 'airplanes', 'airplanes', 'airplanes', 'airplanes', 'airplanes', 'airplanes', 'airplanes', 'airplanes', 'airplanes', 'airplanes', 'airplanes', 'airplanes', 'airplanes', 'airplanes', 'airplanes', 'airplanes', 'airplanes', 'airplanes', 'airplanes', 'airplanes', 'airplanes', 'airplanes', 'airplanes', 'airplanes', 'airplanes', 'airplanes', 'airplanes', 'airplanes', 'airplanes', 'airplanes', 'airplanes', 'airplanes', 'airplanes', 'airplanes', 'airplanes', 'airplanes', 'airplanes', 'airplanes', 'airplanes', 'airplanes', 'airplanes', 'airplanes', 'airplanes', 'airplanes', 'airplanes', 'airplanes', 'airplanes', 'airplanes', 'airplanes', 'airplanes', 'airplanes', 'airplanes', 'airplanes', 'airplanes', 'airplanes', 'airplanes', 'airplanes', 'airplanes', 'airplanes', 'airplanes', 'airplanes', 'airplanes', 'airplanes', 'airplanes', 'airplanes', 'airplanes']\n",
        "img matrix"
       ]
      },
      {
       "output_type": "stream",
       "stream": "stdout",
       "text": [
        " [[255 255 255]\n",
        " [255 255 255]\n",
        " [255 255 255]\n",
        " ..., \n",
        " [210 233 249]\n",
        " [215 238 254]\n",
        " [215 238 254]]\n",
        "72 72\n",
        "['airplanes', 'airplanes', 'airplanes', 'airplanes', 'airplanes', 'airplanes', 'airplanes', 'airplanes', 'airplanes', 'airplanes', 'airplanes', 'airplanes', 'airplanes', 'airplanes', 'airplanes', 'airplanes', 'airplanes', 'airplanes', 'airplanes', 'airplanes', 'airplanes', 'airplanes', 'airplanes', 'airplanes', 'airplanes', 'airplanes', 'airplanes', 'airplanes', 'airplanes', 'airplanes', 'airplanes', 'airplanes', 'airplanes', 'airplanes', 'airplanes', 'airplanes', 'airplanes', 'airplanes', 'airplanes', 'airplanes', 'airplanes', 'airplanes', 'airplanes', 'airplanes', 'airplanes', 'airplanes', 'airplanes', 'airplanes', 'airplanes', 'airplanes', 'airplanes', 'airplanes', 'airplanes', 'airplanes', 'airplanes', 'airplanes', 'airplanes', 'airplanes', 'airplanes', 'airplanes', 'airplanes', 'airplanes', 'airplanes', 'airplanes', 'airplanes', 'airplanes', 'airplanes', 'airplanes', 'airplanes', 'airplanes', 'airplanes', 'airplanes']\n",
        "img matrix"
       ]
      },
      {
       "output_type": "stream",
       "stream": "stdout",
       "text": [
        " [[255 255 255]\n",
        " [255 255 255]\n",
        " [255 255 255]\n",
        " ..., \n",
        " [255 255 255]\n",
        " [255 255 255]\n",
        " [255 255 255]]\n",
        "73 73\n",
        "['airplanes', 'airplanes', 'airplanes', 'airplanes', 'airplanes', 'airplanes', 'airplanes', 'airplanes', 'airplanes', 'airplanes', 'airplanes', 'airplanes', 'airplanes', 'airplanes', 'airplanes', 'airplanes', 'airplanes', 'airplanes', 'airplanes', 'airplanes', 'airplanes', 'airplanes', 'airplanes', 'airplanes', 'airplanes', 'airplanes', 'airplanes', 'airplanes', 'airplanes', 'airplanes', 'airplanes', 'airplanes', 'airplanes', 'airplanes', 'airplanes', 'airplanes', 'airplanes', 'airplanes', 'airplanes', 'airplanes', 'airplanes', 'airplanes', 'airplanes', 'airplanes', 'airplanes', 'airplanes', 'airplanes', 'airplanes', 'airplanes', 'airplanes', 'airplanes', 'airplanes', 'airplanes', 'airplanes', 'airplanes', 'airplanes', 'airplanes', 'airplanes', 'airplanes', 'airplanes', 'airplanes', 'airplanes', 'airplanes', 'airplanes', 'airplanes', 'airplanes', 'airplanes', 'airplanes', 'airplanes', 'airplanes', 'airplanes', 'airplanes', 'airplanes']\n",
        "img matrix"
       ]
      },
      {
       "output_type": "stream",
       "stream": "stdout",
       "text": [
        " [[255 255 255]\n",
        " [255 255 255]\n",
        " [255 255 255]\n",
        " ..., \n",
        " [248 253 255]\n",
        " [249 255 255]\n",
        " [250 255 255]]\n",
        "74 74\n",
        "['airplanes', 'airplanes', 'airplanes', 'airplanes', 'airplanes', 'airplanes', 'airplanes', 'airplanes', 'airplanes', 'airplanes', 'airplanes', 'airplanes', 'airplanes', 'airplanes', 'airplanes', 'airplanes', 'airplanes', 'airplanes', 'airplanes', 'airplanes', 'airplanes', 'airplanes', 'airplanes', 'airplanes', 'airplanes', 'airplanes', 'airplanes', 'airplanes', 'airplanes', 'airplanes', 'airplanes', 'airplanes', 'airplanes', 'airplanes', 'airplanes', 'airplanes', 'airplanes', 'airplanes', 'airplanes', 'airplanes', 'airplanes', 'airplanes', 'airplanes', 'airplanes', 'airplanes', 'airplanes', 'airplanes', 'airplanes', 'airplanes', 'airplanes', 'airplanes', 'airplanes', 'airplanes', 'airplanes', 'airplanes', 'airplanes', 'airplanes', 'airplanes', 'airplanes', 'airplanes', 'airplanes', 'airplanes', 'airplanes', 'airplanes', 'airplanes', 'airplanes', 'airplanes', 'airplanes', 'airplanes', 'airplanes', 'airplanes', 'airplanes', 'airplanes', 'airplanes']\n",
        "img matrix"
       ]
      },
      {
       "output_type": "stream",
       "stream": "stdout",
       "text": [
        " [[186 207 202]\n",
        " [186 207 202]\n",
        " [186 207 202]\n",
        " ..., \n",
        " [186 207 200]\n",
        " [186 207 200]\n",
        " [185 206 199]]\n",
        "75 75\n",
        "['airplanes', 'airplanes', 'airplanes', 'airplanes', 'airplanes', 'airplanes', 'airplanes', 'airplanes', 'airplanes', 'airplanes', 'airplanes', 'airplanes', 'airplanes', 'airplanes', 'airplanes', 'airplanes', 'airplanes', 'airplanes', 'airplanes', 'airplanes', 'airplanes', 'airplanes', 'airplanes', 'airplanes', 'airplanes', 'airplanes', 'airplanes', 'airplanes', 'airplanes', 'airplanes', 'airplanes', 'airplanes', 'airplanes', 'airplanes', 'airplanes', 'airplanes', 'airplanes', 'airplanes', 'airplanes', 'airplanes', 'airplanes', 'airplanes', 'airplanes', 'airplanes', 'airplanes', 'airplanes', 'airplanes', 'airplanes', 'airplanes', 'airplanes', 'airplanes', 'airplanes', 'airplanes', 'airplanes', 'airplanes', 'airplanes', 'airplanes', 'airplanes', 'airplanes', 'airplanes', 'airplanes', 'airplanes', 'airplanes', 'airplanes', 'airplanes', 'airplanes', 'airplanes', 'airplanes', 'airplanes', 'airplanes', 'airplanes', 'airplanes', 'airplanes', 'airplanes', 'airplanes']\n",
        "img matrix"
       ]
      },
      {
       "output_type": "stream",
       "stream": "stdout",
       "text": [
        " [[255 255 255]\n",
        " [255 255 255]\n",
        " [255 255 255]\n",
        " ..., \n",
        " [255 255 255]\n",
        " [255 255 255]\n",
        " [255 255 255]]\n",
        "76 76\n",
        "['airplanes', 'airplanes', 'airplanes', 'airplanes', 'airplanes', 'airplanes', 'airplanes', 'airplanes', 'airplanes', 'airplanes', 'airplanes', 'airplanes', 'airplanes', 'airplanes', 'airplanes', 'airplanes', 'airplanes', 'airplanes', 'airplanes', 'airplanes', 'airplanes', 'airplanes', 'airplanes', 'airplanes', 'airplanes', 'airplanes', 'airplanes', 'airplanes', 'airplanes', 'airplanes', 'airplanes', 'airplanes', 'airplanes', 'airplanes', 'airplanes', 'airplanes', 'airplanes', 'airplanes', 'airplanes', 'airplanes', 'airplanes', 'airplanes', 'airplanes', 'airplanes', 'airplanes', 'airplanes', 'airplanes', 'airplanes', 'airplanes', 'airplanes', 'airplanes', 'airplanes', 'airplanes', 'airplanes', 'airplanes', 'airplanes', 'airplanes', 'airplanes', 'airplanes', 'airplanes', 'airplanes', 'airplanes', 'airplanes', 'airplanes', 'airplanes', 'airplanes', 'airplanes', 'airplanes', 'airplanes', 'airplanes', 'airplanes', 'airplanes', 'airplanes', 'airplanes', 'airplanes', 'airplanes']\n",
        "img matrix"
       ]
      },
      {
       "output_type": "stream",
       "stream": "stdout",
       "text": [
        " [[255 255 255]\n",
        " [255 255 255]\n",
        " [255 255 255]\n",
        " ..., \n",
        " [255 255 255]\n",
        " [255 255 255]\n",
        " [255 255 255]]\n",
        "77 77\n",
        "['airplanes', 'airplanes', 'airplanes', 'airplanes', 'airplanes', 'airplanes', 'airplanes', 'airplanes', 'airplanes', 'airplanes', 'airplanes', 'airplanes', 'airplanes', 'airplanes', 'airplanes', 'airplanes', 'airplanes', 'airplanes', 'airplanes', 'airplanes', 'airplanes', 'airplanes', 'airplanes', 'airplanes', 'airplanes', 'airplanes', 'airplanes', 'airplanes', 'airplanes', 'airplanes', 'airplanes', 'airplanes', 'airplanes', 'airplanes', 'airplanes', 'airplanes', 'airplanes', 'airplanes', 'airplanes', 'airplanes', 'airplanes', 'airplanes', 'airplanes', 'airplanes', 'airplanes', 'airplanes', 'airplanes', 'airplanes', 'airplanes', 'airplanes', 'airplanes', 'airplanes', 'airplanes', 'airplanes', 'airplanes', 'airplanes', 'airplanes', 'airplanes', 'airplanes', 'airplanes', 'airplanes', 'airplanes', 'airplanes', 'airplanes', 'airplanes', 'airplanes', 'airplanes', 'airplanes', 'airplanes', 'airplanes', 'airplanes', 'airplanes', 'airplanes', 'airplanes', 'airplanes', 'airplanes', 'airplanes']\n",
        "img matrix"
       ]
      },
      {
       "output_type": "stream",
       "stream": "stdout",
       "text": [
        " [[255 255 255]\n",
        " [255 255 255]\n",
        " [255 255 255]\n",
        " ..., \n",
        " [255 255 255]\n",
        " [255 255 255]\n",
        " [255 255 255]]\n",
        "78 78\n",
        "['airplanes', 'airplanes', 'airplanes', 'airplanes', 'airplanes', 'airplanes', 'airplanes', 'airplanes', 'airplanes', 'airplanes', 'airplanes', 'airplanes', 'airplanes', 'airplanes', 'airplanes', 'airplanes', 'airplanes', 'airplanes', 'airplanes', 'airplanes', 'airplanes', 'airplanes', 'airplanes', 'airplanes', 'airplanes', 'airplanes', 'airplanes', 'airplanes', 'airplanes', 'airplanes', 'airplanes', 'airplanes', 'airplanes', 'airplanes', 'airplanes', 'airplanes', 'airplanes', 'airplanes', 'airplanes', 'airplanes', 'airplanes', 'airplanes', 'airplanes', 'airplanes', 'airplanes', 'airplanes', 'airplanes', 'airplanes', 'airplanes', 'airplanes', 'airplanes', 'airplanes', 'airplanes', 'airplanes', 'airplanes', 'airplanes', 'airplanes', 'airplanes', 'airplanes', 'airplanes', 'airplanes', 'airplanes', 'airplanes', 'airplanes', 'airplanes', 'airplanes', 'airplanes', 'airplanes', 'airplanes', 'airplanes', 'airplanes', 'airplanes', 'airplanes', 'airplanes', 'airplanes', 'airplanes', 'airplanes', 'airplanes']\n",
        "img matrix"
       ]
      },
      {
       "output_type": "stream",
       "stream": "stdout",
       "text": [
        " [[255 255 255]\n",
        " [255 255 255]\n",
        " [255 255 255]\n",
        " ..., \n",
        " [255 255 255]\n",
        " [255 255 255]\n",
        " [255 255 255]]\n",
        "79 79\n",
        "['airplanes', 'airplanes', 'airplanes', 'airplanes', 'airplanes', 'airplanes', 'airplanes', 'airplanes', 'airplanes', 'airplanes', 'airplanes', 'airplanes', 'airplanes', 'airplanes', 'airplanes', 'airplanes', 'airplanes', 'airplanes', 'airplanes', 'airplanes', 'airplanes', 'airplanes', 'airplanes', 'airplanes', 'airplanes', 'airplanes', 'airplanes', 'airplanes', 'airplanes', 'airplanes', 'airplanes', 'airplanes', 'airplanes', 'airplanes', 'airplanes', 'airplanes', 'airplanes', 'airplanes', 'airplanes', 'airplanes', 'airplanes', 'airplanes', 'airplanes', 'airplanes', 'airplanes', 'airplanes', 'airplanes', 'airplanes', 'airplanes', 'airplanes', 'airplanes', 'airplanes', 'airplanes', 'airplanes', 'airplanes', 'airplanes', 'airplanes', 'airplanes', 'airplanes', 'airplanes', 'airplanes', 'airplanes', 'airplanes', 'airplanes', 'airplanes', 'airplanes', 'airplanes', 'airplanes', 'airplanes', 'airplanes', 'airplanes', 'airplanes', 'airplanes', 'airplanes', 'airplanes', 'airplanes', 'airplanes', 'airplanes', 'airplanes']\n",
        "img matrix"
       ]
      },
      {
       "output_type": "stream",
       "stream": "stdout",
       "text": [
        " [[255 255 255]\n",
        " [255 255 255]\n",
        " [255 255 255]\n",
        " ..., \n",
        " [255 255 255]\n",
        " [255 255 255]\n",
        " [255 255 255]]\n",
        "80 80\n",
        "['airplanes', 'airplanes', 'airplanes', 'airplanes', 'airplanes', 'airplanes', 'airplanes', 'airplanes', 'airplanes', 'airplanes', 'airplanes', 'airplanes', 'airplanes', 'airplanes', 'airplanes', 'airplanes', 'airplanes', 'airplanes', 'airplanes', 'airplanes', 'airplanes', 'airplanes', 'airplanes', 'airplanes', 'airplanes', 'airplanes', 'airplanes', 'airplanes', 'airplanes', 'airplanes', 'airplanes', 'airplanes', 'airplanes', 'airplanes', 'airplanes', 'airplanes', 'airplanes', 'airplanes', 'airplanes', 'airplanes', 'airplanes', 'airplanes', 'airplanes', 'airplanes', 'airplanes', 'airplanes', 'airplanes', 'airplanes', 'airplanes', 'airplanes', 'airplanes', 'airplanes', 'airplanes', 'airplanes', 'airplanes', 'airplanes', 'airplanes', 'airplanes', 'airplanes', 'airplanes', 'airplanes', 'airplanes', 'airplanes', 'airplanes', 'airplanes', 'airplanes', 'airplanes', 'airplanes', 'airplanes', 'airplanes', 'airplanes', 'airplanes', 'airplanes', 'airplanes', 'airplanes', 'airplanes', 'airplanes', 'airplanes', 'airplanes', 'airplanes']\n",
        "img matrix"
       ]
      },
      {
       "output_type": "stream",
       "stream": "stdout",
       "text": [
        " [[255 255 255]\n",
        " [255 255 255]\n",
        " [255 255 255]\n",
        " ..., \n",
        " [255 255 255]\n",
        " [255 255 255]\n",
        " [255 255 255]]\n",
        "81 81\n",
        "['airplanes', 'airplanes', 'airplanes', 'airplanes', 'airplanes', 'airplanes', 'airplanes', 'airplanes', 'airplanes', 'airplanes', 'airplanes', 'airplanes', 'airplanes', 'airplanes', 'airplanes', 'airplanes', 'airplanes', 'airplanes', 'airplanes', 'airplanes', 'airplanes', 'airplanes', 'airplanes', 'airplanes', 'airplanes', 'airplanes', 'airplanes', 'airplanes', 'airplanes', 'airplanes', 'airplanes', 'airplanes', 'airplanes', 'airplanes', 'airplanes', 'airplanes', 'airplanes', 'airplanes', 'airplanes', 'airplanes', 'airplanes', 'airplanes', 'airplanes', 'airplanes', 'airplanes', 'airplanes', 'airplanes', 'airplanes', 'airplanes', 'airplanes', 'airplanes', 'airplanes', 'airplanes', 'airplanes', 'airplanes', 'airplanes', 'airplanes', 'airplanes', 'airplanes', 'airplanes', 'airplanes', 'airplanes', 'airplanes', 'airplanes', 'airplanes', 'airplanes', 'airplanes', 'airplanes', 'airplanes', 'airplanes', 'airplanes', 'airplanes', 'airplanes', 'airplanes', 'airplanes', 'airplanes', 'airplanes', 'airplanes', 'airplanes', 'airplanes', 'airplanes']\n",
        "img matrix"
       ]
      },
      {
       "output_type": "stream",
       "stream": "stdout",
       "text": [
        " [[255 255 255]\n",
        " [255 255 255]\n",
        " [255 255 255]\n",
        " ..., \n",
        " [255 255 255]\n",
        " [255 255 255]\n",
        " [255 255 255]]\n",
        "82 82\n",
        "['airplanes', 'airplanes', 'airplanes', 'airplanes', 'airplanes', 'airplanes', 'airplanes', 'airplanes', 'airplanes', 'airplanes', 'airplanes', 'airplanes', 'airplanes', 'airplanes', 'airplanes', 'airplanes', 'airplanes', 'airplanes', 'airplanes', 'airplanes', 'airplanes', 'airplanes', 'airplanes', 'airplanes', 'airplanes', 'airplanes', 'airplanes', 'airplanes', 'airplanes', 'airplanes', 'airplanes', 'airplanes', 'airplanes', 'airplanes', 'airplanes', 'airplanes', 'airplanes', 'airplanes', 'airplanes', 'airplanes', 'airplanes', 'airplanes', 'airplanes', 'airplanes', 'airplanes', 'airplanes', 'airplanes', 'airplanes', 'airplanes', 'airplanes', 'airplanes', 'airplanes', 'airplanes', 'airplanes', 'airplanes', 'airplanes', 'airplanes', 'airplanes', 'airplanes', 'airplanes', 'airplanes', 'airplanes', 'airplanes', 'airplanes', 'airplanes', 'airplanes', 'airplanes', 'airplanes', 'airplanes', 'airplanes', 'airplanes', 'airplanes', 'airplanes', 'airplanes', 'airplanes', 'airplanes', 'airplanes', 'airplanes', 'airplanes', 'airplanes', 'airplanes', 'airplanes']\n",
        "img matrix"
       ]
      },
      {
       "output_type": "stream",
       "stream": "stdout",
       "text": [
        " [[255 255 255]\n",
        " [255 255 255]\n",
        " [255 255 255]\n",
        " ..., \n",
        " [255 255 255]\n",
        " [255 255 255]\n",
        " [255 255 255]]\n",
        "83 83\n",
        "['airplanes', 'airplanes', 'airplanes', 'airplanes', 'airplanes', 'airplanes', 'airplanes', 'airplanes', 'airplanes', 'airplanes', 'airplanes', 'airplanes', 'airplanes', 'airplanes', 'airplanes', 'airplanes', 'airplanes', 'airplanes', 'airplanes', 'airplanes', 'airplanes', 'airplanes', 'airplanes', 'airplanes', 'airplanes', 'airplanes', 'airplanes', 'airplanes', 'airplanes', 'airplanes', 'airplanes', 'airplanes', 'airplanes', 'airplanes', 'airplanes', 'airplanes', 'airplanes', 'airplanes', 'airplanes', 'airplanes', 'airplanes', 'airplanes', 'airplanes', 'airplanes', 'airplanes', 'airplanes', 'airplanes', 'airplanes', 'airplanes', 'airplanes', 'airplanes', 'airplanes', 'airplanes', 'airplanes', 'airplanes', 'airplanes', 'airplanes', 'airplanes', 'airplanes', 'airplanes', 'airplanes', 'airplanes', 'airplanes', 'airplanes', 'airplanes', 'airplanes', 'airplanes', 'airplanes', 'airplanes', 'airplanes', 'airplanes', 'airplanes', 'airplanes', 'airplanes', 'airplanes', 'airplanes', 'airplanes', 'airplanes', 'airplanes', 'airplanes', 'airplanes', 'airplanes', 'airplanes']\n",
        "img matrix"
       ]
      },
      {
       "output_type": "stream",
       "stream": "stdout",
       "text": [
        " [[255 254 255]\n",
        " [251 251 253]\n",
        " [254 255 255]\n",
        " ..., \n",
        " [146 137  46]\n",
        " [146 137  46]\n",
        " [145 136  45]]\n",
        "84 84\n",
        "['airplanes', 'airplanes', 'airplanes', 'airplanes', 'airplanes', 'airplanes', 'airplanes', 'airplanes', 'airplanes', 'airplanes', 'airplanes', 'airplanes', 'airplanes', 'airplanes', 'airplanes', 'airplanes', 'airplanes', 'airplanes', 'airplanes', 'airplanes', 'airplanes', 'airplanes', 'airplanes', 'airplanes', 'airplanes', 'airplanes', 'airplanes', 'airplanes', 'airplanes', 'airplanes', 'airplanes', 'airplanes', 'airplanes', 'airplanes', 'airplanes', 'airplanes', 'airplanes', 'airplanes', 'airplanes', 'airplanes', 'airplanes', 'airplanes', 'airplanes', 'airplanes', 'airplanes', 'airplanes', 'airplanes', 'airplanes', 'airplanes', 'airplanes', 'airplanes', 'airplanes', 'airplanes', 'airplanes', 'airplanes', 'airplanes', 'airplanes', 'airplanes', 'airplanes', 'airplanes', 'airplanes', 'airplanes', 'airplanes', 'airplanes', 'airplanes', 'airplanes', 'airplanes', 'airplanes', 'airplanes', 'airplanes', 'airplanes', 'airplanes', 'airplanes', 'airplanes', 'airplanes', 'airplanes', 'airplanes', 'airplanes', 'airplanes', 'airplanes', 'airplanes', 'airplanes', 'airplanes', 'airplanes']\n",
        "img matrix"
       ]
      },
      {
       "output_type": "stream",
       "stream": "stdout",
       "text": [
        " [[255 255 255]\n",
        " [255 255 255]\n",
        " [255 255 255]\n",
        " ..., \n",
        " [255 255 255]\n",
        " [255 255 255]\n",
        " [255 255 255]]\n",
        "85 85\n",
        "['airplanes', 'airplanes', 'airplanes', 'airplanes', 'airplanes', 'airplanes', 'airplanes', 'airplanes', 'airplanes', 'airplanes', 'airplanes', 'airplanes', 'airplanes', 'airplanes', 'airplanes', 'airplanes', 'airplanes', 'airplanes', 'airplanes', 'airplanes', 'airplanes', 'airplanes', 'airplanes', 'airplanes', 'airplanes', 'airplanes', 'airplanes', 'airplanes', 'airplanes', 'airplanes', 'airplanes', 'airplanes', 'airplanes', 'airplanes', 'airplanes', 'airplanes', 'airplanes', 'airplanes', 'airplanes', 'airplanes', 'airplanes', 'airplanes', 'airplanes', 'airplanes', 'airplanes', 'airplanes', 'airplanes', 'airplanes', 'airplanes', 'airplanes', 'airplanes', 'airplanes', 'airplanes', 'airplanes', 'airplanes', 'airplanes', 'airplanes', 'airplanes', 'airplanes', 'airplanes', 'airplanes', 'airplanes', 'airplanes', 'airplanes', 'airplanes', 'airplanes', 'airplanes', 'airplanes', 'airplanes', 'airplanes', 'airplanes', 'airplanes', 'airplanes', 'airplanes', 'airplanes', 'airplanes', 'airplanes', 'airplanes', 'airplanes', 'airplanes', 'airplanes', 'airplanes', 'airplanes', 'airplanes', 'airplanes']\n",
        "img matrix"
       ]
      },
      {
       "output_type": "stream",
       "stream": "stdout",
       "text": [
        " [[255 255 255]\n",
        " [255 255 255]\n",
        " [255 255 255]\n",
        " ..., \n",
        " [255 255 255]\n",
        " [255 255 255]\n",
        " [255 255 255]]\n",
        "86 86\n",
        "['airplanes', 'airplanes', 'airplanes', 'airplanes', 'airplanes', 'airplanes', 'airplanes', 'airplanes', 'airplanes', 'airplanes', 'airplanes', 'airplanes', 'airplanes', 'airplanes', 'airplanes', 'airplanes', 'airplanes', 'airplanes', 'airplanes', 'airplanes', 'airplanes', 'airplanes', 'airplanes', 'airplanes', 'airplanes', 'airplanes', 'airplanes', 'airplanes', 'airplanes', 'airplanes', 'airplanes', 'airplanes', 'airplanes', 'airplanes', 'airplanes', 'airplanes', 'airplanes', 'airplanes', 'airplanes', 'airplanes', 'airplanes', 'airplanes', 'airplanes', 'airplanes', 'airplanes', 'airplanes', 'airplanes', 'airplanes', 'airplanes', 'airplanes', 'airplanes', 'airplanes', 'airplanes', 'airplanes', 'airplanes', 'airplanes', 'airplanes', 'airplanes', 'airplanes', 'airplanes', 'airplanes', 'airplanes', 'airplanes', 'airplanes', 'airplanes', 'airplanes', 'airplanes', 'airplanes', 'airplanes', 'airplanes', 'airplanes', 'airplanes', 'airplanes', 'airplanes', 'airplanes', 'airplanes', 'airplanes', 'airplanes', 'airplanes', 'airplanes', 'airplanes', 'airplanes', 'airplanes', 'airplanes', 'airplanes', 'airplanes']\n",
        "img matrix"
       ]
      },
      {
       "output_type": "stream",
       "stream": "stdout",
       "text": [
        " [[255 255 255]\n",
        " [255 255 255]\n",
        " [255 255 255]\n",
        " ..., \n",
        " [255 254 255]\n",
        " [254 255 243]\n",
        " [254 255 244]]\n",
        "87 87\n",
        "['airplanes', 'airplanes', 'airplanes', 'airplanes', 'airplanes', 'airplanes', 'airplanes', 'airplanes', 'airplanes', 'airplanes', 'airplanes', 'airplanes', 'airplanes', 'airplanes', 'airplanes', 'airplanes', 'airplanes', 'airplanes', 'airplanes', 'airplanes', 'airplanes', 'airplanes', 'airplanes', 'airplanes', 'airplanes', 'airplanes', 'airplanes', 'airplanes', 'airplanes', 'airplanes', 'airplanes', 'airplanes', 'airplanes', 'airplanes', 'airplanes', 'airplanes', 'airplanes', 'airplanes', 'airplanes', 'airplanes', 'airplanes', 'airplanes', 'airplanes', 'airplanes', 'airplanes', 'airplanes', 'airplanes', 'airplanes', 'airplanes', 'airplanes', 'airplanes', 'airplanes', 'airplanes', 'airplanes', 'airplanes', 'airplanes', 'airplanes', 'airplanes', 'airplanes', 'airplanes', 'airplanes', 'airplanes', 'airplanes', 'airplanes', 'airplanes', 'airplanes', 'airplanes', 'airplanes', 'airplanes', 'airplanes', 'airplanes', 'airplanes', 'airplanes', 'airplanes', 'airplanes', 'airplanes', 'airplanes', 'airplanes', 'airplanes', 'airplanes', 'airplanes', 'airplanes', 'airplanes', 'airplanes', 'airplanes', 'airplanes', 'airplanes']\n",
        "img matrix"
       ]
      },
      {
       "output_type": "stream",
       "stream": "stdout",
       "text": [
        " [[148 178 188]\n",
        " [149 177 188]\n",
        " [150 178 189]\n",
        " ..., \n",
        " [255 255 255]\n",
        " [255 255 255]\n",
        " [255 255 255]]\n",
        "88 88\n",
        "['airplanes', 'airplanes', 'airplanes', 'airplanes', 'airplanes', 'airplanes', 'airplanes', 'airplanes', 'airplanes', 'airplanes', 'airplanes', 'airplanes', 'airplanes', 'airplanes', 'airplanes', 'airplanes', 'airplanes', 'airplanes', 'airplanes', 'airplanes', 'airplanes', 'airplanes', 'airplanes', 'airplanes', 'airplanes', 'airplanes', 'airplanes', 'airplanes', 'airplanes', 'airplanes', 'airplanes', 'airplanes', 'airplanes', 'airplanes', 'airplanes', 'airplanes', 'airplanes', 'airplanes', 'airplanes', 'airplanes', 'airplanes', 'airplanes', 'airplanes', 'airplanes', 'airplanes', 'airplanes', 'airplanes', 'airplanes', 'airplanes', 'airplanes', 'airplanes', 'airplanes', 'airplanes', 'airplanes', 'airplanes', 'airplanes', 'airplanes', 'airplanes', 'airplanes', 'airplanes', 'airplanes', 'airplanes', 'airplanes', 'airplanes', 'airplanes', 'airplanes', 'airplanes', 'airplanes', 'airplanes', 'airplanes', 'airplanes', 'airplanes', 'airplanes', 'airplanes', 'airplanes', 'airplanes', 'airplanes', 'airplanes', 'airplanes', 'airplanes', 'airplanes', 'airplanes', 'airplanes', 'airplanes', 'airplanes', 'airplanes', 'airplanes', 'airplanes']\n",
        "img matrix"
       ]
      },
      {
       "output_type": "stream",
       "stream": "stdout",
       "text": [
        " [[255 255 255]\n",
        " [255 255 255]\n",
        " [255 255 255]\n",
        " ..., \n",
        " [255 255 255]\n",
        " [255 255 255]\n",
        " [255 255 255]]\n",
        "89 89\n",
        "['airplanes', 'airplanes', 'airplanes', 'airplanes', 'airplanes', 'airplanes', 'airplanes', 'airplanes', 'airplanes', 'airplanes', 'airplanes', 'airplanes', 'airplanes', 'airplanes', 'airplanes', 'airplanes', 'airplanes', 'airplanes', 'airplanes', 'airplanes', 'airplanes', 'airplanes', 'airplanes', 'airplanes', 'airplanes', 'airplanes', 'airplanes', 'airplanes', 'airplanes', 'airplanes', 'airplanes', 'airplanes', 'airplanes', 'airplanes', 'airplanes', 'airplanes', 'airplanes', 'airplanes', 'airplanes', 'airplanes', 'airplanes', 'airplanes', 'airplanes', 'airplanes', 'airplanes', 'airplanes', 'airplanes', 'airplanes', 'airplanes', 'airplanes', 'airplanes', 'airplanes', 'airplanes', 'airplanes', 'airplanes', 'airplanes', 'airplanes', 'airplanes', 'airplanes', 'airplanes', 'airplanes', 'airplanes', 'airplanes', 'airplanes', 'airplanes', 'airplanes', 'airplanes', 'airplanes', 'airplanes', 'airplanes', 'airplanes', 'airplanes', 'airplanes', 'airplanes', 'airplanes', 'airplanes', 'airplanes', 'airplanes', 'airplanes', 'airplanes', 'airplanes', 'airplanes', 'airplanes', 'airplanes', 'airplanes', 'airplanes', 'airplanes', 'airplanes', 'airplanes']\n",
        "img matrix"
       ]
      },
      {
       "output_type": "stream",
       "stream": "stdout",
       "text": [
        " [[255 255 255]\n",
        " [255 255 255]\n",
        " [255 255 255]\n",
        " ..., \n",
        " [251 240 218]\n",
        " [251 240 218]\n",
        " [251 240 218]]\n",
        "90 90\n",
        "['airplanes', 'airplanes', 'airplanes', 'airplanes', 'airplanes', 'airplanes', 'airplanes', 'airplanes', 'airplanes', 'airplanes', 'airplanes', 'airplanes', 'airplanes', 'airplanes', 'airplanes', 'airplanes', 'airplanes', 'airplanes', 'airplanes', 'airplanes', 'airplanes', 'airplanes', 'airplanes', 'airplanes', 'airplanes', 'airplanes', 'airplanes', 'airplanes', 'airplanes', 'airplanes', 'airplanes', 'airplanes', 'airplanes', 'airplanes', 'airplanes', 'airplanes', 'airplanes', 'airplanes', 'airplanes', 'airplanes', 'airplanes', 'airplanes', 'airplanes', 'airplanes', 'airplanes', 'airplanes', 'airplanes', 'airplanes', 'airplanes', 'airplanes', 'airplanes', 'airplanes', 'airplanes', 'airplanes', 'airplanes', 'airplanes', 'airplanes', 'airplanes', 'airplanes', 'airplanes', 'airplanes', 'airplanes', 'airplanes', 'airplanes', 'airplanes', 'airplanes', 'airplanes', 'airplanes', 'airplanes', 'airplanes', 'airplanes', 'airplanes', 'airplanes', 'airplanes', 'airplanes', 'airplanes', 'airplanes', 'airplanes', 'airplanes', 'airplanes', 'airplanes', 'airplanes', 'airplanes', 'airplanes', 'airplanes', 'airplanes', 'airplanes', 'airplanes', 'airplanes', 'airplanes']\n",
        "img matrix"
       ]
      },
      {
       "output_type": "stream",
       "stream": "stdout",
       "text": [
        " [[255 255 255]\n",
        " [255 255 255]\n",
        " [255 255 255]\n",
        " ..., \n",
        " [255 255 255]\n",
        " [255 255 255]\n",
        " [255 255 255]]\n",
        "91 91\n",
        "['airplanes', 'airplanes', 'airplanes', 'airplanes', 'airplanes', 'airplanes', 'airplanes', 'airplanes', 'airplanes', 'airplanes', 'airplanes', 'airplanes', 'airplanes', 'airplanes', 'airplanes', 'airplanes', 'airplanes', 'airplanes', 'airplanes', 'airplanes', 'airplanes', 'airplanes', 'airplanes', 'airplanes', 'airplanes', 'airplanes', 'airplanes', 'airplanes', 'airplanes', 'airplanes', 'airplanes', 'airplanes', 'airplanes', 'airplanes', 'airplanes', 'airplanes', 'airplanes', 'airplanes', 'airplanes', 'airplanes', 'airplanes', 'airplanes', 'airplanes', 'airplanes', 'airplanes', 'airplanes', 'airplanes', 'airplanes', 'airplanes', 'airplanes', 'airplanes', 'airplanes', 'airplanes', 'airplanes', 'airplanes', 'airplanes', 'airplanes', 'airplanes', 'airplanes', 'airplanes', 'airplanes', 'airplanes', 'airplanes', 'airplanes', 'airplanes', 'airplanes', 'airplanes', 'airplanes', 'airplanes', 'airplanes', 'airplanes', 'airplanes', 'airplanes', 'airplanes', 'airplanes', 'airplanes', 'airplanes', 'airplanes', 'airplanes', 'airplanes', 'airplanes', 'airplanes', 'airplanes', 'airplanes', 'airplanes', 'airplanes', 'airplanes', 'airplanes', 'airplanes', 'airplanes', 'airplanes']\n",
        "img matrix"
       ]
      },
      {
       "output_type": "stream",
       "stream": "stdout",
       "text": [
        " [[255 252 255]\n",
        " [255 253 255]\n",
        " [255 254 255]\n",
        " ..., \n",
        " [ 68  67  81]\n",
        " [ 67  66  80]\n",
        " [ 64  64  76]]\n",
        "92 92\n",
        "['airplanes', 'airplanes', 'airplanes', 'airplanes', 'airplanes', 'airplanes', 'airplanes', 'airplanes', 'airplanes', 'airplanes', 'airplanes', 'airplanes', 'airplanes', 'airplanes', 'airplanes', 'airplanes', 'airplanes', 'airplanes', 'airplanes', 'airplanes', 'airplanes', 'airplanes', 'airplanes', 'airplanes', 'airplanes', 'airplanes', 'airplanes', 'airplanes', 'airplanes', 'airplanes', 'airplanes', 'airplanes', 'airplanes', 'airplanes', 'airplanes', 'airplanes', 'airplanes', 'airplanes', 'airplanes', 'airplanes', 'airplanes', 'airplanes', 'airplanes', 'airplanes', 'airplanes', 'airplanes', 'airplanes', 'airplanes', 'airplanes', 'airplanes', 'airplanes', 'airplanes', 'airplanes', 'airplanes', 'airplanes', 'airplanes', 'airplanes', 'airplanes', 'airplanes', 'airplanes', 'airplanes', 'airplanes', 'airplanes', 'airplanes', 'airplanes', 'airplanes', 'airplanes', 'airplanes', 'airplanes', 'airplanes', 'airplanes', 'airplanes', 'airplanes', 'airplanes', 'airplanes', 'airplanes', 'airplanes', 'airplanes', 'airplanes', 'airplanes', 'airplanes', 'airplanes', 'airplanes', 'airplanes', 'airplanes', 'airplanes', 'airplanes', 'airplanes', 'airplanes', 'airplanes', 'airplanes', 'airplanes']\n",
        "img matrix"
       ]
      },
      {
       "output_type": "stream",
       "stream": "stdout",
       "text": [
        " [[255 255 255]\n",
        " [255 255 255]\n",
        " [255 255 255]\n",
        " ..., \n",
        " [255 255 255]\n",
        " [255 255 255]\n",
        " [255 255 255]]\n",
        "93 93\n",
        "['airplanes', 'airplanes', 'airplanes', 'airplanes', 'airplanes', 'airplanes', 'airplanes', 'airplanes', 'airplanes', 'airplanes', 'airplanes', 'airplanes', 'airplanes', 'airplanes', 'airplanes', 'airplanes', 'airplanes', 'airplanes', 'airplanes', 'airplanes', 'airplanes', 'airplanes', 'airplanes', 'airplanes', 'airplanes', 'airplanes', 'airplanes', 'airplanes', 'airplanes', 'airplanes', 'airplanes', 'airplanes', 'airplanes', 'airplanes', 'airplanes', 'airplanes', 'airplanes', 'airplanes', 'airplanes', 'airplanes', 'airplanes', 'airplanes', 'airplanes', 'airplanes', 'airplanes', 'airplanes', 'airplanes', 'airplanes', 'airplanes', 'airplanes', 'airplanes', 'airplanes', 'airplanes', 'airplanes', 'airplanes', 'airplanes', 'airplanes', 'airplanes', 'airplanes', 'airplanes', 'airplanes', 'airplanes', 'airplanes', 'airplanes', 'airplanes', 'airplanes', 'airplanes', 'airplanes', 'airplanes', 'airplanes', 'airplanes', 'airplanes', 'airplanes', 'airplanes', 'airplanes', 'airplanes', 'airplanes', 'airplanes', 'airplanes', 'airplanes', 'airplanes', 'airplanes', 'airplanes', 'airplanes', 'airplanes', 'airplanes', 'airplanes', 'airplanes', 'airplanes', 'airplanes', 'airplanes', 'airplanes', 'airplanes']\n",
        "img matrix"
       ]
      },
      {
       "output_type": "stream",
       "stream": "stdout",
       "text": [
        " [[255 255 255]\n",
        " [255 255 255]\n",
        " [255 255 255]\n",
        " ..., \n",
        " [255 255 255]\n",
        " [255 255 255]\n",
        " [255 255 255]]\n",
        "94 94\n",
        "['airplanes', 'airplanes', 'airplanes', 'airplanes', 'airplanes', 'airplanes', 'airplanes', 'airplanes', 'airplanes', 'airplanes', 'airplanes', 'airplanes', 'airplanes', 'airplanes', 'airplanes', 'airplanes', 'airplanes', 'airplanes', 'airplanes', 'airplanes', 'airplanes', 'airplanes', 'airplanes', 'airplanes', 'airplanes', 'airplanes', 'airplanes', 'airplanes', 'airplanes', 'airplanes', 'airplanes', 'airplanes', 'airplanes', 'airplanes', 'airplanes', 'airplanes', 'airplanes', 'airplanes', 'airplanes', 'airplanes', 'airplanes', 'airplanes', 'airplanes', 'airplanes', 'airplanes', 'airplanes', 'airplanes', 'airplanes', 'airplanes', 'airplanes', 'airplanes', 'airplanes', 'airplanes', 'airplanes', 'airplanes', 'airplanes', 'airplanes', 'airplanes', 'airplanes', 'airplanes', 'airplanes', 'airplanes', 'airplanes', 'airplanes', 'airplanes', 'airplanes', 'airplanes', 'airplanes', 'airplanes', 'airplanes', 'airplanes', 'airplanes', 'airplanes', 'airplanes', 'airplanes', 'airplanes', 'airplanes', 'airplanes', 'airplanes', 'airplanes', 'airplanes', 'airplanes', 'airplanes', 'airplanes', 'airplanes', 'airplanes', 'airplanes', 'airplanes', 'airplanes', 'airplanes', 'airplanes', 'airplanes', 'airplanes', 'airplanes']\n",
        "img matrix"
       ]
      },
      {
       "output_type": "stream",
       "stream": "stdout",
       "text": [
        " [[255 255 255]\n",
        " [255 255 255]\n",
        " [255 255 255]\n",
        " ..., \n",
        " [255 255 255]\n",
        " [255 255 255]\n",
        " [255 255 255]]\n",
        "95 95\n",
        "['airplanes', 'airplanes', 'airplanes', 'airplanes', 'airplanes', 'airplanes', 'airplanes', 'airplanes', 'airplanes', 'airplanes', 'airplanes', 'airplanes', 'airplanes', 'airplanes', 'airplanes', 'airplanes', 'airplanes', 'airplanes', 'airplanes', 'airplanes', 'airplanes', 'airplanes', 'airplanes', 'airplanes', 'airplanes', 'airplanes', 'airplanes', 'airplanes', 'airplanes', 'airplanes', 'airplanes', 'airplanes', 'airplanes', 'airplanes', 'airplanes', 'airplanes', 'airplanes', 'airplanes', 'airplanes', 'airplanes', 'airplanes', 'airplanes', 'airplanes', 'airplanes', 'airplanes', 'airplanes', 'airplanes', 'airplanes', 'airplanes', 'airplanes', 'airplanes', 'airplanes', 'airplanes', 'airplanes', 'airplanes', 'airplanes', 'airplanes', 'airplanes', 'airplanes', 'airplanes', 'airplanes', 'airplanes', 'airplanes', 'airplanes', 'airplanes', 'airplanes', 'airplanes', 'airplanes', 'airplanes', 'airplanes', 'airplanes', 'airplanes', 'airplanes', 'airplanes', 'airplanes', 'airplanes', 'airplanes', 'airplanes', 'airplanes', 'airplanes', 'airplanes', 'airplanes', 'airplanes', 'airplanes', 'airplanes', 'airplanes', 'airplanes', 'airplanes', 'airplanes', 'airplanes', 'airplanes', 'airplanes', 'airplanes', 'airplanes', 'airplanes']\n",
        "img matrix"
       ]
      },
      {
       "output_type": "stream",
       "stream": "stdout",
       "text": [
        " [[255 255 255]\n",
        " [255 255 255]\n",
        " [255 255 255]\n",
        " ..., \n",
        " [255 255 255]\n",
        " [255 255 255]\n",
        " [255 255 255]]\n",
        "96 96\n",
        "['airplanes', 'airplanes', 'airplanes', 'airplanes', 'airplanes', 'airplanes', 'airplanes', 'airplanes', 'airplanes', 'airplanes', 'airplanes', 'airplanes', 'airplanes', 'airplanes', 'airplanes', 'airplanes', 'airplanes', 'airplanes', 'airplanes', 'airplanes', 'airplanes', 'airplanes', 'airplanes', 'airplanes', 'airplanes', 'airplanes', 'airplanes', 'airplanes', 'airplanes', 'airplanes', 'airplanes', 'airplanes', 'airplanes', 'airplanes', 'airplanes', 'airplanes', 'airplanes', 'airplanes', 'airplanes', 'airplanes', 'airplanes', 'airplanes', 'airplanes', 'airplanes', 'airplanes', 'airplanes', 'airplanes', 'airplanes', 'airplanes', 'airplanes', 'airplanes', 'airplanes', 'airplanes', 'airplanes', 'airplanes', 'airplanes', 'airplanes', 'airplanes', 'airplanes', 'airplanes', 'airplanes', 'airplanes', 'airplanes', 'airplanes', 'airplanes', 'airplanes', 'airplanes', 'airplanes', 'airplanes', 'airplanes', 'airplanes', 'airplanes', 'airplanes', 'airplanes', 'airplanes', 'airplanes', 'airplanes', 'airplanes', 'airplanes', 'airplanes', 'airplanes', 'airplanes', 'airplanes', 'airplanes', 'airplanes', 'airplanes', 'airplanes', 'airplanes', 'airplanes', 'airplanes', 'airplanes', 'airplanes', 'airplanes', 'airplanes', 'airplanes', 'airplanes']\n",
        "img matrix"
       ]
      },
      {
       "output_type": "stream",
       "stream": "stdout",
       "text": [
        " [[255 255 255]\n",
        " [255 255 255]\n",
        " [255 255 255]\n",
        " ..., \n",
        " [255 255 255]\n",
        " [255 255 255]\n",
        " [255 255 255]]\n",
        "97 97\n",
        "['airplanes', 'airplanes', 'airplanes', 'airplanes', 'airplanes', 'airplanes', 'airplanes', 'airplanes', 'airplanes', 'airplanes', 'airplanes', 'airplanes', 'airplanes', 'airplanes', 'airplanes', 'airplanes', 'airplanes', 'airplanes', 'airplanes', 'airplanes', 'airplanes', 'airplanes', 'airplanes', 'airplanes', 'airplanes', 'airplanes', 'airplanes', 'airplanes', 'airplanes', 'airplanes', 'airplanes', 'airplanes', 'airplanes', 'airplanes', 'airplanes', 'airplanes', 'airplanes', 'airplanes', 'airplanes', 'airplanes', 'airplanes', 'airplanes', 'airplanes', 'airplanes', 'airplanes', 'airplanes', 'airplanes', 'airplanes', 'airplanes', 'airplanes', 'airplanes', 'airplanes', 'airplanes', 'airplanes', 'airplanes', 'airplanes', 'airplanes', 'airplanes', 'airplanes', 'airplanes', 'airplanes', 'airplanes', 'airplanes', 'airplanes', 'airplanes', 'airplanes', 'airplanes', 'airplanes', 'airplanes', 'airplanes', 'airplanes', 'airplanes', 'airplanes', 'airplanes', 'airplanes', 'airplanes', 'airplanes', 'airplanes', 'airplanes', 'airplanes', 'airplanes', 'airplanes', 'airplanes', 'airplanes', 'airplanes', 'airplanes', 'airplanes', 'airplanes', 'airplanes', 'airplanes', 'airplanes', 'airplanes', 'airplanes', 'airplanes', 'airplanes', 'airplanes', 'airplanes']\n",
        "img matrix"
       ]
      },
      {
       "output_type": "stream",
       "stream": "stdout",
       "text": [
        " [[255 255 255]\n",
        " [255 255 255]\n",
        " [255 255 255]\n",
        " ..., \n",
        " [249 251 237]\n",
        " [255 254 241]\n",
        " [255 252 250]]\n",
        "98 98\n",
        "['airplanes', 'airplanes', 'airplanes', 'airplanes', 'airplanes', 'airplanes', 'airplanes', 'airplanes', 'airplanes', 'airplanes', 'airplanes', 'airplanes', 'airplanes', 'airplanes', 'airplanes', 'airplanes', 'airplanes', 'airplanes', 'airplanes', 'airplanes', 'airplanes', 'airplanes', 'airplanes', 'airplanes', 'airplanes', 'airplanes', 'airplanes', 'airplanes', 'airplanes', 'airplanes', 'airplanes', 'airplanes', 'airplanes', 'airplanes', 'airplanes', 'airplanes', 'airplanes', 'airplanes', 'airplanes', 'airplanes', 'airplanes', 'airplanes', 'airplanes', 'airplanes', 'airplanes', 'airplanes', 'airplanes', 'airplanes', 'airplanes', 'airplanes', 'airplanes', 'airplanes', 'airplanes', 'airplanes', 'airplanes', 'airplanes', 'airplanes', 'airplanes', 'airplanes', 'airplanes', 'airplanes', 'airplanes', 'airplanes', 'airplanes', 'airplanes', 'airplanes', 'airplanes', 'airplanes', 'airplanes', 'airplanes', 'airplanes', 'airplanes', 'airplanes', 'airplanes', 'airplanes', 'airplanes', 'airplanes', 'airplanes', 'airplanes', 'airplanes', 'airplanes', 'airplanes', 'airplanes', 'airplanes', 'airplanes', 'airplanes', 'airplanes', 'airplanes', 'airplanes', 'airplanes', 'airplanes', 'airplanes', 'airplanes', 'airplanes', 'airplanes', 'airplanes', 'airplanes', 'airplanes']\n",
        "img matrix"
       ]
      },
      {
       "output_type": "stream",
       "stream": "stdout",
       "text": [
        " [[255 255 255]\n",
        " [255 255 255]\n",
        " [255 255 255]\n",
        " ..., \n",
        " [255 255 255]\n",
        " [255 255 255]\n",
        " [255 255 255]]\n",
        "99 99\n",
        "['airplanes', 'airplanes', 'airplanes', 'airplanes', 'airplanes', 'airplanes', 'airplanes', 'airplanes', 'airplanes', 'airplanes', 'airplanes', 'airplanes', 'airplanes', 'airplanes', 'airplanes', 'airplanes', 'airplanes', 'airplanes', 'airplanes', 'airplanes', 'airplanes', 'airplanes', 'airplanes', 'airplanes', 'airplanes', 'airplanes', 'airplanes', 'airplanes', 'airplanes', 'airplanes', 'airplanes', 'airplanes', 'airplanes', 'airplanes', 'airplanes', 'airplanes', 'airplanes', 'airplanes', 'airplanes', 'airplanes', 'airplanes', 'airplanes', 'airplanes', 'airplanes', 'airplanes', 'airplanes', 'airplanes', 'airplanes', 'airplanes', 'airplanes', 'airplanes', 'airplanes', 'airplanes', 'airplanes', 'airplanes', 'airplanes', 'airplanes', 'airplanes', 'airplanes', 'airplanes', 'airplanes', 'airplanes', 'airplanes', 'airplanes', 'airplanes', 'airplanes', 'airplanes', 'airplanes', 'airplanes', 'airplanes', 'airplanes', 'airplanes', 'airplanes', 'airplanes', 'airplanes', 'airplanes', 'airplanes', 'airplanes', 'airplanes', 'airplanes', 'airplanes', 'airplanes', 'airplanes', 'airplanes', 'airplanes', 'airplanes', 'airplanes', 'airplanes', 'airplanes', 'airplanes', 'airplanes', 'airplanes', 'airplanes', 'airplanes', 'airplanes', 'airplanes', 'airplanes', 'airplanes', 'airplanes']\n",
        "img matrix"
       ]
      },
      {
       "output_type": "stream",
       "stream": "stdout",
       "text": [
        " [[255 255 255]\n",
        " [255 255 255]\n",
        " [255 255 255]\n",
        " ..., \n",
        " [255 255 255]\n",
        " [255 255 255]\n",
        " [255 255 255]]\n",
        "100 100\n",
        "['airplanes', 'airplanes', 'airplanes', 'airplanes', 'airplanes', 'airplanes', 'airplanes', 'airplanes', 'airplanes', 'airplanes', 'airplanes', 'airplanes', 'airplanes', 'airplanes', 'airplanes', 'airplanes', 'airplanes', 'airplanes', 'airplanes', 'airplanes', 'airplanes', 'airplanes', 'airplanes', 'airplanes', 'airplanes', 'airplanes', 'airplanes', 'airplanes', 'airplanes', 'airplanes', 'airplanes', 'airplanes', 'airplanes', 'airplanes', 'airplanes', 'airplanes', 'airplanes', 'airplanes', 'airplanes', 'airplanes', 'airplanes', 'airplanes', 'airplanes', 'airplanes', 'airplanes', 'airplanes', 'airplanes', 'airplanes', 'airplanes', 'airplanes', 'airplanes', 'airplanes', 'airplanes', 'airplanes', 'airplanes', 'airplanes', 'airplanes', 'airplanes', 'airplanes', 'airplanes', 'airplanes', 'airplanes', 'airplanes', 'airplanes', 'airplanes', 'airplanes', 'airplanes', 'airplanes', 'airplanes', 'airplanes', 'airplanes', 'airplanes', 'airplanes', 'airplanes', 'airplanes', 'airplanes', 'airplanes', 'airplanes', 'airplanes', 'airplanes', 'airplanes', 'airplanes', 'airplanes', 'airplanes', 'airplanes', 'airplanes', 'airplanes', 'airplanes', 'airplanes', 'airplanes', 'airplanes', 'airplanes', 'airplanes', 'airplanes', 'airplanes', 'airplanes', 'airplanes', 'airplanes', 'airplanes', 'airplanes']\n",
        "img matrix"
       ]
      },
      {
       "output_type": "stream",
       "stream": "stdout",
       "text": [
        " [[255 255 255]\n",
        " [255 255 255]\n",
        " [255 255 255]\n",
        " ..., \n",
        " [255 255 255]\n",
        " [255 255 255]\n",
        " [255 255 255]]\n",
        "101 101\n",
        "['airplanes', 'airplanes', 'airplanes', 'airplanes', 'airplanes', 'airplanes', 'airplanes', 'airplanes', 'airplanes', 'airplanes', 'airplanes', 'airplanes', 'airplanes', 'airplanes', 'airplanes', 'airplanes', 'airplanes', 'airplanes', 'airplanes', 'airplanes', 'airplanes', 'airplanes', 'airplanes', 'airplanes', 'airplanes', 'airplanes', 'airplanes', 'airplanes', 'airplanes', 'airplanes', 'airplanes', 'airplanes', 'airplanes', 'airplanes', 'airplanes', 'airplanes', 'airplanes', 'airplanes', 'airplanes', 'airplanes', 'airplanes', 'airplanes', 'airplanes', 'airplanes', 'airplanes', 'airplanes', 'airplanes', 'airplanes', 'airplanes', 'airplanes', 'airplanes', 'airplanes', 'airplanes', 'airplanes', 'airplanes', 'airplanes', 'airplanes', 'airplanes', 'airplanes', 'airplanes', 'airplanes', 'airplanes', 'airplanes', 'airplanes', 'airplanes', 'airplanes', 'airplanes', 'airplanes', 'airplanes', 'airplanes', 'airplanes', 'airplanes', 'airplanes', 'airplanes', 'airplanes', 'airplanes', 'airplanes', 'airplanes', 'airplanes', 'airplanes', 'airplanes', 'airplanes', 'airplanes', 'airplanes', 'airplanes', 'airplanes', 'airplanes', 'airplanes', 'airplanes', 'airplanes', 'airplanes', 'airplanes', 'airplanes', 'airplanes', 'airplanes', 'airplanes', 'airplanes', 'airplanes', 'airplanes', 'airplanes', 'airplanes']\n",
        "img matrix"
       ]
      },
      {
       "output_type": "stream",
       "stream": "stdout",
       "text": [
        " [[255 255 255]\n",
        " [255 255 255]\n",
        " [255 255 255]\n",
        " ..., \n",
        " [255 255 255]\n",
        " [255 255 255]\n",
        " [255 255 255]]\n",
        "102 102\n",
        "['airplanes', 'airplanes', 'airplanes', 'airplanes', 'airplanes', 'airplanes', 'airplanes', 'airplanes', 'airplanes', 'airplanes', 'airplanes', 'airplanes', 'airplanes', 'airplanes', 'airplanes', 'airplanes', 'airplanes', 'airplanes', 'airplanes', 'airplanes', 'airplanes', 'airplanes', 'airplanes', 'airplanes', 'airplanes', 'airplanes', 'airplanes', 'airplanes', 'airplanes', 'airplanes', 'airplanes', 'airplanes', 'airplanes', 'airplanes', 'airplanes', 'airplanes', 'airplanes', 'airplanes', 'airplanes', 'airplanes', 'airplanes', 'airplanes', 'airplanes', 'airplanes', 'airplanes', 'airplanes', 'airplanes', 'airplanes', 'airplanes', 'airplanes', 'airplanes', 'airplanes', 'airplanes', 'airplanes', 'airplanes', 'airplanes', 'airplanes', 'airplanes', 'airplanes', 'airplanes', 'airplanes', 'airplanes', 'airplanes', 'airplanes', 'airplanes', 'airplanes', 'airplanes', 'airplanes', 'airplanes', 'airplanes', 'airplanes', 'airplanes', 'airplanes', 'airplanes', 'airplanes', 'airplanes', 'airplanes', 'airplanes', 'airplanes', 'airplanes', 'airplanes', 'airplanes', 'airplanes', 'airplanes', 'airplanes', 'airplanes', 'airplanes', 'airplanes', 'airplanes', 'airplanes', 'airplanes', 'airplanes', 'airplanes', 'airplanes', 'airplanes', 'airplanes', 'airplanes', 'airplanes', 'airplanes', 'airplanes', 'airplanes', 'airplanes']\n",
        "img matrix"
       ]
      },
      {
       "output_type": "stream",
       "stream": "stdout",
       "text": [
        " [[255 255 255]\n",
        " [255 255 255]\n",
        " [255 255 255]\n",
        " ..., \n",
        " [255 255 255]\n",
        " [255 255 255]\n",
        " [255 255 255]]\n",
        "103 103\n",
        "['airplanes', 'airplanes', 'airplanes', 'airplanes', 'airplanes', 'airplanes', 'airplanes', 'airplanes', 'airplanes', 'airplanes', 'airplanes', 'airplanes', 'airplanes', 'airplanes', 'airplanes', 'airplanes', 'airplanes', 'airplanes', 'airplanes', 'airplanes', 'airplanes', 'airplanes', 'airplanes', 'airplanes', 'airplanes', 'airplanes', 'airplanes', 'airplanes', 'airplanes', 'airplanes', 'airplanes', 'airplanes', 'airplanes', 'airplanes', 'airplanes', 'airplanes', 'airplanes', 'airplanes', 'airplanes', 'airplanes', 'airplanes', 'airplanes', 'airplanes', 'airplanes', 'airplanes', 'airplanes', 'airplanes', 'airplanes', 'airplanes', 'airplanes', 'airplanes', 'airplanes', 'airplanes', 'airplanes', 'airplanes', 'airplanes', 'airplanes', 'airplanes', 'airplanes', 'airplanes', 'airplanes', 'airplanes', 'airplanes', 'airplanes', 'airplanes', 'airplanes', 'airplanes', 'airplanes', 'airplanes', 'airplanes', 'airplanes', 'airplanes', 'airplanes', 'airplanes', 'airplanes', 'airplanes', 'airplanes', 'airplanes', 'airplanes', 'airplanes', 'airplanes', 'airplanes', 'airplanes', 'airplanes', 'airplanes', 'airplanes', 'airplanes', 'airplanes', 'airplanes', 'airplanes', 'airplanes', 'airplanes', 'airplanes', 'airplanes', 'airplanes', 'airplanes', 'airplanes', 'airplanes', 'airplanes', 'airplanes', 'airplanes', 'airplanes', 'airplanes']\n",
        "img matrix"
       ]
      },
      {
       "output_type": "stream",
       "stream": "stdout",
       "text": [
        " [[255 255 255]\n",
        " [255 255 255]\n",
        " [255 255 255]\n",
        " ..., \n",
        " [255 255 255]\n",
        " [255 255 255]\n",
        " [255 255 255]]\n",
        "104 104\n",
        "['airplanes', 'airplanes', 'airplanes', 'airplanes', 'airplanes', 'airplanes', 'airplanes', 'airplanes', 'airplanes', 'airplanes', 'airplanes', 'airplanes', 'airplanes', 'airplanes', 'airplanes', 'airplanes', 'airplanes', 'airplanes', 'airplanes', 'airplanes', 'airplanes', 'airplanes', 'airplanes', 'airplanes', 'airplanes', 'airplanes', 'airplanes', 'airplanes', 'airplanes', 'airplanes', 'airplanes', 'airplanes', 'airplanes', 'airplanes', 'airplanes', 'airplanes', 'airplanes', 'airplanes', 'airplanes', 'airplanes', 'airplanes', 'airplanes', 'airplanes', 'airplanes', 'airplanes', 'airplanes', 'airplanes', 'airplanes', 'airplanes', 'airplanes', 'airplanes', 'airplanes', 'airplanes', 'airplanes', 'airplanes', 'airplanes', 'airplanes', 'airplanes', 'airplanes', 'airplanes', 'airplanes', 'airplanes', 'airplanes', 'airplanes', 'airplanes', 'airplanes', 'airplanes', 'airplanes', 'airplanes', 'airplanes', 'airplanes', 'airplanes', 'airplanes', 'airplanes', 'airplanes', 'airplanes', 'airplanes', 'airplanes', 'airplanes', 'airplanes', 'airplanes', 'airplanes', 'airplanes', 'airplanes', 'airplanes', 'airplanes', 'airplanes', 'airplanes', 'airplanes', 'airplanes', 'airplanes', 'airplanes', 'airplanes', 'airplanes', 'airplanes', 'airplanes', 'airplanes', 'airplanes', 'airplanes', 'airplanes', 'airplanes', 'airplanes', 'airplanes', 'airplanes']\n",
        "img matrix"
       ]
      },
      {
       "output_type": "stream",
       "stream": "stdout",
       "text": [
        " [[255 255 255]\n",
        " [255 255 255]\n",
        " [255 255 255]\n",
        " ..., \n",
        " [255 255 255]\n",
        " [255 255 255]\n",
        " [255 255 255]]\n",
        "105 105\n",
        "['airplanes', 'airplanes', 'airplanes', 'airplanes', 'airplanes', 'airplanes', 'airplanes', 'airplanes', 'airplanes', 'airplanes', 'airplanes', 'airplanes', 'airplanes', 'airplanes', 'airplanes', 'airplanes', 'airplanes', 'airplanes', 'airplanes', 'airplanes', 'airplanes', 'airplanes', 'airplanes', 'airplanes', 'airplanes', 'airplanes', 'airplanes', 'airplanes', 'airplanes', 'airplanes', 'airplanes', 'airplanes', 'airplanes', 'airplanes', 'airplanes', 'airplanes', 'airplanes', 'airplanes', 'airplanes', 'airplanes', 'airplanes', 'airplanes', 'airplanes', 'airplanes', 'airplanes', 'airplanes', 'airplanes', 'airplanes', 'airplanes', 'airplanes', 'airplanes', 'airplanes', 'airplanes', 'airplanes', 'airplanes', 'airplanes', 'airplanes', 'airplanes', 'airplanes', 'airplanes', 'airplanes', 'airplanes', 'airplanes', 'airplanes', 'airplanes', 'airplanes', 'airplanes', 'airplanes', 'airplanes', 'airplanes', 'airplanes', 'airplanes', 'airplanes', 'airplanes', 'airplanes', 'airplanes', 'airplanes', 'airplanes', 'airplanes', 'airplanes', 'airplanes', 'airplanes', 'airplanes', 'airplanes', 'airplanes', 'airplanes', 'airplanes', 'airplanes', 'airplanes', 'airplanes', 'airplanes', 'airplanes', 'airplanes', 'airplanes', 'airplanes', 'airplanes', 'airplanes', 'airplanes', 'airplanes', 'airplanes', 'airplanes', 'airplanes', 'airplanes', 'airplanes', 'airplanes']\n",
        "img matrix"
       ]
      },
      {
       "output_type": "stream",
       "stream": "stdout",
       "text": [
        " [[255 255 255]\n",
        " [255 255 255]\n",
        " [255 255 255]\n",
        " ..., \n",
        " [254 255 255]\n",
        " [252 255 255]\n",
        " [255 255 255]]\n",
        "106 106\n",
        "['airplanes', 'airplanes', 'airplanes', 'airplanes', 'airplanes', 'airplanes', 'airplanes', 'airplanes', 'airplanes', 'airplanes', 'airplanes', 'airplanes', 'airplanes', 'airplanes', 'airplanes', 'airplanes', 'airplanes', 'airplanes', 'airplanes', 'airplanes', 'airplanes', 'airplanes', 'airplanes', 'airplanes', 'airplanes', 'airplanes', 'airplanes', 'airplanes', 'airplanes', 'airplanes', 'airplanes', 'airplanes', 'airplanes', 'airplanes', 'airplanes', 'airplanes', 'airplanes', 'airplanes', 'airplanes', 'airplanes', 'airplanes', 'airplanes', 'airplanes', 'airplanes', 'airplanes', 'airplanes', 'airplanes', 'airplanes', 'airplanes', 'airplanes', 'airplanes', 'airplanes', 'airplanes', 'airplanes', 'airplanes', 'airplanes', 'airplanes', 'airplanes', 'airplanes', 'airplanes', 'airplanes', 'airplanes', 'airplanes', 'airplanes', 'airplanes', 'airplanes', 'airplanes', 'airplanes', 'airplanes', 'airplanes', 'airplanes', 'airplanes', 'airplanes', 'airplanes', 'airplanes', 'airplanes', 'airplanes', 'airplanes', 'airplanes', 'airplanes', 'airplanes', 'airplanes', 'airplanes', 'airplanes', 'airplanes', 'airplanes', 'airplanes', 'airplanes', 'airplanes', 'airplanes', 'airplanes', 'airplanes', 'airplanes', 'airplanes', 'airplanes', 'airplanes', 'airplanes', 'airplanes', 'airplanes', 'airplanes', 'airplanes', 'airplanes', 'airplanes', 'airplanes', 'airplanes', 'airplanes']\n",
        "img matrix"
       ]
      },
      {
       "output_type": "stream",
       "stream": "stdout",
       "text": [
        " [[255 255 255]\n",
        " [255 255 255]\n",
        " [255 255 255]\n",
        " ..., \n",
        " [255 255 255]\n",
        " [255 255 255]\n",
        " [255 255 255]]\n",
        "107 107\n",
        "['airplanes', 'airplanes', 'airplanes', 'airplanes', 'airplanes', 'airplanes', 'airplanes', 'airplanes', 'airplanes', 'airplanes', 'airplanes', 'airplanes', 'airplanes', 'airplanes', 'airplanes', 'airplanes', 'airplanes', 'airplanes', 'airplanes', 'airplanes', 'airplanes', 'airplanes', 'airplanes', 'airplanes', 'airplanes', 'airplanes', 'airplanes', 'airplanes', 'airplanes', 'airplanes', 'airplanes', 'airplanes', 'airplanes', 'airplanes', 'airplanes', 'airplanes', 'airplanes', 'airplanes', 'airplanes', 'airplanes', 'airplanes', 'airplanes', 'airplanes', 'airplanes', 'airplanes', 'airplanes', 'airplanes', 'airplanes', 'airplanes', 'airplanes', 'airplanes', 'airplanes', 'airplanes', 'airplanes', 'airplanes', 'airplanes', 'airplanes', 'airplanes', 'airplanes', 'airplanes', 'airplanes', 'airplanes', 'airplanes', 'airplanes', 'airplanes', 'airplanes', 'airplanes', 'airplanes', 'airplanes', 'airplanes', 'airplanes', 'airplanes', 'airplanes', 'airplanes', 'airplanes', 'airplanes', 'airplanes', 'airplanes', 'airplanes', 'airplanes', 'airplanes', 'airplanes', 'airplanes', 'airplanes', 'airplanes', 'airplanes', 'airplanes', 'airplanes', 'airplanes', 'airplanes', 'airplanes', 'airplanes', 'airplanes', 'airplanes', 'airplanes', 'airplanes', 'airplanes', 'airplanes', 'airplanes', 'airplanes', 'airplanes', 'airplanes', 'airplanes', 'airplanes', 'airplanes', 'airplanes', 'airplanes']\n",
        "img matrix"
       ]
      },
      {
       "output_type": "stream",
       "stream": "stdout",
       "text": [
        " [[255 255 255]\n",
        " [255 255 255]\n",
        " [255 255 255]\n",
        " ..., \n",
        " [255 255 255]\n",
        " [255 255 255]\n",
        " [255 255 255]]\n",
        "108 108\n",
        "['airplanes', 'airplanes', 'airplanes', 'airplanes', 'airplanes', 'airplanes', 'airplanes', 'airplanes', 'airplanes', 'airplanes', 'airplanes', 'airplanes', 'airplanes', 'airplanes', 'airplanes', 'airplanes', 'airplanes', 'airplanes', 'airplanes', 'airplanes', 'airplanes', 'airplanes', 'airplanes', 'airplanes', 'airplanes', 'airplanes', 'airplanes', 'airplanes', 'airplanes', 'airplanes', 'airplanes', 'airplanes', 'airplanes', 'airplanes', 'airplanes', 'airplanes', 'airplanes', 'airplanes', 'airplanes', 'airplanes', 'airplanes', 'airplanes', 'airplanes', 'airplanes', 'airplanes', 'airplanes', 'airplanes', 'airplanes', 'airplanes', 'airplanes', 'airplanes', 'airplanes', 'airplanes', 'airplanes', 'airplanes', 'airplanes', 'airplanes', 'airplanes', 'airplanes', 'airplanes', 'airplanes', 'airplanes', 'airplanes', 'airplanes', 'airplanes', 'airplanes', 'airplanes', 'airplanes', 'airplanes', 'airplanes', 'airplanes', 'airplanes', 'airplanes', 'airplanes', 'airplanes', 'airplanes', 'airplanes', 'airplanes', 'airplanes', 'airplanes', 'airplanes', 'airplanes', 'airplanes', 'airplanes', 'airplanes', 'airplanes', 'airplanes', 'airplanes', 'airplanes', 'airplanes', 'airplanes', 'airplanes', 'airplanes', 'airplanes', 'airplanes', 'airplanes', 'airplanes', 'airplanes', 'airplanes', 'airplanes', 'airplanes', 'airplanes', 'airplanes', 'airplanes', 'airplanes', 'airplanes', 'airplanes', 'airplanes']\n",
        "img matrix"
       ]
      },
      {
       "output_type": "stream",
       "stream": "stdout",
       "text": [
        " [[255 255 255]\n",
        " [255 255 255]\n",
        " [255 255 255]\n",
        " ..., \n",
        " [255 255 255]\n",
        " [255 255 255]\n",
        " [255 255 255]]\n",
        "109 109\n",
        "['airplanes', 'airplanes', 'airplanes', 'airplanes', 'airplanes', 'airplanes', 'airplanes', 'airplanes', 'airplanes', 'airplanes', 'airplanes', 'airplanes', 'airplanes', 'airplanes', 'airplanes', 'airplanes', 'airplanes', 'airplanes', 'airplanes', 'airplanes', 'airplanes', 'airplanes', 'airplanes', 'airplanes', 'airplanes', 'airplanes', 'airplanes', 'airplanes', 'airplanes', 'airplanes', 'airplanes', 'airplanes', 'airplanes', 'airplanes', 'airplanes', 'airplanes', 'airplanes', 'airplanes', 'airplanes', 'airplanes', 'airplanes', 'airplanes', 'airplanes', 'airplanes', 'airplanes', 'airplanes', 'airplanes', 'airplanes', 'airplanes', 'airplanes', 'airplanes', 'airplanes', 'airplanes', 'airplanes', 'airplanes', 'airplanes', 'airplanes', 'airplanes', 'airplanes', 'airplanes', 'airplanes', 'airplanes', 'airplanes', 'airplanes', 'airplanes', 'airplanes', 'airplanes', 'airplanes', 'airplanes', 'airplanes', 'airplanes', 'airplanes', 'airplanes', 'airplanes', 'airplanes', 'airplanes', 'airplanes', 'airplanes', 'airplanes', 'airplanes', 'airplanes', 'airplanes', 'airplanes', 'airplanes', 'airplanes', 'airplanes', 'airplanes', 'airplanes', 'airplanes', 'airplanes', 'airplanes', 'airplanes', 'airplanes', 'airplanes', 'airplanes', 'airplanes', 'airplanes', 'airplanes', 'airplanes', 'airplanes', 'airplanes', 'airplanes', 'airplanes', 'airplanes', 'airplanes', 'airplanes', 'airplanes', 'airplanes', 'airplanes']\n",
        "img matrix"
       ]
      },
      {
       "output_type": "stream",
       "stream": "stdout",
       "text": [
        " [[255 255 255]\n",
        " [255 255 255]\n",
        " [255 255 255]\n",
        " ..., \n",
        " [255 255 255]\n",
        " [255 255 255]\n",
        " [255 255 255]]\n",
        "110 110\n",
        "['airplanes', 'airplanes', 'airplanes', 'airplanes', 'airplanes', 'airplanes', 'airplanes', 'airplanes', 'airplanes', 'airplanes', 'airplanes', 'airplanes', 'airplanes', 'airplanes', 'airplanes', 'airplanes', 'airplanes', 'airplanes', 'airplanes', 'airplanes', 'airplanes', 'airplanes', 'airplanes', 'airplanes', 'airplanes', 'airplanes', 'airplanes', 'airplanes', 'airplanes', 'airplanes', 'airplanes', 'airplanes', 'airplanes', 'airplanes', 'airplanes', 'airplanes', 'airplanes', 'airplanes', 'airplanes', 'airplanes', 'airplanes', 'airplanes', 'airplanes', 'airplanes', 'airplanes', 'airplanes', 'airplanes', 'airplanes', 'airplanes', 'airplanes', 'airplanes', 'airplanes', 'airplanes', 'airplanes', 'airplanes', 'airplanes', 'airplanes', 'airplanes', 'airplanes', 'airplanes', 'airplanes', 'airplanes', 'airplanes', 'airplanes', 'airplanes', 'airplanes', 'airplanes', 'airplanes', 'airplanes', 'airplanes', 'airplanes', 'airplanes', 'airplanes', 'airplanes', 'airplanes', 'airplanes', 'airplanes', 'airplanes', 'airplanes', 'airplanes', 'airplanes', 'airplanes', 'airplanes', 'airplanes', 'airplanes', 'airplanes', 'airplanes', 'airplanes', 'airplanes', 'airplanes', 'airplanes', 'airplanes', 'airplanes', 'airplanes', 'airplanes', 'airplanes', 'airplanes', 'airplanes', 'airplanes', 'airplanes', 'airplanes', 'airplanes', 'airplanes', 'airplanes', 'airplanes', 'airplanes', 'airplanes', 'airplanes', 'airplanes', 'airplanes']\n",
        "img matrix"
       ]
      },
      {
       "output_type": "stream",
       "stream": "stdout",
       "text": [
        " [[255 255 255]\n",
        " [255 255 255]\n",
        " [255 255 255]\n",
        " ..., \n",
        " [113 114 116]\n",
        " [108 110 109]\n",
        " [113 115 112]]\n",
        "111 111\n",
        "['airplanes', 'airplanes', 'airplanes', 'airplanes', 'airplanes', 'airplanes', 'airplanes', 'airplanes', 'airplanes', 'airplanes', 'airplanes', 'airplanes', 'airplanes', 'airplanes', 'airplanes', 'airplanes', 'airplanes', 'airplanes', 'airplanes', 'airplanes', 'airplanes', 'airplanes', 'airplanes', 'airplanes', 'airplanes', 'airplanes', 'airplanes', 'airplanes', 'airplanes', 'airplanes', 'airplanes', 'airplanes', 'airplanes', 'airplanes', 'airplanes', 'airplanes', 'airplanes', 'airplanes', 'airplanes', 'airplanes', 'airplanes', 'airplanes', 'airplanes', 'airplanes', 'airplanes', 'airplanes', 'airplanes', 'airplanes', 'airplanes', 'airplanes', 'airplanes', 'airplanes', 'airplanes', 'airplanes', 'airplanes', 'airplanes', 'airplanes', 'airplanes', 'airplanes', 'airplanes', 'airplanes', 'airplanes', 'airplanes', 'airplanes', 'airplanes', 'airplanes', 'airplanes', 'airplanes', 'airplanes', 'airplanes', 'airplanes', 'airplanes', 'airplanes', 'airplanes', 'airplanes', 'airplanes', 'airplanes', 'airplanes', 'airplanes', 'airplanes', 'airplanes', 'airplanes', 'airplanes', 'airplanes', 'airplanes', 'airplanes', 'airplanes', 'airplanes', 'airplanes', 'airplanes', 'airplanes', 'airplanes', 'airplanes', 'airplanes', 'airplanes', 'airplanes', 'airplanes', 'airplanes', 'airplanes', 'airplanes', 'airplanes', 'airplanes', 'airplanes', 'airplanes', 'airplanes', 'airplanes', 'airplanes', 'airplanes', 'airplanes', 'airplanes', 'airplanes']\n",
        "img matrix"
       ]
      },
      {
       "output_type": "stream",
       "stream": "stdout",
       "text": [
        " [[255 255 255]\n",
        " [255 255 255]\n",
        " [255 255 255]\n",
        " ..., \n",
        " [255 255 255]\n",
        " [255 255 255]\n",
        " [255 255 255]]\n",
        "112 112\n",
        "['airplanes', 'airplanes', 'airplanes', 'airplanes', 'airplanes', 'airplanes', 'airplanes', 'airplanes', 'airplanes', 'airplanes', 'airplanes', 'airplanes', 'airplanes', 'airplanes', 'airplanes', 'airplanes', 'airplanes', 'airplanes', 'airplanes', 'airplanes', 'airplanes', 'airplanes', 'airplanes', 'airplanes', 'airplanes', 'airplanes', 'airplanes', 'airplanes', 'airplanes', 'airplanes', 'airplanes', 'airplanes', 'airplanes', 'airplanes', 'airplanes', 'airplanes', 'airplanes', 'airplanes', 'airplanes', 'airplanes', 'airplanes', 'airplanes', 'airplanes', 'airplanes', 'airplanes', 'airplanes', 'airplanes', 'airplanes', 'airplanes', 'airplanes', 'airplanes', 'airplanes', 'airplanes', 'airplanes', 'airplanes', 'airplanes', 'airplanes', 'airplanes', 'airplanes', 'airplanes', 'airplanes', 'airplanes', 'airplanes', 'airplanes', 'airplanes', 'airplanes', 'airplanes', 'airplanes', 'airplanes', 'airplanes', 'airplanes', 'airplanes', 'airplanes', 'airplanes', 'airplanes', 'airplanes', 'airplanes', 'airplanes', 'airplanes', 'airplanes', 'airplanes', 'airplanes', 'airplanes', 'airplanes', 'airplanes', 'airplanes', 'airplanes', 'airplanes', 'airplanes', 'airplanes', 'airplanes', 'airplanes', 'airplanes', 'airplanes', 'airplanes', 'airplanes', 'airplanes', 'airplanes', 'airplanes', 'airplanes', 'airplanes', 'airplanes', 'airplanes', 'airplanes', 'airplanes', 'airplanes', 'airplanes', 'airplanes', 'airplanes', 'airplanes', 'airplanes', 'airplanes']\n",
        "img matrix"
       ]
      },
      {
       "output_type": "stream",
       "stream": "stdout",
       "text": [
        " [[255 255 255]\n",
        " [255 255 255]\n",
        " [255 255 255]\n",
        " ..., \n",
        " [255 255 255]\n",
        " [255 255 255]\n",
        " [255 255 255]]\n",
        "113 113\n",
        "['airplanes', 'airplanes', 'airplanes', 'airplanes', 'airplanes', 'airplanes', 'airplanes', 'airplanes', 'airplanes', 'airplanes', 'airplanes', 'airplanes', 'airplanes', 'airplanes', 'airplanes', 'airplanes', 'airplanes', 'airplanes', 'airplanes', 'airplanes', 'airplanes', 'airplanes', 'airplanes', 'airplanes', 'airplanes', 'airplanes', 'airplanes', 'airplanes', 'airplanes', 'airplanes', 'airplanes', 'airplanes', 'airplanes', 'airplanes', 'airplanes', 'airplanes', 'airplanes', 'airplanes', 'airplanes', 'airplanes', 'airplanes', 'airplanes', 'airplanes', 'airplanes', 'airplanes', 'airplanes', 'airplanes', 'airplanes', 'airplanes', 'airplanes', 'airplanes', 'airplanes', 'airplanes', 'airplanes', 'airplanes', 'airplanes', 'airplanes', 'airplanes', 'airplanes', 'airplanes', 'airplanes', 'airplanes', 'airplanes', 'airplanes', 'airplanes', 'airplanes', 'airplanes', 'airplanes', 'airplanes', 'airplanes', 'airplanes', 'airplanes', 'airplanes', 'airplanes', 'airplanes', 'airplanes', 'airplanes', 'airplanes', 'airplanes', 'airplanes', 'airplanes', 'airplanes', 'airplanes', 'airplanes', 'airplanes', 'airplanes', 'airplanes', 'airplanes', 'airplanes', 'airplanes', 'airplanes', 'airplanes', 'airplanes', 'airplanes', 'airplanes', 'airplanes', 'airplanes', 'airplanes', 'airplanes', 'airplanes', 'airplanes', 'airplanes', 'airplanes', 'airplanes', 'airplanes', 'airplanes', 'airplanes', 'airplanes', 'airplanes', 'airplanes', 'airplanes', 'airplanes', 'airplanes']\n",
        "img matrix"
       ]
      },
      {
       "output_type": "stream",
       "stream": "stdout",
       "text": [
        " [[255 255 255]\n",
        " [255 255 255]\n",
        " [255 255 255]\n",
        " ..., \n",
        " [255 255 244]\n",
        " [255 255 251]\n",
        " [255 254 255]]\n",
        "114 114\n",
        "['airplanes', 'airplanes', 'airplanes', 'airplanes', 'airplanes', 'airplanes', 'airplanes', 'airplanes', 'airplanes', 'airplanes', 'airplanes', 'airplanes', 'airplanes', 'airplanes', 'airplanes', 'airplanes', 'airplanes', 'airplanes', 'airplanes', 'airplanes', 'airplanes', 'airplanes', 'airplanes', 'airplanes', 'airplanes', 'airplanes', 'airplanes', 'airplanes', 'airplanes', 'airplanes', 'airplanes', 'airplanes', 'airplanes', 'airplanes', 'airplanes', 'airplanes', 'airplanes', 'airplanes', 'airplanes', 'airplanes', 'airplanes', 'airplanes', 'airplanes', 'airplanes', 'airplanes', 'airplanes', 'airplanes', 'airplanes', 'airplanes', 'airplanes', 'airplanes', 'airplanes', 'airplanes', 'airplanes', 'airplanes', 'airplanes', 'airplanes', 'airplanes', 'airplanes', 'airplanes', 'airplanes', 'airplanes', 'airplanes', 'airplanes', 'airplanes', 'airplanes', 'airplanes', 'airplanes', 'airplanes', 'airplanes', 'airplanes', 'airplanes', 'airplanes', 'airplanes', 'airplanes', 'airplanes', 'airplanes', 'airplanes', 'airplanes', 'airplanes', 'airplanes', 'airplanes', 'airplanes', 'airplanes', 'airplanes', 'airplanes', 'airplanes', 'airplanes', 'airplanes', 'airplanes', 'airplanes', 'airplanes', 'airplanes', 'airplanes', 'airplanes', 'airplanes', 'airplanes', 'airplanes', 'airplanes', 'airplanes', 'airplanes', 'airplanes', 'airplanes', 'airplanes', 'airplanes', 'airplanes', 'airplanes', 'airplanes', 'airplanes', 'airplanes', 'airplanes', 'airplanes', 'airplanes', 'airplanes']\n",
        "img matrix"
       ]
      },
      {
       "output_type": "stream",
       "stream": "stdout",
       "text": [
        " [[255 255 255]\n",
        " [255 255 255]\n",
        " [255 255 255]\n",
        " ..., \n",
        " [255 255 255]\n",
        " [255 255 255]\n",
        " [255 255 255]]\n",
        "115 115\n",
        "['airplanes', 'airplanes', 'airplanes', 'airplanes', 'airplanes', 'airplanes', 'airplanes', 'airplanes', 'airplanes', 'airplanes', 'airplanes', 'airplanes', 'airplanes', 'airplanes', 'airplanes', 'airplanes', 'airplanes', 'airplanes', 'airplanes', 'airplanes', 'airplanes', 'airplanes', 'airplanes', 'airplanes', 'airplanes', 'airplanes', 'airplanes', 'airplanes', 'airplanes', 'airplanes', 'airplanes', 'airplanes', 'airplanes', 'airplanes', 'airplanes', 'airplanes', 'airplanes', 'airplanes', 'airplanes', 'airplanes', 'airplanes', 'airplanes', 'airplanes', 'airplanes', 'airplanes', 'airplanes', 'airplanes', 'airplanes', 'airplanes', 'airplanes', 'airplanes', 'airplanes', 'airplanes', 'airplanes', 'airplanes', 'airplanes', 'airplanes', 'airplanes', 'airplanes', 'airplanes', 'airplanes', 'airplanes', 'airplanes', 'airplanes', 'airplanes', 'airplanes', 'airplanes', 'airplanes', 'airplanes', 'airplanes', 'airplanes', 'airplanes', 'airplanes', 'airplanes', 'airplanes', 'airplanes', 'airplanes', 'airplanes', 'airplanes', 'airplanes', 'airplanes', 'airplanes', 'airplanes', 'airplanes', 'airplanes', 'airplanes', 'airplanes', 'airplanes', 'airplanes', 'airplanes', 'airplanes', 'airplanes', 'airplanes', 'airplanes', 'airplanes', 'airplanes', 'airplanes', 'airplanes', 'airplanes', 'airplanes', 'airplanes', 'airplanes', 'airplanes', 'airplanes', 'airplanes', 'airplanes', 'airplanes', 'airplanes', 'airplanes', 'airplanes', 'airplanes', 'airplanes', 'airplanes', 'airplanes', 'airplanes']\n",
        "img matrix"
       ]
      },
      {
       "output_type": "stream",
       "stream": "stdout",
       "text": [
        " [[255 255 255]\n",
        " [255 255 255]\n",
        " [255 255 255]\n",
        " ..., \n",
        " [255 255 255]\n",
        " [255 255 255]\n",
        " [255 255 255]]\n",
        "116 116\n",
        "['airplanes', 'airplanes', 'airplanes', 'airplanes', 'airplanes', 'airplanes', 'airplanes', 'airplanes', 'airplanes', 'airplanes', 'airplanes', 'airplanes', 'airplanes', 'airplanes', 'airplanes', 'airplanes', 'airplanes', 'airplanes', 'airplanes', 'airplanes', 'airplanes', 'airplanes', 'airplanes', 'airplanes', 'airplanes', 'airplanes', 'airplanes', 'airplanes', 'airplanes', 'airplanes', 'airplanes', 'airplanes', 'airplanes', 'airplanes', 'airplanes', 'airplanes', 'airplanes', 'airplanes', 'airplanes', 'airplanes', 'airplanes', 'airplanes', 'airplanes', 'airplanes', 'airplanes', 'airplanes', 'airplanes', 'airplanes', 'airplanes', 'airplanes', 'airplanes', 'airplanes', 'airplanes', 'airplanes', 'airplanes', 'airplanes', 'airplanes', 'airplanes', 'airplanes', 'airplanes', 'airplanes', 'airplanes', 'airplanes', 'airplanes', 'airplanes', 'airplanes', 'airplanes', 'airplanes', 'airplanes', 'airplanes', 'airplanes', 'airplanes', 'airplanes', 'airplanes', 'airplanes', 'airplanes', 'airplanes', 'airplanes', 'airplanes', 'airplanes', 'airplanes', 'airplanes', 'airplanes', 'airplanes', 'airplanes', 'airplanes', 'airplanes', 'airplanes', 'airplanes', 'airplanes', 'airplanes', 'airplanes', 'airplanes', 'airplanes', 'airplanes', 'airplanes', 'airplanes', 'airplanes', 'airplanes', 'airplanes', 'airplanes', 'airplanes', 'airplanes', 'airplanes', 'airplanes', 'airplanes', 'airplanes', 'airplanes', 'airplanes', 'airplanes', 'airplanes', 'airplanes', 'airplanes', 'airplanes', 'airplanes', 'airplanes']\n",
        "img matrix"
       ]
      },
      {
       "output_type": "stream",
       "stream": "stdout",
       "text": [
        " [[255 255 255]\n",
        " [255 255 255]\n",
        " [255 255 255]\n",
        " ..., \n",
        " [255 255 255]\n",
        " [255 255 255]\n",
        " [255 255 255]]\n",
        "117 117\n",
        "['airplanes', 'airplanes', 'airplanes', 'airplanes', 'airplanes', 'airplanes', 'airplanes', 'airplanes', 'airplanes', 'airplanes', 'airplanes', 'airplanes', 'airplanes', 'airplanes', 'airplanes', 'airplanes', 'airplanes', 'airplanes', 'airplanes', 'airplanes', 'airplanes', 'airplanes', 'airplanes', 'airplanes', 'airplanes', 'airplanes', 'airplanes', 'airplanes', 'airplanes', 'airplanes', 'airplanes', 'airplanes', 'airplanes', 'airplanes', 'airplanes', 'airplanes', 'airplanes', 'airplanes', 'airplanes', 'airplanes', 'airplanes', 'airplanes', 'airplanes', 'airplanes', 'airplanes', 'airplanes', 'airplanes', 'airplanes', 'airplanes', 'airplanes', 'airplanes', 'airplanes', 'airplanes', 'airplanes', 'airplanes', 'airplanes', 'airplanes', 'airplanes', 'airplanes', 'airplanes', 'airplanes', 'airplanes', 'airplanes', 'airplanes', 'airplanes', 'airplanes', 'airplanes', 'airplanes', 'airplanes', 'airplanes', 'airplanes', 'airplanes', 'airplanes', 'airplanes', 'airplanes', 'airplanes', 'airplanes', 'airplanes', 'airplanes', 'airplanes', 'airplanes', 'airplanes', 'airplanes', 'airplanes', 'airplanes', 'airplanes', 'airplanes', 'airplanes', 'airplanes', 'airplanes', 'airplanes', 'airplanes', 'airplanes', 'airplanes', 'airplanes', 'airplanes', 'airplanes', 'airplanes', 'airplanes', 'airplanes', 'airplanes', 'airplanes', 'airplanes', 'airplanes', 'airplanes', 'airplanes', 'airplanes', 'airplanes', 'airplanes', 'airplanes', 'airplanes', 'airplanes', 'airplanes', 'airplanes', 'airplanes', 'airplanes', 'airplanes']\n",
        "img matrix"
       ]
      },
      {
       "output_type": "stream",
       "stream": "stdout",
       "text": [
        " [[255 255 255]\n",
        " [255 255 255]\n",
        " [255 255 255]\n",
        " ..., \n",
        " [255 255 255]\n",
        " [255 255 255]\n",
        " [255 255 255]]\n",
        "118 118\n",
        "['airplanes', 'airplanes', 'airplanes', 'airplanes', 'airplanes', 'airplanes', 'airplanes', 'airplanes', 'airplanes', 'airplanes', 'airplanes', 'airplanes', 'airplanes', 'airplanes', 'airplanes', 'airplanes', 'airplanes', 'airplanes', 'airplanes', 'airplanes', 'airplanes', 'airplanes', 'airplanes', 'airplanes', 'airplanes', 'airplanes', 'airplanes', 'airplanes', 'airplanes', 'airplanes', 'airplanes', 'airplanes', 'airplanes', 'airplanes', 'airplanes', 'airplanes', 'airplanes', 'airplanes', 'airplanes', 'airplanes', 'airplanes', 'airplanes', 'airplanes', 'airplanes', 'airplanes', 'airplanes', 'airplanes', 'airplanes', 'airplanes', 'airplanes', 'airplanes', 'airplanes', 'airplanes', 'airplanes', 'airplanes', 'airplanes', 'airplanes', 'airplanes', 'airplanes', 'airplanes', 'airplanes', 'airplanes', 'airplanes', 'airplanes', 'airplanes', 'airplanes', 'airplanes', 'airplanes', 'airplanes', 'airplanes', 'airplanes', 'airplanes', 'airplanes', 'airplanes', 'airplanes', 'airplanes', 'airplanes', 'airplanes', 'airplanes', 'airplanes', 'airplanes', 'airplanes', 'airplanes', 'airplanes', 'airplanes', 'airplanes', 'airplanes', 'airplanes', 'airplanes', 'airplanes', 'airplanes', 'airplanes', 'airplanes', 'airplanes', 'airplanes', 'airplanes', 'airplanes', 'airplanes', 'airplanes', 'airplanes', 'airplanes', 'airplanes', 'airplanes', 'airplanes', 'airplanes', 'airplanes', 'airplanes', 'airplanes', 'airplanes', 'airplanes', 'airplanes', 'airplanes', 'airplanes', 'airplanes', 'airplanes', 'airplanes', 'airplanes', 'airplanes']\n",
        "img matrix"
       ]
      },
      {
       "output_type": "stream",
       "stream": "stdout",
       "text": [
        " [[255 255 255]\n",
        " [255 255 255]\n",
        " [255 255 255]\n",
        " ..., \n",
        " [255 255 255]\n",
        " [255 255 255]\n",
        " [255 255 255]]\n",
        "119 119\n",
        "['airplanes', 'airplanes', 'airplanes', 'airplanes', 'airplanes', 'airplanes', 'airplanes', 'airplanes', 'airplanes', 'airplanes', 'airplanes', 'airplanes', 'airplanes', 'airplanes', 'airplanes', 'airplanes', 'airplanes', 'airplanes', 'airplanes', 'airplanes', 'airplanes', 'airplanes', 'airplanes', 'airplanes', 'airplanes', 'airplanes', 'airplanes', 'airplanes', 'airplanes', 'airplanes', 'airplanes', 'airplanes', 'airplanes', 'airplanes', 'airplanes', 'airplanes', 'airplanes', 'airplanes', 'airplanes', 'airplanes', 'airplanes', 'airplanes', 'airplanes', 'airplanes', 'airplanes', 'airplanes', 'airplanes', 'airplanes', 'airplanes', 'airplanes', 'airplanes', 'airplanes', 'airplanes', 'airplanes', 'airplanes', 'airplanes', 'airplanes', 'airplanes', 'airplanes', 'airplanes', 'airplanes', 'airplanes', 'airplanes', 'airplanes', 'airplanes', 'airplanes', 'airplanes', 'airplanes', 'airplanes', 'airplanes', 'airplanes', 'airplanes', 'airplanes', 'airplanes', 'airplanes', 'airplanes', 'airplanes', 'airplanes', 'airplanes', 'airplanes', 'airplanes', 'airplanes', 'airplanes', 'airplanes', 'airplanes', 'airplanes', 'airplanes', 'airplanes', 'airplanes', 'airplanes', 'airplanes', 'airplanes', 'airplanes', 'airplanes', 'airplanes', 'airplanes', 'airplanes', 'airplanes', 'airplanes', 'airplanes', 'airplanes', 'airplanes', 'airplanes', 'airplanes', 'airplanes', 'airplanes', 'airplanes', 'airplanes', 'airplanes', 'airplanes', 'airplanes', 'airplanes', 'airplanes', 'airplanes', 'airplanes', 'airplanes', 'airplanes', 'airplanes', 'airplanes']\n",
        "img matrix"
       ]
      },
      {
       "output_type": "stream",
       "stream": "stdout",
       "text": [
        " [[255 254 251]\n",
        " [255 255 253]\n",
        " [255 255 253]\n",
        " ..., \n",
        " [255 255 255]\n",
        " [255 255 255]\n",
        " [255 255 255]]\n",
        "120 120\n",
        "['airplanes', 'airplanes', 'airplanes', 'airplanes', 'airplanes', 'airplanes', 'airplanes', 'airplanes', 'airplanes', 'airplanes', 'airplanes', 'airplanes', 'airplanes', 'airplanes', 'airplanes', 'airplanes', 'airplanes', 'airplanes', 'airplanes', 'airplanes', 'airplanes', 'airplanes', 'airplanes', 'airplanes', 'airplanes', 'airplanes', 'airplanes', 'airplanes', 'airplanes', 'airplanes', 'airplanes', 'airplanes', 'airplanes', 'airplanes', 'airplanes', 'airplanes', 'airplanes', 'airplanes', 'airplanes', 'airplanes', 'airplanes', 'airplanes', 'airplanes', 'airplanes', 'airplanes', 'airplanes', 'airplanes', 'airplanes', 'airplanes', 'airplanes', 'airplanes', 'airplanes', 'airplanes', 'airplanes', 'airplanes', 'airplanes', 'airplanes', 'airplanes', 'airplanes', 'airplanes', 'airplanes', 'airplanes', 'airplanes', 'airplanes', 'airplanes', 'airplanes', 'airplanes', 'airplanes', 'airplanes', 'airplanes', 'airplanes', 'airplanes', 'airplanes', 'airplanes', 'airplanes', 'airplanes', 'airplanes', 'airplanes', 'airplanes', 'airplanes', 'airplanes', 'airplanes', 'airplanes', 'airplanes', 'airplanes', 'airplanes', 'airplanes', 'airplanes', 'airplanes', 'airplanes', 'airplanes', 'airplanes', 'airplanes', 'airplanes', 'airplanes', 'airplanes', 'airplanes', 'airplanes', 'airplanes', 'airplanes', 'airplanes', 'airplanes', 'airplanes', 'airplanes', 'airplanes', 'airplanes', 'airplanes', 'airplanes', 'airplanes', 'airplanes', 'airplanes', 'airplanes', 'airplanes', 'airplanes', 'airplanes', 'airplanes', 'airplanes', 'airplanes', 'airplanes', 'airplanes']\n",
        "../102_Categories/butterfly\n",
        "<type 'str'>\n",
        "Sorry. cannot identify image file\n",
        "Had trouble with ../102_Categories/butterfly/.DS_Store\n",
        "img matrix"
       ]
      },
      {
       "output_type": "stream",
       "stream": "stdout",
       "text": [
        " [[0 0 0]\n",
        " [0 0 0]\n",
        " [0 0 0]\n",
        " ..., \n",
        " [0 0 0]\n",
        " [0 0 0]\n",
        " [0 0 0]]\n",
        "121 121\n",
        "['airplanes', 'airplanes', 'airplanes', 'airplanes', 'airplanes', 'airplanes', 'airplanes', 'airplanes', 'airplanes', 'airplanes', 'airplanes', 'airplanes', 'airplanes', 'airplanes', 'airplanes', 'airplanes', 'airplanes', 'airplanes', 'airplanes', 'airplanes', 'airplanes', 'airplanes', 'airplanes', 'airplanes', 'airplanes', 'airplanes', 'airplanes', 'airplanes', 'airplanes', 'airplanes', 'airplanes', 'airplanes', 'airplanes', 'airplanes', 'airplanes', 'airplanes', 'airplanes', 'airplanes', 'airplanes', 'airplanes', 'airplanes', 'airplanes', 'airplanes', 'airplanes', 'airplanes', 'airplanes', 'airplanes', 'airplanes', 'airplanes', 'airplanes', 'airplanes', 'airplanes', 'airplanes', 'airplanes', 'airplanes', 'airplanes', 'airplanes', 'airplanes', 'airplanes', 'airplanes', 'airplanes', 'airplanes', 'airplanes', 'airplanes', 'airplanes', 'airplanes', 'airplanes', 'airplanes', 'airplanes', 'airplanes', 'airplanes', 'airplanes', 'airplanes', 'airplanes', 'airplanes', 'airplanes', 'airplanes', 'airplanes', 'airplanes', 'airplanes', 'airplanes', 'airplanes', 'airplanes', 'airplanes', 'airplanes', 'airplanes', 'airplanes', 'airplanes', 'airplanes', 'airplanes', 'airplanes', 'airplanes', 'airplanes', 'airplanes', 'airplanes', 'airplanes', 'airplanes', 'airplanes', 'airplanes', 'airplanes', 'airplanes', 'airplanes', 'airplanes', 'airplanes', 'airplanes', 'airplanes', 'airplanes', 'airplanes', 'airplanes', 'airplanes', 'airplanes', 'airplanes', 'airplanes', 'airplanes', 'airplanes', 'airplanes', 'airplanes', 'airplanes', 'airplanes', 'airplanes', 'butterfly']\n",
        "img matrix"
       ]
      },
      {
       "output_type": "stream",
       "stream": "stdout",
       "text": [
        " [[149 177  77]\n",
        " [157 184  87]\n",
        " [152 179  82]\n",
        " ..., \n",
        " [ 66  78  58]\n",
        " [ 68  81  61]\n",
        " [ 70  83  63]]\n",
        "122 122\n",
        "['airplanes', 'airplanes', 'airplanes', 'airplanes', 'airplanes', 'airplanes', 'airplanes', 'airplanes', 'airplanes', 'airplanes', 'airplanes', 'airplanes', 'airplanes', 'airplanes', 'airplanes', 'airplanes', 'airplanes', 'airplanes', 'airplanes', 'airplanes', 'airplanes', 'airplanes', 'airplanes', 'airplanes', 'airplanes', 'airplanes', 'airplanes', 'airplanes', 'airplanes', 'airplanes', 'airplanes', 'airplanes', 'airplanes', 'airplanes', 'airplanes', 'airplanes', 'airplanes', 'airplanes', 'airplanes', 'airplanes', 'airplanes', 'airplanes', 'airplanes', 'airplanes', 'airplanes', 'airplanes', 'airplanes', 'airplanes', 'airplanes', 'airplanes', 'airplanes', 'airplanes', 'airplanes', 'airplanes', 'airplanes', 'airplanes', 'airplanes', 'airplanes', 'airplanes', 'airplanes', 'airplanes', 'airplanes', 'airplanes', 'airplanes', 'airplanes', 'airplanes', 'airplanes', 'airplanes', 'airplanes', 'airplanes', 'airplanes', 'airplanes', 'airplanes', 'airplanes', 'airplanes', 'airplanes', 'airplanes', 'airplanes', 'airplanes', 'airplanes', 'airplanes', 'airplanes', 'airplanes', 'airplanes', 'airplanes', 'airplanes', 'airplanes', 'airplanes', 'airplanes', 'airplanes', 'airplanes', 'airplanes', 'airplanes', 'airplanes', 'airplanes', 'airplanes', 'airplanes', 'airplanes', 'airplanes', 'airplanes', 'airplanes', 'airplanes', 'airplanes', 'airplanes', 'airplanes', 'airplanes', 'airplanes', 'airplanes', 'airplanes', 'airplanes', 'airplanes', 'airplanes', 'airplanes', 'airplanes', 'airplanes', 'airplanes', 'airplanes', 'airplanes', 'airplanes', 'airplanes', 'butterfly', 'butterfly']\n",
        "img matrix"
       ]
      },
      {
       "output_type": "stream",
       "stream": "stdout",
       "text": [
        " [[255 255 255]\n",
        " [255 255 255]\n",
        " [255 255 255]\n",
        " ..., \n",
        " [232 233 235]\n",
        " [232 233 235]\n",
        " [232 233 235]]\n",
        "123 123\n",
        "['airplanes', 'airplanes', 'airplanes', 'airplanes', 'airplanes', 'airplanes', 'airplanes', 'airplanes', 'airplanes', 'airplanes', 'airplanes', 'airplanes', 'airplanes', 'airplanes', 'airplanes', 'airplanes', 'airplanes', 'airplanes', 'airplanes', 'airplanes', 'airplanes', 'airplanes', 'airplanes', 'airplanes', 'airplanes', 'airplanes', 'airplanes', 'airplanes', 'airplanes', 'airplanes', 'airplanes', 'airplanes', 'airplanes', 'airplanes', 'airplanes', 'airplanes', 'airplanes', 'airplanes', 'airplanes', 'airplanes', 'airplanes', 'airplanes', 'airplanes', 'airplanes', 'airplanes', 'airplanes', 'airplanes', 'airplanes', 'airplanes', 'airplanes', 'airplanes', 'airplanes', 'airplanes', 'airplanes', 'airplanes', 'airplanes', 'airplanes', 'airplanes', 'airplanes', 'airplanes', 'airplanes', 'airplanes', 'airplanes', 'airplanes', 'airplanes', 'airplanes', 'airplanes', 'airplanes', 'airplanes', 'airplanes', 'airplanes', 'airplanes', 'airplanes', 'airplanes', 'airplanes', 'airplanes', 'airplanes', 'airplanes', 'airplanes', 'airplanes', 'airplanes', 'airplanes', 'airplanes', 'airplanes', 'airplanes', 'airplanes', 'airplanes', 'airplanes', 'airplanes', 'airplanes', 'airplanes', 'airplanes', 'airplanes', 'airplanes', 'airplanes', 'airplanes', 'airplanes', 'airplanes', 'airplanes', 'airplanes', 'airplanes', 'airplanes', 'airplanes', 'airplanes', 'airplanes', 'airplanes', 'airplanes', 'airplanes', 'airplanes', 'airplanes', 'airplanes', 'airplanes', 'airplanes', 'airplanes', 'airplanes', 'airplanes', 'airplanes', 'airplanes', 'airplanes', 'airplanes', 'butterfly', 'butterfly', 'butterfly']\n",
        "img matrix"
       ]
      },
      {
       "output_type": "stream",
       "stream": "stdout",
       "text": [
        " [[57 49 46]\n",
        " [57 49 46]\n",
        " [58 48 46]\n",
        " ..., \n",
        " [70 82 44]\n",
        " [71 83 45]\n",
        " [72 84 46]]\n",
        "124 124\n",
        "['airplanes', 'airplanes', 'airplanes', 'airplanes', 'airplanes', 'airplanes', 'airplanes', 'airplanes', 'airplanes', 'airplanes', 'airplanes', 'airplanes', 'airplanes', 'airplanes', 'airplanes', 'airplanes', 'airplanes', 'airplanes', 'airplanes', 'airplanes', 'airplanes', 'airplanes', 'airplanes', 'airplanes', 'airplanes', 'airplanes', 'airplanes', 'airplanes', 'airplanes', 'airplanes', 'airplanes', 'airplanes', 'airplanes', 'airplanes', 'airplanes', 'airplanes', 'airplanes', 'airplanes', 'airplanes', 'airplanes', 'airplanes', 'airplanes', 'airplanes', 'airplanes', 'airplanes', 'airplanes', 'airplanes', 'airplanes', 'airplanes', 'airplanes', 'airplanes', 'airplanes', 'airplanes', 'airplanes', 'airplanes', 'airplanes', 'airplanes', 'airplanes', 'airplanes', 'airplanes', 'airplanes', 'airplanes', 'airplanes', 'airplanes', 'airplanes', 'airplanes', 'airplanes', 'airplanes', 'airplanes', 'airplanes', 'airplanes', 'airplanes', 'airplanes', 'airplanes', 'airplanes', 'airplanes', 'airplanes', 'airplanes', 'airplanes', 'airplanes', 'airplanes', 'airplanes', 'airplanes', 'airplanes', 'airplanes', 'airplanes', 'airplanes', 'airplanes', 'airplanes', 'airplanes', 'airplanes', 'airplanes', 'airplanes', 'airplanes', 'airplanes', 'airplanes', 'airplanes', 'airplanes', 'airplanes', 'airplanes', 'airplanes', 'airplanes', 'airplanes', 'airplanes', 'airplanes', 'airplanes', 'airplanes', 'airplanes', 'airplanes', 'airplanes', 'airplanes', 'airplanes', 'airplanes', 'airplanes', 'airplanes', 'airplanes', 'airplanes', 'airplanes', 'airplanes', 'airplanes', 'butterfly', 'butterfly', 'butterfly', 'butterfly']\n",
        "img matrix"
       ]
      },
      {
       "output_type": "stream",
       "stream": "stdout",
       "text": [
        " [[255 255 255]\n",
        " [255 255 255]\n",
        " [255 255 255]\n",
        " ..., \n",
        " [255 255 255]\n",
        " [255 255 255]\n",
        " [255 255 255]]\n",
        "125 125\n",
        "['airplanes', 'airplanes', 'airplanes', 'airplanes', 'airplanes', 'airplanes', 'airplanes', 'airplanes', 'airplanes', 'airplanes', 'airplanes', 'airplanes', 'airplanes', 'airplanes', 'airplanes', 'airplanes', 'airplanes', 'airplanes', 'airplanes', 'airplanes', 'airplanes', 'airplanes', 'airplanes', 'airplanes', 'airplanes', 'airplanes', 'airplanes', 'airplanes', 'airplanes', 'airplanes', 'airplanes', 'airplanes', 'airplanes', 'airplanes', 'airplanes', 'airplanes', 'airplanes', 'airplanes', 'airplanes', 'airplanes', 'airplanes', 'airplanes', 'airplanes', 'airplanes', 'airplanes', 'airplanes', 'airplanes', 'airplanes', 'airplanes', 'airplanes', 'airplanes', 'airplanes', 'airplanes', 'airplanes', 'airplanes', 'airplanes', 'airplanes', 'airplanes', 'airplanes', 'airplanes', 'airplanes', 'airplanes', 'airplanes', 'airplanes', 'airplanes', 'airplanes', 'airplanes', 'airplanes', 'airplanes', 'airplanes', 'airplanes', 'airplanes', 'airplanes', 'airplanes', 'airplanes', 'airplanes', 'airplanes', 'airplanes', 'airplanes', 'airplanes', 'airplanes', 'airplanes', 'airplanes', 'airplanes', 'airplanes', 'airplanes', 'airplanes', 'airplanes', 'airplanes', 'airplanes', 'airplanes', 'airplanes', 'airplanes', 'airplanes', 'airplanes', 'airplanes', 'airplanes', 'airplanes', 'airplanes', 'airplanes', 'airplanes', 'airplanes', 'airplanes', 'airplanes', 'airplanes', 'airplanes', 'airplanes', 'airplanes', 'airplanes', 'airplanes', 'airplanes', 'airplanes', 'airplanes', 'airplanes', 'airplanes', 'airplanes', 'airplanes', 'airplanes', 'airplanes', 'airplanes', 'butterfly', 'butterfly', 'butterfly', 'butterfly', 'butterfly']\n",
        "img matrix"
       ]
      },
      {
       "output_type": "stream",
       "stream": "stdout",
       "text": [
        " [[0 0 0]\n",
        " [0 0 0]\n",
        " [0 0 0]\n",
        " ..., \n",
        " [0 0 0]\n",
        " [0 0 0]\n",
        " [0 0 0]]\n",
        "126 126\n",
        "['airplanes', 'airplanes', 'airplanes', 'airplanes', 'airplanes', 'airplanes', 'airplanes', 'airplanes', 'airplanes', 'airplanes', 'airplanes', 'airplanes', 'airplanes', 'airplanes', 'airplanes', 'airplanes', 'airplanes', 'airplanes', 'airplanes', 'airplanes', 'airplanes', 'airplanes', 'airplanes', 'airplanes', 'airplanes', 'airplanes', 'airplanes', 'airplanes', 'airplanes', 'airplanes', 'airplanes', 'airplanes', 'airplanes', 'airplanes', 'airplanes', 'airplanes', 'airplanes', 'airplanes', 'airplanes', 'airplanes', 'airplanes', 'airplanes', 'airplanes', 'airplanes', 'airplanes', 'airplanes', 'airplanes', 'airplanes', 'airplanes', 'airplanes', 'airplanes', 'airplanes', 'airplanes', 'airplanes', 'airplanes', 'airplanes', 'airplanes', 'airplanes', 'airplanes', 'airplanes', 'airplanes', 'airplanes', 'airplanes', 'airplanes', 'airplanes', 'airplanes', 'airplanes', 'airplanes', 'airplanes', 'airplanes', 'airplanes', 'airplanes', 'airplanes', 'airplanes', 'airplanes', 'airplanes', 'airplanes', 'airplanes', 'airplanes', 'airplanes', 'airplanes', 'airplanes', 'airplanes', 'airplanes', 'airplanes', 'airplanes', 'airplanes', 'airplanes', 'airplanes', 'airplanes', 'airplanes', 'airplanes', 'airplanes', 'airplanes', 'airplanes', 'airplanes', 'airplanes', 'airplanes', 'airplanes', 'airplanes', 'airplanes', 'airplanes', 'airplanes', 'airplanes', 'airplanes', 'airplanes', 'airplanes', 'airplanes', 'airplanes', 'airplanes', 'airplanes', 'airplanes', 'airplanes', 'airplanes', 'airplanes', 'airplanes', 'airplanes', 'airplanes', 'airplanes', 'airplanes', 'butterfly', 'butterfly', 'butterfly', 'butterfly', 'butterfly', 'butterfly']\n",
        "img matrix"
       ]
      },
      {
       "output_type": "stream",
       "stream": "stdout",
       "text": [
        " [[0 0 0]\n",
        " [0 0 0]\n",
        " [0 0 0]\n",
        " ..., \n",
        " [0 0 0]\n",
        " [0 0 0]\n",
        " [0 0 0]]\n",
        "127 127\n",
        "['airplanes', 'airplanes', 'airplanes', 'airplanes', 'airplanes', 'airplanes', 'airplanes', 'airplanes', 'airplanes', 'airplanes', 'airplanes', 'airplanes', 'airplanes', 'airplanes', 'airplanes', 'airplanes', 'airplanes', 'airplanes', 'airplanes', 'airplanes', 'airplanes', 'airplanes', 'airplanes', 'airplanes', 'airplanes', 'airplanes', 'airplanes', 'airplanes', 'airplanes', 'airplanes', 'airplanes', 'airplanes', 'airplanes', 'airplanes', 'airplanes', 'airplanes', 'airplanes', 'airplanes', 'airplanes', 'airplanes', 'airplanes', 'airplanes', 'airplanes', 'airplanes', 'airplanes', 'airplanes', 'airplanes', 'airplanes', 'airplanes', 'airplanes', 'airplanes', 'airplanes', 'airplanes', 'airplanes', 'airplanes', 'airplanes', 'airplanes', 'airplanes', 'airplanes', 'airplanes', 'airplanes', 'airplanes', 'airplanes', 'airplanes', 'airplanes', 'airplanes', 'airplanes', 'airplanes', 'airplanes', 'airplanes', 'airplanes', 'airplanes', 'airplanes', 'airplanes', 'airplanes', 'airplanes', 'airplanes', 'airplanes', 'airplanes', 'airplanes', 'airplanes', 'airplanes', 'airplanes', 'airplanes', 'airplanes', 'airplanes', 'airplanes', 'airplanes', 'airplanes', 'airplanes', 'airplanes', 'airplanes', 'airplanes', 'airplanes', 'airplanes', 'airplanes', 'airplanes', 'airplanes', 'airplanes', 'airplanes', 'airplanes', 'airplanes', 'airplanes', 'airplanes', 'airplanes', 'airplanes', 'airplanes', 'airplanes', 'airplanes', 'airplanes', 'airplanes', 'airplanes', 'airplanes', 'airplanes', 'airplanes', 'airplanes', 'airplanes', 'airplanes', 'airplanes', 'airplanes', 'butterfly', 'butterfly', 'butterfly', 'butterfly', 'butterfly', 'butterfly', 'butterfly']\n",
        "Sorry. 'int' object is not iterable\n",
        "Had trouble with ../102_Categories/butterfly/image_0009.jpg\n",
        "img matrix"
       ]
      },
      {
       "output_type": "stream",
       "stream": "stdout",
       "text": [
        " [[3 3 0]\n",
        " [3 2 0]\n",
        " [3 2 0]\n",
        " ..., \n",
        " [2 2 0]\n",
        " [2 2 0]\n",
        " [2 3 0]]\n",
        "128 128\n",
        "['airplanes', 'airplanes', 'airplanes', 'airplanes', 'airplanes', 'airplanes', 'airplanes', 'airplanes', 'airplanes', 'airplanes', 'airplanes', 'airplanes', 'airplanes', 'airplanes', 'airplanes', 'airplanes', 'airplanes', 'airplanes', 'airplanes', 'airplanes', 'airplanes', 'airplanes', 'airplanes', 'airplanes', 'airplanes', 'airplanes', 'airplanes', 'airplanes', 'airplanes', 'airplanes', 'airplanes', 'airplanes', 'airplanes', 'airplanes', 'airplanes', 'airplanes', 'airplanes', 'airplanes', 'airplanes', 'airplanes', 'airplanes', 'airplanes', 'airplanes', 'airplanes', 'airplanes', 'airplanes', 'airplanes', 'airplanes', 'airplanes', 'airplanes', 'airplanes', 'airplanes', 'airplanes', 'airplanes', 'airplanes', 'airplanes', 'airplanes', 'airplanes', 'airplanes', 'airplanes', 'airplanes', 'airplanes', 'airplanes', 'airplanes', 'airplanes', 'airplanes', 'airplanes', 'airplanes', 'airplanes', 'airplanes', 'airplanes', 'airplanes', 'airplanes', 'airplanes', 'airplanes', 'airplanes', 'airplanes', 'airplanes', 'airplanes', 'airplanes', 'airplanes', 'airplanes', 'airplanes', 'airplanes', 'airplanes', 'airplanes', 'airplanes', 'airplanes', 'airplanes', 'airplanes', 'airplanes', 'airplanes', 'airplanes', 'airplanes', 'airplanes', 'airplanes', 'airplanes', 'airplanes', 'airplanes', 'airplanes', 'airplanes', 'airplanes', 'airplanes', 'airplanes', 'airplanes', 'airplanes', 'airplanes', 'airplanes', 'airplanes', 'airplanes', 'airplanes', 'airplanes', 'airplanes', 'airplanes', 'airplanes', 'airplanes', 'airplanes', 'airplanes', 'airplanes', 'airplanes', 'butterfly', 'butterfly', 'butterfly', 'butterfly', 'butterfly', 'butterfly', 'butterfly', 'butterfly']\n",
        "img matrix"
       ]
      },
      {
       "output_type": "stream",
       "stream": "stdout",
       "text": [
        " [[72 73 65]\n",
        " [74 75 67]\n",
        " [76 77 69]\n",
        " ..., \n",
        " [91 90 88]\n",
        " [92 91 89]\n",
        " [92 91 89]]\n",
        "129 129\n",
        "['airplanes', 'airplanes', 'airplanes', 'airplanes', 'airplanes', 'airplanes', 'airplanes', 'airplanes', 'airplanes', 'airplanes', 'airplanes', 'airplanes', 'airplanes', 'airplanes', 'airplanes', 'airplanes', 'airplanes', 'airplanes', 'airplanes', 'airplanes', 'airplanes', 'airplanes', 'airplanes', 'airplanes', 'airplanes', 'airplanes', 'airplanes', 'airplanes', 'airplanes', 'airplanes', 'airplanes', 'airplanes', 'airplanes', 'airplanes', 'airplanes', 'airplanes', 'airplanes', 'airplanes', 'airplanes', 'airplanes', 'airplanes', 'airplanes', 'airplanes', 'airplanes', 'airplanes', 'airplanes', 'airplanes', 'airplanes', 'airplanes', 'airplanes', 'airplanes', 'airplanes', 'airplanes', 'airplanes', 'airplanes', 'airplanes', 'airplanes', 'airplanes', 'airplanes', 'airplanes', 'airplanes', 'airplanes', 'airplanes', 'airplanes', 'airplanes', 'airplanes', 'airplanes', 'airplanes', 'airplanes', 'airplanes', 'airplanes', 'airplanes', 'airplanes', 'airplanes', 'airplanes', 'airplanes', 'airplanes', 'airplanes', 'airplanes', 'airplanes', 'airplanes', 'airplanes', 'airplanes', 'airplanes', 'airplanes', 'airplanes', 'airplanes', 'airplanes', 'airplanes', 'airplanes', 'airplanes', 'airplanes', 'airplanes', 'airplanes', 'airplanes', 'airplanes', 'airplanes', 'airplanes', 'airplanes', 'airplanes', 'airplanes', 'airplanes', 'airplanes', 'airplanes', 'airplanes', 'airplanes', 'airplanes', 'airplanes', 'airplanes', 'airplanes', 'airplanes', 'airplanes', 'airplanes', 'airplanes', 'airplanes', 'airplanes', 'airplanes', 'airplanes', 'airplanes', 'airplanes', 'butterfly', 'butterfly', 'butterfly', 'butterfly', 'butterfly', 'butterfly', 'butterfly', 'butterfly', 'butterfly']\n",
        "img matrix"
       ]
      },
      {
       "output_type": "stream",
       "stream": "stdout",
       "text": [
        " [[ 33   4   8]\n",
        " [ 30   1   5]\n",
        " [ 28   0   3]\n",
        " ..., \n",
        " [135  91  88]\n",
        " [133  89  88]\n",
        " [130  89  87]]\n",
        "130 130\n",
        "['airplanes', 'airplanes', 'airplanes', 'airplanes', 'airplanes', 'airplanes', 'airplanes', 'airplanes', 'airplanes', 'airplanes', 'airplanes', 'airplanes', 'airplanes', 'airplanes', 'airplanes', 'airplanes', 'airplanes', 'airplanes', 'airplanes', 'airplanes', 'airplanes', 'airplanes', 'airplanes', 'airplanes', 'airplanes', 'airplanes', 'airplanes', 'airplanes', 'airplanes', 'airplanes', 'airplanes', 'airplanes', 'airplanes', 'airplanes', 'airplanes', 'airplanes', 'airplanes', 'airplanes', 'airplanes', 'airplanes', 'airplanes', 'airplanes', 'airplanes', 'airplanes', 'airplanes', 'airplanes', 'airplanes', 'airplanes', 'airplanes', 'airplanes', 'airplanes', 'airplanes', 'airplanes', 'airplanes', 'airplanes', 'airplanes', 'airplanes', 'airplanes', 'airplanes', 'airplanes', 'airplanes', 'airplanes', 'airplanes', 'airplanes', 'airplanes', 'airplanes', 'airplanes', 'airplanes', 'airplanes', 'airplanes', 'airplanes', 'airplanes', 'airplanes', 'airplanes', 'airplanes', 'airplanes', 'airplanes', 'airplanes', 'airplanes', 'airplanes', 'airplanes', 'airplanes', 'airplanes', 'airplanes', 'airplanes', 'airplanes', 'airplanes', 'airplanes', 'airplanes', 'airplanes', 'airplanes', 'airplanes', 'airplanes', 'airplanes', 'airplanes', 'airplanes', 'airplanes', 'airplanes', 'airplanes', 'airplanes', 'airplanes', 'airplanes', 'airplanes', 'airplanes', 'airplanes', 'airplanes', 'airplanes', 'airplanes', 'airplanes', 'airplanes', 'airplanes', 'airplanes', 'airplanes', 'airplanes', 'airplanes', 'airplanes', 'airplanes', 'airplanes', 'airplanes', 'airplanes', 'butterfly', 'butterfly', 'butterfly', 'butterfly', 'butterfly', 'butterfly', 'butterfly', 'butterfly', 'butterfly', 'butterfly']\n",
        "img matrix"
       ]
      },
      {
       "output_type": "stream",
       "stream": "stdout",
       "text": [
        " [[67 65 66]\n",
        " [67 65 66]\n",
        " [65 61 62]\n",
        " ..., \n",
        " [41 25 35]\n",
        " [58 45 54]\n",
        " [75 62 71]]\n",
        "131 131\n",
        "['airplanes', 'airplanes', 'airplanes', 'airplanes', 'airplanes', 'airplanes', 'airplanes', 'airplanes', 'airplanes', 'airplanes', 'airplanes', 'airplanes', 'airplanes', 'airplanes', 'airplanes', 'airplanes', 'airplanes', 'airplanes', 'airplanes', 'airplanes', 'airplanes', 'airplanes', 'airplanes', 'airplanes', 'airplanes', 'airplanes', 'airplanes', 'airplanes', 'airplanes', 'airplanes', 'airplanes', 'airplanes', 'airplanes', 'airplanes', 'airplanes', 'airplanes', 'airplanes', 'airplanes', 'airplanes', 'airplanes', 'airplanes', 'airplanes', 'airplanes', 'airplanes', 'airplanes', 'airplanes', 'airplanes', 'airplanes', 'airplanes', 'airplanes', 'airplanes', 'airplanes', 'airplanes', 'airplanes', 'airplanes', 'airplanes', 'airplanes', 'airplanes', 'airplanes', 'airplanes', 'airplanes', 'airplanes', 'airplanes', 'airplanes', 'airplanes', 'airplanes', 'airplanes', 'airplanes', 'airplanes', 'airplanes', 'airplanes', 'airplanes', 'airplanes', 'airplanes', 'airplanes', 'airplanes', 'airplanes', 'airplanes', 'airplanes', 'airplanes', 'airplanes', 'airplanes', 'airplanes', 'airplanes', 'airplanes', 'airplanes', 'airplanes', 'airplanes', 'airplanes', 'airplanes', 'airplanes', 'airplanes', 'airplanes', 'airplanes', 'airplanes', 'airplanes', 'airplanes', 'airplanes', 'airplanes', 'airplanes', 'airplanes', 'airplanes', 'airplanes', 'airplanes', 'airplanes', 'airplanes', 'airplanes', 'airplanes', 'airplanes', 'airplanes', 'airplanes', 'airplanes', 'airplanes', 'airplanes', 'airplanes', 'airplanes', 'airplanes', 'airplanes', 'airplanes', 'airplanes', 'butterfly', 'butterfly', 'butterfly', 'butterfly', 'butterfly', 'butterfly', 'butterfly', 'butterfly', 'butterfly', 'butterfly', 'butterfly']\n",
        "img matrix"
       ]
      },
      {
       "output_type": "stream",
       "stream": "stdout",
       "text": [
        " [[ 13  21  23]\n",
        " [ 15  23  25]\n",
        " [ 17  25  27]\n",
        " ..., \n",
        " [237 237 237]\n",
        " [248 248 248]\n",
        " [251 251 251]]\n",
        "132 132\n",
        "['airplanes', 'airplanes', 'airplanes', 'airplanes', 'airplanes', 'airplanes', 'airplanes', 'airplanes', 'airplanes', 'airplanes', 'airplanes', 'airplanes', 'airplanes', 'airplanes', 'airplanes', 'airplanes', 'airplanes', 'airplanes', 'airplanes', 'airplanes', 'airplanes', 'airplanes', 'airplanes', 'airplanes', 'airplanes', 'airplanes', 'airplanes', 'airplanes', 'airplanes', 'airplanes', 'airplanes', 'airplanes', 'airplanes', 'airplanes', 'airplanes', 'airplanes', 'airplanes', 'airplanes', 'airplanes', 'airplanes', 'airplanes', 'airplanes', 'airplanes', 'airplanes', 'airplanes', 'airplanes', 'airplanes', 'airplanes', 'airplanes', 'airplanes', 'airplanes', 'airplanes', 'airplanes', 'airplanes', 'airplanes', 'airplanes', 'airplanes', 'airplanes', 'airplanes', 'airplanes', 'airplanes', 'airplanes', 'airplanes', 'airplanes', 'airplanes', 'airplanes', 'airplanes', 'airplanes', 'airplanes', 'airplanes', 'airplanes', 'airplanes', 'airplanes', 'airplanes', 'airplanes', 'airplanes', 'airplanes', 'airplanes', 'airplanes', 'airplanes', 'airplanes', 'airplanes', 'airplanes', 'airplanes', 'airplanes', 'airplanes', 'airplanes', 'airplanes', 'airplanes', 'airplanes', 'airplanes', 'airplanes', 'airplanes', 'airplanes', 'airplanes', 'airplanes', 'airplanes', 'airplanes', 'airplanes', 'airplanes', 'airplanes', 'airplanes', 'airplanes', 'airplanes', 'airplanes', 'airplanes', 'airplanes', 'airplanes', 'airplanes', 'airplanes', 'airplanes', 'airplanes', 'airplanes', 'airplanes', 'airplanes', 'airplanes', 'airplanes', 'airplanes', 'airplanes', 'airplanes', 'butterfly', 'butterfly', 'butterfly', 'butterfly', 'butterfly', 'butterfly', 'butterfly', 'butterfly', 'butterfly', 'butterfly', 'butterfly', 'butterfly']\n",
        "img matrix"
       ]
      },
      {
       "output_type": "stream",
       "stream": "stdout",
       "text": [
        " [[ 33  48  55]\n",
        " [ 33  48  55]\n",
        " [ 32  47  54]\n",
        " ..., \n",
        " [ 82 111 125]\n",
        " [ 82 111 125]\n",
        " [ 81 110 124]]\n",
        "133 133\n",
        "['airplanes', 'airplanes', 'airplanes', 'airplanes', 'airplanes', 'airplanes', 'airplanes', 'airplanes', 'airplanes', 'airplanes', 'airplanes', 'airplanes', 'airplanes', 'airplanes', 'airplanes', 'airplanes', 'airplanes', 'airplanes', 'airplanes', 'airplanes', 'airplanes', 'airplanes', 'airplanes', 'airplanes', 'airplanes', 'airplanes', 'airplanes', 'airplanes', 'airplanes', 'airplanes', 'airplanes', 'airplanes', 'airplanes', 'airplanes', 'airplanes', 'airplanes', 'airplanes', 'airplanes', 'airplanes', 'airplanes', 'airplanes', 'airplanes', 'airplanes', 'airplanes', 'airplanes', 'airplanes', 'airplanes', 'airplanes', 'airplanes', 'airplanes', 'airplanes', 'airplanes', 'airplanes', 'airplanes', 'airplanes', 'airplanes', 'airplanes', 'airplanes', 'airplanes', 'airplanes', 'airplanes', 'airplanes', 'airplanes', 'airplanes', 'airplanes', 'airplanes', 'airplanes', 'airplanes', 'airplanes', 'airplanes', 'airplanes', 'airplanes', 'airplanes', 'airplanes', 'airplanes', 'airplanes', 'airplanes', 'airplanes', 'airplanes', 'airplanes', 'airplanes', 'airplanes', 'airplanes', 'airplanes', 'airplanes', 'airplanes', 'airplanes', 'airplanes', 'airplanes', 'airplanes', 'airplanes', 'airplanes', 'airplanes', 'airplanes', 'airplanes', 'airplanes', 'airplanes', 'airplanes', 'airplanes', 'airplanes', 'airplanes', 'airplanes', 'airplanes', 'airplanes', 'airplanes', 'airplanes', 'airplanes', 'airplanes', 'airplanes', 'airplanes', 'airplanes', 'airplanes', 'airplanes', 'airplanes', 'airplanes', 'airplanes', 'airplanes', 'airplanes', 'airplanes', 'airplanes', 'butterfly', 'butterfly', 'butterfly', 'butterfly', 'butterfly', 'butterfly', 'butterfly', 'butterfly', 'butterfly', 'butterfly', 'butterfly', 'butterfly', 'butterfly']\n",
        "img matrix"
       ]
      },
      {
       "output_type": "stream",
       "stream": "stdout",
       "text": [
        " [[112 140 115]\n",
        " [112 140 115]\n",
        " [111 139 114]\n",
        " ..., \n",
        " [120 162 158]\n",
        " [117 159 155]\n",
        " [116 158 154]]\n",
        "134 134\n",
        "['airplanes', 'airplanes', 'airplanes', 'airplanes', 'airplanes', 'airplanes', 'airplanes', 'airplanes', 'airplanes', 'airplanes', 'airplanes', 'airplanes', 'airplanes', 'airplanes', 'airplanes', 'airplanes', 'airplanes', 'airplanes', 'airplanes', 'airplanes', 'airplanes', 'airplanes', 'airplanes', 'airplanes', 'airplanes', 'airplanes', 'airplanes', 'airplanes', 'airplanes', 'airplanes', 'airplanes', 'airplanes', 'airplanes', 'airplanes', 'airplanes', 'airplanes', 'airplanes', 'airplanes', 'airplanes', 'airplanes', 'airplanes', 'airplanes', 'airplanes', 'airplanes', 'airplanes', 'airplanes', 'airplanes', 'airplanes', 'airplanes', 'airplanes', 'airplanes', 'airplanes', 'airplanes', 'airplanes', 'airplanes', 'airplanes', 'airplanes', 'airplanes', 'airplanes', 'airplanes', 'airplanes', 'airplanes', 'airplanes', 'airplanes', 'airplanes', 'airplanes', 'airplanes', 'airplanes', 'airplanes', 'airplanes', 'airplanes', 'airplanes', 'airplanes', 'airplanes', 'airplanes', 'airplanes', 'airplanes', 'airplanes', 'airplanes', 'airplanes', 'airplanes', 'airplanes', 'airplanes', 'airplanes', 'airplanes', 'airplanes', 'airplanes', 'airplanes', 'airplanes', 'airplanes', 'airplanes', 'airplanes', 'airplanes', 'airplanes', 'airplanes', 'airplanes', 'airplanes', 'airplanes', 'airplanes', 'airplanes', 'airplanes', 'airplanes', 'airplanes', 'airplanes', 'airplanes', 'airplanes', 'airplanes', 'airplanes', 'airplanes', 'airplanes', 'airplanes', 'airplanes', 'airplanes', 'airplanes', 'airplanes', 'airplanes', 'airplanes', 'airplanes', 'airplanes', 'airplanes', 'butterfly', 'butterfly', 'butterfly', 'butterfly', 'butterfly', 'butterfly', 'butterfly', 'butterfly', 'butterfly', 'butterfly', 'butterfly', 'butterfly', 'butterfly', 'butterfly']\n",
        "img matrix"
       ]
      },
      {
       "output_type": "stream",
       "stream": "stdout",
       "text": [
        " [[255 255 255]\n",
        " [255 255 255]\n",
        " [255 255 255]\n",
        " ..., \n",
        " [255 255 255]\n",
        " [255 255 255]\n",
        " [255 255 255]]\n",
        "135 135\n",
        "['airplanes', 'airplanes', 'airplanes', 'airplanes', 'airplanes', 'airplanes', 'airplanes', 'airplanes', 'airplanes', 'airplanes', 'airplanes', 'airplanes', 'airplanes', 'airplanes', 'airplanes', 'airplanes', 'airplanes', 'airplanes', 'airplanes', 'airplanes', 'airplanes', 'airplanes', 'airplanes', 'airplanes', 'airplanes', 'airplanes', 'airplanes', 'airplanes', 'airplanes', 'airplanes', 'airplanes', 'airplanes', 'airplanes', 'airplanes', 'airplanes', 'airplanes', 'airplanes', 'airplanes', 'airplanes', 'airplanes', 'airplanes', 'airplanes', 'airplanes', 'airplanes', 'airplanes', 'airplanes', 'airplanes', 'airplanes', 'airplanes', 'airplanes', 'airplanes', 'airplanes', 'airplanes', 'airplanes', 'airplanes', 'airplanes', 'airplanes', 'airplanes', 'airplanes', 'airplanes', 'airplanes', 'airplanes', 'airplanes', 'airplanes', 'airplanes', 'airplanes', 'airplanes', 'airplanes', 'airplanes', 'airplanes', 'airplanes', 'airplanes', 'airplanes', 'airplanes', 'airplanes', 'airplanes', 'airplanes', 'airplanes', 'airplanes', 'airplanes', 'airplanes', 'airplanes', 'airplanes', 'airplanes', 'airplanes', 'airplanes', 'airplanes', 'airplanes', 'airplanes', 'airplanes', 'airplanes', 'airplanes', 'airplanes', 'airplanes', 'airplanes', 'airplanes', 'airplanes', 'airplanes', 'airplanes', 'airplanes', 'airplanes', 'airplanes', 'airplanes', 'airplanes', 'airplanes', 'airplanes', 'airplanes', 'airplanes', 'airplanes', 'airplanes', 'airplanes', 'airplanes', 'airplanes', 'airplanes', 'airplanes', 'airplanes', 'airplanes', 'airplanes', 'airplanes', 'airplanes', 'butterfly', 'butterfly', 'butterfly', 'butterfly', 'butterfly', 'butterfly', 'butterfly', 'butterfly', 'butterfly', 'butterfly', 'butterfly', 'butterfly', 'butterfly', 'butterfly', 'butterfly']\n",
        "img matrix"
       ]
      },
      {
       "output_type": "stream",
       "stream": "stdout",
       "text": [
        " [[248 255 255]\n",
        " [248 255 255]\n",
        " [233 241 254]\n",
        " ..., \n",
        " [240 234 222]\n",
        " [255 254 244]\n",
        " [255 251 242]]\n",
        "136 136\n",
        "['airplanes', 'airplanes', 'airplanes', 'airplanes', 'airplanes', 'airplanes', 'airplanes', 'airplanes', 'airplanes', 'airplanes', 'airplanes', 'airplanes', 'airplanes', 'airplanes', 'airplanes', 'airplanes', 'airplanes', 'airplanes', 'airplanes', 'airplanes', 'airplanes', 'airplanes', 'airplanes', 'airplanes', 'airplanes', 'airplanes', 'airplanes', 'airplanes', 'airplanes', 'airplanes', 'airplanes', 'airplanes', 'airplanes', 'airplanes', 'airplanes', 'airplanes', 'airplanes', 'airplanes', 'airplanes', 'airplanes', 'airplanes', 'airplanes', 'airplanes', 'airplanes', 'airplanes', 'airplanes', 'airplanes', 'airplanes', 'airplanes', 'airplanes', 'airplanes', 'airplanes', 'airplanes', 'airplanes', 'airplanes', 'airplanes', 'airplanes', 'airplanes', 'airplanes', 'airplanes', 'airplanes', 'airplanes', 'airplanes', 'airplanes', 'airplanes', 'airplanes', 'airplanes', 'airplanes', 'airplanes', 'airplanes', 'airplanes', 'airplanes', 'airplanes', 'airplanes', 'airplanes', 'airplanes', 'airplanes', 'airplanes', 'airplanes', 'airplanes', 'airplanes', 'airplanes', 'airplanes', 'airplanes', 'airplanes', 'airplanes', 'airplanes', 'airplanes', 'airplanes', 'airplanes', 'airplanes', 'airplanes', 'airplanes', 'airplanes', 'airplanes', 'airplanes', 'airplanes', 'airplanes', 'airplanes', 'airplanes', 'airplanes', 'airplanes', 'airplanes', 'airplanes', 'airplanes', 'airplanes', 'airplanes', 'airplanes', 'airplanes', 'airplanes', 'airplanes', 'airplanes', 'airplanes', 'airplanes', 'airplanes', 'airplanes', 'airplanes', 'airplanes', 'airplanes', 'airplanes', 'butterfly', 'butterfly', 'butterfly', 'butterfly', 'butterfly', 'butterfly', 'butterfly', 'butterfly', 'butterfly', 'butterfly', 'butterfly', 'butterfly', 'butterfly', 'butterfly', 'butterfly', 'butterfly']\n",
        "img matrix"
       ]
      },
      {
       "output_type": "stream",
       "stream": "stdout",
       "text": [
        " [[241 242 237]\n",
        " [241 242 237]\n",
        " [241 242 237]\n",
        " ..., \n",
        " [249 250 245]\n",
        " [249 250 245]\n",
        " [249 250 245]]\n",
        "137 137\n",
        "['airplanes', 'airplanes', 'airplanes', 'airplanes', 'airplanes', 'airplanes', 'airplanes', 'airplanes', 'airplanes', 'airplanes', 'airplanes', 'airplanes', 'airplanes', 'airplanes', 'airplanes', 'airplanes', 'airplanes', 'airplanes', 'airplanes', 'airplanes', 'airplanes', 'airplanes', 'airplanes', 'airplanes', 'airplanes', 'airplanes', 'airplanes', 'airplanes', 'airplanes', 'airplanes', 'airplanes', 'airplanes', 'airplanes', 'airplanes', 'airplanes', 'airplanes', 'airplanes', 'airplanes', 'airplanes', 'airplanes', 'airplanes', 'airplanes', 'airplanes', 'airplanes', 'airplanes', 'airplanes', 'airplanes', 'airplanes', 'airplanes', 'airplanes', 'airplanes', 'airplanes', 'airplanes', 'airplanes', 'airplanes', 'airplanes', 'airplanes', 'airplanes', 'airplanes', 'airplanes', 'airplanes', 'airplanes', 'airplanes', 'airplanes', 'airplanes', 'airplanes', 'airplanes', 'airplanes', 'airplanes', 'airplanes', 'airplanes', 'airplanes', 'airplanes', 'airplanes', 'airplanes', 'airplanes', 'airplanes', 'airplanes', 'airplanes', 'airplanes', 'airplanes', 'airplanes', 'airplanes', 'airplanes', 'airplanes', 'airplanes', 'airplanes', 'airplanes', 'airplanes', 'airplanes', 'airplanes', 'airplanes', 'airplanes', 'airplanes', 'airplanes', 'airplanes', 'airplanes', 'airplanes', 'airplanes', 'airplanes', 'airplanes', 'airplanes', 'airplanes', 'airplanes', 'airplanes', 'airplanes', 'airplanes', 'airplanes', 'airplanes', 'airplanes', 'airplanes', 'airplanes', 'airplanes', 'airplanes', 'airplanes', 'airplanes', 'airplanes', 'airplanes', 'airplanes', 'airplanes', 'butterfly', 'butterfly', 'butterfly', 'butterfly', 'butterfly', 'butterfly', 'butterfly', 'butterfly', 'butterfly', 'butterfly', 'butterfly', 'butterfly', 'butterfly', 'butterfly', 'butterfly', 'butterfly', 'butterfly']\n",
        "img matrix"
       ]
      },
      {
       "output_type": "stream",
       "stream": "stdout",
       "text": [
        " [[113 163 164]\n",
        " [101 151 152]\n",
        " [135 185 186]\n",
        " ..., \n",
        " [111 156 153]\n",
        " [137 179 177]\n",
        " [ 90 132 130]]\n",
        "138 138\n",
        "['airplanes', 'airplanes', 'airplanes', 'airplanes', 'airplanes', 'airplanes', 'airplanes', 'airplanes', 'airplanes', 'airplanes', 'airplanes', 'airplanes', 'airplanes', 'airplanes', 'airplanes', 'airplanes', 'airplanes', 'airplanes', 'airplanes', 'airplanes', 'airplanes', 'airplanes', 'airplanes', 'airplanes', 'airplanes', 'airplanes', 'airplanes', 'airplanes', 'airplanes', 'airplanes', 'airplanes', 'airplanes', 'airplanes', 'airplanes', 'airplanes', 'airplanes', 'airplanes', 'airplanes', 'airplanes', 'airplanes', 'airplanes', 'airplanes', 'airplanes', 'airplanes', 'airplanes', 'airplanes', 'airplanes', 'airplanes', 'airplanes', 'airplanes', 'airplanes', 'airplanes', 'airplanes', 'airplanes', 'airplanes', 'airplanes', 'airplanes', 'airplanes', 'airplanes', 'airplanes', 'airplanes', 'airplanes', 'airplanes', 'airplanes', 'airplanes', 'airplanes', 'airplanes', 'airplanes', 'airplanes', 'airplanes', 'airplanes', 'airplanes', 'airplanes', 'airplanes', 'airplanes', 'airplanes', 'airplanes', 'airplanes', 'airplanes', 'airplanes', 'airplanes', 'airplanes', 'airplanes', 'airplanes', 'airplanes', 'airplanes', 'airplanes', 'airplanes', 'airplanes', 'airplanes', 'airplanes', 'airplanes', 'airplanes', 'airplanes', 'airplanes', 'airplanes', 'airplanes', 'airplanes', 'airplanes', 'airplanes', 'airplanes', 'airplanes', 'airplanes', 'airplanes', 'airplanes', 'airplanes', 'airplanes', 'airplanes', 'airplanes', 'airplanes', 'airplanes', 'airplanes', 'airplanes', 'airplanes', 'airplanes', 'airplanes', 'airplanes', 'airplanes', 'airplanes', 'airplanes', 'butterfly', 'butterfly', 'butterfly', 'butterfly', 'butterfly', 'butterfly', 'butterfly', 'butterfly', 'butterfly', 'butterfly', 'butterfly', 'butterfly', 'butterfly', 'butterfly', 'butterfly', 'butterfly', 'butterfly', 'butterfly']\n",
        "img matrix"
       ]
      },
      {
       "output_type": "stream",
       "stream": "stdout",
       "text": [
        " [[0 0 0]\n",
        " [0 0 0]\n",
        " [0 0 0]\n",
        " ..., \n",
        " [0 0 0]\n",
        " [0 0 0]\n",
        " [0 0 0]]\n",
        "139 139\n",
        "['airplanes', 'airplanes', 'airplanes', 'airplanes', 'airplanes', 'airplanes', 'airplanes', 'airplanes', 'airplanes', 'airplanes', 'airplanes', 'airplanes', 'airplanes', 'airplanes', 'airplanes', 'airplanes', 'airplanes', 'airplanes', 'airplanes', 'airplanes', 'airplanes', 'airplanes', 'airplanes', 'airplanes', 'airplanes', 'airplanes', 'airplanes', 'airplanes', 'airplanes', 'airplanes', 'airplanes', 'airplanes', 'airplanes', 'airplanes', 'airplanes', 'airplanes', 'airplanes', 'airplanes', 'airplanes', 'airplanes', 'airplanes', 'airplanes', 'airplanes', 'airplanes', 'airplanes', 'airplanes', 'airplanes', 'airplanes', 'airplanes', 'airplanes', 'airplanes', 'airplanes', 'airplanes', 'airplanes', 'airplanes', 'airplanes', 'airplanes', 'airplanes', 'airplanes', 'airplanes', 'airplanes', 'airplanes', 'airplanes', 'airplanes', 'airplanes', 'airplanes', 'airplanes', 'airplanes', 'airplanes', 'airplanes', 'airplanes', 'airplanes', 'airplanes', 'airplanes', 'airplanes', 'airplanes', 'airplanes', 'airplanes', 'airplanes', 'airplanes', 'airplanes', 'airplanes', 'airplanes', 'airplanes', 'airplanes', 'airplanes', 'airplanes', 'airplanes', 'airplanes', 'airplanes', 'airplanes', 'airplanes', 'airplanes', 'airplanes', 'airplanes', 'airplanes', 'airplanes', 'airplanes', 'airplanes', 'airplanes', 'airplanes', 'airplanes', 'airplanes', 'airplanes', 'airplanes', 'airplanes', 'airplanes', 'airplanes', 'airplanes', 'airplanes', 'airplanes', 'airplanes', 'airplanes', 'airplanes', 'airplanes', 'airplanes', 'airplanes', 'airplanes', 'airplanes', 'airplanes', 'butterfly', 'butterfly', 'butterfly', 'butterfly', 'butterfly', 'butterfly', 'butterfly', 'butterfly', 'butterfly', 'butterfly', 'butterfly', 'butterfly', 'butterfly', 'butterfly', 'butterfly', 'butterfly', 'butterfly', 'butterfly', 'butterfly']\n",
        "img matrix"
       ]
      },
      {
       "output_type": "stream",
       "stream": "stdout",
       "text": [
        " [[188 173 114]\n",
        " [200 185 126]\n",
        " [215 203 143]\n",
        " ..., \n",
        " [193 190 109]\n",
        " [193 190 111]\n",
        " [193 190 111]]\n",
        "140 140\n",
        "['airplanes', 'airplanes', 'airplanes', 'airplanes', 'airplanes', 'airplanes', 'airplanes', 'airplanes', 'airplanes', 'airplanes', 'airplanes', 'airplanes', 'airplanes', 'airplanes', 'airplanes', 'airplanes', 'airplanes', 'airplanes', 'airplanes', 'airplanes', 'airplanes', 'airplanes', 'airplanes', 'airplanes', 'airplanes', 'airplanes', 'airplanes', 'airplanes', 'airplanes', 'airplanes', 'airplanes', 'airplanes', 'airplanes', 'airplanes', 'airplanes', 'airplanes', 'airplanes', 'airplanes', 'airplanes', 'airplanes', 'airplanes', 'airplanes', 'airplanes', 'airplanes', 'airplanes', 'airplanes', 'airplanes', 'airplanes', 'airplanes', 'airplanes', 'airplanes', 'airplanes', 'airplanes', 'airplanes', 'airplanes', 'airplanes', 'airplanes', 'airplanes', 'airplanes', 'airplanes', 'airplanes', 'airplanes', 'airplanes', 'airplanes', 'airplanes', 'airplanes', 'airplanes', 'airplanes', 'airplanes', 'airplanes', 'airplanes', 'airplanes', 'airplanes', 'airplanes', 'airplanes', 'airplanes', 'airplanes', 'airplanes', 'airplanes', 'airplanes', 'airplanes', 'airplanes', 'airplanes', 'airplanes', 'airplanes', 'airplanes', 'airplanes', 'airplanes', 'airplanes', 'airplanes', 'airplanes', 'airplanes', 'airplanes', 'airplanes', 'airplanes', 'airplanes', 'airplanes', 'airplanes', 'airplanes', 'airplanes', 'airplanes', 'airplanes', 'airplanes', 'airplanes', 'airplanes', 'airplanes', 'airplanes', 'airplanes', 'airplanes', 'airplanes', 'airplanes', 'airplanes', 'airplanes', 'airplanes', 'airplanes', 'airplanes', 'airplanes', 'airplanes', 'airplanes', 'airplanes', 'butterfly', 'butterfly', 'butterfly', 'butterfly', 'butterfly', 'butterfly', 'butterfly', 'butterfly', 'butterfly', 'butterfly', 'butterfly', 'butterfly', 'butterfly', 'butterfly', 'butterfly', 'butterfly', 'butterfly', 'butterfly', 'butterfly', 'butterfly']\n",
        "img matrix"
       ]
      },
      {
       "output_type": "stream",
       "stream": "stdout",
       "text": [
        " [[ 88  99  59]\n",
        " [ 84  94  57]\n",
        " [ 79  87  50]\n",
        " ..., \n",
        " [ 95  86  69]\n",
        " [195 186 169]\n",
        " [156 145 127]]\n",
        "141 141\n",
        "['airplanes', 'airplanes', 'airplanes', 'airplanes', 'airplanes', 'airplanes', 'airplanes', 'airplanes', 'airplanes', 'airplanes', 'airplanes', 'airplanes', 'airplanes', 'airplanes', 'airplanes', 'airplanes', 'airplanes', 'airplanes', 'airplanes', 'airplanes', 'airplanes', 'airplanes', 'airplanes', 'airplanes', 'airplanes', 'airplanes', 'airplanes', 'airplanes', 'airplanes', 'airplanes', 'airplanes', 'airplanes', 'airplanes', 'airplanes', 'airplanes', 'airplanes', 'airplanes', 'airplanes', 'airplanes', 'airplanes', 'airplanes', 'airplanes', 'airplanes', 'airplanes', 'airplanes', 'airplanes', 'airplanes', 'airplanes', 'airplanes', 'airplanes', 'airplanes', 'airplanes', 'airplanes', 'airplanes', 'airplanes', 'airplanes', 'airplanes', 'airplanes', 'airplanes', 'airplanes', 'airplanes', 'airplanes', 'airplanes', 'airplanes', 'airplanes', 'airplanes', 'airplanes', 'airplanes', 'airplanes', 'airplanes', 'airplanes', 'airplanes', 'airplanes', 'airplanes', 'airplanes', 'airplanes', 'airplanes', 'airplanes', 'airplanes', 'airplanes', 'airplanes', 'airplanes', 'airplanes', 'airplanes', 'airplanes', 'airplanes', 'airplanes', 'airplanes', 'airplanes', 'airplanes', 'airplanes', 'airplanes', 'airplanes', 'airplanes', 'airplanes', 'airplanes', 'airplanes', 'airplanes', 'airplanes', 'airplanes', 'airplanes', 'airplanes', 'airplanes', 'airplanes', 'airplanes', 'airplanes', 'airplanes', 'airplanes', 'airplanes', 'airplanes', 'airplanes', 'airplanes', 'airplanes', 'airplanes', 'airplanes', 'airplanes', 'airplanes', 'airplanes', 'airplanes', 'airplanes', 'butterfly', 'butterfly', 'butterfly', 'butterfly', 'butterfly', 'butterfly', 'butterfly', 'butterfly', 'butterfly', 'butterfly', 'butterfly', 'butterfly', 'butterfly', 'butterfly', 'butterfly', 'butterfly', 'butterfly', 'butterfly', 'butterfly', 'butterfly', 'butterfly']\n",
        "img matrix"
       ]
      },
      {
       "output_type": "stream",
       "stream": "stdout",
       "text": [
        " [[25 25 17]\n",
        " [25 25 17]\n",
        " [25 25 17]\n",
        " ..., \n",
        " [55 67 27]\n",
        " [55 67 27]\n",
        " [55 67 27]]\n",
        "142 142\n",
        "['airplanes', 'airplanes', 'airplanes', 'airplanes', 'airplanes', 'airplanes', 'airplanes', 'airplanes', 'airplanes', 'airplanes', 'airplanes', 'airplanes', 'airplanes', 'airplanes', 'airplanes', 'airplanes', 'airplanes', 'airplanes', 'airplanes', 'airplanes', 'airplanes', 'airplanes', 'airplanes', 'airplanes', 'airplanes', 'airplanes', 'airplanes', 'airplanes', 'airplanes', 'airplanes', 'airplanes', 'airplanes', 'airplanes', 'airplanes', 'airplanes', 'airplanes', 'airplanes', 'airplanes', 'airplanes', 'airplanes', 'airplanes', 'airplanes', 'airplanes', 'airplanes', 'airplanes', 'airplanes', 'airplanes', 'airplanes', 'airplanes', 'airplanes', 'airplanes', 'airplanes', 'airplanes', 'airplanes', 'airplanes', 'airplanes', 'airplanes', 'airplanes', 'airplanes', 'airplanes', 'airplanes', 'airplanes', 'airplanes', 'airplanes', 'airplanes', 'airplanes', 'airplanes', 'airplanes', 'airplanes', 'airplanes', 'airplanes', 'airplanes', 'airplanes', 'airplanes', 'airplanes', 'airplanes', 'airplanes', 'airplanes', 'airplanes', 'airplanes', 'airplanes', 'airplanes', 'airplanes', 'airplanes', 'airplanes', 'airplanes', 'airplanes', 'airplanes', 'airplanes', 'airplanes', 'airplanes', 'airplanes', 'airplanes', 'airplanes', 'airplanes', 'airplanes', 'airplanes', 'airplanes', 'airplanes', 'airplanes', 'airplanes', 'airplanes', 'airplanes', 'airplanes', 'airplanes', 'airplanes', 'airplanes', 'airplanes', 'airplanes', 'airplanes', 'airplanes', 'airplanes', 'airplanes', 'airplanes', 'airplanes', 'airplanes', 'airplanes', 'airplanes', 'airplanes', 'airplanes', 'butterfly', 'butterfly', 'butterfly', 'butterfly', 'butterfly', 'butterfly', 'butterfly', 'butterfly', 'butterfly', 'butterfly', 'butterfly', 'butterfly', 'butterfly', 'butterfly', 'butterfly', 'butterfly', 'butterfly', 'butterfly', 'butterfly', 'butterfly', 'butterfly', 'butterfly']\n",
        "img matrix"
       ]
      },
      {
       "output_type": "stream",
       "stream": "stdout",
       "text": [
        " [[ 86 106  55]\n",
        " [ 86 106  55]\n",
        " [ 85 105  54]\n",
        " ..., \n",
        " [  3   3   3]\n",
        " [  2   0   1]\n",
        " [  2   0   1]]\n",
        "143 143\n",
        "['airplanes', 'airplanes', 'airplanes', 'airplanes', 'airplanes', 'airplanes', 'airplanes', 'airplanes', 'airplanes', 'airplanes', 'airplanes', 'airplanes', 'airplanes', 'airplanes', 'airplanes', 'airplanes', 'airplanes', 'airplanes', 'airplanes', 'airplanes', 'airplanes', 'airplanes', 'airplanes', 'airplanes', 'airplanes', 'airplanes', 'airplanes', 'airplanes', 'airplanes', 'airplanes', 'airplanes', 'airplanes', 'airplanes', 'airplanes', 'airplanes', 'airplanes', 'airplanes', 'airplanes', 'airplanes', 'airplanes', 'airplanes', 'airplanes', 'airplanes', 'airplanes', 'airplanes', 'airplanes', 'airplanes', 'airplanes', 'airplanes', 'airplanes', 'airplanes', 'airplanes', 'airplanes', 'airplanes', 'airplanes', 'airplanes', 'airplanes', 'airplanes', 'airplanes', 'airplanes', 'airplanes', 'airplanes', 'airplanes', 'airplanes', 'airplanes', 'airplanes', 'airplanes', 'airplanes', 'airplanes', 'airplanes', 'airplanes', 'airplanes', 'airplanes', 'airplanes', 'airplanes', 'airplanes', 'airplanes', 'airplanes', 'airplanes', 'airplanes', 'airplanes', 'airplanes', 'airplanes', 'airplanes', 'airplanes', 'airplanes', 'airplanes', 'airplanes', 'airplanes', 'airplanes', 'airplanes', 'airplanes', 'airplanes', 'airplanes', 'airplanes', 'airplanes', 'airplanes', 'airplanes', 'airplanes', 'airplanes', 'airplanes', 'airplanes', 'airplanes', 'airplanes', 'airplanes', 'airplanes', 'airplanes', 'airplanes', 'airplanes', 'airplanes', 'airplanes', 'airplanes', 'airplanes', 'airplanes', 'airplanes', 'airplanes', 'airplanes', 'airplanes', 'airplanes', 'airplanes', 'butterfly', 'butterfly', 'butterfly', 'butterfly', 'butterfly', 'butterfly', 'butterfly', 'butterfly', 'butterfly', 'butterfly', 'butterfly', 'butterfly', 'butterfly', 'butterfly', 'butterfly', 'butterfly', 'butterfly', 'butterfly', 'butterfly', 'butterfly', 'butterfly', 'butterfly', 'butterfly']\n",
        "img matrix"
       ]
      },
      {
       "output_type": "stream",
       "stream": "stdout",
       "text": [
        " [[99 88 58]\n",
        " [99 88 58]\n",
        " [90 79 49]\n",
        " ..., \n",
        " [48 39 34]\n",
        " [51 42 37]\n",
        " [55 44 40]]\n",
        "144 144\n",
        "['airplanes', 'airplanes', 'airplanes', 'airplanes', 'airplanes', 'airplanes', 'airplanes', 'airplanes', 'airplanes', 'airplanes', 'airplanes', 'airplanes', 'airplanes', 'airplanes', 'airplanes', 'airplanes', 'airplanes', 'airplanes', 'airplanes', 'airplanes', 'airplanes', 'airplanes', 'airplanes', 'airplanes', 'airplanes', 'airplanes', 'airplanes', 'airplanes', 'airplanes', 'airplanes', 'airplanes', 'airplanes', 'airplanes', 'airplanes', 'airplanes', 'airplanes', 'airplanes', 'airplanes', 'airplanes', 'airplanes', 'airplanes', 'airplanes', 'airplanes', 'airplanes', 'airplanes', 'airplanes', 'airplanes', 'airplanes', 'airplanes', 'airplanes', 'airplanes', 'airplanes', 'airplanes', 'airplanes', 'airplanes', 'airplanes', 'airplanes', 'airplanes', 'airplanes', 'airplanes', 'airplanes', 'airplanes', 'airplanes', 'airplanes', 'airplanes', 'airplanes', 'airplanes', 'airplanes', 'airplanes', 'airplanes', 'airplanes', 'airplanes', 'airplanes', 'airplanes', 'airplanes', 'airplanes', 'airplanes', 'airplanes', 'airplanes', 'airplanes', 'airplanes', 'airplanes', 'airplanes', 'airplanes', 'airplanes', 'airplanes', 'airplanes', 'airplanes', 'airplanes', 'airplanes', 'airplanes', 'airplanes', 'airplanes', 'airplanes', 'airplanes', 'airplanes', 'airplanes', 'airplanes', 'airplanes', 'airplanes', 'airplanes', 'airplanes', 'airplanes', 'airplanes', 'airplanes', 'airplanes', 'airplanes', 'airplanes', 'airplanes', 'airplanes', 'airplanes', 'airplanes', 'airplanes', 'airplanes', 'airplanes', 'airplanes', 'airplanes', 'airplanes', 'airplanes', 'airplanes', 'butterfly', 'butterfly', 'butterfly', 'butterfly', 'butterfly', 'butterfly', 'butterfly', 'butterfly', 'butterfly', 'butterfly', 'butterfly', 'butterfly', 'butterfly', 'butterfly', 'butterfly', 'butterfly', 'butterfly', 'butterfly', 'butterfly', 'butterfly', 'butterfly', 'butterfly', 'butterfly', 'butterfly']\n",
        "img matrix"
       ]
      },
      {
       "output_type": "stream",
       "stream": "stdout",
       "text": [
        " [[140 115 111]\n",
        " [143 118 114]\n",
        " [146 121 117]\n",
        " ..., \n",
        " [  9  32  14]\n",
        " [  4  27   9]\n",
        " [  1  24   6]]\n",
        "145 145\n",
        "['airplanes', 'airplanes', 'airplanes', 'airplanes', 'airplanes', 'airplanes', 'airplanes', 'airplanes', 'airplanes', 'airplanes', 'airplanes', 'airplanes', 'airplanes', 'airplanes', 'airplanes', 'airplanes', 'airplanes', 'airplanes', 'airplanes', 'airplanes', 'airplanes', 'airplanes', 'airplanes', 'airplanes', 'airplanes', 'airplanes', 'airplanes', 'airplanes', 'airplanes', 'airplanes', 'airplanes', 'airplanes', 'airplanes', 'airplanes', 'airplanes', 'airplanes', 'airplanes', 'airplanes', 'airplanes', 'airplanes', 'airplanes', 'airplanes', 'airplanes', 'airplanes', 'airplanes', 'airplanes', 'airplanes', 'airplanes', 'airplanes', 'airplanes', 'airplanes', 'airplanes', 'airplanes', 'airplanes', 'airplanes', 'airplanes', 'airplanes', 'airplanes', 'airplanes', 'airplanes', 'airplanes', 'airplanes', 'airplanes', 'airplanes', 'airplanes', 'airplanes', 'airplanes', 'airplanes', 'airplanes', 'airplanes', 'airplanes', 'airplanes', 'airplanes', 'airplanes', 'airplanes', 'airplanes', 'airplanes', 'airplanes', 'airplanes', 'airplanes', 'airplanes', 'airplanes', 'airplanes', 'airplanes', 'airplanes', 'airplanes', 'airplanes', 'airplanes', 'airplanes', 'airplanes', 'airplanes', 'airplanes', 'airplanes', 'airplanes', 'airplanes', 'airplanes', 'airplanes', 'airplanes', 'airplanes', 'airplanes', 'airplanes', 'airplanes', 'airplanes', 'airplanes', 'airplanes', 'airplanes', 'airplanes', 'airplanes', 'airplanes', 'airplanes', 'airplanes', 'airplanes', 'airplanes', 'airplanes', 'airplanes', 'airplanes', 'airplanes', 'airplanes', 'airplanes', 'airplanes', 'butterfly', 'butterfly', 'butterfly', 'butterfly', 'butterfly', 'butterfly', 'butterfly', 'butterfly', 'butterfly', 'butterfly', 'butterfly', 'butterfly', 'butterfly', 'butterfly', 'butterfly', 'butterfly', 'butterfly', 'butterfly', 'butterfly', 'butterfly', 'butterfly', 'butterfly', 'butterfly', 'butterfly', 'butterfly']\n",
        "img matrix"
       ]
      },
      {
       "output_type": "stream",
       "stream": "stdout",
       "text": [
        " [[ 88  83  77]\n",
        " [ 78  73  67]\n",
        " [ 68  63  57]\n",
        " ..., \n",
        " [132 121 103]\n",
        " [129 118 100]\n",
        " [123 111  95]]\n",
        "146 146\n",
        "['airplanes', 'airplanes', 'airplanes', 'airplanes', 'airplanes', 'airplanes', 'airplanes', 'airplanes', 'airplanes', 'airplanes', 'airplanes', 'airplanes', 'airplanes', 'airplanes', 'airplanes', 'airplanes', 'airplanes', 'airplanes', 'airplanes', 'airplanes', 'airplanes', 'airplanes', 'airplanes', 'airplanes', 'airplanes', 'airplanes', 'airplanes', 'airplanes', 'airplanes', 'airplanes', 'airplanes', 'airplanes', 'airplanes', 'airplanes', 'airplanes', 'airplanes', 'airplanes', 'airplanes', 'airplanes', 'airplanes', 'airplanes', 'airplanes', 'airplanes', 'airplanes', 'airplanes', 'airplanes', 'airplanes', 'airplanes', 'airplanes', 'airplanes', 'airplanes', 'airplanes', 'airplanes', 'airplanes', 'airplanes', 'airplanes', 'airplanes', 'airplanes', 'airplanes', 'airplanes', 'airplanes', 'airplanes', 'airplanes', 'airplanes', 'airplanes', 'airplanes', 'airplanes', 'airplanes', 'airplanes', 'airplanes', 'airplanes', 'airplanes', 'airplanes', 'airplanes', 'airplanes', 'airplanes', 'airplanes', 'airplanes', 'airplanes', 'airplanes', 'airplanes', 'airplanes', 'airplanes', 'airplanes', 'airplanes', 'airplanes', 'airplanes', 'airplanes', 'airplanes', 'airplanes', 'airplanes', 'airplanes', 'airplanes', 'airplanes', 'airplanes', 'airplanes', 'airplanes', 'airplanes', 'airplanes', 'airplanes', 'airplanes', 'airplanes', 'airplanes', 'airplanes', 'airplanes', 'airplanes', 'airplanes', 'airplanes', 'airplanes', 'airplanes', 'airplanes', 'airplanes', 'airplanes', 'airplanes', 'airplanes', 'airplanes', 'airplanes', 'airplanes', 'airplanes', 'airplanes', 'butterfly', 'butterfly', 'butterfly', 'butterfly', 'butterfly', 'butterfly', 'butterfly', 'butterfly', 'butterfly', 'butterfly', 'butterfly', 'butterfly', 'butterfly', 'butterfly', 'butterfly', 'butterfly', 'butterfly', 'butterfly', 'butterfly', 'butterfly', 'butterfly', 'butterfly', 'butterfly', 'butterfly', 'butterfly', 'butterfly']\n",
        "img matrix"
       ]
      },
      {
       "output_type": "stream",
       "stream": "stdout",
       "text": [
        " [[  0   0   0]\n",
        " [  0   0   0]\n",
        " [  0   0   0]\n",
        " ..., \n",
        " [151 144 126]\n",
        " [151 144 126]\n",
        " [152 143 126]]\n",
        "147 147\n",
        "['airplanes', 'airplanes', 'airplanes', 'airplanes', 'airplanes', 'airplanes', 'airplanes', 'airplanes', 'airplanes', 'airplanes', 'airplanes', 'airplanes', 'airplanes', 'airplanes', 'airplanes', 'airplanes', 'airplanes', 'airplanes', 'airplanes', 'airplanes', 'airplanes', 'airplanes', 'airplanes', 'airplanes', 'airplanes', 'airplanes', 'airplanes', 'airplanes', 'airplanes', 'airplanes', 'airplanes', 'airplanes', 'airplanes', 'airplanes', 'airplanes', 'airplanes', 'airplanes', 'airplanes', 'airplanes', 'airplanes', 'airplanes', 'airplanes', 'airplanes', 'airplanes', 'airplanes', 'airplanes', 'airplanes', 'airplanes', 'airplanes', 'airplanes', 'airplanes', 'airplanes', 'airplanes', 'airplanes', 'airplanes', 'airplanes', 'airplanes', 'airplanes', 'airplanes', 'airplanes', 'airplanes', 'airplanes', 'airplanes', 'airplanes', 'airplanes', 'airplanes', 'airplanes', 'airplanes', 'airplanes', 'airplanes', 'airplanes', 'airplanes', 'airplanes', 'airplanes', 'airplanes', 'airplanes', 'airplanes', 'airplanes', 'airplanes', 'airplanes', 'airplanes', 'airplanes', 'airplanes', 'airplanes', 'airplanes', 'airplanes', 'airplanes', 'airplanes', 'airplanes', 'airplanes', 'airplanes', 'airplanes', 'airplanes', 'airplanes', 'airplanes', 'airplanes', 'airplanes', 'airplanes', 'airplanes', 'airplanes', 'airplanes', 'airplanes', 'airplanes', 'airplanes', 'airplanes', 'airplanes', 'airplanes', 'airplanes', 'airplanes', 'airplanes', 'airplanes', 'airplanes', 'airplanes', 'airplanes', 'airplanes', 'airplanes', 'airplanes', 'airplanes', 'airplanes', 'airplanes', 'butterfly', 'butterfly', 'butterfly', 'butterfly', 'butterfly', 'butterfly', 'butterfly', 'butterfly', 'butterfly', 'butterfly', 'butterfly', 'butterfly', 'butterfly', 'butterfly', 'butterfly', 'butterfly', 'butterfly', 'butterfly', 'butterfly', 'butterfly', 'butterfly', 'butterfly', 'butterfly', 'butterfly', 'butterfly', 'butterfly', 'butterfly']\n",
        "img matrix"
       ]
      },
      {
       "output_type": "stream",
       "stream": "stdout",
       "text": [
        " [[156 198 148]\n",
        " [145 189 138]\n",
        " [133 177 126]\n",
        " ..., \n",
        " [160 220 184]\n",
        " [148 208 172]\n",
        " [142 202 166]]\n",
        "148 148\n",
        "['airplanes', 'airplanes', 'airplanes', 'airplanes', 'airplanes', 'airplanes', 'airplanes', 'airplanes', 'airplanes', 'airplanes', 'airplanes', 'airplanes', 'airplanes', 'airplanes', 'airplanes', 'airplanes', 'airplanes', 'airplanes', 'airplanes', 'airplanes', 'airplanes', 'airplanes', 'airplanes', 'airplanes', 'airplanes', 'airplanes', 'airplanes', 'airplanes', 'airplanes', 'airplanes', 'airplanes', 'airplanes', 'airplanes', 'airplanes', 'airplanes', 'airplanes', 'airplanes', 'airplanes', 'airplanes', 'airplanes', 'airplanes', 'airplanes', 'airplanes', 'airplanes', 'airplanes', 'airplanes', 'airplanes', 'airplanes', 'airplanes', 'airplanes', 'airplanes', 'airplanes', 'airplanes', 'airplanes', 'airplanes', 'airplanes', 'airplanes', 'airplanes', 'airplanes', 'airplanes', 'airplanes', 'airplanes', 'airplanes', 'airplanes', 'airplanes', 'airplanes', 'airplanes', 'airplanes', 'airplanes', 'airplanes', 'airplanes', 'airplanes', 'airplanes', 'airplanes', 'airplanes', 'airplanes', 'airplanes', 'airplanes', 'airplanes', 'airplanes', 'airplanes', 'airplanes', 'airplanes', 'airplanes', 'airplanes', 'airplanes', 'airplanes', 'airplanes', 'airplanes', 'airplanes', 'airplanes', 'airplanes', 'airplanes', 'airplanes', 'airplanes', 'airplanes', 'airplanes', 'airplanes', 'airplanes', 'airplanes', 'airplanes', 'airplanes', 'airplanes', 'airplanes', 'airplanes', 'airplanes', 'airplanes', 'airplanes', 'airplanes', 'airplanes', 'airplanes', 'airplanes', 'airplanes', 'airplanes', 'airplanes', 'airplanes', 'airplanes', 'airplanes', 'airplanes', 'airplanes', 'butterfly', 'butterfly', 'butterfly', 'butterfly', 'butterfly', 'butterfly', 'butterfly', 'butterfly', 'butterfly', 'butterfly', 'butterfly', 'butterfly', 'butterfly', 'butterfly', 'butterfly', 'butterfly', 'butterfly', 'butterfly', 'butterfly', 'butterfly', 'butterfly', 'butterfly', 'butterfly', 'butterfly', 'butterfly', 'butterfly', 'butterfly', 'butterfly']\n",
        "img matrix"
       ]
      },
      {
       "output_type": "stream",
       "stream": "stdout",
       "text": [
        " [[255 255 255]\n",
        " [255 255 255]\n",
        " [255 255 255]\n",
        " ..., \n",
        " [119 138 178]\n",
        " [134 155 198]\n",
        " [ 47  69 116]]\n",
        "149 149\n",
        "['airplanes', 'airplanes', 'airplanes', 'airplanes', 'airplanes', 'airplanes', 'airplanes', 'airplanes', 'airplanes', 'airplanes', 'airplanes', 'airplanes', 'airplanes', 'airplanes', 'airplanes', 'airplanes', 'airplanes', 'airplanes', 'airplanes', 'airplanes', 'airplanes', 'airplanes', 'airplanes', 'airplanes', 'airplanes', 'airplanes', 'airplanes', 'airplanes', 'airplanes', 'airplanes', 'airplanes', 'airplanes', 'airplanes', 'airplanes', 'airplanes', 'airplanes', 'airplanes', 'airplanes', 'airplanes', 'airplanes', 'airplanes', 'airplanes', 'airplanes', 'airplanes', 'airplanes', 'airplanes', 'airplanes', 'airplanes', 'airplanes', 'airplanes', 'airplanes', 'airplanes', 'airplanes', 'airplanes', 'airplanes', 'airplanes', 'airplanes', 'airplanes', 'airplanes', 'airplanes', 'airplanes', 'airplanes', 'airplanes', 'airplanes', 'airplanes', 'airplanes', 'airplanes', 'airplanes', 'airplanes', 'airplanes', 'airplanes', 'airplanes', 'airplanes', 'airplanes', 'airplanes', 'airplanes', 'airplanes', 'airplanes', 'airplanes', 'airplanes', 'airplanes', 'airplanes', 'airplanes', 'airplanes', 'airplanes', 'airplanes', 'airplanes', 'airplanes', 'airplanes', 'airplanes', 'airplanes', 'airplanes', 'airplanes', 'airplanes', 'airplanes', 'airplanes', 'airplanes', 'airplanes', 'airplanes', 'airplanes', 'airplanes', 'airplanes', 'airplanes', 'airplanes', 'airplanes', 'airplanes', 'airplanes', 'airplanes', 'airplanes', 'airplanes', 'airplanes', 'airplanes', 'airplanes', 'airplanes', 'airplanes', 'airplanes', 'airplanes', 'airplanes', 'airplanes', 'airplanes', 'butterfly', 'butterfly', 'butterfly', 'butterfly', 'butterfly', 'butterfly', 'butterfly', 'butterfly', 'butterfly', 'butterfly', 'butterfly', 'butterfly', 'butterfly', 'butterfly', 'butterfly', 'butterfly', 'butterfly', 'butterfly', 'butterfly', 'butterfly', 'butterfly', 'butterfly', 'butterfly', 'butterfly', 'butterfly', 'butterfly', 'butterfly', 'butterfly', 'butterfly']\n",
        "img matrix"
       ]
      },
      {
       "output_type": "stream",
       "stream": "stdout",
       "text": [
        " [[255 255 255]\n",
        " [255 255 255]\n",
        " [255 255 255]\n",
        " ..., \n",
        " [  0   0   0]\n",
        " [  0   0   0]\n",
        " [  0   0   0]]\n",
        "150 150\n",
        "['airplanes', 'airplanes', 'airplanes', 'airplanes', 'airplanes', 'airplanes', 'airplanes', 'airplanes', 'airplanes', 'airplanes', 'airplanes', 'airplanes', 'airplanes', 'airplanes', 'airplanes', 'airplanes', 'airplanes', 'airplanes', 'airplanes', 'airplanes', 'airplanes', 'airplanes', 'airplanes', 'airplanes', 'airplanes', 'airplanes', 'airplanes', 'airplanes', 'airplanes', 'airplanes', 'airplanes', 'airplanes', 'airplanes', 'airplanes', 'airplanes', 'airplanes', 'airplanes', 'airplanes', 'airplanes', 'airplanes', 'airplanes', 'airplanes', 'airplanes', 'airplanes', 'airplanes', 'airplanes', 'airplanes', 'airplanes', 'airplanes', 'airplanes', 'airplanes', 'airplanes', 'airplanes', 'airplanes', 'airplanes', 'airplanes', 'airplanes', 'airplanes', 'airplanes', 'airplanes', 'airplanes', 'airplanes', 'airplanes', 'airplanes', 'airplanes', 'airplanes', 'airplanes', 'airplanes', 'airplanes', 'airplanes', 'airplanes', 'airplanes', 'airplanes', 'airplanes', 'airplanes', 'airplanes', 'airplanes', 'airplanes', 'airplanes', 'airplanes', 'airplanes', 'airplanes', 'airplanes', 'airplanes', 'airplanes', 'airplanes', 'airplanes', 'airplanes', 'airplanes', 'airplanes', 'airplanes', 'airplanes', 'airplanes', 'airplanes', 'airplanes', 'airplanes', 'airplanes', 'airplanes', 'airplanes', 'airplanes', 'airplanes', 'airplanes', 'airplanes', 'airplanes', 'airplanes', 'airplanes', 'airplanes', 'airplanes', 'airplanes', 'airplanes', 'airplanes', 'airplanes', 'airplanes', 'airplanes', 'airplanes', 'airplanes', 'airplanes', 'airplanes', 'airplanes', 'airplanes', 'butterfly', 'butterfly', 'butterfly', 'butterfly', 'butterfly', 'butterfly', 'butterfly', 'butterfly', 'butterfly', 'butterfly', 'butterfly', 'butterfly', 'butterfly', 'butterfly', 'butterfly', 'butterfly', 'butterfly', 'butterfly', 'butterfly', 'butterfly', 'butterfly', 'butterfly', 'butterfly', 'butterfly', 'butterfly', 'butterfly', 'butterfly', 'butterfly', 'butterfly', 'butterfly']\n",
        "img matrix"
       ]
      },
      {
       "output_type": "stream",
       "stream": "stdout",
       "text": [
        " [[0 0 0]\n",
        " [0 0 0]\n",
        " [0 0 0]\n",
        " ..., \n",
        " [0 0 0]\n",
        " [0 0 0]\n",
        " [0 0 0]]\n",
        "151 151\n",
        "['airplanes', 'airplanes', 'airplanes', 'airplanes', 'airplanes', 'airplanes', 'airplanes', 'airplanes', 'airplanes', 'airplanes', 'airplanes', 'airplanes', 'airplanes', 'airplanes', 'airplanes', 'airplanes', 'airplanes', 'airplanes', 'airplanes', 'airplanes', 'airplanes', 'airplanes', 'airplanes', 'airplanes', 'airplanes', 'airplanes', 'airplanes', 'airplanes', 'airplanes', 'airplanes', 'airplanes', 'airplanes', 'airplanes', 'airplanes', 'airplanes', 'airplanes', 'airplanes', 'airplanes', 'airplanes', 'airplanes', 'airplanes', 'airplanes', 'airplanes', 'airplanes', 'airplanes', 'airplanes', 'airplanes', 'airplanes', 'airplanes', 'airplanes', 'airplanes', 'airplanes', 'airplanes', 'airplanes', 'airplanes', 'airplanes', 'airplanes', 'airplanes', 'airplanes', 'airplanes', 'airplanes', 'airplanes', 'airplanes', 'airplanes', 'airplanes', 'airplanes', 'airplanes', 'airplanes', 'airplanes', 'airplanes', 'airplanes', 'airplanes', 'airplanes', 'airplanes', 'airplanes', 'airplanes', 'airplanes', 'airplanes', 'airplanes', 'airplanes', 'airplanes', 'airplanes', 'airplanes', 'airplanes', 'airplanes', 'airplanes', 'airplanes', 'airplanes', 'airplanes', 'airplanes', 'airplanes', 'airplanes', 'airplanes', 'airplanes', 'airplanes', 'airplanes', 'airplanes', 'airplanes', 'airplanes', 'airplanes', 'airplanes', 'airplanes', 'airplanes', 'airplanes', 'airplanes', 'airplanes', 'airplanes', 'airplanes', 'airplanes', 'airplanes', 'airplanes', 'airplanes', 'airplanes', 'airplanes', 'airplanes', 'airplanes', 'airplanes', 'airplanes', 'airplanes', 'airplanes', 'butterfly', 'butterfly', 'butterfly', 'butterfly', 'butterfly', 'butterfly', 'butterfly', 'butterfly', 'butterfly', 'butterfly', 'butterfly', 'butterfly', 'butterfly', 'butterfly', 'butterfly', 'butterfly', 'butterfly', 'butterfly', 'butterfly', 'butterfly', 'butterfly', 'butterfly', 'butterfly', 'butterfly', 'butterfly', 'butterfly', 'butterfly', 'butterfly', 'butterfly', 'butterfly', 'butterfly']\n",
        "img matrix"
       ]
      },
      {
       "output_type": "stream",
       "stream": "stdout",
       "text": [
        " [[181 199 201]\n",
        " [234 252 254]\n",
        " [242 255 255]\n",
        " ..., \n",
        " [161 189 192]\n",
        " [198 226 229]\n",
        " [234 255 255]]\n",
        "152 152\n",
        "['airplanes', 'airplanes', 'airplanes', 'airplanes', 'airplanes', 'airplanes', 'airplanes', 'airplanes', 'airplanes', 'airplanes', 'airplanes', 'airplanes', 'airplanes', 'airplanes', 'airplanes', 'airplanes', 'airplanes', 'airplanes', 'airplanes', 'airplanes', 'airplanes', 'airplanes', 'airplanes', 'airplanes', 'airplanes', 'airplanes', 'airplanes', 'airplanes', 'airplanes', 'airplanes', 'airplanes', 'airplanes', 'airplanes', 'airplanes', 'airplanes', 'airplanes', 'airplanes', 'airplanes', 'airplanes', 'airplanes', 'airplanes', 'airplanes', 'airplanes', 'airplanes', 'airplanes', 'airplanes', 'airplanes', 'airplanes', 'airplanes', 'airplanes', 'airplanes', 'airplanes', 'airplanes', 'airplanes', 'airplanes', 'airplanes', 'airplanes', 'airplanes', 'airplanes', 'airplanes', 'airplanes', 'airplanes', 'airplanes', 'airplanes', 'airplanes', 'airplanes', 'airplanes', 'airplanes', 'airplanes', 'airplanes', 'airplanes', 'airplanes', 'airplanes', 'airplanes', 'airplanes', 'airplanes', 'airplanes', 'airplanes', 'airplanes', 'airplanes', 'airplanes', 'airplanes', 'airplanes', 'airplanes', 'airplanes', 'airplanes', 'airplanes', 'airplanes', 'airplanes', 'airplanes', 'airplanes', 'airplanes', 'airplanes', 'airplanes', 'airplanes', 'airplanes', 'airplanes', 'airplanes', 'airplanes', 'airplanes', 'airplanes', 'airplanes', 'airplanes', 'airplanes', 'airplanes', 'airplanes', 'airplanes', 'airplanes', 'airplanes', 'airplanes', 'airplanes', 'airplanes', 'airplanes', 'airplanes', 'airplanes', 'airplanes', 'airplanes', 'airplanes', 'airplanes', 'airplanes', 'butterfly', 'butterfly', 'butterfly', 'butterfly', 'butterfly', 'butterfly', 'butterfly', 'butterfly', 'butterfly', 'butterfly', 'butterfly', 'butterfly', 'butterfly', 'butterfly', 'butterfly', 'butterfly', 'butterfly', 'butterfly', 'butterfly', 'butterfly', 'butterfly', 'butterfly', 'butterfly', 'butterfly', 'butterfly', 'butterfly', 'butterfly', 'butterfly', 'butterfly', 'butterfly', 'butterfly', 'butterfly']\n",
        "img matrix"
       ]
      },
      {
       "output_type": "stream",
       "stream": "stdout",
       "text": [
        " [[255 255 255]\n",
        " [255 255 255]\n",
        " [255 255 255]\n",
        " ..., \n",
        " [255 255 255]\n",
        " [255 255 255]\n",
        " [255 255 255]]\n",
        "153 153\n",
        "['airplanes', 'airplanes', 'airplanes', 'airplanes', 'airplanes', 'airplanes', 'airplanes', 'airplanes', 'airplanes', 'airplanes', 'airplanes', 'airplanes', 'airplanes', 'airplanes', 'airplanes', 'airplanes', 'airplanes', 'airplanes', 'airplanes', 'airplanes', 'airplanes', 'airplanes', 'airplanes', 'airplanes', 'airplanes', 'airplanes', 'airplanes', 'airplanes', 'airplanes', 'airplanes', 'airplanes', 'airplanes', 'airplanes', 'airplanes', 'airplanes', 'airplanes', 'airplanes', 'airplanes', 'airplanes', 'airplanes', 'airplanes', 'airplanes', 'airplanes', 'airplanes', 'airplanes', 'airplanes', 'airplanes', 'airplanes', 'airplanes', 'airplanes', 'airplanes', 'airplanes', 'airplanes', 'airplanes', 'airplanes', 'airplanes', 'airplanes', 'airplanes', 'airplanes', 'airplanes', 'airplanes', 'airplanes', 'airplanes', 'airplanes', 'airplanes', 'airplanes', 'airplanes', 'airplanes', 'airplanes', 'airplanes', 'airplanes', 'airplanes', 'airplanes', 'airplanes', 'airplanes', 'airplanes', 'airplanes', 'airplanes', 'airplanes', 'airplanes', 'airplanes', 'airplanes', 'airplanes', 'airplanes', 'airplanes', 'airplanes', 'airplanes', 'airplanes', 'airplanes', 'airplanes', 'airplanes', 'airplanes', 'airplanes', 'airplanes', 'airplanes', 'airplanes', 'airplanes', 'airplanes', 'airplanes', 'airplanes', 'airplanes', 'airplanes', 'airplanes', 'airplanes', 'airplanes', 'airplanes', 'airplanes', 'airplanes', 'airplanes', 'airplanes', 'airplanes', 'airplanes', 'airplanes', 'airplanes', 'airplanes', 'airplanes', 'airplanes', 'airplanes', 'airplanes', 'airplanes', 'butterfly', 'butterfly', 'butterfly', 'butterfly', 'butterfly', 'butterfly', 'butterfly', 'butterfly', 'butterfly', 'butterfly', 'butterfly', 'butterfly', 'butterfly', 'butterfly', 'butterfly', 'butterfly', 'butterfly', 'butterfly', 'butterfly', 'butterfly', 'butterfly', 'butterfly', 'butterfly', 'butterfly', 'butterfly', 'butterfly', 'butterfly', 'butterfly', 'butterfly', 'butterfly', 'butterfly', 'butterfly', 'butterfly']\n",
        "img matrix"
       ]
      },
      {
       "output_type": "stream",
       "stream": "stdout",
       "text": [
        " [[118 151 122]\n",
        " [ 98 131 102]\n",
        " [ 87 118  87]\n",
        " ..., \n",
        " [155 163 165]\n",
        " [155 165 167]\n",
        " [155 166 168]]\n",
        "154 154\n",
        "['airplanes', 'airplanes', 'airplanes', 'airplanes', 'airplanes', 'airplanes', 'airplanes', 'airplanes', 'airplanes', 'airplanes', 'airplanes', 'airplanes', 'airplanes', 'airplanes', 'airplanes', 'airplanes', 'airplanes', 'airplanes', 'airplanes', 'airplanes', 'airplanes', 'airplanes', 'airplanes', 'airplanes', 'airplanes', 'airplanes', 'airplanes', 'airplanes', 'airplanes', 'airplanes', 'airplanes', 'airplanes', 'airplanes', 'airplanes', 'airplanes', 'airplanes', 'airplanes', 'airplanes', 'airplanes', 'airplanes', 'airplanes', 'airplanes', 'airplanes', 'airplanes', 'airplanes', 'airplanes', 'airplanes', 'airplanes', 'airplanes', 'airplanes', 'airplanes', 'airplanes', 'airplanes', 'airplanes', 'airplanes', 'airplanes', 'airplanes', 'airplanes', 'airplanes', 'airplanes', 'airplanes', 'airplanes', 'airplanes', 'airplanes', 'airplanes', 'airplanes', 'airplanes', 'airplanes', 'airplanes', 'airplanes', 'airplanes', 'airplanes', 'airplanes', 'airplanes', 'airplanes', 'airplanes', 'airplanes', 'airplanes', 'airplanes', 'airplanes', 'airplanes', 'airplanes', 'airplanes', 'airplanes', 'airplanes', 'airplanes', 'airplanes', 'airplanes', 'airplanes', 'airplanes', 'airplanes', 'airplanes', 'airplanes', 'airplanes', 'airplanes', 'airplanes', 'airplanes', 'airplanes', 'airplanes', 'airplanes', 'airplanes', 'airplanes', 'airplanes', 'airplanes', 'airplanes', 'airplanes', 'airplanes', 'airplanes', 'airplanes', 'airplanes', 'airplanes', 'airplanes', 'airplanes', 'airplanes', 'airplanes', 'airplanes', 'airplanes', 'airplanes', 'airplanes', 'airplanes', 'butterfly', 'butterfly', 'butterfly', 'butterfly', 'butterfly', 'butterfly', 'butterfly', 'butterfly', 'butterfly', 'butterfly', 'butterfly', 'butterfly', 'butterfly', 'butterfly', 'butterfly', 'butterfly', 'butterfly', 'butterfly', 'butterfly', 'butterfly', 'butterfly', 'butterfly', 'butterfly', 'butterfly', 'butterfly', 'butterfly', 'butterfly', 'butterfly', 'butterfly', 'butterfly', 'butterfly', 'butterfly', 'butterfly', 'butterfly']\n",
        "img matrix"
       ]
      },
      {
       "output_type": "stream",
       "stream": "stdout",
       "text": [
        " [[0 0 0]\n",
        " [0 0 0]\n",
        " [0 0 0]\n",
        " ..., \n",
        " [0 0 0]\n",
        " [0 0 0]\n",
        " [0 0 0]]\n",
        "155 155\n",
        "['airplanes', 'airplanes', 'airplanes', 'airplanes', 'airplanes', 'airplanes', 'airplanes', 'airplanes', 'airplanes', 'airplanes', 'airplanes', 'airplanes', 'airplanes', 'airplanes', 'airplanes', 'airplanes', 'airplanes', 'airplanes', 'airplanes', 'airplanes', 'airplanes', 'airplanes', 'airplanes', 'airplanes', 'airplanes', 'airplanes', 'airplanes', 'airplanes', 'airplanes', 'airplanes', 'airplanes', 'airplanes', 'airplanes', 'airplanes', 'airplanes', 'airplanes', 'airplanes', 'airplanes', 'airplanes', 'airplanes', 'airplanes', 'airplanes', 'airplanes', 'airplanes', 'airplanes', 'airplanes', 'airplanes', 'airplanes', 'airplanes', 'airplanes', 'airplanes', 'airplanes', 'airplanes', 'airplanes', 'airplanes', 'airplanes', 'airplanes', 'airplanes', 'airplanes', 'airplanes', 'airplanes', 'airplanes', 'airplanes', 'airplanes', 'airplanes', 'airplanes', 'airplanes', 'airplanes', 'airplanes', 'airplanes', 'airplanes', 'airplanes', 'airplanes', 'airplanes', 'airplanes', 'airplanes', 'airplanes', 'airplanes', 'airplanes', 'airplanes', 'airplanes', 'airplanes', 'airplanes', 'airplanes', 'airplanes', 'airplanes', 'airplanes', 'airplanes', 'airplanes', 'airplanes', 'airplanes', 'airplanes', 'airplanes', 'airplanes', 'airplanes', 'airplanes', 'airplanes', 'airplanes', 'airplanes', 'airplanes', 'airplanes', 'airplanes', 'airplanes', 'airplanes', 'airplanes', 'airplanes', 'airplanes', 'airplanes', 'airplanes', 'airplanes', 'airplanes', 'airplanes', 'airplanes', 'airplanes', 'airplanes', 'airplanes', 'airplanes', 'airplanes', 'airplanes', 'airplanes', 'butterfly', 'butterfly', 'butterfly', 'butterfly', 'butterfly', 'butterfly', 'butterfly', 'butterfly', 'butterfly', 'butterfly', 'butterfly', 'butterfly', 'butterfly', 'butterfly', 'butterfly', 'butterfly', 'butterfly', 'butterfly', 'butterfly', 'butterfly', 'butterfly', 'butterfly', 'butterfly', 'butterfly', 'butterfly', 'butterfly', 'butterfly', 'butterfly', 'butterfly', 'butterfly', 'butterfly', 'butterfly', 'butterfly', 'butterfly', 'butterfly']\n",
        "img matrix"
       ]
      },
      {
       "output_type": "stream",
       "stream": "stdout",
       "text": [
        " [[38 75  6]\n",
        " [38 75  6]\n",
        " [36 76  6]\n",
        " ..., \n",
        " [19 19 17]\n",
        " [18 20 17]\n",
        " [16 21 17]]\n",
        "156 156\n",
        "['airplanes', 'airplanes', 'airplanes', 'airplanes', 'airplanes', 'airplanes', 'airplanes', 'airplanes', 'airplanes', 'airplanes', 'airplanes', 'airplanes', 'airplanes', 'airplanes', 'airplanes', 'airplanes', 'airplanes', 'airplanes', 'airplanes', 'airplanes', 'airplanes', 'airplanes', 'airplanes', 'airplanes', 'airplanes', 'airplanes', 'airplanes', 'airplanes', 'airplanes', 'airplanes', 'airplanes', 'airplanes', 'airplanes', 'airplanes', 'airplanes', 'airplanes', 'airplanes', 'airplanes', 'airplanes', 'airplanes', 'airplanes', 'airplanes', 'airplanes', 'airplanes', 'airplanes', 'airplanes', 'airplanes', 'airplanes', 'airplanes', 'airplanes', 'airplanes', 'airplanes', 'airplanes', 'airplanes', 'airplanes', 'airplanes', 'airplanes', 'airplanes', 'airplanes', 'airplanes', 'airplanes', 'airplanes', 'airplanes', 'airplanes', 'airplanes', 'airplanes', 'airplanes', 'airplanes', 'airplanes', 'airplanes', 'airplanes', 'airplanes', 'airplanes', 'airplanes', 'airplanes', 'airplanes', 'airplanes', 'airplanes', 'airplanes', 'airplanes', 'airplanes', 'airplanes', 'airplanes', 'airplanes', 'airplanes', 'airplanes', 'airplanes', 'airplanes', 'airplanes', 'airplanes', 'airplanes', 'airplanes', 'airplanes', 'airplanes', 'airplanes', 'airplanes', 'airplanes', 'airplanes', 'airplanes', 'airplanes', 'airplanes', 'airplanes', 'airplanes', 'airplanes', 'airplanes', 'airplanes', 'airplanes', 'airplanes', 'airplanes', 'airplanes', 'airplanes', 'airplanes', 'airplanes', 'airplanes', 'airplanes', 'airplanes', 'airplanes', 'airplanes', 'airplanes', 'airplanes', 'butterfly', 'butterfly', 'butterfly', 'butterfly', 'butterfly', 'butterfly', 'butterfly', 'butterfly', 'butterfly', 'butterfly', 'butterfly', 'butterfly', 'butterfly', 'butterfly', 'butterfly', 'butterfly', 'butterfly', 'butterfly', 'butterfly', 'butterfly', 'butterfly', 'butterfly', 'butterfly', 'butterfly', 'butterfly', 'butterfly', 'butterfly', 'butterfly', 'butterfly', 'butterfly', 'butterfly', 'butterfly', 'butterfly', 'butterfly', 'butterfly', 'butterfly']\n",
        "img matrix"
       ]
      },
      {
       "output_type": "stream",
       "stream": "stdout",
       "text": [
        " [[  0   0   0]\n",
        " [  0   0   0]\n",
        " [  0   0   0]\n",
        " ..., \n",
        " [203 126  80]\n",
        " [209 133  81]\n",
        " [210 133  77]]\n",
        "157 157\n",
        "['airplanes', 'airplanes', 'airplanes', 'airplanes', 'airplanes', 'airplanes', 'airplanes', 'airplanes', 'airplanes', 'airplanes', 'airplanes', 'airplanes', 'airplanes', 'airplanes', 'airplanes', 'airplanes', 'airplanes', 'airplanes', 'airplanes', 'airplanes', 'airplanes', 'airplanes', 'airplanes', 'airplanes', 'airplanes', 'airplanes', 'airplanes', 'airplanes', 'airplanes', 'airplanes', 'airplanes', 'airplanes', 'airplanes', 'airplanes', 'airplanes', 'airplanes', 'airplanes', 'airplanes', 'airplanes', 'airplanes', 'airplanes', 'airplanes', 'airplanes', 'airplanes', 'airplanes', 'airplanes', 'airplanes', 'airplanes', 'airplanes', 'airplanes', 'airplanes', 'airplanes', 'airplanes', 'airplanes', 'airplanes', 'airplanes', 'airplanes', 'airplanes', 'airplanes', 'airplanes', 'airplanes', 'airplanes', 'airplanes', 'airplanes', 'airplanes', 'airplanes', 'airplanes', 'airplanes', 'airplanes', 'airplanes', 'airplanes', 'airplanes', 'airplanes', 'airplanes', 'airplanes', 'airplanes', 'airplanes', 'airplanes', 'airplanes', 'airplanes', 'airplanes', 'airplanes', 'airplanes', 'airplanes', 'airplanes', 'airplanes', 'airplanes', 'airplanes', 'airplanes', 'airplanes', 'airplanes', 'airplanes', 'airplanes', 'airplanes', 'airplanes', 'airplanes', 'airplanes', 'airplanes', 'airplanes', 'airplanes', 'airplanes', 'airplanes', 'airplanes', 'airplanes', 'airplanes', 'airplanes', 'airplanes', 'airplanes', 'airplanes', 'airplanes', 'airplanes', 'airplanes', 'airplanes', 'airplanes', 'airplanes', 'airplanes', 'airplanes', 'airplanes', 'airplanes', 'airplanes', 'butterfly', 'butterfly', 'butterfly', 'butterfly', 'butterfly', 'butterfly', 'butterfly', 'butterfly', 'butterfly', 'butterfly', 'butterfly', 'butterfly', 'butterfly', 'butterfly', 'butterfly', 'butterfly', 'butterfly', 'butterfly', 'butterfly', 'butterfly', 'butterfly', 'butterfly', 'butterfly', 'butterfly', 'butterfly', 'butterfly', 'butterfly', 'butterfly', 'butterfly', 'butterfly', 'butterfly', 'butterfly', 'butterfly', 'butterfly', 'butterfly', 'butterfly', 'butterfly']\n",
        "img matrix"
       ]
      },
      {
       "output_type": "stream",
       "stream": "stdout",
       "text": [
        " [[0 0 0]\n",
        " [0 0 0]\n",
        " [0 0 0]\n",
        " ..., \n",
        " [0 0 0]\n",
        " [0 0 0]\n",
        " [0 0 0]]\n",
        "158 158\n",
        "['airplanes', 'airplanes', 'airplanes', 'airplanes', 'airplanes', 'airplanes', 'airplanes', 'airplanes', 'airplanes', 'airplanes', 'airplanes', 'airplanes', 'airplanes', 'airplanes', 'airplanes', 'airplanes', 'airplanes', 'airplanes', 'airplanes', 'airplanes', 'airplanes', 'airplanes', 'airplanes', 'airplanes', 'airplanes', 'airplanes', 'airplanes', 'airplanes', 'airplanes', 'airplanes', 'airplanes', 'airplanes', 'airplanes', 'airplanes', 'airplanes', 'airplanes', 'airplanes', 'airplanes', 'airplanes', 'airplanes', 'airplanes', 'airplanes', 'airplanes', 'airplanes', 'airplanes', 'airplanes', 'airplanes', 'airplanes', 'airplanes', 'airplanes', 'airplanes', 'airplanes', 'airplanes', 'airplanes', 'airplanes', 'airplanes', 'airplanes', 'airplanes', 'airplanes', 'airplanes', 'airplanes', 'airplanes', 'airplanes', 'airplanes', 'airplanes', 'airplanes', 'airplanes', 'airplanes', 'airplanes', 'airplanes', 'airplanes', 'airplanes', 'airplanes', 'airplanes', 'airplanes', 'airplanes', 'airplanes', 'airplanes', 'airplanes', 'airplanes', 'airplanes', 'airplanes', 'airplanes', 'airplanes', 'airplanes', 'airplanes', 'airplanes', 'airplanes', 'airplanes', 'airplanes', 'airplanes', 'airplanes', 'airplanes', 'airplanes', 'airplanes', 'airplanes', 'airplanes', 'airplanes', 'airplanes', 'airplanes', 'airplanes', 'airplanes', 'airplanes', 'airplanes', 'airplanes', 'airplanes', 'airplanes', 'airplanes', 'airplanes', 'airplanes', 'airplanes', 'airplanes', 'airplanes', 'airplanes', 'airplanes', 'airplanes', 'airplanes', 'airplanes', 'airplanes', 'airplanes', 'butterfly', 'butterfly', 'butterfly', 'butterfly', 'butterfly', 'butterfly', 'butterfly', 'butterfly', 'butterfly', 'butterfly', 'butterfly', 'butterfly', 'butterfly', 'butterfly', 'butterfly', 'butterfly', 'butterfly', 'butterfly', 'butterfly', 'butterfly', 'butterfly', 'butterfly', 'butterfly', 'butterfly', 'butterfly', 'butterfly', 'butterfly', 'butterfly', 'butterfly', 'butterfly', 'butterfly', 'butterfly', 'butterfly', 'butterfly', 'butterfly', 'butterfly', 'butterfly', 'butterfly']\n",
        "img matrix"
       ]
      },
      {
       "output_type": "stream",
       "stream": "stdout",
       "text": [
        " [[243 226   0]\n",
        " [243 226   0]\n",
        " [243 226   0]\n",
        " ..., \n",
        " [  0   0   0]\n",
        " [  0   0   0]\n",
        " [  0   0   0]]\n",
        "159 159\n",
        "['airplanes', 'airplanes', 'airplanes', 'airplanes', 'airplanes', 'airplanes', 'airplanes', 'airplanes', 'airplanes', 'airplanes', 'airplanes', 'airplanes', 'airplanes', 'airplanes', 'airplanes', 'airplanes', 'airplanes', 'airplanes', 'airplanes', 'airplanes', 'airplanes', 'airplanes', 'airplanes', 'airplanes', 'airplanes', 'airplanes', 'airplanes', 'airplanes', 'airplanes', 'airplanes', 'airplanes', 'airplanes', 'airplanes', 'airplanes', 'airplanes', 'airplanes', 'airplanes', 'airplanes', 'airplanes', 'airplanes', 'airplanes', 'airplanes', 'airplanes', 'airplanes', 'airplanes', 'airplanes', 'airplanes', 'airplanes', 'airplanes', 'airplanes', 'airplanes', 'airplanes', 'airplanes', 'airplanes', 'airplanes', 'airplanes', 'airplanes', 'airplanes', 'airplanes', 'airplanes', 'airplanes', 'airplanes', 'airplanes', 'airplanes', 'airplanes', 'airplanes', 'airplanes', 'airplanes', 'airplanes', 'airplanes', 'airplanes', 'airplanes', 'airplanes', 'airplanes', 'airplanes', 'airplanes', 'airplanes', 'airplanes', 'airplanes', 'airplanes', 'airplanes', 'airplanes', 'airplanes', 'airplanes', 'airplanes', 'airplanes', 'airplanes', 'airplanes', 'airplanes', 'airplanes', 'airplanes', 'airplanes', 'airplanes', 'airplanes', 'airplanes', 'airplanes', 'airplanes', 'airplanes', 'airplanes', 'airplanes', 'airplanes', 'airplanes', 'airplanes', 'airplanes', 'airplanes', 'airplanes', 'airplanes', 'airplanes', 'airplanes', 'airplanes', 'airplanes', 'airplanes', 'airplanes', 'airplanes', 'airplanes', 'airplanes', 'airplanes', 'airplanes', 'airplanes', 'airplanes', 'butterfly', 'butterfly', 'butterfly', 'butterfly', 'butterfly', 'butterfly', 'butterfly', 'butterfly', 'butterfly', 'butterfly', 'butterfly', 'butterfly', 'butterfly', 'butterfly', 'butterfly', 'butterfly', 'butterfly', 'butterfly', 'butterfly', 'butterfly', 'butterfly', 'butterfly', 'butterfly', 'butterfly', 'butterfly', 'butterfly', 'butterfly', 'butterfly', 'butterfly', 'butterfly', 'butterfly', 'butterfly', 'butterfly', 'butterfly', 'butterfly', 'butterfly', 'butterfly', 'butterfly', 'butterfly']\n",
        "img matrix"
       ]
      },
      {
       "output_type": "stream",
       "stream": "stdout",
       "text": [
        " [[196 188 211]\n",
        " [196 188 211]\n",
        " [196 188 211]\n",
        " ..., \n",
        " [220 212 235]\n",
        " [220 212 235]\n",
        " [220 212 235]]\n",
        "160 160\n",
        "['airplanes', 'airplanes', 'airplanes', 'airplanes', 'airplanes', 'airplanes', 'airplanes', 'airplanes', 'airplanes', 'airplanes', 'airplanes', 'airplanes', 'airplanes', 'airplanes', 'airplanes', 'airplanes', 'airplanes', 'airplanes', 'airplanes', 'airplanes', 'airplanes', 'airplanes', 'airplanes', 'airplanes', 'airplanes', 'airplanes', 'airplanes', 'airplanes', 'airplanes', 'airplanes', 'airplanes', 'airplanes', 'airplanes', 'airplanes', 'airplanes', 'airplanes', 'airplanes', 'airplanes', 'airplanes', 'airplanes', 'airplanes', 'airplanes', 'airplanes', 'airplanes', 'airplanes', 'airplanes', 'airplanes', 'airplanes', 'airplanes', 'airplanes', 'airplanes', 'airplanes', 'airplanes', 'airplanes', 'airplanes', 'airplanes', 'airplanes', 'airplanes', 'airplanes', 'airplanes', 'airplanes', 'airplanes', 'airplanes', 'airplanes', 'airplanes', 'airplanes', 'airplanes', 'airplanes', 'airplanes', 'airplanes', 'airplanes', 'airplanes', 'airplanes', 'airplanes', 'airplanes', 'airplanes', 'airplanes', 'airplanes', 'airplanes', 'airplanes', 'airplanes', 'airplanes', 'airplanes', 'airplanes', 'airplanes', 'airplanes', 'airplanes', 'airplanes', 'airplanes', 'airplanes', 'airplanes', 'airplanes', 'airplanes', 'airplanes', 'airplanes', 'airplanes', 'airplanes', 'airplanes', 'airplanes', 'airplanes', 'airplanes', 'airplanes', 'airplanes', 'airplanes', 'airplanes', 'airplanes', 'airplanes', 'airplanes', 'airplanes', 'airplanes', 'airplanes', 'airplanes', 'airplanes', 'airplanes', 'airplanes', 'airplanes', 'airplanes', 'airplanes', 'airplanes', 'airplanes', 'butterfly', 'butterfly', 'butterfly', 'butterfly', 'butterfly', 'butterfly', 'butterfly', 'butterfly', 'butterfly', 'butterfly', 'butterfly', 'butterfly', 'butterfly', 'butterfly', 'butterfly', 'butterfly', 'butterfly', 'butterfly', 'butterfly', 'butterfly', 'butterfly', 'butterfly', 'butterfly', 'butterfly', 'butterfly', 'butterfly', 'butterfly', 'butterfly', 'butterfly', 'butterfly', 'butterfly', 'butterfly', 'butterfly', 'butterfly', 'butterfly', 'butterfly', 'butterfly', 'butterfly', 'butterfly', 'butterfly']\n",
        "Sorry. 'int' object is not iterable\n",
        "Had trouble with ../102_Categories/butterfly/image_0043.jpg\n",
        "img matrix"
       ]
      },
      {
       "output_type": "stream",
       "stream": "stdout",
       "text": [
        " [[255 247 238]\n",
        " [255 242 234]\n",
        " [248 229 222]\n",
        " ..., \n",
        " [252 246 234]\n",
        " [251 245 233]\n",
        " [246 242 231]]\n",
        "161 161\n",
        "['airplanes', 'airplanes', 'airplanes', 'airplanes', 'airplanes', 'airplanes', 'airplanes', 'airplanes', 'airplanes', 'airplanes', 'airplanes', 'airplanes', 'airplanes', 'airplanes', 'airplanes', 'airplanes', 'airplanes', 'airplanes', 'airplanes', 'airplanes', 'airplanes', 'airplanes', 'airplanes', 'airplanes', 'airplanes', 'airplanes', 'airplanes', 'airplanes', 'airplanes', 'airplanes', 'airplanes', 'airplanes', 'airplanes', 'airplanes', 'airplanes', 'airplanes', 'airplanes', 'airplanes', 'airplanes', 'airplanes', 'airplanes', 'airplanes', 'airplanes', 'airplanes', 'airplanes', 'airplanes', 'airplanes', 'airplanes', 'airplanes', 'airplanes', 'airplanes', 'airplanes', 'airplanes', 'airplanes', 'airplanes', 'airplanes', 'airplanes', 'airplanes', 'airplanes', 'airplanes', 'airplanes', 'airplanes', 'airplanes', 'airplanes', 'airplanes', 'airplanes', 'airplanes', 'airplanes', 'airplanes', 'airplanes', 'airplanes', 'airplanes', 'airplanes', 'airplanes', 'airplanes', 'airplanes', 'airplanes', 'airplanes', 'airplanes', 'airplanes', 'airplanes', 'airplanes', 'airplanes', 'airplanes', 'airplanes', 'airplanes', 'airplanes', 'airplanes', 'airplanes', 'airplanes', 'airplanes', 'airplanes', 'airplanes', 'airplanes', 'airplanes', 'airplanes', 'airplanes', 'airplanes', 'airplanes', 'airplanes', 'airplanes', 'airplanes', 'airplanes', 'airplanes', 'airplanes', 'airplanes', 'airplanes', 'airplanes', 'airplanes', 'airplanes', 'airplanes', 'airplanes', 'airplanes', 'airplanes', 'airplanes', 'airplanes', 'airplanes', 'airplanes', 'airplanes', 'airplanes', 'butterfly', 'butterfly', 'butterfly', 'butterfly', 'butterfly', 'butterfly', 'butterfly', 'butterfly', 'butterfly', 'butterfly', 'butterfly', 'butterfly', 'butterfly', 'butterfly', 'butterfly', 'butterfly', 'butterfly', 'butterfly', 'butterfly', 'butterfly', 'butterfly', 'butterfly', 'butterfly', 'butterfly', 'butterfly', 'butterfly', 'butterfly', 'butterfly', 'butterfly', 'butterfly', 'butterfly', 'butterfly', 'butterfly', 'butterfly', 'butterfly', 'butterfly', 'butterfly', 'butterfly', 'butterfly', 'butterfly', 'butterfly']\n",
        "img matrix"
       ]
      },
      {
       "output_type": "stream",
       "stream": "stdout",
       "text": [
        " [[196 196 194]\n",
        " [196 196 194]\n",
        " [196 196 194]\n",
        " ..., \n",
        " [193 193 193]\n",
        " [194 194 194]\n",
        " [194 194 194]]\n",
        "162 162\n",
        "['airplanes', 'airplanes', 'airplanes', 'airplanes', 'airplanes', 'airplanes', 'airplanes', 'airplanes', 'airplanes', 'airplanes', 'airplanes', 'airplanes', 'airplanes', 'airplanes', 'airplanes', 'airplanes', 'airplanes', 'airplanes', 'airplanes', 'airplanes', 'airplanes', 'airplanes', 'airplanes', 'airplanes', 'airplanes', 'airplanes', 'airplanes', 'airplanes', 'airplanes', 'airplanes', 'airplanes', 'airplanes', 'airplanes', 'airplanes', 'airplanes', 'airplanes', 'airplanes', 'airplanes', 'airplanes', 'airplanes', 'airplanes', 'airplanes', 'airplanes', 'airplanes', 'airplanes', 'airplanes', 'airplanes', 'airplanes', 'airplanes', 'airplanes', 'airplanes', 'airplanes', 'airplanes', 'airplanes', 'airplanes', 'airplanes', 'airplanes', 'airplanes', 'airplanes', 'airplanes', 'airplanes', 'airplanes', 'airplanes', 'airplanes', 'airplanes', 'airplanes', 'airplanes', 'airplanes', 'airplanes', 'airplanes', 'airplanes', 'airplanes', 'airplanes', 'airplanes', 'airplanes', 'airplanes', 'airplanes', 'airplanes', 'airplanes', 'airplanes', 'airplanes', 'airplanes', 'airplanes', 'airplanes', 'airplanes', 'airplanes', 'airplanes', 'airplanes', 'airplanes', 'airplanes', 'airplanes', 'airplanes', 'airplanes', 'airplanes', 'airplanes', 'airplanes', 'airplanes', 'airplanes', 'airplanes', 'airplanes', 'airplanes', 'airplanes', 'airplanes', 'airplanes', 'airplanes', 'airplanes', 'airplanes', 'airplanes', 'airplanes', 'airplanes', 'airplanes', 'airplanes', 'airplanes', 'airplanes', 'airplanes', 'airplanes', 'airplanes', 'airplanes', 'airplanes', 'airplanes', 'butterfly', 'butterfly', 'butterfly', 'butterfly', 'butterfly', 'butterfly', 'butterfly', 'butterfly', 'butterfly', 'butterfly', 'butterfly', 'butterfly', 'butterfly', 'butterfly', 'butterfly', 'butterfly', 'butterfly', 'butterfly', 'butterfly', 'butterfly', 'butterfly', 'butterfly', 'butterfly', 'butterfly', 'butterfly', 'butterfly', 'butterfly', 'butterfly', 'butterfly', 'butterfly', 'butterfly', 'butterfly', 'butterfly', 'butterfly', 'butterfly', 'butterfly', 'butterfly', 'butterfly', 'butterfly', 'butterfly', 'butterfly', 'butterfly']\n",
        "Sorry. 'int' object is not iterable\n",
        "Had trouble with ../102_Categories/butterfly/image_0046.jpg\n",
        "img matrix"
       ]
      },
      {
       "output_type": "stream",
       "stream": "stdout",
       "text": [
        " [[0 0 0]\n",
        " [0 0 0]\n",
        " [0 0 0]\n",
        " ..., \n",
        " [0 0 0]\n",
        " [0 0 0]\n",
        " [0 0 0]]\n",
        "163 163\n",
        "['airplanes', 'airplanes', 'airplanes', 'airplanes', 'airplanes', 'airplanes', 'airplanes', 'airplanes', 'airplanes', 'airplanes', 'airplanes', 'airplanes', 'airplanes', 'airplanes', 'airplanes', 'airplanes', 'airplanes', 'airplanes', 'airplanes', 'airplanes', 'airplanes', 'airplanes', 'airplanes', 'airplanes', 'airplanes', 'airplanes', 'airplanes', 'airplanes', 'airplanes', 'airplanes', 'airplanes', 'airplanes', 'airplanes', 'airplanes', 'airplanes', 'airplanes', 'airplanes', 'airplanes', 'airplanes', 'airplanes', 'airplanes', 'airplanes', 'airplanes', 'airplanes', 'airplanes', 'airplanes', 'airplanes', 'airplanes', 'airplanes', 'airplanes', 'airplanes', 'airplanes', 'airplanes', 'airplanes', 'airplanes', 'airplanes', 'airplanes', 'airplanes', 'airplanes', 'airplanes', 'airplanes', 'airplanes', 'airplanes', 'airplanes', 'airplanes', 'airplanes', 'airplanes', 'airplanes', 'airplanes', 'airplanes', 'airplanes', 'airplanes', 'airplanes', 'airplanes', 'airplanes', 'airplanes', 'airplanes', 'airplanes', 'airplanes', 'airplanes', 'airplanes', 'airplanes', 'airplanes', 'airplanes', 'airplanes', 'airplanes', 'airplanes', 'airplanes', 'airplanes', 'airplanes', 'airplanes', 'airplanes', 'airplanes', 'airplanes', 'airplanes', 'airplanes', 'airplanes', 'airplanes', 'airplanes', 'airplanes', 'airplanes', 'airplanes', 'airplanes', 'airplanes', 'airplanes', 'airplanes', 'airplanes', 'airplanes', 'airplanes', 'airplanes', 'airplanes', 'airplanes', 'airplanes', 'airplanes', 'airplanes', 'airplanes', 'airplanes', 'airplanes', 'airplanes', 'airplanes', 'butterfly', 'butterfly', 'butterfly', 'butterfly', 'butterfly', 'butterfly', 'butterfly', 'butterfly', 'butterfly', 'butterfly', 'butterfly', 'butterfly', 'butterfly', 'butterfly', 'butterfly', 'butterfly', 'butterfly', 'butterfly', 'butterfly', 'butterfly', 'butterfly', 'butterfly', 'butterfly', 'butterfly', 'butterfly', 'butterfly', 'butterfly', 'butterfly', 'butterfly', 'butterfly', 'butterfly', 'butterfly', 'butterfly', 'butterfly', 'butterfly', 'butterfly', 'butterfly', 'butterfly', 'butterfly', 'butterfly', 'butterfly', 'butterfly', 'butterfly']\n",
        "img matrix"
       ]
      },
      {
       "output_type": "stream",
       "stream": "stdout",
       "text": [
        " [[19 33 20]\n",
        " [19 33 20]\n",
        " [19 33 20]\n",
        " ..., \n",
        " [15 28 19]\n",
        " [14 27 18]\n",
        " [13 26 17]]\n",
        "164 164\n",
        "['airplanes', 'airplanes', 'airplanes', 'airplanes', 'airplanes', 'airplanes', 'airplanes', 'airplanes', 'airplanes', 'airplanes', 'airplanes', 'airplanes', 'airplanes', 'airplanes', 'airplanes', 'airplanes', 'airplanes', 'airplanes', 'airplanes', 'airplanes', 'airplanes', 'airplanes', 'airplanes', 'airplanes', 'airplanes', 'airplanes', 'airplanes', 'airplanes', 'airplanes', 'airplanes', 'airplanes', 'airplanes', 'airplanes', 'airplanes', 'airplanes', 'airplanes', 'airplanes', 'airplanes', 'airplanes', 'airplanes', 'airplanes', 'airplanes', 'airplanes', 'airplanes', 'airplanes', 'airplanes', 'airplanes', 'airplanes', 'airplanes', 'airplanes', 'airplanes', 'airplanes', 'airplanes', 'airplanes', 'airplanes', 'airplanes', 'airplanes', 'airplanes', 'airplanes', 'airplanes', 'airplanes', 'airplanes', 'airplanes', 'airplanes', 'airplanes', 'airplanes', 'airplanes', 'airplanes', 'airplanes', 'airplanes', 'airplanes', 'airplanes', 'airplanes', 'airplanes', 'airplanes', 'airplanes', 'airplanes', 'airplanes', 'airplanes', 'airplanes', 'airplanes', 'airplanes', 'airplanes', 'airplanes', 'airplanes', 'airplanes', 'airplanes', 'airplanes', 'airplanes', 'airplanes', 'airplanes', 'airplanes', 'airplanes', 'airplanes', 'airplanes', 'airplanes', 'airplanes', 'airplanes', 'airplanes', 'airplanes', 'airplanes', 'airplanes', 'airplanes', 'airplanes', 'airplanes', 'airplanes', 'airplanes', 'airplanes', 'airplanes', 'airplanes', 'airplanes', 'airplanes', 'airplanes', 'airplanes', 'airplanes', 'airplanes', 'airplanes', 'airplanes', 'airplanes', 'airplanes', 'butterfly', 'butterfly', 'butterfly', 'butterfly', 'butterfly', 'butterfly', 'butterfly', 'butterfly', 'butterfly', 'butterfly', 'butterfly', 'butterfly', 'butterfly', 'butterfly', 'butterfly', 'butterfly', 'butterfly', 'butterfly', 'butterfly', 'butterfly', 'butterfly', 'butterfly', 'butterfly', 'butterfly', 'butterfly', 'butterfly', 'butterfly', 'butterfly', 'butterfly', 'butterfly', 'butterfly', 'butterfly', 'butterfly', 'butterfly', 'butterfly', 'butterfly', 'butterfly', 'butterfly', 'butterfly', 'butterfly', 'butterfly', 'butterfly', 'butterfly', 'butterfly']\n",
        "img matrix"
       ]
      },
      {
       "output_type": "stream",
       "stream": "stdout",
       "text": [
        " [[0 0 0]\n",
        " [0 0 0]\n",
        " [0 0 0]\n",
        " ..., \n",
        " [0 0 0]\n",
        " [0 0 0]\n",
        " [0 0 0]]\n",
        "165 165\n",
        "['airplanes', 'airplanes', 'airplanes', 'airplanes', 'airplanes', 'airplanes', 'airplanes', 'airplanes', 'airplanes', 'airplanes', 'airplanes', 'airplanes', 'airplanes', 'airplanes', 'airplanes', 'airplanes', 'airplanes', 'airplanes', 'airplanes', 'airplanes', 'airplanes', 'airplanes', 'airplanes', 'airplanes', 'airplanes', 'airplanes', 'airplanes', 'airplanes', 'airplanes', 'airplanes', 'airplanes', 'airplanes', 'airplanes', 'airplanes', 'airplanes', 'airplanes', 'airplanes', 'airplanes', 'airplanes', 'airplanes', 'airplanes', 'airplanes', 'airplanes', 'airplanes', 'airplanes', 'airplanes', 'airplanes', 'airplanes', 'airplanes', 'airplanes', 'airplanes', 'airplanes', 'airplanes', 'airplanes', 'airplanes', 'airplanes', 'airplanes', 'airplanes', 'airplanes', 'airplanes', 'airplanes', 'airplanes', 'airplanes', 'airplanes', 'airplanes', 'airplanes', 'airplanes', 'airplanes', 'airplanes', 'airplanes', 'airplanes', 'airplanes', 'airplanes', 'airplanes', 'airplanes', 'airplanes', 'airplanes', 'airplanes', 'airplanes', 'airplanes', 'airplanes', 'airplanes', 'airplanes', 'airplanes', 'airplanes', 'airplanes', 'airplanes', 'airplanes', 'airplanes', 'airplanes', 'airplanes', 'airplanes', 'airplanes', 'airplanes', 'airplanes', 'airplanes', 'airplanes', 'airplanes', 'airplanes', 'airplanes', 'airplanes', 'airplanes', 'airplanes', 'airplanes', 'airplanes', 'airplanes', 'airplanes', 'airplanes', 'airplanes', 'airplanes', 'airplanes', 'airplanes', 'airplanes', 'airplanes', 'airplanes', 'airplanes', 'airplanes', 'airplanes', 'airplanes', 'airplanes', 'butterfly', 'butterfly', 'butterfly', 'butterfly', 'butterfly', 'butterfly', 'butterfly', 'butterfly', 'butterfly', 'butterfly', 'butterfly', 'butterfly', 'butterfly', 'butterfly', 'butterfly', 'butterfly', 'butterfly', 'butterfly', 'butterfly', 'butterfly', 'butterfly', 'butterfly', 'butterfly', 'butterfly', 'butterfly', 'butterfly', 'butterfly', 'butterfly', 'butterfly', 'butterfly', 'butterfly', 'butterfly', 'butterfly', 'butterfly', 'butterfly', 'butterfly', 'butterfly', 'butterfly', 'butterfly', 'butterfly', 'butterfly', 'butterfly', 'butterfly', 'butterfly', 'butterfly']\n",
        "img matrix"
       ]
      },
      {
       "output_type": "stream",
       "stream": "stdout",
       "text": [
        " [[255 252 255]\n",
        " [255 252 255]\n",
        " [255 253 255]\n",
        " ..., \n",
        " [255 255 255]\n",
        " [255 255 255]\n",
        " [255 255 255]]\n",
        "166 166\n",
        "['airplanes', 'airplanes', 'airplanes', 'airplanes', 'airplanes', 'airplanes', 'airplanes', 'airplanes', 'airplanes', 'airplanes', 'airplanes', 'airplanes', 'airplanes', 'airplanes', 'airplanes', 'airplanes', 'airplanes', 'airplanes', 'airplanes', 'airplanes', 'airplanes', 'airplanes', 'airplanes', 'airplanes', 'airplanes', 'airplanes', 'airplanes', 'airplanes', 'airplanes', 'airplanes', 'airplanes', 'airplanes', 'airplanes', 'airplanes', 'airplanes', 'airplanes', 'airplanes', 'airplanes', 'airplanes', 'airplanes', 'airplanes', 'airplanes', 'airplanes', 'airplanes', 'airplanes', 'airplanes', 'airplanes', 'airplanes', 'airplanes', 'airplanes', 'airplanes', 'airplanes', 'airplanes', 'airplanes', 'airplanes', 'airplanes', 'airplanes', 'airplanes', 'airplanes', 'airplanes', 'airplanes', 'airplanes', 'airplanes', 'airplanes', 'airplanes', 'airplanes', 'airplanes', 'airplanes', 'airplanes', 'airplanes', 'airplanes', 'airplanes', 'airplanes', 'airplanes', 'airplanes', 'airplanes', 'airplanes', 'airplanes', 'airplanes', 'airplanes', 'airplanes', 'airplanes', 'airplanes', 'airplanes', 'airplanes', 'airplanes', 'airplanes', 'airplanes', 'airplanes', 'airplanes', 'airplanes', 'airplanes', 'airplanes', 'airplanes', 'airplanes', 'airplanes', 'airplanes', 'airplanes', 'airplanes', 'airplanes', 'airplanes', 'airplanes', 'airplanes', 'airplanes', 'airplanes', 'airplanes', 'airplanes', 'airplanes', 'airplanes', 'airplanes', 'airplanes', 'airplanes', 'airplanes', 'airplanes', 'airplanes', 'airplanes', 'airplanes', 'airplanes', 'airplanes', 'airplanes', 'butterfly', 'butterfly', 'butterfly', 'butterfly', 'butterfly', 'butterfly', 'butterfly', 'butterfly', 'butterfly', 'butterfly', 'butterfly', 'butterfly', 'butterfly', 'butterfly', 'butterfly', 'butterfly', 'butterfly', 'butterfly', 'butterfly', 'butterfly', 'butterfly', 'butterfly', 'butterfly', 'butterfly', 'butterfly', 'butterfly', 'butterfly', 'butterfly', 'butterfly', 'butterfly', 'butterfly', 'butterfly', 'butterfly', 'butterfly', 'butterfly', 'butterfly', 'butterfly', 'butterfly', 'butterfly', 'butterfly', 'butterfly', 'butterfly', 'butterfly', 'butterfly', 'butterfly', 'butterfly']\n",
        "img matrix"
       ]
      },
      {
       "output_type": "stream",
       "stream": "stdout",
       "text": [
        " [[0 0 0]\n",
        " [0 0 0]\n",
        " [0 0 0]\n",
        " ..., \n",
        " [0 0 0]\n",
        " [0 0 0]\n",
        " [0 0 0]]\n",
        "167 167\n",
        "['airplanes', 'airplanes', 'airplanes', 'airplanes', 'airplanes', 'airplanes', 'airplanes', 'airplanes', 'airplanes', 'airplanes', 'airplanes', 'airplanes', 'airplanes', 'airplanes', 'airplanes', 'airplanes', 'airplanes', 'airplanes', 'airplanes', 'airplanes', 'airplanes', 'airplanes', 'airplanes', 'airplanes', 'airplanes', 'airplanes', 'airplanes', 'airplanes', 'airplanes', 'airplanes', 'airplanes', 'airplanes', 'airplanes', 'airplanes', 'airplanes', 'airplanes', 'airplanes', 'airplanes', 'airplanes', 'airplanes', 'airplanes', 'airplanes', 'airplanes', 'airplanes', 'airplanes', 'airplanes', 'airplanes', 'airplanes', 'airplanes', 'airplanes', 'airplanes', 'airplanes', 'airplanes', 'airplanes', 'airplanes', 'airplanes', 'airplanes', 'airplanes', 'airplanes', 'airplanes', 'airplanes', 'airplanes', 'airplanes', 'airplanes', 'airplanes', 'airplanes', 'airplanes', 'airplanes', 'airplanes', 'airplanes', 'airplanes', 'airplanes', 'airplanes', 'airplanes', 'airplanes', 'airplanes', 'airplanes', 'airplanes', 'airplanes', 'airplanes', 'airplanes', 'airplanes', 'airplanes', 'airplanes', 'airplanes', 'airplanes', 'airplanes', 'airplanes', 'airplanes', 'airplanes', 'airplanes', 'airplanes', 'airplanes', 'airplanes', 'airplanes', 'airplanes', 'airplanes', 'airplanes', 'airplanes', 'airplanes', 'airplanes', 'airplanes', 'airplanes', 'airplanes', 'airplanes', 'airplanes', 'airplanes', 'airplanes', 'airplanes', 'airplanes', 'airplanes', 'airplanes', 'airplanes', 'airplanes', 'airplanes', 'airplanes', 'airplanes', 'airplanes', 'airplanes', 'airplanes', 'butterfly', 'butterfly', 'butterfly', 'butterfly', 'butterfly', 'butterfly', 'butterfly', 'butterfly', 'butterfly', 'butterfly', 'butterfly', 'butterfly', 'butterfly', 'butterfly', 'butterfly', 'butterfly', 'butterfly', 'butterfly', 'butterfly', 'butterfly', 'butterfly', 'butterfly', 'butterfly', 'butterfly', 'butterfly', 'butterfly', 'butterfly', 'butterfly', 'butterfly', 'butterfly', 'butterfly', 'butterfly', 'butterfly', 'butterfly', 'butterfly', 'butterfly', 'butterfly', 'butterfly', 'butterfly', 'butterfly', 'butterfly', 'butterfly', 'butterfly', 'butterfly', 'butterfly', 'butterfly', 'butterfly']\n",
        "img matrix"
       ]
      },
      {
       "output_type": "stream",
       "stream": "stdout",
       "text": [
        " [[0 0 0]\n",
        " [0 0 0]\n",
        " [0 0 0]\n",
        " ..., \n",
        " [0 0 0]\n",
        " [0 0 0]\n",
        " [0 0 0]]\n",
        "168 168\n",
        "['airplanes', 'airplanes', 'airplanes', 'airplanes', 'airplanes', 'airplanes', 'airplanes', 'airplanes', 'airplanes', 'airplanes', 'airplanes', 'airplanes', 'airplanes', 'airplanes', 'airplanes', 'airplanes', 'airplanes', 'airplanes', 'airplanes', 'airplanes', 'airplanes', 'airplanes', 'airplanes', 'airplanes', 'airplanes', 'airplanes', 'airplanes', 'airplanes', 'airplanes', 'airplanes', 'airplanes', 'airplanes', 'airplanes', 'airplanes', 'airplanes', 'airplanes', 'airplanes', 'airplanes', 'airplanes', 'airplanes', 'airplanes', 'airplanes', 'airplanes', 'airplanes', 'airplanes', 'airplanes', 'airplanes', 'airplanes', 'airplanes', 'airplanes', 'airplanes', 'airplanes', 'airplanes', 'airplanes', 'airplanes', 'airplanes', 'airplanes', 'airplanes', 'airplanes', 'airplanes', 'airplanes', 'airplanes', 'airplanes', 'airplanes', 'airplanes', 'airplanes', 'airplanes', 'airplanes', 'airplanes', 'airplanes', 'airplanes', 'airplanes', 'airplanes', 'airplanes', 'airplanes', 'airplanes', 'airplanes', 'airplanes', 'airplanes', 'airplanes', 'airplanes', 'airplanes', 'airplanes', 'airplanes', 'airplanes', 'airplanes', 'airplanes', 'airplanes', 'airplanes', 'airplanes', 'airplanes', 'airplanes', 'airplanes', 'airplanes', 'airplanes', 'airplanes', 'airplanes', 'airplanes', 'airplanes', 'airplanes', 'airplanes', 'airplanes', 'airplanes', 'airplanes', 'airplanes', 'airplanes', 'airplanes', 'airplanes', 'airplanes', 'airplanes', 'airplanes', 'airplanes', 'airplanes', 'airplanes', 'airplanes', 'airplanes', 'airplanes', 'airplanes', 'airplanes', 'airplanes', 'butterfly', 'butterfly', 'butterfly', 'butterfly', 'butterfly', 'butterfly', 'butterfly', 'butterfly', 'butterfly', 'butterfly', 'butterfly', 'butterfly', 'butterfly', 'butterfly', 'butterfly', 'butterfly', 'butterfly', 'butterfly', 'butterfly', 'butterfly', 'butterfly', 'butterfly', 'butterfly', 'butterfly', 'butterfly', 'butterfly', 'butterfly', 'butterfly', 'butterfly', 'butterfly', 'butterfly', 'butterfly', 'butterfly', 'butterfly', 'butterfly', 'butterfly', 'butterfly', 'butterfly', 'butterfly', 'butterfly', 'butterfly', 'butterfly', 'butterfly', 'butterfly', 'butterfly', 'butterfly', 'butterfly', 'butterfly']\n",
        "img matrix"
       ]
      },
      {
       "output_type": "stream",
       "stream": "stdout",
       "text": [
        " [[222 255 254]\n",
        " [221 255 249]\n",
        " [237 255 255]\n",
        " ..., \n",
        " [255 255 255]\n",
        " [255 255 255]\n",
        " [255 255 255]]\n",
        "169 169\n",
        "['airplanes', 'airplanes', 'airplanes', 'airplanes', 'airplanes', 'airplanes', 'airplanes', 'airplanes', 'airplanes', 'airplanes', 'airplanes', 'airplanes', 'airplanes', 'airplanes', 'airplanes', 'airplanes', 'airplanes', 'airplanes', 'airplanes', 'airplanes', 'airplanes', 'airplanes', 'airplanes', 'airplanes', 'airplanes', 'airplanes', 'airplanes', 'airplanes', 'airplanes', 'airplanes', 'airplanes', 'airplanes', 'airplanes', 'airplanes', 'airplanes', 'airplanes', 'airplanes', 'airplanes', 'airplanes', 'airplanes', 'airplanes', 'airplanes', 'airplanes', 'airplanes', 'airplanes', 'airplanes', 'airplanes', 'airplanes', 'airplanes', 'airplanes', 'airplanes', 'airplanes', 'airplanes', 'airplanes', 'airplanes', 'airplanes', 'airplanes', 'airplanes', 'airplanes', 'airplanes', 'airplanes', 'airplanes', 'airplanes', 'airplanes', 'airplanes', 'airplanes', 'airplanes', 'airplanes', 'airplanes', 'airplanes', 'airplanes', 'airplanes', 'airplanes', 'airplanes', 'airplanes', 'airplanes', 'airplanes', 'airplanes', 'airplanes', 'airplanes', 'airplanes', 'airplanes', 'airplanes', 'airplanes', 'airplanes', 'airplanes', 'airplanes', 'airplanes', 'airplanes', 'airplanes', 'airplanes', 'airplanes', 'airplanes', 'airplanes', 'airplanes', 'airplanes', 'airplanes', 'airplanes', 'airplanes', 'airplanes', 'airplanes', 'airplanes', 'airplanes', 'airplanes', 'airplanes', 'airplanes', 'airplanes', 'airplanes', 'airplanes', 'airplanes', 'airplanes', 'airplanes', 'airplanes', 'airplanes', 'airplanes', 'airplanes', 'airplanes', 'airplanes', 'airplanes', 'airplanes', 'butterfly', 'butterfly', 'butterfly', 'butterfly', 'butterfly', 'butterfly', 'butterfly', 'butterfly', 'butterfly', 'butterfly', 'butterfly', 'butterfly', 'butterfly', 'butterfly', 'butterfly', 'butterfly', 'butterfly', 'butterfly', 'butterfly', 'butterfly', 'butterfly', 'butterfly', 'butterfly', 'butterfly', 'butterfly', 'butterfly', 'butterfly', 'butterfly', 'butterfly', 'butterfly', 'butterfly', 'butterfly', 'butterfly', 'butterfly', 'butterfly', 'butterfly', 'butterfly', 'butterfly', 'butterfly', 'butterfly', 'butterfly', 'butterfly', 'butterfly', 'butterfly', 'butterfly', 'butterfly', 'butterfly', 'butterfly', 'butterfly']\n",
        "img matrix"
       ]
      },
      {
       "output_type": "stream",
       "stream": "stdout",
       "text": [
        " [[0 0 0]\n",
        " [0 0 0]\n",
        " [0 0 0]\n",
        " ..., \n",
        " [0 0 0]\n",
        " [0 0 0]\n",
        " [0 0 0]]\n",
        "170 170\n",
        "['airplanes', 'airplanes', 'airplanes', 'airplanes', 'airplanes', 'airplanes', 'airplanes', 'airplanes', 'airplanes', 'airplanes', 'airplanes', 'airplanes', 'airplanes', 'airplanes', 'airplanes', 'airplanes', 'airplanes', 'airplanes', 'airplanes', 'airplanes', 'airplanes', 'airplanes', 'airplanes', 'airplanes', 'airplanes', 'airplanes', 'airplanes', 'airplanes', 'airplanes', 'airplanes', 'airplanes', 'airplanes', 'airplanes', 'airplanes', 'airplanes', 'airplanes', 'airplanes', 'airplanes', 'airplanes', 'airplanes', 'airplanes', 'airplanes', 'airplanes', 'airplanes', 'airplanes', 'airplanes', 'airplanes', 'airplanes', 'airplanes', 'airplanes', 'airplanes', 'airplanes', 'airplanes', 'airplanes', 'airplanes', 'airplanes', 'airplanes', 'airplanes', 'airplanes', 'airplanes', 'airplanes', 'airplanes', 'airplanes', 'airplanes', 'airplanes', 'airplanes', 'airplanes', 'airplanes', 'airplanes', 'airplanes', 'airplanes', 'airplanes', 'airplanes', 'airplanes', 'airplanes', 'airplanes', 'airplanes', 'airplanes', 'airplanes', 'airplanes', 'airplanes', 'airplanes', 'airplanes', 'airplanes', 'airplanes', 'airplanes', 'airplanes', 'airplanes', 'airplanes', 'airplanes', 'airplanes', 'airplanes', 'airplanes', 'airplanes', 'airplanes', 'airplanes', 'airplanes', 'airplanes', 'airplanes', 'airplanes', 'airplanes', 'airplanes', 'airplanes', 'airplanes', 'airplanes', 'airplanes', 'airplanes', 'airplanes', 'airplanes', 'airplanes', 'airplanes', 'airplanes', 'airplanes', 'airplanes', 'airplanes', 'airplanes', 'airplanes', 'airplanes', 'airplanes', 'airplanes', 'butterfly', 'butterfly', 'butterfly', 'butterfly', 'butterfly', 'butterfly', 'butterfly', 'butterfly', 'butterfly', 'butterfly', 'butterfly', 'butterfly', 'butterfly', 'butterfly', 'butterfly', 'butterfly', 'butterfly', 'butterfly', 'butterfly', 'butterfly', 'butterfly', 'butterfly', 'butterfly', 'butterfly', 'butterfly', 'butterfly', 'butterfly', 'butterfly', 'butterfly', 'butterfly', 'butterfly', 'butterfly', 'butterfly', 'butterfly', 'butterfly', 'butterfly', 'butterfly', 'butterfly', 'butterfly', 'butterfly', 'butterfly', 'butterfly', 'butterfly', 'butterfly', 'butterfly', 'butterfly', 'butterfly', 'butterfly', 'butterfly', 'butterfly']\n",
        "img matrix"
       ]
      },
      {
       "output_type": "stream",
       "stream": "stdout",
       "text": [
        " [[240 253 246]\n",
        " [240 253 246]\n",
        " [240 253 246]\n",
        " ..., \n",
        " [242 251 246]\n",
        " [242 251 246]\n",
        " [242 251 246]]\n",
        "171 171\n",
        "['airplanes', 'airplanes', 'airplanes', 'airplanes', 'airplanes', 'airplanes', 'airplanes', 'airplanes', 'airplanes', 'airplanes', 'airplanes', 'airplanes', 'airplanes', 'airplanes', 'airplanes', 'airplanes', 'airplanes', 'airplanes', 'airplanes', 'airplanes', 'airplanes', 'airplanes', 'airplanes', 'airplanes', 'airplanes', 'airplanes', 'airplanes', 'airplanes', 'airplanes', 'airplanes', 'airplanes', 'airplanes', 'airplanes', 'airplanes', 'airplanes', 'airplanes', 'airplanes', 'airplanes', 'airplanes', 'airplanes', 'airplanes', 'airplanes', 'airplanes', 'airplanes', 'airplanes', 'airplanes', 'airplanes', 'airplanes', 'airplanes', 'airplanes', 'airplanes', 'airplanes', 'airplanes', 'airplanes', 'airplanes', 'airplanes', 'airplanes', 'airplanes', 'airplanes', 'airplanes', 'airplanes', 'airplanes', 'airplanes', 'airplanes', 'airplanes', 'airplanes', 'airplanes', 'airplanes', 'airplanes', 'airplanes', 'airplanes', 'airplanes', 'airplanes', 'airplanes', 'airplanes', 'airplanes', 'airplanes', 'airplanes', 'airplanes', 'airplanes', 'airplanes', 'airplanes', 'airplanes', 'airplanes', 'airplanes', 'airplanes', 'airplanes', 'airplanes', 'airplanes', 'airplanes', 'airplanes', 'airplanes', 'airplanes', 'airplanes', 'airplanes', 'airplanes', 'airplanes', 'airplanes', 'airplanes', 'airplanes', 'airplanes', 'airplanes', 'airplanes', 'airplanes', 'airplanes', 'airplanes', 'airplanes', 'airplanes', 'airplanes', 'airplanes', 'airplanes', 'airplanes', 'airplanes', 'airplanes', 'airplanes', 'airplanes', 'airplanes', 'airplanes', 'airplanes', 'airplanes', 'butterfly', 'butterfly', 'butterfly', 'butterfly', 'butterfly', 'butterfly', 'butterfly', 'butterfly', 'butterfly', 'butterfly', 'butterfly', 'butterfly', 'butterfly', 'butterfly', 'butterfly', 'butterfly', 'butterfly', 'butterfly', 'butterfly', 'butterfly', 'butterfly', 'butterfly', 'butterfly', 'butterfly', 'butterfly', 'butterfly', 'butterfly', 'butterfly', 'butterfly', 'butterfly', 'butterfly', 'butterfly', 'butterfly', 'butterfly', 'butterfly', 'butterfly', 'butterfly', 'butterfly', 'butterfly', 'butterfly', 'butterfly', 'butterfly', 'butterfly', 'butterfly', 'butterfly', 'butterfly', 'butterfly', 'butterfly', 'butterfly', 'butterfly', 'butterfly']\n",
        "img matrix"
       ]
      },
      {
       "output_type": "stream",
       "stream": "stdout",
       "text": [
        " [[0 0 0]\n",
        " [0 0 0]\n",
        " [0 0 0]\n",
        " ..., \n",
        " [0 0 0]\n",
        " [0 0 0]\n",
        " [0 0 0]]\n",
        "172 172\n",
        "['airplanes', 'airplanes', 'airplanes', 'airplanes', 'airplanes', 'airplanes', 'airplanes', 'airplanes', 'airplanes', 'airplanes', 'airplanes', 'airplanes', 'airplanes', 'airplanes', 'airplanes', 'airplanes', 'airplanes', 'airplanes', 'airplanes', 'airplanes', 'airplanes', 'airplanes', 'airplanes', 'airplanes', 'airplanes', 'airplanes', 'airplanes', 'airplanes', 'airplanes', 'airplanes', 'airplanes', 'airplanes', 'airplanes', 'airplanes', 'airplanes', 'airplanes', 'airplanes', 'airplanes', 'airplanes', 'airplanes', 'airplanes', 'airplanes', 'airplanes', 'airplanes', 'airplanes', 'airplanes', 'airplanes', 'airplanes', 'airplanes', 'airplanes', 'airplanes', 'airplanes', 'airplanes', 'airplanes', 'airplanes', 'airplanes', 'airplanes', 'airplanes', 'airplanes', 'airplanes', 'airplanes', 'airplanes', 'airplanes', 'airplanes', 'airplanes', 'airplanes', 'airplanes', 'airplanes', 'airplanes', 'airplanes', 'airplanes', 'airplanes', 'airplanes', 'airplanes', 'airplanes', 'airplanes', 'airplanes', 'airplanes', 'airplanes', 'airplanes', 'airplanes', 'airplanes', 'airplanes', 'airplanes', 'airplanes', 'airplanes', 'airplanes', 'airplanes', 'airplanes', 'airplanes', 'airplanes', 'airplanes', 'airplanes', 'airplanes', 'airplanes', 'airplanes', 'airplanes', 'airplanes', 'airplanes', 'airplanes', 'airplanes', 'airplanes', 'airplanes', 'airplanes', 'airplanes', 'airplanes', 'airplanes', 'airplanes', 'airplanes', 'airplanes', 'airplanes', 'airplanes', 'airplanes', 'airplanes', 'airplanes', 'airplanes', 'airplanes', 'airplanes', 'airplanes', 'airplanes', 'butterfly', 'butterfly', 'butterfly', 'butterfly', 'butterfly', 'butterfly', 'butterfly', 'butterfly', 'butterfly', 'butterfly', 'butterfly', 'butterfly', 'butterfly', 'butterfly', 'butterfly', 'butterfly', 'butterfly', 'butterfly', 'butterfly', 'butterfly', 'butterfly', 'butterfly', 'butterfly', 'butterfly', 'butterfly', 'butterfly', 'butterfly', 'butterfly', 'butterfly', 'butterfly', 'butterfly', 'butterfly', 'butterfly', 'butterfly', 'butterfly', 'butterfly', 'butterfly', 'butterfly', 'butterfly', 'butterfly', 'butterfly', 'butterfly', 'butterfly', 'butterfly', 'butterfly', 'butterfly', 'butterfly', 'butterfly', 'butterfly', 'butterfly', 'butterfly', 'butterfly']\n",
        "img matrix"
       ]
      },
      {
       "output_type": "stream",
       "stream": "stdout",
       "text": [
        " [[26 35 30]\n",
        " [20 29 24]\n",
        " [14 23 18]\n",
        " ..., \n",
        " [22 31 28]\n",
        " [22 31 28]\n",
        " [23 32 29]]\n",
        "173 173\n",
        "['airplanes', 'airplanes', 'airplanes', 'airplanes', 'airplanes', 'airplanes', 'airplanes', 'airplanes', 'airplanes', 'airplanes', 'airplanes', 'airplanes', 'airplanes', 'airplanes', 'airplanes', 'airplanes', 'airplanes', 'airplanes', 'airplanes', 'airplanes', 'airplanes', 'airplanes', 'airplanes', 'airplanes', 'airplanes', 'airplanes', 'airplanes', 'airplanes', 'airplanes', 'airplanes', 'airplanes', 'airplanes', 'airplanes', 'airplanes', 'airplanes', 'airplanes', 'airplanes', 'airplanes', 'airplanes', 'airplanes', 'airplanes', 'airplanes', 'airplanes', 'airplanes', 'airplanes', 'airplanes', 'airplanes', 'airplanes', 'airplanes', 'airplanes', 'airplanes', 'airplanes', 'airplanes', 'airplanes', 'airplanes', 'airplanes', 'airplanes', 'airplanes', 'airplanes', 'airplanes', 'airplanes', 'airplanes', 'airplanes', 'airplanes', 'airplanes', 'airplanes', 'airplanes', 'airplanes', 'airplanes', 'airplanes', 'airplanes', 'airplanes', 'airplanes', 'airplanes', 'airplanes', 'airplanes', 'airplanes', 'airplanes', 'airplanes', 'airplanes', 'airplanes', 'airplanes', 'airplanes', 'airplanes', 'airplanes', 'airplanes', 'airplanes', 'airplanes', 'airplanes', 'airplanes', 'airplanes', 'airplanes', 'airplanes', 'airplanes', 'airplanes', 'airplanes', 'airplanes', 'airplanes', 'airplanes', 'airplanes', 'airplanes', 'airplanes', 'airplanes', 'airplanes', 'airplanes', 'airplanes', 'airplanes', 'airplanes', 'airplanes', 'airplanes', 'airplanes', 'airplanes', 'airplanes', 'airplanes', 'airplanes', 'airplanes', 'airplanes', 'airplanes', 'airplanes', 'airplanes', 'butterfly', 'butterfly', 'butterfly', 'butterfly', 'butterfly', 'butterfly', 'butterfly', 'butterfly', 'butterfly', 'butterfly', 'butterfly', 'butterfly', 'butterfly', 'butterfly', 'butterfly', 'butterfly', 'butterfly', 'butterfly', 'butterfly', 'butterfly', 'butterfly', 'butterfly', 'butterfly', 'butterfly', 'butterfly', 'butterfly', 'butterfly', 'butterfly', 'butterfly', 'butterfly', 'butterfly', 'butterfly', 'butterfly', 'butterfly', 'butterfly', 'butterfly', 'butterfly', 'butterfly', 'butterfly', 'butterfly', 'butterfly', 'butterfly', 'butterfly', 'butterfly', 'butterfly', 'butterfly', 'butterfly', 'butterfly', 'butterfly', 'butterfly', 'butterfly', 'butterfly', 'butterfly']\n",
        "img matrix"
       ]
      },
      {
       "output_type": "stream",
       "stream": "stdout",
       "text": [
        " [[ 67 107  81]\n",
        " [ 77 117  91]\n",
        " [ 86 124  99]\n",
        " ..., \n",
        " [ 94 100 100]\n",
        " [ 96 106  97]\n",
        " [ 99 110  93]]\n",
        "174 174\n",
        "['airplanes', 'airplanes', 'airplanes', 'airplanes', 'airplanes', 'airplanes', 'airplanes', 'airplanes', 'airplanes', 'airplanes', 'airplanes', 'airplanes', 'airplanes', 'airplanes', 'airplanes', 'airplanes', 'airplanes', 'airplanes', 'airplanes', 'airplanes', 'airplanes', 'airplanes', 'airplanes', 'airplanes', 'airplanes', 'airplanes', 'airplanes', 'airplanes', 'airplanes', 'airplanes', 'airplanes', 'airplanes', 'airplanes', 'airplanes', 'airplanes', 'airplanes', 'airplanes', 'airplanes', 'airplanes', 'airplanes', 'airplanes', 'airplanes', 'airplanes', 'airplanes', 'airplanes', 'airplanes', 'airplanes', 'airplanes', 'airplanes', 'airplanes', 'airplanes', 'airplanes', 'airplanes', 'airplanes', 'airplanes', 'airplanes', 'airplanes', 'airplanes', 'airplanes', 'airplanes', 'airplanes', 'airplanes', 'airplanes', 'airplanes', 'airplanes', 'airplanes', 'airplanes', 'airplanes', 'airplanes', 'airplanes', 'airplanes', 'airplanes', 'airplanes', 'airplanes', 'airplanes', 'airplanes', 'airplanes', 'airplanes', 'airplanes', 'airplanes', 'airplanes', 'airplanes', 'airplanes', 'airplanes', 'airplanes', 'airplanes', 'airplanes', 'airplanes', 'airplanes', 'airplanes', 'airplanes', 'airplanes', 'airplanes', 'airplanes', 'airplanes', 'airplanes', 'airplanes', 'airplanes', 'airplanes', 'airplanes', 'airplanes', 'airplanes', 'airplanes', 'airplanes', 'airplanes', 'airplanes', 'airplanes', 'airplanes', 'airplanes', 'airplanes', 'airplanes', 'airplanes', 'airplanes', 'airplanes', 'airplanes', 'airplanes', 'airplanes', 'airplanes', 'airplanes', 'airplanes', 'butterfly', 'butterfly', 'butterfly', 'butterfly', 'butterfly', 'butterfly', 'butterfly', 'butterfly', 'butterfly', 'butterfly', 'butterfly', 'butterfly', 'butterfly', 'butterfly', 'butterfly', 'butterfly', 'butterfly', 'butterfly', 'butterfly', 'butterfly', 'butterfly', 'butterfly', 'butterfly', 'butterfly', 'butterfly', 'butterfly', 'butterfly', 'butterfly', 'butterfly', 'butterfly', 'butterfly', 'butterfly', 'butterfly', 'butterfly', 'butterfly', 'butterfly', 'butterfly', 'butterfly', 'butterfly', 'butterfly', 'butterfly', 'butterfly', 'butterfly', 'butterfly', 'butterfly', 'butterfly', 'butterfly', 'butterfly', 'butterfly', 'butterfly', 'butterfly', 'butterfly', 'butterfly', 'butterfly']\n",
        "Sorry. 'int' object is not iterable\n",
        "Had trouble with ../102_Categories/butterfly/image_0059.jpg\n",
        "img matrix"
       ]
      },
      {
       "output_type": "stream",
       "stream": "stdout",
       "text": [
        " [[0 0 0]\n",
        " [0 0 0]\n",
        " [0 0 0]\n",
        " ..., \n",
        " [0 0 0]\n",
        " [0 0 0]\n",
        " [0 0 0]]\n",
        "175 175\n",
        "['airplanes', 'airplanes', 'airplanes', 'airplanes', 'airplanes', 'airplanes', 'airplanes', 'airplanes', 'airplanes', 'airplanes', 'airplanes', 'airplanes', 'airplanes', 'airplanes', 'airplanes', 'airplanes', 'airplanes', 'airplanes', 'airplanes', 'airplanes', 'airplanes', 'airplanes', 'airplanes', 'airplanes', 'airplanes', 'airplanes', 'airplanes', 'airplanes', 'airplanes', 'airplanes', 'airplanes', 'airplanes', 'airplanes', 'airplanes', 'airplanes', 'airplanes', 'airplanes', 'airplanes', 'airplanes', 'airplanes', 'airplanes', 'airplanes', 'airplanes', 'airplanes', 'airplanes', 'airplanes', 'airplanes', 'airplanes', 'airplanes', 'airplanes', 'airplanes', 'airplanes', 'airplanes', 'airplanes', 'airplanes', 'airplanes', 'airplanes', 'airplanes', 'airplanes', 'airplanes', 'airplanes', 'airplanes', 'airplanes', 'airplanes', 'airplanes', 'airplanes', 'airplanes', 'airplanes', 'airplanes', 'airplanes', 'airplanes', 'airplanes', 'airplanes', 'airplanes', 'airplanes', 'airplanes', 'airplanes', 'airplanes', 'airplanes', 'airplanes', 'airplanes', 'airplanes', 'airplanes', 'airplanes', 'airplanes', 'airplanes', 'airplanes', 'airplanes', 'airplanes', 'airplanes', 'airplanes', 'airplanes', 'airplanes', 'airplanes', 'airplanes', 'airplanes', 'airplanes', 'airplanes', 'airplanes', 'airplanes', 'airplanes', 'airplanes', 'airplanes', 'airplanes', 'airplanes', 'airplanes', 'airplanes', 'airplanes', 'airplanes', 'airplanes', 'airplanes', 'airplanes', 'airplanes', 'airplanes', 'airplanes', 'airplanes', 'airplanes', 'airplanes', 'airplanes', 'airplanes', 'butterfly', 'butterfly', 'butterfly', 'butterfly', 'butterfly', 'butterfly', 'butterfly', 'butterfly', 'butterfly', 'butterfly', 'butterfly', 'butterfly', 'butterfly', 'butterfly', 'butterfly', 'butterfly', 'butterfly', 'butterfly', 'butterfly', 'butterfly', 'butterfly', 'butterfly', 'butterfly', 'butterfly', 'butterfly', 'butterfly', 'butterfly', 'butterfly', 'butterfly', 'butterfly', 'butterfly', 'butterfly', 'butterfly', 'butterfly', 'butterfly', 'butterfly', 'butterfly', 'butterfly', 'butterfly', 'butterfly', 'butterfly', 'butterfly', 'butterfly', 'butterfly', 'butterfly', 'butterfly', 'butterfly', 'butterfly', 'butterfly', 'butterfly', 'butterfly', 'butterfly', 'butterfly', 'butterfly', 'butterfly']\n",
        "img matrix"
       ]
      },
      {
       "output_type": "stream",
       "stream": "stdout",
       "text": [
        " [[255 229 181]\n",
        " [203 172 125]\n",
        " [197 166 119]\n",
        " ..., \n",
        " [208 157 104]\n",
        " [207 156 101]\n",
        " [207 156 101]]\n",
        "176 176\n",
        "['airplanes', 'airplanes', 'airplanes', 'airplanes', 'airplanes', 'airplanes', 'airplanes', 'airplanes', 'airplanes', 'airplanes', 'airplanes', 'airplanes', 'airplanes', 'airplanes', 'airplanes', 'airplanes', 'airplanes', 'airplanes', 'airplanes', 'airplanes', 'airplanes', 'airplanes', 'airplanes', 'airplanes', 'airplanes', 'airplanes', 'airplanes', 'airplanes', 'airplanes', 'airplanes', 'airplanes', 'airplanes', 'airplanes', 'airplanes', 'airplanes', 'airplanes', 'airplanes', 'airplanes', 'airplanes', 'airplanes', 'airplanes', 'airplanes', 'airplanes', 'airplanes', 'airplanes', 'airplanes', 'airplanes', 'airplanes', 'airplanes', 'airplanes', 'airplanes', 'airplanes', 'airplanes', 'airplanes', 'airplanes', 'airplanes', 'airplanes', 'airplanes', 'airplanes', 'airplanes', 'airplanes', 'airplanes', 'airplanes', 'airplanes', 'airplanes', 'airplanes', 'airplanes', 'airplanes', 'airplanes', 'airplanes', 'airplanes', 'airplanes', 'airplanes', 'airplanes', 'airplanes', 'airplanes', 'airplanes', 'airplanes', 'airplanes', 'airplanes', 'airplanes', 'airplanes', 'airplanes', 'airplanes', 'airplanes', 'airplanes', 'airplanes', 'airplanes', 'airplanes', 'airplanes', 'airplanes', 'airplanes', 'airplanes', 'airplanes', 'airplanes', 'airplanes', 'airplanes', 'airplanes', 'airplanes', 'airplanes', 'airplanes', 'airplanes', 'airplanes', 'airplanes', 'airplanes', 'airplanes', 'airplanes', 'airplanes', 'airplanes', 'airplanes', 'airplanes', 'airplanes', 'airplanes', 'airplanes', 'airplanes', 'airplanes', 'airplanes', 'airplanes', 'airplanes', 'airplanes', 'butterfly', 'butterfly', 'butterfly', 'butterfly', 'butterfly', 'butterfly', 'butterfly', 'butterfly', 'butterfly', 'butterfly', 'butterfly', 'butterfly', 'butterfly', 'butterfly', 'butterfly', 'butterfly', 'butterfly', 'butterfly', 'butterfly', 'butterfly', 'butterfly', 'butterfly', 'butterfly', 'butterfly', 'butterfly', 'butterfly', 'butterfly', 'butterfly', 'butterfly', 'butterfly', 'butterfly', 'butterfly', 'butterfly', 'butterfly', 'butterfly', 'butterfly', 'butterfly', 'butterfly', 'butterfly', 'butterfly', 'butterfly', 'butterfly', 'butterfly', 'butterfly', 'butterfly', 'butterfly', 'butterfly', 'butterfly', 'butterfly', 'butterfly', 'butterfly', 'butterfly', 'butterfly', 'butterfly', 'butterfly', 'butterfly']\n",
        "img matrix"
       ]
      },
      {
       "output_type": "stream",
       "stream": "stdout",
       "text": [
        " [[255 255 255]\n",
        " [255 255 255]\n",
        " [255 255 255]\n",
        " ..., \n",
        " [255 255 255]\n",
        " [255 255 255]\n",
        " [255 255 255]]\n",
        "177 177\n",
        "['airplanes', 'airplanes', 'airplanes', 'airplanes', 'airplanes', 'airplanes', 'airplanes', 'airplanes', 'airplanes', 'airplanes', 'airplanes', 'airplanes', 'airplanes', 'airplanes', 'airplanes', 'airplanes', 'airplanes', 'airplanes', 'airplanes', 'airplanes', 'airplanes', 'airplanes', 'airplanes', 'airplanes', 'airplanes', 'airplanes', 'airplanes', 'airplanes', 'airplanes', 'airplanes', 'airplanes', 'airplanes', 'airplanes', 'airplanes', 'airplanes', 'airplanes', 'airplanes', 'airplanes', 'airplanes', 'airplanes', 'airplanes', 'airplanes', 'airplanes', 'airplanes', 'airplanes', 'airplanes', 'airplanes', 'airplanes', 'airplanes', 'airplanes', 'airplanes', 'airplanes', 'airplanes', 'airplanes', 'airplanes', 'airplanes', 'airplanes', 'airplanes', 'airplanes', 'airplanes', 'airplanes', 'airplanes', 'airplanes', 'airplanes', 'airplanes', 'airplanes', 'airplanes', 'airplanes', 'airplanes', 'airplanes', 'airplanes', 'airplanes', 'airplanes', 'airplanes', 'airplanes', 'airplanes', 'airplanes', 'airplanes', 'airplanes', 'airplanes', 'airplanes', 'airplanes', 'airplanes', 'airplanes', 'airplanes', 'airplanes', 'airplanes', 'airplanes', 'airplanes', 'airplanes', 'airplanes', 'airplanes', 'airplanes', 'airplanes', 'airplanes', 'airplanes', 'airplanes', 'airplanes', 'airplanes', 'airplanes', 'airplanes', 'airplanes', 'airplanes', 'airplanes', 'airplanes', 'airplanes', 'airplanes', 'airplanes', 'airplanes', 'airplanes', 'airplanes', 'airplanes', 'airplanes', 'airplanes', 'airplanes', 'airplanes', 'airplanes', 'airplanes', 'airplanes', 'airplanes', 'butterfly', 'butterfly', 'butterfly', 'butterfly', 'butterfly', 'butterfly', 'butterfly', 'butterfly', 'butterfly', 'butterfly', 'butterfly', 'butterfly', 'butterfly', 'butterfly', 'butterfly', 'butterfly', 'butterfly', 'butterfly', 'butterfly', 'butterfly', 'butterfly', 'butterfly', 'butterfly', 'butterfly', 'butterfly', 'butterfly', 'butterfly', 'butterfly', 'butterfly', 'butterfly', 'butterfly', 'butterfly', 'butterfly', 'butterfly', 'butterfly', 'butterfly', 'butterfly', 'butterfly', 'butterfly', 'butterfly', 'butterfly', 'butterfly', 'butterfly', 'butterfly', 'butterfly', 'butterfly', 'butterfly', 'butterfly', 'butterfly', 'butterfly', 'butterfly', 'butterfly', 'butterfly', 'butterfly', 'butterfly', 'butterfly', 'butterfly']\n",
        "img matrix"
       ]
      },
      {
       "output_type": "stream",
       "stream": "stdout",
       "text": [
        " [[1 1 1]\n",
        " [1 1 1]\n",
        " [1 1 1]\n",
        " ..., \n",
        " [1 1 1]\n",
        " [1 1 1]\n",
        " [1 1 1]]\n",
        "178 178\n",
        "['airplanes', 'airplanes', 'airplanes', 'airplanes', 'airplanes', 'airplanes', 'airplanes', 'airplanes', 'airplanes', 'airplanes', 'airplanes', 'airplanes', 'airplanes', 'airplanes', 'airplanes', 'airplanes', 'airplanes', 'airplanes', 'airplanes', 'airplanes', 'airplanes', 'airplanes', 'airplanes', 'airplanes', 'airplanes', 'airplanes', 'airplanes', 'airplanes', 'airplanes', 'airplanes', 'airplanes', 'airplanes', 'airplanes', 'airplanes', 'airplanes', 'airplanes', 'airplanes', 'airplanes', 'airplanes', 'airplanes', 'airplanes', 'airplanes', 'airplanes', 'airplanes', 'airplanes', 'airplanes', 'airplanes', 'airplanes', 'airplanes', 'airplanes', 'airplanes', 'airplanes', 'airplanes', 'airplanes', 'airplanes', 'airplanes', 'airplanes', 'airplanes', 'airplanes', 'airplanes', 'airplanes', 'airplanes', 'airplanes', 'airplanes', 'airplanes', 'airplanes', 'airplanes', 'airplanes', 'airplanes', 'airplanes', 'airplanes', 'airplanes', 'airplanes', 'airplanes', 'airplanes', 'airplanes', 'airplanes', 'airplanes', 'airplanes', 'airplanes', 'airplanes', 'airplanes', 'airplanes', 'airplanes', 'airplanes', 'airplanes', 'airplanes', 'airplanes', 'airplanes', 'airplanes', 'airplanes', 'airplanes', 'airplanes', 'airplanes', 'airplanes', 'airplanes', 'airplanes', 'airplanes', 'airplanes', 'airplanes', 'airplanes', 'airplanes', 'airplanes', 'airplanes', 'airplanes', 'airplanes', 'airplanes', 'airplanes', 'airplanes', 'airplanes', 'airplanes', 'airplanes', 'airplanes', 'airplanes', 'airplanes', 'airplanes', 'airplanes', 'airplanes', 'airplanes', 'airplanes', 'butterfly', 'butterfly', 'butterfly', 'butterfly', 'butterfly', 'butterfly', 'butterfly', 'butterfly', 'butterfly', 'butterfly', 'butterfly', 'butterfly', 'butterfly', 'butterfly', 'butterfly', 'butterfly', 'butterfly', 'butterfly', 'butterfly', 'butterfly', 'butterfly', 'butterfly', 'butterfly', 'butterfly', 'butterfly', 'butterfly', 'butterfly', 'butterfly', 'butterfly', 'butterfly', 'butterfly', 'butterfly', 'butterfly', 'butterfly', 'butterfly', 'butterfly', 'butterfly', 'butterfly', 'butterfly', 'butterfly', 'butterfly', 'butterfly', 'butterfly', 'butterfly', 'butterfly', 'butterfly', 'butterfly', 'butterfly', 'butterfly', 'butterfly', 'butterfly', 'butterfly', 'butterfly', 'butterfly', 'butterfly', 'butterfly', 'butterfly', 'butterfly']\n",
        "img matrix"
       ]
      },
      {
       "output_type": "stream",
       "stream": "stdout",
       "text": [
        " [[163 143 145]\n",
        " [160 140 142]\n",
        " [160 140 142]\n",
        " ..., \n",
        " [153 135 133]\n",
        " [152 134 132]\n",
        " [152 134 134]]\n",
        "179 179\n",
        "['airplanes', 'airplanes', 'airplanes', 'airplanes', 'airplanes', 'airplanes', 'airplanes', 'airplanes', 'airplanes', 'airplanes', 'airplanes', 'airplanes', 'airplanes', 'airplanes', 'airplanes', 'airplanes', 'airplanes', 'airplanes', 'airplanes', 'airplanes', 'airplanes', 'airplanes', 'airplanes', 'airplanes', 'airplanes', 'airplanes', 'airplanes', 'airplanes', 'airplanes', 'airplanes', 'airplanes', 'airplanes', 'airplanes', 'airplanes', 'airplanes', 'airplanes', 'airplanes', 'airplanes', 'airplanes', 'airplanes', 'airplanes', 'airplanes', 'airplanes', 'airplanes', 'airplanes', 'airplanes', 'airplanes', 'airplanes', 'airplanes', 'airplanes', 'airplanes', 'airplanes', 'airplanes', 'airplanes', 'airplanes', 'airplanes', 'airplanes', 'airplanes', 'airplanes', 'airplanes', 'airplanes', 'airplanes', 'airplanes', 'airplanes', 'airplanes', 'airplanes', 'airplanes', 'airplanes', 'airplanes', 'airplanes', 'airplanes', 'airplanes', 'airplanes', 'airplanes', 'airplanes', 'airplanes', 'airplanes', 'airplanes', 'airplanes', 'airplanes', 'airplanes', 'airplanes', 'airplanes', 'airplanes', 'airplanes', 'airplanes', 'airplanes', 'airplanes', 'airplanes', 'airplanes', 'airplanes', 'airplanes', 'airplanes', 'airplanes', 'airplanes', 'airplanes', 'airplanes', 'airplanes', 'airplanes', 'airplanes', 'airplanes', 'airplanes', 'airplanes', 'airplanes', 'airplanes', 'airplanes', 'airplanes', 'airplanes', 'airplanes', 'airplanes', 'airplanes', 'airplanes', 'airplanes', 'airplanes', 'airplanes', 'airplanes', 'airplanes', 'airplanes', 'airplanes', 'airplanes', 'butterfly', 'butterfly', 'butterfly', 'butterfly', 'butterfly', 'butterfly', 'butterfly', 'butterfly', 'butterfly', 'butterfly', 'butterfly', 'butterfly', 'butterfly', 'butterfly', 'butterfly', 'butterfly', 'butterfly', 'butterfly', 'butterfly', 'butterfly', 'butterfly', 'butterfly', 'butterfly', 'butterfly', 'butterfly', 'butterfly', 'butterfly', 'butterfly', 'butterfly', 'butterfly', 'butterfly', 'butterfly', 'butterfly', 'butterfly', 'butterfly', 'butterfly', 'butterfly', 'butterfly', 'butterfly', 'butterfly', 'butterfly', 'butterfly', 'butterfly', 'butterfly', 'butterfly', 'butterfly', 'butterfly', 'butterfly', 'butterfly', 'butterfly', 'butterfly', 'butterfly', 'butterfly', 'butterfly', 'butterfly', 'butterfly', 'butterfly', 'butterfly', 'butterfly']\n",
        "img matrix"
       ]
      },
      {
       "output_type": "stream",
       "stream": "stdout",
       "text": [
        " [[0 0 0]\n",
        " [0 0 0]\n",
        " [0 0 0]\n",
        " ..., \n",
        " [0 0 0]\n",
        " [0 0 0]\n",
        " [0 0 0]]\n",
        "180 180\n",
        "['airplanes', 'airplanes', 'airplanes', 'airplanes', 'airplanes', 'airplanes', 'airplanes', 'airplanes', 'airplanes', 'airplanes', 'airplanes', 'airplanes', 'airplanes', 'airplanes', 'airplanes', 'airplanes', 'airplanes', 'airplanes', 'airplanes', 'airplanes', 'airplanes', 'airplanes', 'airplanes', 'airplanes', 'airplanes', 'airplanes', 'airplanes', 'airplanes', 'airplanes', 'airplanes', 'airplanes', 'airplanes', 'airplanes', 'airplanes', 'airplanes', 'airplanes', 'airplanes', 'airplanes', 'airplanes', 'airplanes', 'airplanes', 'airplanes', 'airplanes', 'airplanes', 'airplanes', 'airplanes', 'airplanes', 'airplanes', 'airplanes', 'airplanes', 'airplanes', 'airplanes', 'airplanes', 'airplanes', 'airplanes', 'airplanes', 'airplanes', 'airplanes', 'airplanes', 'airplanes', 'airplanes', 'airplanes', 'airplanes', 'airplanes', 'airplanes', 'airplanes', 'airplanes', 'airplanes', 'airplanes', 'airplanes', 'airplanes', 'airplanes', 'airplanes', 'airplanes', 'airplanes', 'airplanes', 'airplanes', 'airplanes', 'airplanes', 'airplanes', 'airplanes', 'airplanes', 'airplanes', 'airplanes', 'airplanes', 'airplanes', 'airplanes', 'airplanes', 'airplanes', 'airplanes', 'airplanes', 'airplanes', 'airplanes', 'airplanes', 'airplanes', 'airplanes', 'airplanes', 'airplanes', 'airplanes', 'airplanes', 'airplanes', 'airplanes', 'airplanes', 'airplanes', 'airplanes', 'airplanes', 'airplanes', 'airplanes', 'airplanes', 'airplanes', 'airplanes', 'airplanes', 'airplanes', 'airplanes', 'airplanes', 'airplanes', 'airplanes', 'airplanes', 'airplanes', 'airplanes', 'butterfly', 'butterfly', 'butterfly', 'butterfly', 'butterfly', 'butterfly', 'butterfly', 'butterfly', 'butterfly', 'butterfly', 'butterfly', 'butterfly', 'butterfly', 'butterfly', 'butterfly', 'butterfly', 'butterfly', 'butterfly', 'butterfly', 'butterfly', 'butterfly', 'butterfly', 'butterfly', 'butterfly', 'butterfly', 'butterfly', 'butterfly', 'butterfly', 'butterfly', 'butterfly', 'butterfly', 'butterfly', 'butterfly', 'butterfly', 'butterfly', 'butterfly', 'butterfly', 'butterfly', 'butterfly', 'butterfly', 'butterfly', 'butterfly', 'butterfly', 'butterfly', 'butterfly', 'butterfly', 'butterfly', 'butterfly', 'butterfly', 'butterfly', 'butterfly', 'butterfly', 'butterfly', 'butterfly', 'butterfly', 'butterfly', 'butterfly', 'butterfly', 'butterfly', 'butterfly']\n",
        "img matrix"
       ]
      },
      {
       "output_type": "stream",
       "stream": "stdout",
       "text": [
        " [[ 24  24  24]\n",
        " [ 15  15  15]\n",
        " [ 15  15  15]\n",
        " ..., \n",
        " [197 161 135]\n",
        " [194 159 131]\n",
        " [196 161 131]]\n",
        "181 181\n",
        "['airplanes', 'airplanes', 'airplanes', 'airplanes', 'airplanes', 'airplanes', 'airplanes', 'airplanes', 'airplanes', 'airplanes', 'airplanes', 'airplanes', 'airplanes', 'airplanes', 'airplanes', 'airplanes', 'airplanes', 'airplanes', 'airplanes', 'airplanes', 'airplanes', 'airplanes', 'airplanes', 'airplanes', 'airplanes', 'airplanes', 'airplanes', 'airplanes', 'airplanes', 'airplanes', 'airplanes', 'airplanes', 'airplanes', 'airplanes', 'airplanes', 'airplanes', 'airplanes', 'airplanes', 'airplanes', 'airplanes', 'airplanes', 'airplanes', 'airplanes', 'airplanes', 'airplanes', 'airplanes', 'airplanes', 'airplanes', 'airplanes', 'airplanes', 'airplanes', 'airplanes', 'airplanes', 'airplanes', 'airplanes', 'airplanes', 'airplanes', 'airplanes', 'airplanes', 'airplanes', 'airplanes', 'airplanes', 'airplanes', 'airplanes', 'airplanes', 'airplanes', 'airplanes', 'airplanes', 'airplanes', 'airplanes', 'airplanes', 'airplanes', 'airplanes', 'airplanes', 'airplanes', 'airplanes', 'airplanes', 'airplanes', 'airplanes', 'airplanes', 'airplanes', 'airplanes', 'airplanes', 'airplanes', 'airplanes', 'airplanes', 'airplanes', 'airplanes', 'airplanes', 'airplanes', 'airplanes', 'airplanes', 'airplanes', 'airplanes', 'airplanes', 'airplanes', 'airplanes', 'airplanes', 'airplanes', 'airplanes', 'airplanes', 'airplanes', 'airplanes', 'airplanes', 'airplanes', 'airplanes', 'airplanes', 'airplanes', 'airplanes', 'airplanes', 'airplanes', 'airplanes', 'airplanes', 'airplanes', 'airplanes', 'airplanes', 'airplanes', 'airplanes', 'airplanes', 'airplanes', 'butterfly', 'butterfly', 'butterfly', 'butterfly', 'butterfly', 'butterfly', 'butterfly', 'butterfly', 'butterfly', 'butterfly', 'butterfly', 'butterfly', 'butterfly', 'butterfly', 'butterfly', 'butterfly', 'butterfly', 'butterfly', 'butterfly', 'butterfly', 'butterfly', 'butterfly', 'butterfly', 'butterfly', 'butterfly', 'butterfly', 'butterfly', 'butterfly', 'butterfly', 'butterfly', 'butterfly', 'butterfly', 'butterfly', 'butterfly', 'butterfly', 'butterfly', 'butterfly', 'butterfly', 'butterfly', 'butterfly', 'butterfly', 'butterfly', 'butterfly', 'butterfly', 'butterfly', 'butterfly', 'butterfly', 'butterfly', 'butterfly', 'butterfly', 'butterfly', 'butterfly', 'butterfly', 'butterfly', 'butterfly', 'butterfly', 'butterfly', 'butterfly', 'butterfly', 'butterfly', 'butterfly']\n",
        "img matrix"
       ]
      },
      {
       "output_type": "stream",
       "stream": "stdout",
       "text": [
        " [[24 28 13]\n",
        " [24 28 13]\n",
        " [23 30 14]\n",
        " ..., \n",
        " [ 9 11  8]\n",
        " [ 9 11  8]\n",
        " [ 9 11  8]]\n",
        "182 182\n",
        "['airplanes', 'airplanes', 'airplanes', 'airplanes', 'airplanes', 'airplanes', 'airplanes', 'airplanes', 'airplanes', 'airplanes', 'airplanes', 'airplanes', 'airplanes', 'airplanes', 'airplanes', 'airplanes', 'airplanes', 'airplanes', 'airplanes', 'airplanes', 'airplanes', 'airplanes', 'airplanes', 'airplanes', 'airplanes', 'airplanes', 'airplanes', 'airplanes', 'airplanes', 'airplanes', 'airplanes', 'airplanes', 'airplanes', 'airplanes', 'airplanes', 'airplanes', 'airplanes', 'airplanes', 'airplanes', 'airplanes', 'airplanes', 'airplanes', 'airplanes', 'airplanes', 'airplanes', 'airplanes', 'airplanes', 'airplanes', 'airplanes', 'airplanes', 'airplanes', 'airplanes', 'airplanes', 'airplanes', 'airplanes', 'airplanes', 'airplanes', 'airplanes', 'airplanes', 'airplanes', 'airplanes', 'airplanes', 'airplanes', 'airplanes', 'airplanes', 'airplanes', 'airplanes', 'airplanes', 'airplanes', 'airplanes', 'airplanes', 'airplanes', 'airplanes', 'airplanes', 'airplanes', 'airplanes', 'airplanes', 'airplanes', 'airplanes', 'airplanes', 'airplanes', 'airplanes', 'airplanes', 'airplanes', 'airplanes', 'airplanes', 'airplanes', 'airplanes', 'airplanes', 'airplanes', 'airplanes', 'airplanes', 'airplanes', 'airplanes', 'airplanes', 'airplanes', 'airplanes', 'airplanes', 'airplanes', 'airplanes', 'airplanes', 'airplanes', 'airplanes', 'airplanes', 'airplanes', 'airplanes', 'airplanes', 'airplanes', 'airplanes', 'airplanes', 'airplanes', 'airplanes', 'airplanes', 'airplanes', 'airplanes', 'airplanes', 'airplanes', 'airplanes', 'airplanes', 'airplanes', 'butterfly', 'butterfly', 'butterfly', 'butterfly', 'butterfly', 'butterfly', 'butterfly', 'butterfly', 'butterfly', 'butterfly', 'butterfly', 'butterfly', 'butterfly', 'butterfly', 'butterfly', 'butterfly', 'butterfly', 'butterfly', 'butterfly', 'butterfly', 'butterfly', 'butterfly', 'butterfly', 'butterfly', 'butterfly', 'butterfly', 'butterfly', 'butterfly', 'butterfly', 'butterfly', 'butterfly', 'butterfly', 'butterfly', 'butterfly', 'butterfly', 'butterfly', 'butterfly', 'butterfly', 'butterfly', 'butterfly', 'butterfly', 'butterfly', 'butterfly', 'butterfly', 'butterfly', 'butterfly', 'butterfly', 'butterfly', 'butterfly', 'butterfly', 'butterfly', 'butterfly', 'butterfly', 'butterfly', 'butterfly', 'butterfly', 'butterfly', 'butterfly', 'butterfly', 'butterfly', 'butterfly', 'butterfly']\n",
        "img matrix"
       ]
      },
      {
       "output_type": "stream",
       "stream": "stdout",
       "text": [
        " [[179 178 113]\n",
        " [181 180 116]\n",
        " [185 185 123]\n",
        " ..., \n",
        " [ 16  63  47]\n",
        " [ 18  65  49]\n",
        " [ 19  66  50]]\n",
        "183 183\n",
        "['airplanes', 'airplanes', 'airplanes', 'airplanes', 'airplanes', 'airplanes', 'airplanes', 'airplanes', 'airplanes', 'airplanes', 'airplanes', 'airplanes', 'airplanes', 'airplanes', 'airplanes', 'airplanes', 'airplanes', 'airplanes', 'airplanes', 'airplanes', 'airplanes', 'airplanes', 'airplanes', 'airplanes', 'airplanes', 'airplanes', 'airplanes', 'airplanes', 'airplanes', 'airplanes', 'airplanes', 'airplanes', 'airplanes', 'airplanes', 'airplanes', 'airplanes', 'airplanes', 'airplanes', 'airplanes', 'airplanes', 'airplanes', 'airplanes', 'airplanes', 'airplanes', 'airplanes', 'airplanes', 'airplanes', 'airplanes', 'airplanes', 'airplanes', 'airplanes', 'airplanes', 'airplanes', 'airplanes', 'airplanes', 'airplanes', 'airplanes', 'airplanes', 'airplanes', 'airplanes', 'airplanes', 'airplanes', 'airplanes', 'airplanes', 'airplanes', 'airplanes', 'airplanes', 'airplanes', 'airplanes', 'airplanes', 'airplanes', 'airplanes', 'airplanes', 'airplanes', 'airplanes', 'airplanes', 'airplanes', 'airplanes', 'airplanes', 'airplanes', 'airplanes', 'airplanes', 'airplanes', 'airplanes', 'airplanes', 'airplanes', 'airplanes', 'airplanes', 'airplanes', 'airplanes', 'airplanes', 'airplanes', 'airplanes', 'airplanes', 'airplanes', 'airplanes', 'airplanes', 'airplanes', 'airplanes', 'airplanes', 'airplanes', 'airplanes', 'airplanes', 'airplanes', 'airplanes', 'airplanes', 'airplanes', 'airplanes', 'airplanes', 'airplanes', 'airplanes', 'airplanes', 'airplanes', 'airplanes', 'airplanes', 'airplanes', 'airplanes', 'airplanes', 'airplanes', 'airplanes', 'butterfly', 'butterfly', 'butterfly', 'butterfly', 'butterfly', 'butterfly', 'butterfly', 'butterfly', 'butterfly', 'butterfly', 'butterfly', 'butterfly', 'butterfly', 'butterfly', 'butterfly', 'butterfly', 'butterfly', 'butterfly', 'butterfly', 'butterfly', 'butterfly', 'butterfly', 'butterfly', 'butterfly', 'butterfly', 'butterfly', 'butterfly', 'butterfly', 'butterfly', 'butterfly', 'butterfly', 'butterfly', 'butterfly', 'butterfly', 'butterfly', 'butterfly', 'butterfly', 'butterfly', 'butterfly', 'butterfly', 'butterfly', 'butterfly', 'butterfly', 'butterfly', 'butterfly', 'butterfly', 'butterfly', 'butterfly', 'butterfly', 'butterfly', 'butterfly', 'butterfly', 'butterfly', 'butterfly', 'butterfly', 'butterfly', 'butterfly', 'butterfly', 'butterfly', 'butterfly', 'butterfly', 'butterfly', 'butterfly']\n",
        "img matrix"
       ]
      },
      {
       "output_type": "stream",
       "stream": "stdout",
       "text": [
        " [[0 0 0]\n",
        " [0 0 0]\n",
        " [0 0 0]\n",
        " ..., \n",
        " [0 0 0]\n",
        " [0 0 0]\n",
        " [0 0 0]]\n",
        "184 184\n",
        "['airplanes', 'airplanes', 'airplanes', 'airplanes', 'airplanes', 'airplanes', 'airplanes', 'airplanes', 'airplanes', 'airplanes', 'airplanes', 'airplanes', 'airplanes', 'airplanes', 'airplanes', 'airplanes', 'airplanes', 'airplanes', 'airplanes', 'airplanes', 'airplanes', 'airplanes', 'airplanes', 'airplanes', 'airplanes', 'airplanes', 'airplanes', 'airplanes', 'airplanes', 'airplanes', 'airplanes', 'airplanes', 'airplanes', 'airplanes', 'airplanes', 'airplanes', 'airplanes', 'airplanes', 'airplanes', 'airplanes', 'airplanes', 'airplanes', 'airplanes', 'airplanes', 'airplanes', 'airplanes', 'airplanes', 'airplanes', 'airplanes', 'airplanes', 'airplanes', 'airplanes', 'airplanes', 'airplanes', 'airplanes', 'airplanes', 'airplanes', 'airplanes', 'airplanes', 'airplanes', 'airplanes', 'airplanes', 'airplanes', 'airplanes', 'airplanes', 'airplanes', 'airplanes', 'airplanes', 'airplanes', 'airplanes', 'airplanes', 'airplanes', 'airplanes', 'airplanes', 'airplanes', 'airplanes', 'airplanes', 'airplanes', 'airplanes', 'airplanes', 'airplanes', 'airplanes', 'airplanes', 'airplanes', 'airplanes', 'airplanes', 'airplanes', 'airplanes', 'airplanes', 'airplanes', 'airplanes', 'airplanes', 'airplanes', 'airplanes', 'airplanes', 'airplanes', 'airplanes', 'airplanes', 'airplanes', 'airplanes', 'airplanes', 'airplanes', 'airplanes', 'airplanes', 'airplanes', 'airplanes', 'airplanes', 'airplanes', 'airplanes', 'airplanes', 'airplanes', 'airplanes', 'airplanes', 'airplanes', 'airplanes', 'airplanes', 'airplanes', 'airplanes', 'airplanes', 'airplanes', 'butterfly', 'butterfly', 'butterfly', 'butterfly', 'butterfly', 'butterfly', 'butterfly', 'butterfly', 'butterfly', 'butterfly', 'butterfly', 'butterfly', 'butterfly', 'butterfly', 'butterfly', 'butterfly', 'butterfly', 'butterfly', 'butterfly', 'butterfly', 'butterfly', 'butterfly', 'butterfly', 'butterfly', 'butterfly', 'butterfly', 'butterfly', 'butterfly', 'butterfly', 'butterfly', 'butterfly', 'butterfly', 'butterfly', 'butterfly', 'butterfly', 'butterfly', 'butterfly', 'butterfly', 'butterfly', 'butterfly', 'butterfly', 'butterfly', 'butterfly', 'butterfly', 'butterfly', 'butterfly', 'butterfly', 'butterfly', 'butterfly', 'butterfly', 'butterfly', 'butterfly', 'butterfly', 'butterfly', 'butterfly', 'butterfly', 'butterfly', 'butterfly', 'butterfly', 'butterfly', 'butterfly', 'butterfly', 'butterfly', 'butterfly']\n",
        "img matrix"
       ]
      },
      {
       "output_type": "stream",
       "stream": "stdout",
       "text": [
        " [[0 0 0]\n",
        " [0 0 0]\n",
        " [0 0 0]\n",
        " ..., \n",
        " [0 0 0]\n",
        " [0 0 0]\n",
        " [0 0 0]]\n",
        "185 185\n",
        "['airplanes', 'airplanes', 'airplanes', 'airplanes', 'airplanes', 'airplanes', 'airplanes', 'airplanes', 'airplanes', 'airplanes', 'airplanes', 'airplanes', 'airplanes', 'airplanes', 'airplanes', 'airplanes', 'airplanes', 'airplanes', 'airplanes', 'airplanes', 'airplanes', 'airplanes', 'airplanes', 'airplanes', 'airplanes', 'airplanes', 'airplanes', 'airplanes', 'airplanes', 'airplanes', 'airplanes', 'airplanes', 'airplanes', 'airplanes', 'airplanes', 'airplanes', 'airplanes', 'airplanes', 'airplanes', 'airplanes', 'airplanes', 'airplanes', 'airplanes', 'airplanes', 'airplanes', 'airplanes', 'airplanes', 'airplanes', 'airplanes', 'airplanes', 'airplanes', 'airplanes', 'airplanes', 'airplanes', 'airplanes', 'airplanes', 'airplanes', 'airplanes', 'airplanes', 'airplanes', 'airplanes', 'airplanes', 'airplanes', 'airplanes', 'airplanes', 'airplanes', 'airplanes', 'airplanes', 'airplanes', 'airplanes', 'airplanes', 'airplanes', 'airplanes', 'airplanes', 'airplanes', 'airplanes', 'airplanes', 'airplanes', 'airplanes', 'airplanes', 'airplanes', 'airplanes', 'airplanes', 'airplanes', 'airplanes', 'airplanes', 'airplanes', 'airplanes', 'airplanes', 'airplanes', 'airplanes', 'airplanes', 'airplanes', 'airplanes', 'airplanes', 'airplanes', 'airplanes', 'airplanes', 'airplanes', 'airplanes', 'airplanes', 'airplanes', 'airplanes', 'airplanes', 'airplanes', 'airplanes', 'airplanes', 'airplanes', 'airplanes', 'airplanes', 'airplanes', 'airplanes', 'airplanes', 'airplanes', 'airplanes', 'airplanes', 'airplanes', 'airplanes', 'airplanes', 'airplanes', 'butterfly', 'butterfly', 'butterfly', 'butterfly', 'butterfly', 'butterfly', 'butterfly', 'butterfly', 'butterfly', 'butterfly', 'butterfly', 'butterfly', 'butterfly', 'butterfly', 'butterfly', 'butterfly', 'butterfly', 'butterfly', 'butterfly', 'butterfly', 'butterfly', 'butterfly', 'butterfly', 'butterfly', 'butterfly', 'butterfly', 'butterfly', 'butterfly', 'butterfly', 'butterfly', 'butterfly', 'butterfly', 'butterfly', 'butterfly', 'butterfly', 'butterfly', 'butterfly', 'butterfly', 'butterfly', 'butterfly', 'butterfly', 'butterfly', 'butterfly', 'butterfly', 'butterfly', 'butterfly', 'butterfly', 'butterfly', 'butterfly', 'butterfly', 'butterfly', 'butterfly', 'butterfly', 'butterfly', 'butterfly', 'butterfly', 'butterfly', 'butterfly', 'butterfly', 'butterfly', 'butterfly', 'butterfly', 'butterfly', 'butterfly', 'butterfly']\n",
        "img matrix"
       ]
      },
      {
       "output_type": "stream",
       "stream": "stdout",
       "text": [
        " [[152 178 201]\n",
        " [137 163 186]\n",
        " [147 173 198]\n",
        " ..., \n",
        " [137 164 194]\n",
        " [131 158 188]\n",
        " [135 162 192]]\n",
        "186 186\n",
        "['airplanes', 'airplanes', 'airplanes', 'airplanes', 'airplanes', 'airplanes', 'airplanes', 'airplanes', 'airplanes', 'airplanes', 'airplanes', 'airplanes', 'airplanes', 'airplanes', 'airplanes', 'airplanes', 'airplanes', 'airplanes', 'airplanes', 'airplanes', 'airplanes', 'airplanes', 'airplanes', 'airplanes', 'airplanes', 'airplanes', 'airplanes', 'airplanes', 'airplanes', 'airplanes', 'airplanes', 'airplanes', 'airplanes', 'airplanes', 'airplanes', 'airplanes', 'airplanes', 'airplanes', 'airplanes', 'airplanes', 'airplanes', 'airplanes', 'airplanes', 'airplanes', 'airplanes', 'airplanes', 'airplanes', 'airplanes', 'airplanes', 'airplanes', 'airplanes', 'airplanes', 'airplanes', 'airplanes', 'airplanes', 'airplanes', 'airplanes', 'airplanes', 'airplanes', 'airplanes', 'airplanes', 'airplanes', 'airplanes', 'airplanes', 'airplanes', 'airplanes', 'airplanes', 'airplanes', 'airplanes', 'airplanes', 'airplanes', 'airplanes', 'airplanes', 'airplanes', 'airplanes', 'airplanes', 'airplanes', 'airplanes', 'airplanes', 'airplanes', 'airplanes', 'airplanes', 'airplanes', 'airplanes', 'airplanes', 'airplanes', 'airplanes', 'airplanes', 'airplanes', 'airplanes', 'airplanes', 'airplanes', 'airplanes', 'airplanes', 'airplanes', 'airplanes', 'airplanes', 'airplanes', 'airplanes', 'airplanes', 'airplanes', 'airplanes', 'airplanes', 'airplanes', 'airplanes', 'airplanes', 'airplanes', 'airplanes', 'airplanes', 'airplanes', 'airplanes', 'airplanes', 'airplanes', 'airplanes', 'airplanes', 'airplanes', 'airplanes', 'airplanes', 'airplanes', 'airplanes', 'butterfly', 'butterfly', 'butterfly', 'butterfly', 'butterfly', 'butterfly', 'butterfly', 'butterfly', 'butterfly', 'butterfly', 'butterfly', 'butterfly', 'butterfly', 'butterfly', 'butterfly', 'butterfly', 'butterfly', 'butterfly', 'butterfly', 'butterfly', 'butterfly', 'butterfly', 'butterfly', 'butterfly', 'butterfly', 'butterfly', 'butterfly', 'butterfly', 'butterfly', 'butterfly', 'butterfly', 'butterfly', 'butterfly', 'butterfly', 'butterfly', 'butterfly', 'butterfly', 'butterfly', 'butterfly', 'butterfly', 'butterfly', 'butterfly', 'butterfly', 'butterfly', 'butterfly', 'butterfly', 'butterfly', 'butterfly', 'butterfly', 'butterfly', 'butterfly', 'butterfly', 'butterfly', 'butterfly', 'butterfly', 'butterfly', 'butterfly', 'butterfly', 'butterfly', 'butterfly', 'butterfly', 'butterfly', 'butterfly', 'butterfly', 'butterfly', 'butterfly']\n",
        "img matrix"
       ]
      },
      {
       "output_type": "stream",
       "stream": "stdout",
       "text": [
        " [[255 255 255]\n",
        " [255 255 255]\n",
        " [255 255 255]\n",
        " ..., \n",
        " [251 251 251]\n",
        " [249 249 249]\n",
        " [248 248 248]]\n",
        "187 187\n",
        "['airplanes', 'airplanes', 'airplanes', 'airplanes', 'airplanes', 'airplanes', 'airplanes', 'airplanes', 'airplanes', 'airplanes', 'airplanes', 'airplanes', 'airplanes', 'airplanes', 'airplanes', 'airplanes', 'airplanes', 'airplanes', 'airplanes', 'airplanes', 'airplanes', 'airplanes', 'airplanes', 'airplanes', 'airplanes', 'airplanes', 'airplanes', 'airplanes', 'airplanes', 'airplanes', 'airplanes', 'airplanes', 'airplanes', 'airplanes', 'airplanes', 'airplanes', 'airplanes', 'airplanes', 'airplanes', 'airplanes', 'airplanes', 'airplanes', 'airplanes', 'airplanes', 'airplanes', 'airplanes', 'airplanes', 'airplanes', 'airplanes', 'airplanes', 'airplanes', 'airplanes', 'airplanes', 'airplanes', 'airplanes', 'airplanes', 'airplanes', 'airplanes', 'airplanes', 'airplanes', 'airplanes', 'airplanes', 'airplanes', 'airplanes', 'airplanes', 'airplanes', 'airplanes', 'airplanes', 'airplanes', 'airplanes', 'airplanes', 'airplanes', 'airplanes', 'airplanes', 'airplanes', 'airplanes', 'airplanes', 'airplanes', 'airplanes', 'airplanes', 'airplanes', 'airplanes', 'airplanes', 'airplanes', 'airplanes', 'airplanes', 'airplanes', 'airplanes', 'airplanes', 'airplanes', 'airplanes', 'airplanes', 'airplanes', 'airplanes', 'airplanes', 'airplanes', 'airplanes', 'airplanes', 'airplanes', 'airplanes', 'airplanes', 'airplanes', 'airplanes', 'airplanes', 'airplanes', 'airplanes', 'airplanes', 'airplanes', 'airplanes', 'airplanes', 'airplanes', 'airplanes', 'airplanes', 'airplanes', 'airplanes', 'airplanes', 'airplanes', 'airplanes', 'airplanes', 'airplanes', 'butterfly', 'butterfly', 'butterfly', 'butterfly', 'butterfly', 'butterfly', 'butterfly', 'butterfly', 'butterfly', 'butterfly', 'butterfly', 'butterfly', 'butterfly', 'butterfly', 'butterfly', 'butterfly', 'butterfly', 'butterfly', 'butterfly', 'butterfly', 'butterfly', 'butterfly', 'butterfly', 'butterfly', 'butterfly', 'butterfly', 'butterfly', 'butterfly', 'butterfly', 'butterfly', 'butterfly', 'butterfly', 'butterfly', 'butterfly', 'butterfly', 'butterfly', 'butterfly', 'butterfly', 'butterfly', 'butterfly', 'butterfly', 'butterfly', 'butterfly', 'butterfly', 'butterfly', 'butterfly', 'butterfly', 'butterfly', 'butterfly', 'butterfly', 'butterfly', 'butterfly', 'butterfly', 'butterfly', 'butterfly', 'butterfly', 'butterfly', 'butterfly', 'butterfly', 'butterfly', 'butterfly', 'butterfly', 'butterfly', 'butterfly', 'butterfly', 'butterfly', 'butterfly']\n",
        "img matrix"
       ]
      },
      {
       "output_type": "stream",
       "stream": "stdout",
       "text": [
        " [[144 255 151]\n",
        " [145 255 151]\n",
        " [145 255 151]\n",
        " ..., \n",
        " [ 47 189  51]\n",
        " [ 47 189  51]\n",
        " [ 47 189  51]]\n",
        "188 188\n",
        "['airplanes', 'airplanes', 'airplanes', 'airplanes', 'airplanes', 'airplanes', 'airplanes', 'airplanes', 'airplanes', 'airplanes', 'airplanes', 'airplanes', 'airplanes', 'airplanes', 'airplanes', 'airplanes', 'airplanes', 'airplanes', 'airplanes', 'airplanes', 'airplanes', 'airplanes', 'airplanes', 'airplanes', 'airplanes', 'airplanes', 'airplanes', 'airplanes', 'airplanes', 'airplanes', 'airplanes', 'airplanes', 'airplanes', 'airplanes', 'airplanes', 'airplanes', 'airplanes', 'airplanes', 'airplanes', 'airplanes', 'airplanes', 'airplanes', 'airplanes', 'airplanes', 'airplanes', 'airplanes', 'airplanes', 'airplanes', 'airplanes', 'airplanes', 'airplanes', 'airplanes', 'airplanes', 'airplanes', 'airplanes', 'airplanes', 'airplanes', 'airplanes', 'airplanes', 'airplanes', 'airplanes', 'airplanes', 'airplanes', 'airplanes', 'airplanes', 'airplanes', 'airplanes', 'airplanes', 'airplanes', 'airplanes', 'airplanes', 'airplanes', 'airplanes', 'airplanes', 'airplanes', 'airplanes', 'airplanes', 'airplanes', 'airplanes', 'airplanes', 'airplanes', 'airplanes', 'airplanes', 'airplanes', 'airplanes', 'airplanes', 'airplanes', 'airplanes', 'airplanes', 'airplanes', 'airplanes', 'airplanes', 'airplanes', 'airplanes', 'airplanes', 'airplanes', 'airplanes', 'airplanes', 'airplanes', 'airplanes', 'airplanes', 'airplanes', 'airplanes', 'airplanes', 'airplanes', 'airplanes', 'airplanes', 'airplanes', 'airplanes', 'airplanes', 'airplanes', 'airplanes', 'airplanes', 'airplanes', 'airplanes', 'airplanes', 'airplanes', 'airplanes', 'airplanes', 'airplanes', 'butterfly', 'butterfly', 'butterfly', 'butterfly', 'butterfly', 'butterfly', 'butterfly', 'butterfly', 'butterfly', 'butterfly', 'butterfly', 'butterfly', 'butterfly', 'butterfly', 'butterfly', 'butterfly', 'butterfly', 'butterfly', 'butterfly', 'butterfly', 'butterfly', 'butterfly', 'butterfly', 'butterfly', 'butterfly', 'butterfly', 'butterfly', 'butterfly', 'butterfly', 'butterfly', 'butterfly', 'butterfly', 'butterfly', 'butterfly', 'butterfly', 'butterfly', 'butterfly', 'butterfly', 'butterfly', 'butterfly', 'butterfly', 'butterfly', 'butterfly', 'butterfly', 'butterfly', 'butterfly', 'butterfly', 'butterfly', 'butterfly', 'butterfly', 'butterfly', 'butterfly', 'butterfly', 'butterfly', 'butterfly', 'butterfly', 'butterfly', 'butterfly', 'butterfly', 'butterfly', 'butterfly', 'butterfly', 'butterfly', 'butterfly', 'butterfly', 'butterfly', 'butterfly', 'butterfly']\n",
        "img matrix"
       ]
      },
      {
       "output_type": "stream",
       "stream": "stdout",
       "text": [
        " [[0 0 0]\n",
        " [0 0 0]\n",
        " [0 0 0]\n",
        " ..., \n",
        " [0 0 0]\n",
        " [0 0 0]\n",
        " [0 0 0]]\n",
        "189 189\n",
        "['airplanes', 'airplanes', 'airplanes', 'airplanes', 'airplanes', 'airplanes', 'airplanes', 'airplanes', 'airplanes', 'airplanes', 'airplanes', 'airplanes', 'airplanes', 'airplanes', 'airplanes', 'airplanes', 'airplanes', 'airplanes', 'airplanes', 'airplanes', 'airplanes', 'airplanes', 'airplanes', 'airplanes', 'airplanes', 'airplanes', 'airplanes', 'airplanes', 'airplanes', 'airplanes', 'airplanes', 'airplanes', 'airplanes', 'airplanes', 'airplanes', 'airplanes', 'airplanes', 'airplanes', 'airplanes', 'airplanes', 'airplanes', 'airplanes', 'airplanes', 'airplanes', 'airplanes', 'airplanes', 'airplanes', 'airplanes', 'airplanes', 'airplanes', 'airplanes', 'airplanes', 'airplanes', 'airplanes', 'airplanes', 'airplanes', 'airplanes', 'airplanes', 'airplanes', 'airplanes', 'airplanes', 'airplanes', 'airplanes', 'airplanes', 'airplanes', 'airplanes', 'airplanes', 'airplanes', 'airplanes', 'airplanes', 'airplanes', 'airplanes', 'airplanes', 'airplanes', 'airplanes', 'airplanes', 'airplanes', 'airplanes', 'airplanes', 'airplanes', 'airplanes', 'airplanes', 'airplanes', 'airplanes', 'airplanes', 'airplanes', 'airplanes', 'airplanes', 'airplanes', 'airplanes', 'airplanes', 'airplanes', 'airplanes', 'airplanes', 'airplanes', 'airplanes', 'airplanes', 'airplanes', 'airplanes', 'airplanes', 'airplanes', 'airplanes', 'airplanes', 'airplanes', 'airplanes', 'airplanes', 'airplanes', 'airplanes', 'airplanes', 'airplanes', 'airplanes', 'airplanes', 'airplanes', 'airplanes', 'airplanes', 'airplanes', 'airplanes', 'airplanes', 'airplanes', 'airplanes', 'butterfly', 'butterfly', 'butterfly', 'butterfly', 'butterfly', 'butterfly', 'butterfly', 'butterfly', 'butterfly', 'butterfly', 'butterfly', 'butterfly', 'butterfly', 'butterfly', 'butterfly', 'butterfly', 'butterfly', 'butterfly', 'butterfly', 'butterfly', 'butterfly', 'butterfly', 'butterfly', 'butterfly', 'butterfly', 'butterfly', 'butterfly', 'butterfly', 'butterfly', 'butterfly', 'butterfly', 'butterfly', 'butterfly', 'butterfly', 'butterfly', 'butterfly', 'butterfly', 'butterfly', 'butterfly', 'butterfly', 'butterfly', 'butterfly', 'butterfly', 'butterfly', 'butterfly', 'butterfly', 'butterfly', 'butterfly', 'butterfly', 'butterfly', 'butterfly', 'butterfly', 'butterfly', 'butterfly', 'butterfly', 'butterfly', 'butterfly', 'butterfly', 'butterfly', 'butterfly', 'butterfly', 'butterfly', 'butterfly', 'butterfly', 'butterfly', 'butterfly', 'butterfly', 'butterfly', 'butterfly']\n",
        "img matrix"
       ]
      },
      {
       "output_type": "stream",
       "stream": "stdout",
       "text": [
        " [[255 255 255]\n",
        " [255 255 255]\n",
        " [255 255 255]\n",
        " ..., \n",
        " [255 255 255]\n",
        " [255 255 255]\n",
        " [255 255 255]]\n",
        "190 190\n",
        "['airplanes', 'airplanes', 'airplanes', 'airplanes', 'airplanes', 'airplanes', 'airplanes', 'airplanes', 'airplanes', 'airplanes', 'airplanes', 'airplanes', 'airplanes', 'airplanes', 'airplanes', 'airplanes', 'airplanes', 'airplanes', 'airplanes', 'airplanes', 'airplanes', 'airplanes', 'airplanes', 'airplanes', 'airplanes', 'airplanes', 'airplanes', 'airplanes', 'airplanes', 'airplanes', 'airplanes', 'airplanes', 'airplanes', 'airplanes', 'airplanes', 'airplanes', 'airplanes', 'airplanes', 'airplanes', 'airplanes', 'airplanes', 'airplanes', 'airplanes', 'airplanes', 'airplanes', 'airplanes', 'airplanes', 'airplanes', 'airplanes', 'airplanes', 'airplanes', 'airplanes', 'airplanes', 'airplanes', 'airplanes', 'airplanes', 'airplanes', 'airplanes', 'airplanes', 'airplanes', 'airplanes', 'airplanes', 'airplanes', 'airplanes', 'airplanes', 'airplanes', 'airplanes', 'airplanes', 'airplanes', 'airplanes', 'airplanes', 'airplanes', 'airplanes', 'airplanes', 'airplanes', 'airplanes', 'airplanes', 'airplanes', 'airplanes', 'airplanes', 'airplanes', 'airplanes', 'airplanes', 'airplanes', 'airplanes', 'airplanes', 'airplanes', 'airplanes', 'airplanes', 'airplanes', 'airplanes', 'airplanes', 'airplanes', 'airplanes', 'airplanes', 'airplanes', 'airplanes', 'airplanes', 'airplanes', 'airplanes', 'airplanes', 'airplanes', 'airplanes', 'airplanes', 'airplanes', 'airplanes', 'airplanes', 'airplanes', 'airplanes', 'airplanes', 'airplanes', 'airplanes', 'airplanes', 'airplanes', 'airplanes', 'airplanes', 'airplanes', 'airplanes', 'airplanes', 'airplanes', 'butterfly', 'butterfly', 'butterfly', 'butterfly', 'butterfly', 'butterfly', 'butterfly', 'butterfly', 'butterfly', 'butterfly', 'butterfly', 'butterfly', 'butterfly', 'butterfly', 'butterfly', 'butterfly', 'butterfly', 'butterfly', 'butterfly', 'butterfly', 'butterfly', 'butterfly', 'butterfly', 'butterfly', 'butterfly', 'butterfly', 'butterfly', 'butterfly', 'butterfly', 'butterfly', 'butterfly', 'butterfly', 'butterfly', 'butterfly', 'butterfly', 'butterfly', 'butterfly', 'butterfly', 'butterfly', 'butterfly', 'butterfly', 'butterfly', 'butterfly', 'butterfly', 'butterfly', 'butterfly', 'butterfly', 'butterfly', 'butterfly', 'butterfly', 'butterfly', 'butterfly', 'butterfly', 'butterfly', 'butterfly', 'butterfly', 'butterfly', 'butterfly', 'butterfly', 'butterfly', 'butterfly', 'butterfly', 'butterfly', 'butterfly', 'butterfly', 'butterfly', 'butterfly', 'butterfly', 'butterfly', 'butterfly']\n",
        "img matrix"
       ]
      },
      {
       "output_type": "stream",
       "stream": "stdout",
       "text": [
        " [[0 0 0]\n",
        " [0 0 0]\n",
        " [0 0 0]\n",
        " ..., \n",
        " [0 0 0]\n",
        " [0 0 0]\n",
        " [0 0 0]]\n",
        "191 191\n",
        "['airplanes', 'airplanes', 'airplanes', 'airplanes', 'airplanes', 'airplanes', 'airplanes', 'airplanes', 'airplanes', 'airplanes', 'airplanes', 'airplanes', 'airplanes', 'airplanes', 'airplanes', 'airplanes', 'airplanes', 'airplanes', 'airplanes', 'airplanes', 'airplanes', 'airplanes', 'airplanes', 'airplanes', 'airplanes', 'airplanes', 'airplanes', 'airplanes', 'airplanes', 'airplanes', 'airplanes', 'airplanes', 'airplanes', 'airplanes', 'airplanes', 'airplanes', 'airplanes', 'airplanes', 'airplanes', 'airplanes', 'airplanes', 'airplanes', 'airplanes', 'airplanes', 'airplanes', 'airplanes', 'airplanes', 'airplanes', 'airplanes', 'airplanes', 'airplanes', 'airplanes', 'airplanes', 'airplanes', 'airplanes', 'airplanes', 'airplanes', 'airplanes', 'airplanes', 'airplanes', 'airplanes', 'airplanes', 'airplanes', 'airplanes', 'airplanes', 'airplanes', 'airplanes', 'airplanes', 'airplanes', 'airplanes', 'airplanes', 'airplanes', 'airplanes', 'airplanes', 'airplanes', 'airplanes', 'airplanes', 'airplanes', 'airplanes', 'airplanes', 'airplanes', 'airplanes', 'airplanes', 'airplanes', 'airplanes', 'airplanes', 'airplanes', 'airplanes', 'airplanes', 'airplanes', 'airplanes', 'airplanes', 'airplanes', 'airplanes', 'airplanes', 'airplanes', 'airplanes', 'airplanes', 'airplanes', 'airplanes', 'airplanes', 'airplanes', 'airplanes', 'airplanes', 'airplanes', 'airplanes', 'airplanes', 'airplanes', 'airplanes', 'airplanes', 'airplanes', 'airplanes', 'airplanes', 'airplanes', 'airplanes', 'airplanes', 'airplanes', 'airplanes', 'airplanes', 'airplanes', 'butterfly', 'butterfly', 'butterfly', 'butterfly', 'butterfly', 'butterfly', 'butterfly', 'butterfly', 'butterfly', 'butterfly', 'butterfly', 'butterfly', 'butterfly', 'butterfly', 'butterfly', 'butterfly', 'butterfly', 'butterfly', 'butterfly', 'butterfly', 'butterfly', 'butterfly', 'butterfly', 'butterfly', 'butterfly', 'butterfly', 'butterfly', 'butterfly', 'butterfly', 'butterfly', 'butterfly', 'butterfly', 'butterfly', 'butterfly', 'butterfly', 'butterfly', 'butterfly', 'butterfly', 'butterfly', 'butterfly', 'butterfly', 'butterfly', 'butterfly', 'butterfly', 'butterfly', 'butterfly', 'butterfly', 'butterfly', 'butterfly', 'butterfly', 'butterfly', 'butterfly', 'butterfly', 'butterfly', 'butterfly', 'butterfly', 'butterfly', 'butterfly', 'butterfly', 'butterfly', 'butterfly', 'butterfly', 'butterfly', 'butterfly', 'butterfly', 'butterfly', 'butterfly', 'butterfly', 'butterfly', 'butterfly', 'butterfly']\n",
        "img matrix"
       ]
      },
      {
       "output_type": "stream",
       "stream": "stdout",
       "text": [
        " [[ 48  61 165]\n",
        " [ 48  61 165]\n",
        " [ 54  67 171]\n",
        " ..., \n",
        " [ 11  29 137]\n",
        " [ 12  30 138]\n",
        " [ 13  31 139]]\n",
        "192 192\n",
        "['airplanes', 'airplanes', 'airplanes', 'airplanes', 'airplanes', 'airplanes', 'airplanes', 'airplanes', 'airplanes', 'airplanes', 'airplanes', 'airplanes', 'airplanes', 'airplanes', 'airplanes', 'airplanes', 'airplanes', 'airplanes', 'airplanes', 'airplanes', 'airplanes', 'airplanes', 'airplanes', 'airplanes', 'airplanes', 'airplanes', 'airplanes', 'airplanes', 'airplanes', 'airplanes', 'airplanes', 'airplanes', 'airplanes', 'airplanes', 'airplanes', 'airplanes', 'airplanes', 'airplanes', 'airplanes', 'airplanes', 'airplanes', 'airplanes', 'airplanes', 'airplanes', 'airplanes', 'airplanes', 'airplanes', 'airplanes', 'airplanes', 'airplanes', 'airplanes', 'airplanes', 'airplanes', 'airplanes', 'airplanes', 'airplanes', 'airplanes', 'airplanes', 'airplanes', 'airplanes', 'airplanes', 'airplanes', 'airplanes', 'airplanes', 'airplanes', 'airplanes', 'airplanes', 'airplanes', 'airplanes', 'airplanes', 'airplanes', 'airplanes', 'airplanes', 'airplanes', 'airplanes', 'airplanes', 'airplanes', 'airplanes', 'airplanes', 'airplanes', 'airplanes', 'airplanes', 'airplanes', 'airplanes', 'airplanes', 'airplanes', 'airplanes', 'airplanes', 'airplanes', 'airplanes', 'airplanes', 'airplanes', 'airplanes', 'airplanes', 'airplanes', 'airplanes', 'airplanes', 'airplanes', 'airplanes', 'airplanes', 'airplanes', 'airplanes', 'airplanes', 'airplanes', 'airplanes', 'airplanes', 'airplanes', 'airplanes', 'airplanes', 'airplanes', 'airplanes', 'airplanes', 'airplanes', 'airplanes', 'airplanes', 'airplanes', 'airplanes', 'airplanes', 'airplanes', 'airplanes', 'butterfly', 'butterfly', 'butterfly', 'butterfly', 'butterfly', 'butterfly', 'butterfly', 'butterfly', 'butterfly', 'butterfly', 'butterfly', 'butterfly', 'butterfly', 'butterfly', 'butterfly', 'butterfly', 'butterfly', 'butterfly', 'butterfly', 'butterfly', 'butterfly', 'butterfly', 'butterfly', 'butterfly', 'butterfly', 'butterfly', 'butterfly', 'butterfly', 'butterfly', 'butterfly', 'butterfly', 'butterfly', 'butterfly', 'butterfly', 'butterfly', 'butterfly', 'butterfly', 'butterfly', 'butterfly', 'butterfly', 'butterfly', 'butterfly', 'butterfly', 'butterfly', 'butterfly', 'butterfly', 'butterfly', 'butterfly', 'butterfly', 'butterfly', 'butterfly', 'butterfly', 'butterfly', 'butterfly', 'butterfly', 'butterfly', 'butterfly', 'butterfly', 'butterfly', 'butterfly', 'butterfly', 'butterfly', 'butterfly', 'butterfly', 'butterfly', 'butterfly', 'butterfly', 'butterfly', 'butterfly', 'butterfly', 'butterfly', 'butterfly']\n",
        "img matrix"
       ]
      },
      {
       "output_type": "stream",
       "stream": "stdout",
       "text": [
        " [[123 123 123]\n",
        " [123 123 123]\n",
        " [123 123 123]\n",
        " ..., \n",
        " [123 123 123]\n",
        " [123 123 123]\n",
        " [123 123 123]]\n",
        "193 193\n",
        "['airplanes', 'airplanes', 'airplanes', 'airplanes', 'airplanes', 'airplanes', 'airplanes', 'airplanes', 'airplanes', 'airplanes', 'airplanes', 'airplanes', 'airplanes', 'airplanes', 'airplanes', 'airplanes', 'airplanes', 'airplanes', 'airplanes', 'airplanes', 'airplanes', 'airplanes', 'airplanes', 'airplanes', 'airplanes', 'airplanes', 'airplanes', 'airplanes', 'airplanes', 'airplanes', 'airplanes', 'airplanes', 'airplanes', 'airplanes', 'airplanes', 'airplanes', 'airplanes', 'airplanes', 'airplanes', 'airplanes', 'airplanes', 'airplanes', 'airplanes', 'airplanes', 'airplanes', 'airplanes', 'airplanes', 'airplanes', 'airplanes', 'airplanes', 'airplanes', 'airplanes', 'airplanes', 'airplanes', 'airplanes', 'airplanes', 'airplanes', 'airplanes', 'airplanes', 'airplanes', 'airplanes', 'airplanes', 'airplanes', 'airplanes', 'airplanes', 'airplanes', 'airplanes', 'airplanes', 'airplanes', 'airplanes', 'airplanes', 'airplanes', 'airplanes', 'airplanes', 'airplanes', 'airplanes', 'airplanes', 'airplanes', 'airplanes', 'airplanes', 'airplanes', 'airplanes', 'airplanes', 'airplanes', 'airplanes', 'airplanes', 'airplanes', 'airplanes', 'airplanes', 'airplanes', 'airplanes', 'airplanes', 'airplanes', 'airplanes', 'airplanes', 'airplanes', 'airplanes', 'airplanes', 'airplanes', 'airplanes', 'airplanes', 'airplanes', 'airplanes', 'airplanes', 'airplanes', 'airplanes', 'airplanes', 'airplanes', 'airplanes', 'airplanes', 'airplanes', 'airplanes', 'airplanes', 'airplanes', 'airplanes', 'airplanes', 'airplanes', 'airplanes', 'airplanes', 'airplanes', 'butterfly', 'butterfly', 'butterfly', 'butterfly', 'butterfly', 'butterfly', 'butterfly', 'butterfly', 'butterfly', 'butterfly', 'butterfly', 'butterfly', 'butterfly', 'butterfly', 'butterfly', 'butterfly', 'butterfly', 'butterfly', 'butterfly', 'butterfly', 'butterfly', 'butterfly', 'butterfly', 'butterfly', 'butterfly', 'butterfly', 'butterfly', 'butterfly', 'butterfly', 'butterfly', 'butterfly', 'butterfly', 'butterfly', 'butterfly', 'butterfly', 'butterfly', 'butterfly', 'butterfly', 'butterfly', 'butterfly', 'butterfly', 'butterfly', 'butterfly', 'butterfly', 'butterfly', 'butterfly', 'butterfly', 'butterfly', 'butterfly', 'butterfly', 'butterfly', 'butterfly', 'butterfly', 'butterfly', 'butterfly', 'butterfly', 'butterfly', 'butterfly', 'butterfly', 'butterfly', 'butterfly', 'butterfly', 'butterfly', 'butterfly', 'butterfly', 'butterfly', 'butterfly', 'butterfly', 'butterfly', 'butterfly', 'butterfly', 'butterfly', 'butterfly']\n",
        "img matrix"
       ]
      },
      {
       "output_type": "stream",
       "stream": "stdout",
       "text": [
        " [[115 121 117]\n",
        " [118 124 120]\n",
        " [121 127 123]\n",
        " ..., \n",
        " [113 115 102]\n",
        " [113 117 103]\n",
        " [114 118 104]]\n",
        "194 194\n",
        "['airplanes', 'airplanes', 'airplanes', 'airplanes', 'airplanes', 'airplanes', 'airplanes', 'airplanes', 'airplanes', 'airplanes', 'airplanes', 'airplanes', 'airplanes', 'airplanes', 'airplanes', 'airplanes', 'airplanes', 'airplanes', 'airplanes', 'airplanes', 'airplanes', 'airplanes', 'airplanes', 'airplanes', 'airplanes', 'airplanes', 'airplanes', 'airplanes', 'airplanes', 'airplanes', 'airplanes', 'airplanes', 'airplanes', 'airplanes', 'airplanes', 'airplanes', 'airplanes', 'airplanes', 'airplanes', 'airplanes', 'airplanes', 'airplanes', 'airplanes', 'airplanes', 'airplanes', 'airplanes', 'airplanes', 'airplanes', 'airplanes', 'airplanes', 'airplanes', 'airplanes', 'airplanes', 'airplanes', 'airplanes', 'airplanes', 'airplanes', 'airplanes', 'airplanes', 'airplanes', 'airplanes', 'airplanes', 'airplanes', 'airplanes', 'airplanes', 'airplanes', 'airplanes', 'airplanes', 'airplanes', 'airplanes', 'airplanes', 'airplanes', 'airplanes', 'airplanes', 'airplanes', 'airplanes', 'airplanes', 'airplanes', 'airplanes', 'airplanes', 'airplanes', 'airplanes', 'airplanes', 'airplanes', 'airplanes', 'airplanes', 'airplanes', 'airplanes', 'airplanes', 'airplanes', 'airplanes', 'airplanes', 'airplanes', 'airplanes', 'airplanes', 'airplanes', 'airplanes', 'airplanes', 'airplanes', 'airplanes', 'airplanes', 'airplanes', 'airplanes', 'airplanes', 'airplanes', 'airplanes', 'airplanes', 'airplanes', 'airplanes', 'airplanes', 'airplanes', 'airplanes', 'airplanes', 'airplanes', 'airplanes', 'airplanes', 'airplanes', 'airplanes', 'airplanes', 'airplanes', 'butterfly', 'butterfly', 'butterfly', 'butterfly', 'butterfly', 'butterfly', 'butterfly', 'butterfly', 'butterfly', 'butterfly', 'butterfly', 'butterfly', 'butterfly', 'butterfly', 'butterfly', 'butterfly', 'butterfly', 'butterfly', 'butterfly', 'butterfly', 'butterfly', 'butterfly', 'butterfly', 'butterfly', 'butterfly', 'butterfly', 'butterfly', 'butterfly', 'butterfly', 'butterfly', 'butterfly', 'butterfly', 'butterfly', 'butterfly', 'butterfly', 'butterfly', 'butterfly', 'butterfly', 'butterfly', 'butterfly', 'butterfly', 'butterfly', 'butterfly', 'butterfly', 'butterfly', 'butterfly', 'butterfly', 'butterfly', 'butterfly', 'butterfly', 'butterfly', 'butterfly', 'butterfly', 'butterfly', 'butterfly', 'butterfly', 'butterfly', 'butterfly', 'butterfly', 'butterfly', 'butterfly', 'butterfly', 'butterfly', 'butterfly', 'butterfly', 'butterfly', 'butterfly', 'butterfly', 'butterfly', 'butterfly', 'butterfly', 'butterfly', 'butterfly', 'butterfly']\n",
        "img matrix"
       ]
      },
      {
       "output_type": "stream",
       "stream": "stdout",
       "text": [
        " [[103  64  57]\n",
        " [143 101  77]\n",
        " [120  77  26]\n",
        " ..., \n",
        " [  0   0   0]\n",
        " [  0   0   0]\n",
        " [  0   0   0]]\n",
        "195 195\n",
        "['airplanes', 'airplanes', 'airplanes', 'airplanes', 'airplanes', 'airplanes', 'airplanes', 'airplanes', 'airplanes', 'airplanes', 'airplanes', 'airplanes', 'airplanes', 'airplanes', 'airplanes', 'airplanes', 'airplanes', 'airplanes', 'airplanes', 'airplanes', 'airplanes', 'airplanes', 'airplanes', 'airplanes', 'airplanes', 'airplanes', 'airplanes', 'airplanes', 'airplanes', 'airplanes', 'airplanes', 'airplanes', 'airplanes', 'airplanes', 'airplanes', 'airplanes', 'airplanes', 'airplanes', 'airplanes', 'airplanes', 'airplanes', 'airplanes', 'airplanes', 'airplanes', 'airplanes', 'airplanes', 'airplanes', 'airplanes', 'airplanes', 'airplanes', 'airplanes', 'airplanes', 'airplanes', 'airplanes', 'airplanes', 'airplanes', 'airplanes', 'airplanes', 'airplanes', 'airplanes', 'airplanes', 'airplanes', 'airplanes', 'airplanes', 'airplanes', 'airplanes', 'airplanes', 'airplanes', 'airplanes', 'airplanes', 'airplanes', 'airplanes', 'airplanes', 'airplanes', 'airplanes', 'airplanes', 'airplanes', 'airplanes', 'airplanes', 'airplanes', 'airplanes', 'airplanes', 'airplanes', 'airplanes', 'airplanes', 'airplanes', 'airplanes', 'airplanes', 'airplanes', 'airplanes', 'airplanes', 'airplanes', 'airplanes', 'airplanes', 'airplanes', 'airplanes', 'airplanes', 'airplanes', 'airplanes', 'airplanes', 'airplanes', 'airplanes', 'airplanes', 'airplanes', 'airplanes', 'airplanes', 'airplanes', 'airplanes', 'airplanes', 'airplanes', 'airplanes', 'airplanes', 'airplanes', 'airplanes', 'airplanes', 'airplanes', 'airplanes', 'airplanes', 'airplanes', 'airplanes', 'butterfly', 'butterfly', 'butterfly', 'butterfly', 'butterfly', 'butterfly', 'butterfly', 'butterfly', 'butterfly', 'butterfly', 'butterfly', 'butterfly', 'butterfly', 'butterfly', 'butterfly', 'butterfly', 'butterfly', 'butterfly', 'butterfly', 'butterfly', 'butterfly', 'butterfly', 'butterfly', 'butterfly', 'butterfly', 'butterfly', 'butterfly', 'butterfly', 'butterfly', 'butterfly', 'butterfly', 'butterfly', 'butterfly', 'butterfly', 'butterfly', 'butterfly', 'butterfly', 'butterfly', 'butterfly', 'butterfly', 'butterfly', 'butterfly', 'butterfly', 'butterfly', 'butterfly', 'butterfly', 'butterfly', 'butterfly', 'butterfly', 'butterfly', 'butterfly', 'butterfly', 'butterfly', 'butterfly', 'butterfly', 'butterfly', 'butterfly', 'butterfly', 'butterfly', 'butterfly', 'butterfly', 'butterfly', 'butterfly', 'butterfly', 'butterfly', 'butterfly', 'butterfly', 'butterfly', 'butterfly', 'butterfly', 'butterfly', 'butterfly', 'butterfly', 'butterfly', 'butterfly']\n",
        "img matrix"
       ]
      },
      {
       "output_type": "stream",
       "stream": "stdout",
       "text": [
        " [[0 0 0]\n",
        " [0 0 0]\n",
        " [0 0 0]\n",
        " ..., \n",
        " [0 0 0]\n",
        " [0 0 0]\n",
        " [0 0 0]]\n",
        "196 196\n",
        "['airplanes', 'airplanes', 'airplanes', 'airplanes', 'airplanes', 'airplanes', 'airplanes', 'airplanes', 'airplanes', 'airplanes', 'airplanes', 'airplanes', 'airplanes', 'airplanes', 'airplanes', 'airplanes', 'airplanes', 'airplanes', 'airplanes', 'airplanes', 'airplanes', 'airplanes', 'airplanes', 'airplanes', 'airplanes', 'airplanes', 'airplanes', 'airplanes', 'airplanes', 'airplanes', 'airplanes', 'airplanes', 'airplanes', 'airplanes', 'airplanes', 'airplanes', 'airplanes', 'airplanes', 'airplanes', 'airplanes', 'airplanes', 'airplanes', 'airplanes', 'airplanes', 'airplanes', 'airplanes', 'airplanes', 'airplanes', 'airplanes', 'airplanes', 'airplanes', 'airplanes', 'airplanes', 'airplanes', 'airplanes', 'airplanes', 'airplanes', 'airplanes', 'airplanes', 'airplanes', 'airplanes', 'airplanes', 'airplanes', 'airplanes', 'airplanes', 'airplanes', 'airplanes', 'airplanes', 'airplanes', 'airplanes', 'airplanes', 'airplanes', 'airplanes', 'airplanes', 'airplanes', 'airplanes', 'airplanes', 'airplanes', 'airplanes', 'airplanes', 'airplanes', 'airplanes', 'airplanes', 'airplanes', 'airplanes', 'airplanes', 'airplanes', 'airplanes', 'airplanes', 'airplanes', 'airplanes', 'airplanes', 'airplanes', 'airplanes', 'airplanes', 'airplanes', 'airplanes', 'airplanes', 'airplanes', 'airplanes', 'airplanes', 'airplanes', 'airplanes', 'airplanes', 'airplanes', 'airplanes', 'airplanes', 'airplanes', 'airplanes', 'airplanes', 'airplanes', 'airplanes', 'airplanes', 'airplanes', 'airplanes', 'airplanes', 'airplanes', 'airplanes', 'airplanes', 'airplanes', 'butterfly', 'butterfly', 'butterfly', 'butterfly', 'butterfly', 'butterfly', 'butterfly', 'butterfly', 'butterfly', 'butterfly', 'butterfly', 'butterfly', 'butterfly', 'butterfly', 'butterfly', 'butterfly', 'butterfly', 'butterfly', 'butterfly', 'butterfly', 'butterfly', 'butterfly', 'butterfly', 'butterfly', 'butterfly', 'butterfly', 'butterfly', 'butterfly', 'butterfly', 'butterfly', 'butterfly', 'butterfly', 'butterfly', 'butterfly', 'butterfly', 'butterfly', 'butterfly', 'butterfly', 'butterfly', 'butterfly', 'butterfly', 'butterfly', 'butterfly', 'butterfly', 'butterfly', 'butterfly', 'butterfly', 'butterfly', 'butterfly', 'butterfly', 'butterfly', 'butterfly', 'butterfly', 'butterfly', 'butterfly', 'butterfly', 'butterfly', 'butterfly', 'butterfly', 'butterfly', 'butterfly', 'butterfly', 'butterfly', 'butterfly', 'butterfly', 'butterfly', 'butterfly', 'butterfly', 'butterfly', 'butterfly', 'butterfly', 'butterfly', 'butterfly', 'butterfly', 'butterfly', 'butterfly']\n",
        "img matrix"
       ]
      },
      {
       "output_type": "stream",
       "stream": "stdout",
       "text": [
        " [[255 255 255]\n",
        " [255 255 255]\n",
        " [255 255 255]\n",
        " ..., \n",
        " [255 255 255]\n",
        " [255 255 255]\n",
        " [255 255 255]]\n",
        "197 197\n",
        "['airplanes', 'airplanes', 'airplanes', 'airplanes', 'airplanes', 'airplanes', 'airplanes', 'airplanes', 'airplanes', 'airplanes', 'airplanes', 'airplanes', 'airplanes', 'airplanes', 'airplanes', 'airplanes', 'airplanes', 'airplanes', 'airplanes', 'airplanes', 'airplanes', 'airplanes', 'airplanes', 'airplanes', 'airplanes', 'airplanes', 'airplanes', 'airplanes', 'airplanes', 'airplanes', 'airplanes', 'airplanes', 'airplanes', 'airplanes', 'airplanes', 'airplanes', 'airplanes', 'airplanes', 'airplanes', 'airplanes', 'airplanes', 'airplanes', 'airplanes', 'airplanes', 'airplanes', 'airplanes', 'airplanes', 'airplanes', 'airplanes', 'airplanes', 'airplanes', 'airplanes', 'airplanes', 'airplanes', 'airplanes', 'airplanes', 'airplanes', 'airplanes', 'airplanes', 'airplanes', 'airplanes', 'airplanes', 'airplanes', 'airplanes', 'airplanes', 'airplanes', 'airplanes', 'airplanes', 'airplanes', 'airplanes', 'airplanes', 'airplanes', 'airplanes', 'airplanes', 'airplanes', 'airplanes', 'airplanes', 'airplanes', 'airplanes', 'airplanes', 'airplanes', 'airplanes', 'airplanes', 'airplanes', 'airplanes', 'airplanes', 'airplanes', 'airplanes', 'airplanes', 'airplanes', 'airplanes', 'airplanes', 'airplanes', 'airplanes', 'airplanes', 'airplanes', 'airplanes', 'airplanes', 'airplanes', 'airplanes', 'airplanes', 'airplanes', 'airplanes', 'airplanes', 'airplanes', 'airplanes', 'airplanes', 'airplanes', 'airplanes', 'airplanes', 'airplanes', 'airplanes', 'airplanes', 'airplanes', 'airplanes', 'airplanes', 'airplanes', 'airplanes', 'airplanes', 'airplanes', 'butterfly', 'butterfly', 'butterfly', 'butterfly', 'butterfly', 'butterfly', 'butterfly', 'butterfly', 'butterfly', 'butterfly', 'butterfly', 'butterfly', 'butterfly', 'butterfly', 'butterfly', 'butterfly', 'butterfly', 'butterfly', 'butterfly', 'butterfly', 'butterfly', 'butterfly', 'butterfly', 'butterfly', 'butterfly', 'butterfly', 'butterfly', 'butterfly', 'butterfly', 'butterfly', 'butterfly', 'butterfly', 'butterfly', 'butterfly', 'butterfly', 'butterfly', 'butterfly', 'butterfly', 'butterfly', 'butterfly', 'butterfly', 'butterfly', 'butterfly', 'butterfly', 'butterfly', 'butterfly', 'butterfly', 'butterfly', 'butterfly', 'butterfly', 'butterfly', 'butterfly', 'butterfly', 'butterfly', 'butterfly', 'butterfly', 'butterfly', 'butterfly', 'butterfly', 'butterfly', 'butterfly', 'butterfly', 'butterfly', 'butterfly', 'butterfly', 'butterfly', 'butterfly', 'butterfly', 'butterfly', 'butterfly', 'butterfly', 'butterfly', 'butterfly', 'butterfly', 'butterfly', 'butterfly', 'butterfly']\n",
        "Sorry. 'int' object is not iterable\n",
        "Had trouble with ../102_Categories/butterfly/image_0083.jpg\n",
        "img matrix"
       ]
      },
      {
       "output_type": "stream",
       "stream": "stdout",
       "text": [
        " [[0 0 0]\n",
        " [0 0 0]\n",
        " [0 0 0]\n",
        " ..., \n",
        " [0 0 0]\n",
        " [0 0 0]\n",
        " [0 0 0]]\n",
        "198 198\n",
        "['airplanes', 'airplanes', 'airplanes', 'airplanes', 'airplanes', 'airplanes', 'airplanes', 'airplanes', 'airplanes', 'airplanes', 'airplanes', 'airplanes', 'airplanes', 'airplanes', 'airplanes', 'airplanes', 'airplanes', 'airplanes', 'airplanes', 'airplanes', 'airplanes', 'airplanes', 'airplanes', 'airplanes', 'airplanes', 'airplanes', 'airplanes', 'airplanes', 'airplanes', 'airplanes', 'airplanes', 'airplanes', 'airplanes', 'airplanes', 'airplanes', 'airplanes', 'airplanes', 'airplanes', 'airplanes', 'airplanes', 'airplanes', 'airplanes', 'airplanes', 'airplanes', 'airplanes', 'airplanes', 'airplanes', 'airplanes', 'airplanes', 'airplanes', 'airplanes', 'airplanes', 'airplanes', 'airplanes', 'airplanes', 'airplanes', 'airplanes', 'airplanes', 'airplanes', 'airplanes', 'airplanes', 'airplanes', 'airplanes', 'airplanes', 'airplanes', 'airplanes', 'airplanes', 'airplanes', 'airplanes', 'airplanes', 'airplanes', 'airplanes', 'airplanes', 'airplanes', 'airplanes', 'airplanes', 'airplanes', 'airplanes', 'airplanes', 'airplanes', 'airplanes', 'airplanes', 'airplanes', 'airplanes', 'airplanes', 'airplanes', 'airplanes', 'airplanes', 'airplanes', 'airplanes', 'airplanes', 'airplanes', 'airplanes', 'airplanes', 'airplanes', 'airplanes', 'airplanes', 'airplanes', 'airplanes', 'airplanes', 'airplanes', 'airplanes', 'airplanes', 'airplanes', 'airplanes', 'airplanes', 'airplanes', 'airplanes', 'airplanes', 'airplanes', 'airplanes', 'airplanes', 'airplanes', 'airplanes', 'airplanes', 'airplanes', 'airplanes', 'airplanes', 'airplanes', 'airplanes', 'butterfly', 'butterfly', 'butterfly', 'butterfly', 'butterfly', 'butterfly', 'butterfly', 'butterfly', 'butterfly', 'butterfly', 'butterfly', 'butterfly', 'butterfly', 'butterfly', 'butterfly', 'butterfly', 'butterfly', 'butterfly', 'butterfly', 'butterfly', 'butterfly', 'butterfly', 'butterfly', 'butterfly', 'butterfly', 'butterfly', 'butterfly', 'butterfly', 'butterfly', 'butterfly', 'butterfly', 'butterfly', 'butterfly', 'butterfly', 'butterfly', 'butterfly', 'butterfly', 'butterfly', 'butterfly', 'butterfly', 'butterfly', 'butterfly', 'butterfly', 'butterfly', 'butterfly', 'butterfly', 'butterfly', 'butterfly', 'butterfly', 'butterfly', 'butterfly', 'butterfly', 'butterfly', 'butterfly', 'butterfly', 'butterfly', 'butterfly', 'butterfly', 'butterfly', 'butterfly', 'butterfly', 'butterfly', 'butterfly', 'butterfly', 'butterfly', 'butterfly', 'butterfly', 'butterfly', 'butterfly', 'butterfly', 'butterfly', 'butterfly', 'butterfly', 'butterfly', 'butterfly', 'butterfly', 'butterfly', 'butterfly']\n",
        "img matrix"
       ]
      },
      {
       "output_type": "stream",
       "stream": "stdout",
       "text": [
        " [[255 255 255]\n",
        " [255 255 255]\n",
        " [255 255 255]\n",
        " ..., \n",
        " [255 255 255]\n",
        " [255 255 255]\n",
        " [255 255 255]]\n",
        "199 199\n",
        "['airplanes', 'airplanes', 'airplanes', 'airplanes', 'airplanes', 'airplanes', 'airplanes', 'airplanes', 'airplanes', 'airplanes', 'airplanes', 'airplanes', 'airplanes', 'airplanes', 'airplanes', 'airplanes', 'airplanes', 'airplanes', 'airplanes', 'airplanes', 'airplanes', 'airplanes', 'airplanes', 'airplanes', 'airplanes', 'airplanes', 'airplanes', 'airplanes', 'airplanes', 'airplanes', 'airplanes', 'airplanes', 'airplanes', 'airplanes', 'airplanes', 'airplanes', 'airplanes', 'airplanes', 'airplanes', 'airplanes', 'airplanes', 'airplanes', 'airplanes', 'airplanes', 'airplanes', 'airplanes', 'airplanes', 'airplanes', 'airplanes', 'airplanes', 'airplanes', 'airplanes', 'airplanes', 'airplanes', 'airplanes', 'airplanes', 'airplanes', 'airplanes', 'airplanes', 'airplanes', 'airplanes', 'airplanes', 'airplanes', 'airplanes', 'airplanes', 'airplanes', 'airplanes', 'airplanes', 'airplanes', 'airplanes', 'airplanes', 'airplanes', 'airplanes', 'airplanes', 'airplanes', 'airplanes', 'airplanes', 'airplanes', 'airplanes', 'airplanes', 'airplanes', 'airplanes', 'airplanes', 'airplanes', 'airplanes', 'airplanes', 'airplanes', 'airplanes', 'airplanes', 'airplanes', 'airplanes', 'airplanes', 'airplanes', 'airplanes', 'airplanes', 'airplanes', 'airplanes', 'airplanes', 'airplanes', 'airplanes', 'airplanes', 'airplanes', 'airplanes', 'airplanes', 'airplanes', 'airplanes', 'airplanes', 'airplanes', 'airplanes', 'airplanes', 'airplanes', 'airplanes', 'airplanes', 'airplanes', 'airplanes', 'airplanes', 'airplanes', 'airplanes', 'airplanes', 'airplanes', 'butterfly', 'butterfly', 'butterfly', 'butterfly', 'butterfly', 'butterfly', 'butterfly', 'butterfly', 'butterfly', 'butterfly', 'butterfly', 'butterfly', 'butterfly', 'butterfly', 'butterfly', 'butterfly', 'butterfly', 'butterfly', 'butterfly', 'butterfly', 'butterfly', 'butterfly', 'butterfly', 'butterfly', 'butterfly', 'butterfly', 'butterfly', 'butterfly', 'butterfly', 'butterfly', 'butterfly', 'butterfly', 'butterfly', 'butterfly', 'butterfly', 'butterfly', 'butterfly', 'butterfly', 'butterfly', 'butterfly', 'butterfly', 'butterfly', 'butterfly', 'butterfly', 'butterfly', 'butterfly', 'butterfly', 'butterfly', 'butterfly', 'butterfly', 'butterfly', 'butterfly', 'butterfly', 'butterfly', 'butterfly', 'butterfly', 'butterfly', 'butterfly', 'butterfly', 'butterfly', 'butterfly', 'butterfly', 'butterfly', 'butterfly', 'butterfly', 'butterfly', 'butterfly', 'butterfly', 'butterfly', 'butterfly', 'butterfly', 'butterfly', 'butterfly', 'butterfly', 'butterfly', 'butterfly', 'butterfly', 'butterfly', 'butterfly']\n",
        "img matrix"
       ]
      },
      {
       "output_type": "stream",
       "stream": "stdout",
       "text": [
        " [[ 60  70  82]\n",
        " [ 61  71  83]\n",
        " [ 61  71  83]\n",
        " ..., \n",
        " [163 178 207]\n",
        " [162 177 206]\n",
        " [161 176 205]]\n",
        "200 200\n",
        "['airplanes', 'airplanes', 'airplanes', 'airplanes', 'airplanes', 'airplanes', 'airplanes', 'airplanes', 'airplanes', 'airplanes', 'airplanes', 'airplanes', 'airplanes', 'airplanes', 'airplanes', 'airplanes', 'airplanes', 'airplanes', 'airplanes', 'airplanes', 'airplanes', 'airplanes', 'airplanes', 'airplanes', 'airplanes', 'airplanes', 'airplanes', 'airplanes', 'airplanes', 'airplanes', 'airplanes', 'airplanes', 'airplanes', 'airplanes', 'airplanes', 'airplanes', 'airplanes', 'airplanes', 'airplanes', 'airplanes', 'airplanes', 'airplanes', 'airplanes', 'airplanes', 'airplanes', 'airplanes', 'airplanes', 'airplanes', 'airplanes', 'airplanes', 'airplanes', 'airplanes', 'airplanes', 'airplanes', 'airplanes', 'airplanes', 'airplanes', 'airplanes', 'airplanes', 'airplanes', 'airplanes', 'airplanes', 'airplanes', 'airplanes', 'airplanes', 'airplanes', 'airplanes', 'airplanes', 'airplanes', 'airplanes', 'airplanes', 'airplanes', 'airplanes', 'airplanes', 'airplanes', 'airplanes', 'airplanes', 'airplanes', 'airplanes', 'airplanes', 'airplanes', 'airplanes', 'airplanes', 'airplanes', 'airplanes', 'airplanes', 'airplanes', 'airplanes', 'airplanes', 'airplanes', 'airplanes', 'airplanes', 'airplanes', 'airplanes', 'airplanes', 'airplanes', 'airplanes', 'airplanes', 'airplanes', 'airplanes', 'airplanes', 'airplanes', 'airplanes', 'airplanes', 'airplanes', 'airplanes', 'airplanes', 'airplanes', 'airplanes', 'airplanes', 'airplanes', 'airplanes', 'airplanes', 'airplanes', 'airplanes', 'airplanes', 'airplanes', 'airplanes', 'airplanes', 'airplanes', 'butterfly', 'butterfly', 'butterfly', 'butterfly', 'butterfly', 'butterfly', 'butterfly', 'butterfly', 'butterfly', 'butterfly', 'butterfly', 'butterfly', 'butterfly', 'butterfly', 'butterfly', 'butterfly', 'butterfly', 'butterfly', 'butterfly', 'butterfly', 'butterfly', 'butterfly', 'butterfly', 'butterfly', 'butterfly', 'butterfly', 'butterfly', 'butterfly', 'butterfly', 'butterfly', 'butterfly', 'butterfly', 'butterfly', 'butterfly', 'butterfly', 'butterfly', 'butterfly', 'butterfly', 'butterfly', 'butterfly', 'butterfly', 'butterfly', 'butterfly', 'butterfly', 'butterfly', 'butterfly', 'butterfly', 'butterfly', 'butterfly', 'butterfly', 'butterfly', 'butterfly', 'butterfly', 'butterfly', 'butterfly', 'butterfly', 'butterfly', 'butterfly', 'butterfly', 'butterfly', 'butterfly', 'butterfly', 'butterfly', 'butterfly', 'butterfly', 'butterfly', 'butterfly', 'butterfly', 'butterfly', 'butterfly', 'butterfly', 'butterfly', 'butterfly', 'butterfly', 'butterfly', 'butterfly', 'butterfly', 'butterfly', 'butterfly', 'butterfly']\n",
        "img matrix"
       ]
      },
      {
       "output_type": "stream",
       "stream": "stdout",
       "text": [
        " [[235 223 227]\n",
        " [255 247 251]\n",
        " [220 208 212]\n",
        " ..., \n",
        " [247 245 246]\n",
        " [211 211 213]\n",
        " [250 248 253]]\n",
        "201 201\n",
        "['airplanes', 'airplanes', 'airplanes', 'airplanes', 'airplanes', 'airplanes', 'airplanes', 'airplanes', 'airplanes', 'airplanes', 'airplanes', 'airplanes', 'airplanes', 'airplanes', 'airplanes', 'airplanes', 'airplanes', 'airplanes', 'airplanes', 'airplanes', 'airplanes', 'airplanes', 'airplanes', 'airplanes', 'airplanes', 'airplanes', 'airplanes', 'airplanes', 'airplanes', 'airplanes', 'airplanes', 'airplanes', 'airplanes', 'airplanes', 'airplanes', 'airplanes', 'airplanes', 'airplanes', 'airplanes', 'airplanes', 'airplanes', 'airplanes', 'airplanes', 'airplanes', 'airplanes', 'airplanes', 'airplanes', 'airplanes', 'airplanes', 'airplanes', 'airplanes', 'airplanes', 'airplanes', 'airplanes', 'airplanes', 'airplanes', 'airplanes', 'airplanes', 'airplanes', 'airplanes', 'airplanes', 'airplanes', 'airplanes', 'airplanes', 'airplanes', 'airplanes', 'airplanes', 'airplanes', 'airplanes', 'airplanes', 'airplanes', 'airplanes', 'airplanes', 'airplanes', 'airplanes', 'airplanes', 'airplanes', 'airplanes', 'airplanes', 'airplanes', 'airplanes', 'airplanes', 'airplanes', 'airplanes', 'airplanes', 'airplanes', 'airplanes', 'airplanes', 'airplanes', 'airplanes', 'airplanes', 'airplanes', 'airplanes', 'airplanes', 'airplanes', 'airplanes', 'airplanes', 'airplanes', 'airplanes', 'airplanes', 'airplanes', 'airplanes', 'airplanes', 'airplanes', 'airplanes', 'airplanes', 'airplanes', 'airplanes', 'airplanes', 'airplanes', 'airplanes', 'airplanes', 'airplanes', 'airplanes', 'airplanes', 'airplanes', 'airplanes', 'airplanes', 'airplanes', 'airplanes', 'butterfly', 'butterfly', 'butterfly', 'butterfly', 'butterfly', 'butterfly', 'butterfly', 'butterfly', 'butterfly', 'butterfly', 'butterfly', 'butterfly', 'butterfly', 'butterfly', 'butterfly', 'butterfly', 'butterfly', 'butterfly', 'butterfly', 'butterfly', 'butterfly', 'butterfly', 'butterfly', 'butterfly', 'butterfly', 'butterfly', 'butterfly', 'butterfly', 'butterfly', 'butterfly', 'butterfly', 'butterfly', 'butterfly', 'butterfly', 'butterfly', 'butterfly', 'butterfly', 'butterfly', 'butterfly', 'butterfly', 'butterfly', 'butterfly', 'butterfly', 'butterfly', 'butterfly', 'butterfly', 'butterfly', 'butterfly', 'butterfly', 'butterfly', 'butterfly', 'butterfly', 'butterfly', 'butterfly', 'butterfly', 'butterfly', 'butterfly', 'butterfly', 'butterfly', 'butterfly', 'butterfly', 'butterfly', 'butterfly', 'butterfly', 'butterfly', 'butterfly', 'butterfly', 'butterfly', 'butterfly', 'butterfly', 'butterfly', 'butterfly', 'butterfly', 'butterfly', 'butterfly', 'butterfly', 'butterfly', 'butterfly', 'butterfly', 'butterfly', 'butterfly']\n",
        "img matrix"
       ]
      },
      {
       "output_type": "stream",
       "stream": "stdout",
       "text": [
        " [[10 17 25]\n",
        " [10 17 25]\n",
        " [10 17 25]\n",
        " ..., \n",
        " [10 17 25]\n",
        " [10 17 25]\n",
        " [10 17 25]]\n",
        "202 202\n",
        "['airplanes', 'airplanes', 'airplanes', 'airplanes', 'airplanes', 'airplanes', 'airplanes', 'airplanes', 'airplanes', 'airplanes', 'airplanes', 'airplanes', 'airplanes', 'airplanes', 'airplanes', 'airplanes', 'airplanes', 'airplanes', 'airplanes', 'airplanes', 'airplanes', 'airplanes', 'airplanes', 'airplanes', 'airplanes', 'airplanes', 'airplanes', 'airplanes', 'airplanes', 'airplanes', 'airplanes', 'airplanes', 'airplanes', 'airplanes', 'airplanes', 'airplanes', 'airplanes', 'airplanes', 'airplanes', 'airplanes', 'airplanes', 'airplanes', 'airplanes', 'airplanes', 'airplanes', 'airplanes', 'airplanes', 'airplanes', 'airplanes', 'airplanes', 'airplanes', 'airplanes', 'airplanes', 'airplanes', 'airplanes', 'airplanes', 'airplanes', 'airplanes', 'airplanes', 'airplanes', 'airplanes', 'airplanes', 'airplanes', 'airplanes', 'airplanes', 'airplanes', 'airplanes', 'airplanes', 'airplanes', 'airplanes', 'airplanes', 'airplanes', 'airplanes', 'airplanes', 'airplanes', 'airplanes', 'airplanes', 'airplanes', 'airplanes', 'airplanes', 'airplanes', 'airplanes', 'airplanes', 'airplanes', 'airplanes', 'airplanes', 'airplanes', 'airplanes', 'airplanes', 'airplanes', 'airplanes', 'airplanes', 'airplanes', 'airplanes', 'airplanes', 'airplanes', 'airplanes', 'airplanes', 'airplanes', 'airplanes', 'airplanes', 'airplanes', 'airplanes', 'airplanes', 'airplanes', 'airplanes', 'airplanes', 'airplanes', 'airplanes', 'airplanes', 'airplanes', 'airplanes', 'airplanes', 'airplanes', 'airplanes', 'airplanes', 'airplanes', 'airplanes', 'airplanes', 'airplanes', 'butterfly', 'butterfly', 'butterfly', 'butterfly', 'butterfly', 'butterfly', 'butterfly', 'butterfly', 'butterfly', 'butterfly', 'butterfly', 'butterfly', 'butterfly', 'butterfly', 'butterfly', 'butterfly', 'butterfly', 'butterfly', 'butterfly', 'butterfly', 'butterfly', 'butterfly', 'butterfly', 'butterfly', 'butterfly', 'butterfly', 'butterfly', 'butterfly', 'butterfly', 'butterfly', 'butterfly', 'butterfly', 'butterfly', 'butterfly', 'butterfly', 'butterfly', 'butterfly', 'butterfly', 'butterfly', 'butterfly', 'butterfly', 'butterfly', 'butterfly', 'butterfly', 'butterfly', 'butterfly', 'butterfly', 'butterfly', 'butterfly', 'butterfly', 'butterfly', 'butterfly', 'butterfly', 'butterfly', 'butterfly', 'butterfly', 'butterfly', 'butterfly', 'butterfly', 'butterfly', 'butterfly', 'butterfly', 'butterfly', 'butterfly', 'butterfly', 'butterfly', 'butterfly', 'butterfly', 'butterfly', 'butterfly', 'butterfly', 'butterfly', 'butterfly', 'butterfly', 'butterfly', 'butterfly', 'butterfly', 'butterfly', 'butterfly', 'butterfly', 'butterfly', 'butterfly']\n",
        "img matrix"
       ]
      },
      {
       "output_type": "stream",
       "stream": "stdout",
       "text": [
        " [[10 17 25]\n",
        " [10 17 25]\n",
        " [10 17 25]\n",
        " ..., \n",
        " [10 17 25]\n",
        " [10 17 25]\n",
        " [10 17 25]]\n",
        "203 203\n",
        "['airplanes', 'airplanes', 'airplanes', 'airplanes', 'airplanes', 'airplanes', 'airplanes', 'airplanes', 'airplanes', 'airplanes', 'airplanes', 'airplanes', 'airplanes', 'airplanes', 'airplanes', 'airplanes', 'airplanes', 'airplanes', 'airplanes', 'airplanes', 'airplanes', 'airplanes', 'airplanes', 'airplanes', 'airplanes', 'airplanes', 'airplanes', 'airplanes', 'airplanes', 'airplanes', 'airplanes', 'airplanes', 'airplanes', 'airplanes', 'airplanes', 'airplanes', 'airplanes', 'airplanes', 'airplanes', 'airplanes', 'airplanes', 'airplanes', 'airplanes', 'airplanes', 'airplanes', 'airplanes', 'airplanes', 'airplanes', 'airplanes', 'airplanes', 'airplanes', 'airplanes', 'airplanes', 'airplanes', 'airplanes', 'airplanes', 'airplanes', 'airplanes', 'airplanes', 'airplanes', 'airplanes', 'airplanes', 'airplanes', 'airplanes', 'airplanes', 'airplanes', 'airplanes', 'airplanes', 'airplanes', 'airplanes', 'airplanes', 'airplanes', 'airplanes', 'airplanes', 'airplanes', 'airplanes', 'airplanes', 'airplanes', 'airplanes', 'airplanes', 'airplanes', 'airplanes', 'airplanes', 'airplanes', 'airplanes', 'airplanes', 'airplanes', 'airplanes', 'airplanes', 'airplanes', 'airplanes', 'airplanes', 'airplanes', 'airplanes', 'airplanes', 'airplanes', 'airplanes', 'airplanes', 'airplanes', 'airplanes', 'airplanes', 'airplanes', 'airplanes', 'airplanes', 'airplanes', 'airplanes', 'airplanes', 'airplanes', 'airplanes', 'airplanes', 'airplanes', 'airplanes', 'airplanes', 'airplanes', 'airplanes', 'airplanes', 'airplanes', 'airplanes', 'airplanes', 'airplanes', 'butterfly', 'butterfly', 'butterfly', 'butterfly', 'butterfly', 'butterfly', 'butterfly', 'butterfly', 'butterfly', 'butterfly', 'butterfly', 'butterfly', 'butterfly', 'butterfly', 'butterfly', 'butterfly', 'butterfly', 'butterfly', 'butterfly', 'butterfly', 'butterfly', 'butterfly', 'butterfly', 'butterfly', 'butterfly', 'butterfly', 'butterfly', 'butterfly', 'butterfly', 'butterfly', 'butterfly', 'butterfly', 'butterfly', 'butterfly', 'butterfly', 'butterfly', 'butterfly', 'butterfly', 'butterfly', 'butterfly', 'butterfly', 'butterfly', 'butterfly', 'butterfly', 'butterfly', 'butterfly', 'butterfly', 'butterfly', 'butterfly', 'butterfly', 'butterfly', 'butterfly', 'butterfly', 'butterfly', 'butterfly', 'butterfly', 'butterfly', 'butterfly', 'butterfly', 'butterfly', 'butterfly', 'butterfly', 'butterfly', 'butterfly', 'butterfly', 'butterfly', 'butterfly', 'butterfly', 'butterfly', 'butterfly', 'butterfly', 'butterfly', 'butterfly', 'butterfly', 'butterfly', 'butterfly', 'butterfly', 'butterfly', 'butterfly', 'butterfly', 'butterfly', 'butterfly', 'butterfly']\n",
        "img matrix"
       ]
      },
      {
       "output_type": "stream",
       "stream": "stdout",
       "text": [
        " [[ 56  58 106]\n",
        " [ 57  55 104]\n",
        " [ 56  49 101]\n",
        " ..., \n",
        " [ 41  50  45]\n",
        " [ 43  52  47]\n",
        " [ 46  52  50]]\n",
        "204 204\n",
        "['airplanes', 'airplanes', 'airplanes', 'airplanes', 'airplanes', 'airplanes', 'airplanes', 'airplanes', 'airplanes', 'airplanes', 'airplanes', 'airplanes', 'airplanes', 'airplanes', 'airplanes', 'airplanes', 'airplanes', 'airplanes', 'airplanes', 'airplanes', 'airplanes', 'airplanes', 'airplanes', 'airplanes', 'airplanes', 'airplanes', 'airplanes', 'airplanes', 'airplanes', 'airplanes', 'airplanes', 'airplanes', 'airplanes', 'airplanes', 'airplanes', 'airplanes', 'airplanes', 'airplanes', 'airplanes', 'airplanes', 'airplanes', 'airplanes', 'airplanes', 'airplanes', 'airplanes', 'airplanes', 'airplanes', 'airplanes', 'airplanes', 'airplanes', 'airplanes', 'airplanes', 'airplanes', 'airplanes', 'airplanes', 'airplanes', 'airplanes', 'airplanes', 'airplanes', 'airplanes', 'airplanes', 'airplanes', 'airplanes', 'airplanes', 'airplanes', 'airplanes', 'airplanes', 'airplanes', 'airplanes', 'airplanes', 'airplanes', 'airplanes', 'airplanes', 'airplanes', 'airplanes', 'airplanes', 'airplanes', 'airplanes', 'airplanes', 'airplanes', 'airplanes', 'airplanes', 'airplanes', 'airplanes', 'airplanes', 'airplanes', 'airplanes', 'airplanes', 'airplanes', 'airplanes', 'airplanes', 'airplanes', 'airplanes', 'airplanes', 'airplanes', 'airplanes', 'airplanes', 'airplanes', 'airplanes', 'airplanes', 'airplanes', 'airplanes', 'airplanes', 'airplanes', 'airplanes', 'airplanes', 'airplanes', 'airplanes', 'airplanes', 'airplanes', 'airplanes', 'airplanes', 'airplanes', 'airplanes', 'airplanes', 'airplanes', 'airplanes', 'airplanes', 'airplanes', 'airplanes', 'butterfly', 'butterfly', 'butterfly', 'butterfly', 'butterfly', 'butterfly', 'butterfly', 'butterfly', 'butterfly', 'butterfly', 'butterfly', 'butterfly', 'butterfly', 'butterfly', 'butterfly', 'butterfly', 'butterfly', 'butterfly', 'butterfly', 'butterfly', 'butterfly', 'butterfly', 'butterfly', 'butterfly', 'butterfly', 'butterfly', 'butterfly', 'butterfly', 'butterfly', 'butterfly', 'butterfly', 'butterfly', 'butterfly', 'butterfly', 'butterfly', 'butterfly', 'butterfly', 'butterfly', 'butterfly', 'butterfly', 'butterfly', 'butterfly', 'butterfly', 'butterfly', 'butterfly', 'butterfly', 'butterfly', 'butterfly', 'butterfly', 'butterfly', 'butterfly', 'butterfly', 'butterfly', 'butterfly', 'butterfly', 'butterfly', 'butterfly', 'butterfly', 'butterfly', 'butterfly', 'butterfly', 'butterfly', 'butterfly', 'butterfly', 'butterfly', 'butterfly', 'butterfly', 'butterfly', 'butterfly', 'butterfly', 'butterfly', 'butterfly', 'butterfly', 'butterfly', 'butterfly', 'butterfly', 'butterfly', 'butterfly', 'butterfly', 'butterfly', 'butterfly', 'butterfly', 'butterfly', 'butterfly']\n",
        "img matrix"
       ]
      },
      {
       "output_type": "stream",
       "stream": "stdout",
       "text": [
        " [[0 0 0]\n",
        " [0 0 0]\n",
        " [0 0 0]\n",
        " ..., \n",
        " [0 0 0]\n",
        " [0 0 0]\n",
        " [0 0 0]]\n",
        "205 205\n",
        "['airplanes', 'airplanes', 'airplanes', 'airplanes', 'airplanes', 'airplanes', 'airplanes', 'airplanes', 'airplanes', 'airplanes', 'airplanes', 'airplanes', 'airplanes', 'airplanes', 'airplanes', 'airplanes', 'airplanes', 'airplanes', 'airplanes', 'airplanes', 'airplanes', 'airplanes', 'airplanes', 'airplanes', 'airplanes', 'airplanes', 'airplanes', 'airplanes', 'airplanes', 'airplanes', 'airplanes', 'airplanes', 'airplanes', 'airplanes', 'airplanes', 'airplanes', 'airplanes', 'airplanes', 'airplanes', 'airplanes', 'airplanes', 'airplanes', 'airplanes', 'airplanes', 'airplanes', 'airplanes', 'airplanes', 'airplanes', 'airplanes', 'airplanes', 'airplanes', 'airplanes', 'airplanes', 'airplanes', 'airplanes', 'airplanes', 'airplanes', 'airplanes', 'airplanes', 'airplanes', 'airplanes', 'airplanes', 'airplanes', 'airplanes', 'airplanes', 'airplanes', 'airplanes', 'airplanes', 'airplanes', 'airplanes', 'airplanes', 'airplanes', 'airplanes', 'airplanes', 'airplanes', 'airplanes', 'airplanes', 'airplanes', 'airplanes', 'airplanes', 'airplanes', 'airplanes', 'airplanes', 'airplanes', 'airplanes', 'airplanes', 'airplanes', 'airplanes', 'airplanes', 'airplanes', 'airplanes', 'airplanes', 'airplanes', 'airplanes', 'airplanes', 'airplanes', 'airplanes', 'airplanes', 'airplanes', 'airplanes', 'airplanes', 'airplanes', 'airplanes', 'airplanes', 'airplanes', 'airplanes', 'airplanes', 'airplanes', 'airplanes', 'airplanes', 'airplanes', 'airplanes', 'airplanes', 'airplanes', 'airplanes', 'airplanes', 'airplanes', 'airplanes', 'airplanes', 'airplanes', 'butterfly', 'butterfly', 'butterfly', 'butterfly', 'butterfly', 'butterfly', 'butterfly', 'butterfly', 'butterfly', 'butterfly', 'butterfly', 'butterfly', 'butterfly', 'butterfly', 'butterfly', 'butterfly', 'butterfly', 'butterfly', 'butterfly', 'butterfly', 'butterfly', 'butterfly', 'butterfly', 'butterfly', 'butterfly', 'butterfly', 'butterfly', 'butterfly', 'butterfly', 'butterfly', 'butterfly', 'butterfly', 'butterfly', 'butterfly', 'butterfly', 'butterfly', 'butterfly', 'butterfly', 'butterfly', 'butterfly', 'butterfly', 'butterfly', 'butterfly', 'butterfly', 'butterfly', 'butterfly', 'butterfly', 'butterfly', 'butterfly', 'butterfly', 'butterfly', 'butterfly', 'butterfly', 'butterfly', 'butterfly', 'butterfly', 'butterfly', 'butterfly', 'butterfly', 'butterfly', 'butterfly', 'butterfly', 'butterfly', 'butterfly', 'butterfly', 'butterfly', 'butterfly', 'butterfly', 'butterfly', 'butterfly', 'butterfly', 'butterfly', 'butterfly', 'butterfly', 'butterfly', 'butterfly', 'butterfly', 'butterfly', 'butterfly', 'butterfly', 'butterfly', 'butterfly', 'butterfly', 'butterfly', 'butterfly']\n"
       ]
      },
      {
       "metadata": {},
       "output_type": "pyout",
       "prompt_number": 41,
       "text": [
        "array([[255, 255, 255, ..., 255, 255, 255],\n",
        "       [255, 255, 255, ..., 182, 172, 145],\n",
        "       [255, 255, 255, ..., 255, 255, 255],\n",
        "       ..., \n",
        "       [ 10,  17,  25, ...,  10,  17,  25],\n",
        "       [ 56,  58, 106, ...,  46,  52,  50],\n",
        "       [  0,   0,   0, ...,   0,   0,   0]])"
       ]
      }
     ],
     "prompt_number": 41
    },
    {
     "cell_type": "markdown",
     "metadata": {},
     "source": [
      "<h2>Creating Features</h2>"
     ]
    },
    {
     "cell_type": "markdown",
     "metadata": {},
     "source": [
      "<h5>Define a training and test set</h5>"
     ]
    },
    {
     "cell_type": "code",
     "collapsed": false,
     "input": [
      "is_train = np.random.uniform(0, 1, len(data)) <= 0.7\n",
      "#\n",
      "print is_train[:10]\n",
      "y = np.where(np.array(labels)==\"airplanes\", 1, 0)\n",
      "\n",
      "train_x, train_y = data[is_train], y[is_train]\n",
      "test_x, test_y = data[is_train==False], y[is_train==False]"
     ],
     "language": "python",
     "metadata": {},
     "outputs": [
      {
       "output_type": "stream",
       "stream": "stdout",
       "text": [
        "[ True False False  True  True  True  True  True  True  True]\n"
       ]
      }
     ],
     "prompt_number": 42
    },
    {
     "cell_type": "code",
     "collapsed": false,
     "input": [
      "print is_train[:10]\n",
      "print y[:30]"
     ],
     "language": "python",
     "metadata": {},
     "outputs": [
      {
       "output_type": "stream",
       "stream": "stdout",
       "text": [
        "[ True False False  True  True  True  True  True  True  True]\n",
        "[1 1 1 1 1 1 1 1 1 1 1 1 1 1 1 1 1 1 1 1 1 1 1 1 1 1 1 1 1 1]\n"
       ]
      }
     ],
     "prompt_number": 43
    },
    {
     "cell_type": "markdown",
     "metadata": {},
     "source": [
      "<h5>RandomizedPCA to create features</h5>\n",
      "<p>Before we actually create our feature vectors, we're going to show a demo of <code>RandomizedPCA</code> in 2 dimensions. This makes it easy to plot high dimensional data</p>"
     ]
    },
    {
     "cell_type": "code",
     "collapsed": false,
     "input": [
      "pca = RandomizedPCA(n_components=2)\n",
      "X = pca.fit_transform(data)\n",
      "df = pd.DataFrame({\"x\": X[:, 0], \"y\": X[:, 1], \"label\":np.where(y==1, \"airplanes\", \"butterfly\")})\n",
      "colors = [\"red\", \"yellow\"]\n",
      "for label, color in zip(df['label'].unique(), colors):\n",
      "    mask = df['label']==label\n",
      "    pl.scatter(df[mask]['x'], df[mask]['y'], c=color, label=label)\n",
      "pl.legend()"
     ],
     "language": "python",
     "metadata": {},
     "outputs": [
      {
       "metadata": {},
       "output_type": "pyout",
       "prompt_number": 44,
       "text": [
        "<matplotlib.legend.Legend at 0x109d24f50>"
       ]
      }
     ],
     "prompt_number": 44
    },
    {
     "cell_type": "markdown",
     "metadata": {},
     "source": [
      "<h2>RandomizedPCA in 5 dimensions</h2>\n",
      "<p>Instead of 2 dimenisons, we're going to do RandomizedPCA in 5 dimensions. This will make it a bit harder to visualize, but it will make it easier for some of the classifiers to work with the dataset.</p>"
     ]
    },
    {
     "cell_type": "code",
     "collapsed": false,
     "input": [
      "pca = RandomizedPCA(n_components=3)\n",
      "train_x = pca.fit_transform(train_x)\n",
      "test_x = pca.transform(test_x)"
     ],
     "language": "python",
     "metadata": {},
     "outputs": [],
     "prompt_number": 55
    },
    {
     "cell_type": "markdown",
     "metadata": {},
     "source": [
      "<p>This gives our classifier a nice set of tabular data that we can then use to train the model</p>"
     ]
    },
    {
     "cell_type": "code",
     "collapsed": false,
     "input": [
      "train_x[:5]"
     ],
     "language": "python",
     "metadata": {},
     "outputs": [
      {
       "metadata": {},
       "output_type": "pyout",
       "prompt_number": 61,
       "text": [
        "array([[ 12279.77836124,  -2786.30027093,   6996.77425444],\n",
        "       [ -5102.93865387,  -8496.22441544,  -4123.92340204],\n",
        "       [   291.26891072,  -9999.52986333, -10251.41520315],\n",
        "       [  9572.72931147, -11816.69880896,   5478.91909742],\n",
        "       [ 17999.76560642,    -79.14728292,   4987.01838435]])"
       ]
      }
     ],
     "prompt_number": 61
    },
    {
     "cell_type": "markdown",
     "metadata": {},
     "source": [
      "<p>We're going to be using a <code>K-Nearest Neighbors</code> classifier. Based on our set of training data, we're going to caclulate which training obersvations are closest to a given test point. Whichever class has the most votes wins.</p>"
     ]
    },
    {
     "cell_type": "code",
     "collapsed": false,
     "input": [
      "knn = KNeighborsClassifier()\n",
      "knn.fit(train_x, train_y)"
     ],
     "language": "python",
     "metadata": {},
     "outputs": [
      {
       "metadata": {},
       "output_type": "pyout",
       "prompt_number": 59,
       "text": [
        "KNeighborsClassifier(algorithm='auto', leaf_size=30, metric='minkowski',\n",
        "           n_neighbors=5, p=2, weights='uniform')"
       ]
      }
     ],
     "prompt_number": 59
    },
    {
     "cell_type": "code",
     "collapsed": false,
     "input": [
      "pd.crosstab(test_y, knn.predict(test_x), rownames=[\"Actual\"], colnames=[\"Predicted\"])"
     ],
     "language": "python",
     "metadata": {},
     "outputs": [
      {
       "html": [
        "<div style=\"max-height:1000px;max-width:1500px;overflow:auto;\">\n",
        "<table border=\"1\" class=\"dataframe\">\n",
        "  <thead>\n",
        "    <tr style=\"text-align: right;\">\n",
        "      <th>Predicted</th>\n",
        "      <th>0</th>\n",
        "      <th>1</th>\n",
        "    </tr>\n",
        "    <tr>\n",
        "      <th>Actual</th>\n",
        "      <th></th>\n",
        "      <th></th>\n",
        "    </tr>\n",
        "  </thead>\n",
        "  <tbody>\n",
        "    <tr>\n",
        "      <th>0</th>\n",
        "      <td> 20</td>\n",
        "      <td>  4</td>\n",
        "    </tr>\n",
        "    <tr>\n",
        "      <th>1</th>\n",
        "      <td>  6</td>\n",
        "      <td> 30</td>\n",
        "    </tr>\n",
        "  </tbody>\n",
        "</table>\n",
        "<p>2 rows \u00d7 2 columns</p>\n",
        "</div>"
       ],
       "metadata": {},
       "output_type": "pyout",
       "prompt_number": 60,
       "text": [
        "Predicted   0   1\n",
        "Actual           \n",
        "0          20   4\n",
        "1           6  30\n",
        "\n",
        "[2 rows x 2 columns]"
       ]
      }
     ],
     "prompt_number": 60
    },
    {
     "cell_type": "code",
     "collapsed": false,
     "input": [
      "from yhat import Yhat, BaseModel"
     ],
     "language": "python",
     "metadata": {},
     "outputs": [],
     "prompt_number": 51
    },
    {
     "cell_type": "code",
     "collapsed": false,
     "input": [
      "class ImageClassifier(BaseModel):\n",
      "    def require(self):\n",
      "        from StringIO import StringIO\n",
      "        from PIL import Image\n",
      "        import base64\n",
      "\n",
      "    def transform(self, image_string):\n",
      "    \t#we need to decode the image from base64\n",
      "    \timage_string = base64.decodestring(image_string)\n",
      "        #since we're seing this as a JSON string, we use StringIO so it acts like a file\n",
      "    \timg = StringIO(image_string)\n",
      "        img = Image.open(img)\n",
      "        img = img.resize(self.STANDARD_SIZE)\n",
      "        img = list(img.getdata())\n",
      "        img = map(list, img)\n",
      "        img = np.array(img)\n",
      "        s = img.shape[0] * img.shape[1]\n",
      "        img_wide = img.reshape(1, s)\n",
      "        return self.pca.transform(img_wide[0])\n",
      "        \n",
      "    def predict(self, data):\n",
      "        preds = self.knn.predict(data)\n",
      "        preds = np.where(preds==1, \"check\", \"drivers_license\")\n",
      "        pred = preds[0]\n",
      "        return {\"image_label\": pred}"
     ],
     "language": "python",
     "metadata": {},
     "outputs": [],
     "prompt_number": 53
    },
    {
     "cell_type": "code",
     "collapsed": false,
     "input": [
      "img_clf = ImageClassifier(pca=pca, knn=knn, STANDARD_SIZE=STANDARD_SIZE)\n",
      " \n",
      "# authenticate\n",
      "yh = Yhat(\"YOUR USERNAME\", \"YOUR API KEY\")\n",
      " \n",
      "# upload model to yhat\n",
      "yh.upload(\"imageClassifier\", img_clf)"
     ],
     "language": "python",
     "metadata": {},
     "outputs": [
      {
       "output_type": "stream",
       "stream": "stdout",
       "text": [
        "uploading... "
       ]
      },
      {
       "output_type": "stream",
       "stream": "stdout",
       "text": [
        "done!\n"
       ]
      },
      {
       "output_type": "pyout",
       "prompt_number": 13,
       "text": [
        "{u'modelname': u'imageClassifier', u'status': u'success', u'version': 4}"
       ]
      }
     ],
     "prompt_number": 13
    },
    {
     "cell_type": "code",
     "collapsed": false,
     "input": [
      "#call the api w/ some example data\n",
      "# this one is a drivers license\n",
      "new_image = open(\"dl16.jpeg\", 'rb').read()\n",
      " \n",
      "import base64\n",
      "#we need to make the image JSON serializeable\n",
      "new_image = base64.encodestring(new_image)\n",
      " \n",
      "print yh.predict(\"imageClassifier\", version=4, data=new_image)"
     ],
     "language": "python",
     "metadata": {},
     "outputs": [
      {
       "output_type": "stream",
       "stream": "stdout",
       "text": [
        "{u'image_label': u'drivers_license'}\n"
       ]
      }
     ],
     "prompt_number": 14
    },
    {
     "cell_type": "code",
     "collapsed": false,
     "input": [],
     "language": "python",
     "metadata": {},
     "outputs": []
    }
   ],
   "metadata": {}
  }
 ]
}