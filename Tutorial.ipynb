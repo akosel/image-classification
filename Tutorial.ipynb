{
 "metadata": {
  "name": "",
  "signature": "sha256:faef81641158046a7ba2d520ea3bd266a5e533e00652dad3582f3eaab53708dc"
 },
 "nbformat": 3,
 "nbformat_minor": 0,
 "worksheets": [
  {
   "cells": [
    {
     "cell_type": "code",
     "collapsed": false,
     "input": [
      "# here is what we will need\n",
      "import numpy as np\n",
      "import os\n",
      "from PIL import Image\n",
      "from pybrain.tools.shortcuts import buildNetwork\n",
      "from pybrain.datasets import ClassificationDataSet\n",
      "from pybrain.structure.modules import SoftmaxLayer\n",
      "from pybrain.supervised.trainers import BackpropTrainer\n",
      "from pybrain.utilities import percentError\n",
      "\n",
      "from pybrain.structure.networks.convolutional import SimpleConvolutionalNetwork"
     ],
     "language": "python",
     "metadata": {},
     "outputs": [],
     "prompt_number": 75
    },
    {
     "cell_type": "code",
     "collapsed": false,
     "input": [
      "# let's make some helpful functions\n",
      "\n",
      "# setup a standard image size; this will distort some images but will get everything into the same shape\n",
      "# functions based off of yhat's tutorial http://blog.yhathq.com/posts/image-classification-in-Python.html\n",
      "def imgToMatrix(filename, useHsv=False, imageSize=(250, 250)):\n",
      "    \"\"\"\n",
      "    takes a filename and turns it into a numpy array of RGB pixels\n",
      "    optionally, include hsv values as well\n",
      "    \"\"\"\n",
      "    img = Image.open(filename)\n",
      "    if img.mode != 'RGB':\n",
      "      img = img.convert('RGB')\n",
      "    img = img.resize(imageSize)\n",
      "    if useHsv:\n",
      "        rgb_img_data = list(img.getdata())\n",
      "        hsv_img_data = list(img.convert('HSV').getdata())\n",
      "        img = [rgb_img_data[idx] + hsv_img_data[idx] for idx in xrange(len(rgb_img_data))]\n",
      "    else:\n",
      "        img = list(img.getdata())\n",
      "    img = map(list, img)\n",
      "    img = np.array(img)\n",
      "    return img\n",
      "\n",
      "def flattenImage(img):\n",
      "    \"\"\"\n",
      "    takes in an (m, n) numpy array and flattens it \n",
      "    into an array of shape (1, m * n)\n",
      "    \"\"\"\n",
      "    s = img.shape[0] * img.shape[1]\n",
      "    img_wide = img.reshape(1, s)\n",
      "    return img_wide[0]\n",
      "\n",
      "def convertImage(filename, useHsv=False, imageSize=(300,200)):\n",
      "    \"\"\"\n",
      "    wrapper for the above functions\n",
      "    \"\"\"\n",
      "    img = imgToMatrix(filename, useHsv=useHsv, imageSize=imageSize)\n",
      "    img = flattenImage(img)\n",
      "\n",
      "    return img\n",
      "\n",
      "def getPictureList(path):\n",
      "    \"\"\"\n",
      "    \n",
      "    \"\"\"\n",
      "    fileList = []\n",
      "    with open(path) as f:\n",
      "        for row in f:\n",
      "            fileList.append(row.strip() + '.jpg')\n",
      "    return fileList\n",
      "\n",
      "def getLabel(path):\n",
      "    \"\"\"\n",
      "    small helper that takes a given filename, and returns\n",
      "    the label, assuming the file is named like so:\n",
      "    cornmarket_000079.jpg will return cornmarket\n",
      "    \"\"\"\n",
      "    return path[path.index('/') + 1:path.rindex('/')]"
     ],
     "language": "python",
     "metadata": {},
     "outputs": [],
     "prompt_number": 65
    },
    {
     "cell_type": "code",
     "collapsed": false,
     "input": [
      "folderName = os.path.join('images')\n",
      "\n",
      "# the folder names are labels\n",
      "labelList = [folder for folder in os.listdir(folderName) if folder[0] != '.']\n",
      "\n",
      "\n",
      "images, labels = [], []\n",
      "for label in labelList:\n",
      "    path = os.path.join(folderName, label)\n",
      "    newImages = [os.path.join(path, filename) for filename in os.listdir(path) if filename[0] != '.']\n",
      "    images.extend(newImages)\n",
      "    labels.extend([label for i in xrange(len(newImages))])\n",
      "\n",
      "# this is just a test\n",
      "for idx in xrange(len(labels)):\n",
      "    if labels[idx] != getLabel(images[idx]):\n",
      "        print labels[idx], images[idx]\n",
      "\n",
      "data = []\n",
      "for image in images:\n",
      "    #print image\n",
      "    img = convertImage(image)\n",
      "    data.append(img)\n",
      "\n",
      "data = np.array(data)"
     ],
     "language": "python",
     "metadata": {},
     "outputs": [
      {
       "output_type": "stream",
       "stream": "stdout",
       "text": [
        "['airplane', 'ibis']\n"
       ]
      }
     ],
     "prompt_number": 99
    },
    {
     "cell_type": "code",
     "collapsed": false,
     "input": [
      "inputSize = len(data[0])\n",
      "ds = ClassificationDataSet(inputSize, 1, nb_classes=len(labelList))\n",
      "\n",
      "for idx in xrange(len(images)):\n",
      "    ds.addSample(data[idx], labelList.index(labels[idx]))\n",
      "\n",
      "test, train = ds.splitWithProportion(0.25)\n",
      "\n",
      "\n",
      "test._convertToOneOfMany()\n",
      "train._convertToOneOfMany()\n",
      "\n",
      "fnn = buildNetwork(train.indim, 5, train.outdim, outclass=SoftmaxLayer)\n",
      "\n",
      "# SimpleConvolutionalNetwork\n",
      "\n",
      "trainer = BackpropTrainer(fnn, dataset=train, momentum=0.1, verbose=True, weightdecay=0.01)\n",
      "\n",
      "\n",
      "for i in range(50):\n",
      "    trainer.trainEpochs(1)\n",
      "\n",
      "    trainResult = percentError(trainer.testOnClassData(), train['class'])\n",
      "    testResult = percentError(trainer.testOnClassData(dataset=test), test['class'])\n",
      "\n",
      "    print \"epoch: %4d\" % trainer.totalepochs,           \"  train error: %5.2f%%\" % trainResult,           \"  test error: %5.2f%%\" % testResult"
     ],
     "language": "python",
     "metadata": {},
     "outputs": [
      {
       "output_type": "stream",
       "stream": "stdout",
       "text": [
        "Total error:  0.155481334107\n",
        "epoch:    1"
       ]
      },
      {
       "output_type": "stream",
       "stream": "stdout",
       "text": [
        "   train error: 36.30%   test error: 38.64%\n",
        "Total error:  0.108398342499"
       ]
      },
      {
       "output_type": "stream",
       "stream": "stdout",
       "text": [
        "\n",
        "epoch:    2"
       ]
      },
      {
       "output_type": "stream",
       "stream": "stdout",
       "text": [
        "   train error: 34.81%   test error: 38.64%\n",
        "Total error:  0.102701570988"
       ]
      },
      {
       "output_type": "stream",
       "stream": "stdout",
       "text": [
        "\n",
        "epoch:    3"
       ]
      },
      {
       "output_type": "stream",
       "stream": "stdout",
       "text": [
        "   train error: 27.41%   test error: 34.09%\n",
        "Total error:  0.0992323040086"
       ]
      },
      {
       "output_type": "stream",
       "stream": "stdout",
       "text": [
        "\n",
        "epoch:    4"
       ]
      },
      {
       "output_type": "stream",
       "stream": "stdout",
       "text": [
        "   train error: 27.41%   test error: 36.36%\n",
        "Total error:  0.0963427701035"
       ]
      },
      {
       "output_type": "stream",
       "stream": "stdout",
       "text": [
        "\n",
        "epoch:    5"
       ]
      },
      {
       "output_type": "stream",
       "stream": "stdout",
       "text": [
        "   train error: 27.41%   test error: 36.36%\n",
        "Total error:  0.0947821057933"
       ]
      },
      {
       "output_type": "stream",
       "stream": "stdout",
       "text": [
        "\n",
        "epoch:    6"
       ]
      },
      {
       "output_type": "stream",
       "stream": "stdout",
       "text": [
        "   train error: 27.41%   test error: 36.36%\n",
        "Total error:  0.0934800917756"
       ]
      },
      {
       "output_type": "stream",
       "stream": "stdout",
       "text": [
        "\n",
        "epoch:    7"
       ]
      },
      {
       "output_type": "stream",
       "stream": "stdout",
       "text": [
        "   train error: 25.93%   test error: 36.36%\n",
        "Total error:  0.0919863404928"
       ]
      },
      {
       "output_type": "stream",
       "stream": "stdout",
       "text": [
        "\n",
        "epoch:    8"
       ]
      },
      {
       "output_type": "stream",
       "stream": "stdout",
       "text": [
        "   train error: 27.41%   test error: 36.36%\n",
        "Total error:  0.0904212316857"
       ]
      },
      {
       "output_type": "stream",
       "stream": "stdout",
       "text": [
        "\n",
        "epoch:    9"
       ]
      },
      {
       "output_type": "stream",
       "stream": "stdout",
       "text": [
        "   train error: 25.93%   test error: 36.36%\n",
        "Total error:  0.0901411133993"
       ]
      },
      {
       "output_type": "stream",
       "stream": "stdout",
       "text": [
        "\n",
        "epoch:   10"
       ]
      },
      {
       "output_type": "stream",
       "stream": "stdout",
       "text": [
        "   train error: 27.41%   test error: 36.36%\n",
        "Total error:  0.0894923123451"
       ]
      },
      {
       "output_type": "stream",
       "stream": "stdout",
       "text": [
        "\n",
        "epoch:   11"
       ]
      },
      {
       "output_type": "stream",
       "stream": "stdout",
       "text": [
        "   train error: 25.93%   test error: 36.36%\n",
        "Total error:  0.0896961506699"
       ]
      },
      {
       "output_type": "stream",
       "stream": "stdout",
       "text": [
        "\n",
        "epoch:   12"
       ]
      },
      {
       "output_type": "stream",
       "stream": "stdout",
       "text": [
        "   train error: 25.93%   test error: 36.36%\n",
        "Total error:  0.08917409641"
       ]
      },
      {
       "output_type": "stream",
       "stream": "stdout",
       "text": [
        "\n",
        "epoch:   13"
       ]
      },
      {
       "output_type": "stream",
       "stream": "stdout",
       "text": [
        "   train error: 27.41%   test error: 36.36%\n",
        "Total error:  0.0884693357643"
       ]
      },
      {
       "output_type": "stream",
       "stream": "stdout",
       "text": [
        "\n",
        "epoch:   14"
       ]
      },
      {
       "output_type": "stream",
       "stream": "stdout",
       "text": [
        "   train error: 27.41%   test error: 36.36%\n",
        "Total error:  0.0888039619826"
       ]
      },
      {
       "output_type": "stream",
       "stream": "stdout",
       "text": [
        "\n",
        "epoch:   15"
       ]
      },
      {
       "output_type": "stream",
       "stream": "stdout",
       "text": [
        "   train error: 27.41%   test error: 36.36%\n",
        "Total error:  0.0885258906809"
       ]
      },
      {
       "output_type": "stream",
       "stream": "stdout",
       "text": [
        "\n",
        "epoch:   16"
       ]
      },
      {
       "output_type": "stream",
       "stream": "stdout",
       "text": [
        "   train error: 25.93%   test error: 36.36%\n",
        "Total error:  0.088516795664"
       ]
      },
      {
       "output_type": "stream",
       "stream": "stdout",
       "text": [
        "\n",
        "epoch:   17"
       ]
      },
      {
       "output_type": "stream",
       "stream": "stdout",
       "text": [
        "   train error: 25.93%   test error: 36.36%\n",
        "Total error:  0.0874536647157"
       ]
      },
      {
       "output_type": "stream",
       "stream": "stdout",
       "text": [
        "\n",
        "epoch:   18"
       ]
      },
      {
       "output_type": "stream",
       "stream": "stdout",
       "text": [
        "   train error: 26.67%   test error: 36.36%\n",
        "Total error:  0.0874465068528"
       ]
      },
      {
       "output_type": "stream",
       "stream": "stdout",
       "text": [
        "\n",
        "epoch:   19"
       ]
      },
      {
       "output_type": "stream",
       "stream": "stdout",
       "text": [
        "   train error: 27.41%   test error: 36.36%\n",
        "Total error:  0.0878419065992"
       ]
      },
      {
       "output_type": "stream",
       "stream": "stdout",
       "text": [
        "\n",
        "epoch:   20"
       ]
      },
      {
       "output_type": "stream",
       "stream": "stdout",
       "text": [
        "   train error: 27.41%   test error: 36.36%\n",
        "Total error:  0.0871094922392"
       ]
      },
      {
       "output_type": "stream",
       "stream": "stdout",
       "text": [
        "\n",
        "epoch:   21"
       ]
      },
      {
       "output_type": "stream",
       "stream": "stdout",
       "text": [
        "   train error: 26.67%   test error: 36.36%\n",
        "Total error:  0.0873946399082"
       ]
      },
      {
       "output_type": "stream",
       "stream": "stdout",
       "text": [
        "\n",
        "epoch:   22"
       ]
      },
      {
       "output_type": "stream",
       "stream": "stdout",
       "text": [
        "   train error: 26.67%   test error: 36.36%\n",
        "Total error:  0.0876249799089"
       ]
      },
      {
       "output_type": "stream",
       "stream": "stdout",
       "text": [
        "\n",
        "epoch:   23"
       ]
      },
      {
       "output_type": "stream",
       "stream": "stdout",
       "text": [
        "   train error: 27.41%   test error: 36.36%\n",
        "Total error:  0.0877624171022"
       ]
      },
      {
       "output_type": "stream",
       "stream": "stdout",
       "text": [
        "\n",
        "epoch:   24"
       ]
      },
      {
       "output_type": "stream",
       "stream": "stdout",
       "text": [
        "   train error: 26.67%   test error: 36.36%\n",
        "Total error:  0.0869482529414"
       ]
      },
      {
       "output_type": "stream",
       "stream": "stdout",
       "text": [
        "\n",
        "epoch:   25"
       ]
      },
      {
       "output_type": "stream",
       "stream": "stdout",
       "text": [
        "   train error: 26.67%   test error: 36.36%\n",
        "Total error:  0.0861895402375"
       ]
      },
      {
       "output_type": "stream",
       "stream": "stdout",
       "text": [
        "\n",
        "epoch:   26"
       ]
      },
      {
       "output_type": "stream",
       "stream": "stdout",
       "text": [
        "   train error: 26.67%   test error: 36.36%\n",
        "Total error:  0.0876072491351"
       ]
      },
      {
       "output_type": "stream",
       "stream": "stdout",
       "text": [
        "\n",
        "epoch:   27"
       ]
      },
      {
       "output_type": "stream",
       "stream": "stdout",
       "text": [
        "   train error: 27.41%   test error: 36.36%\n",
        "Total error:  0.086990535438"
       ]
      },
      {
       "output_type": "stream",
       "stream": "stdout",
       "text": [
        "\n",
        "epoch:   28"
       ]
      },
      {
       "output_type": "stream",
       "stream": "stdout",
       "text": [
        "   train error: 26.67%   test error: 36.36%\n",
        "Total error:  0.0872535436243"
       ]
      },
      {
       "output_type": "stream",
       "stream": "stdout",
       "text": [
        "\n",
        "epoch:   29"
       ]
      },
      {
       "output_type": "stream",
       "stream": "stdout",
       "text": [
        "   train error: 27.41%   test error: 36.36%\n",
        "Total error:  0.0870665498795"
       ]
      },
      {
       "output_type": "stream",
       "stream": "stdout",
       "text": [
        "\n",
        "epoch:   30"
       ]
      },
      {
       "output_type": "stream",
       "stream": "stdout",
       "text": [
        "   train error: 27.41%   test error: 36.36%\n",
        "Total error:  0.0866195363442"
       ]
      },
      {
       "output_type": "stream",
       "stream": "stdout",
       "text": [
        "\n",
        "epoch:   31"
       ]
      },
      {
       "output_type": "stream",
       "stream": "stdout",
       "text": [
        "   train error: 27.41%   test error: 36.36%\n",
        "Total error:  0.0862576944656"
       ]
      },
      {
       "output_type": "stream",
       "stream": "stdout",
       "text": [
        "\n",
        "epoch:   32"
       ]
      },
      {
       "output_type": "stream",
       "stream": "stdout",
       "text": [
        "   train error: 26.67%   test error: 36.36%\n",
        "Total error:  0.0872761757547"
       ]
      },
      {
       "output_type": "stream",
       "stream": "stdout",
       "text": [
        "\n",
        "epoch:   33"
       ]
      },
      {
       "output_type": "stream",
       "stream": "stdout",
       "text": [
        "   train error: 27.41%   test error: 36.36%\n",
        "Total error:  0.0866903858196"
       ]
      },
      {
       "output_type": "stream",
       "stream": "stdout",
       "text": [
        "\n",
        "epoch:   34"
       ]
      },
      {
       "output_type": "stream",
       "stream": "stdout",
       "text": [
        "   train error: 27.41%   test error: 36.36%\n",
        "Total error:  0.0868058894554"
       ]
      },
      {
       "output_type": "stream",
       "stream": "stdout",
       "text": [
        "\n",
        "epoch:   35"
       ]
      },
      {
       "output_type": "stream",
       "stream": "stdout",
       "text": [
        "   train error: 27.41%   test error: 36.36%\n",
        "Total error:  0.0865205363061"
       ]
      },
      {
       "output_type": "stream",
       "stream": "stdout",
       "text": [
        "\n",
        "epoch:   36"
       ]
      },
      {
       "output_type": "stream",
       "stream": "stdout",
       "text": [
        "   train error: 27.41%   test error: 36.36%\n",
        "Total error:  0.087027448872"
       ]
      },
      {
       "output_type": "stream",
       "stream": "stdout",
       "text": [
        "\n",
        "epoch:   37"
       ]
      },
      {
       "output_type": "stream",
       "stream": "stdout",
       "text": [
        "   train error: 27.41%   test error: 36.36%\n",
        "Total error:  0.0865636272185"
       ]
      },
      {
       "output_type": "stream",
       "stream": "stdout",
       "text": [
        "\n",
        "epoch:   38"
       ]
      },
      {
       "output_type": "stream",
       "stream": "stdout",
       "text": [
        "   train error: 27.41%   test error: 36.36%\n",
        "Total error:  0.0867821748999"
       ]
      },
      {
       "output_type": "stream",
       "stream": "stdout",
       "text": [
        "\n",
        "epoch:   39"
       ]
      },
      {
       "output_type": "stream",
       "stream": "stdout",
       "text": [
        "   train error: 25.19%   test error: 36.36%\n",
        "Total error:  0.0865525818578"
       ]
      },
      {
       "output_type": "stream",
       "stream": "stdout",
       "text": [
        "\n",
        "epoch:   40"
       ]
      },
      {
       "output_type": "stream",
       "stream": "stdout",
       "text": [
        "   train error: 25.19%   test error: 36.36%\n",
        "Total error:  0.0861061127006"
       ]
      },
      {
       "output_type": "stream",
       "stream": "stdout",
       "text": [
        "\n",
        "epoch:   41"
       ]
      },
      {
       "output_type": "stream",
       "stream": "stdout",
       "text": [
        "   train error: 25.19%   test error: 36.36%\n",
        "Total error:  0.0869681548694"
       ]
      },
      {
       "output_type": "stream",
       "stream": "stdout",
       "text": [
        "\n",
        "epoch:   42"
       ]
      },
      {
       "output_type": "stream",
       "stream": "stdout",
       "text": [
        "   train error: 25.19%   test error: 36.36%\n",
        "Total error:  0.0869512187268"
       ]
      },
      {
       "output_type": "stream",
       "stream": "stdout",
       "text": [
        "\n",
        "epoch:   43"
       ]
      },
      {
       "output_type": "stream",
       "stream": "stdout",
       "text": [
        "   train error: 25.19%   test error: 36.36%\n",
        "Total error:  0.0860473113081"
       ]
      },
      {
       "output_type": "stream",
       "stream": "stdout",
       "text": [
        "\n",
        "epoch:   44"
       ]
      },
      {
       "output_type": "stream",
       "stream": "stdout",
       "text": [
        "   train error: 25.19%   test error: 36.36%\n",
        "Total error:  0.0867810806459"
       ]
      },
      {
       "output_type": "stream",
       "stream": "stdout",
       "text": [
        "\n",
        "epoch:   45"
       ]
      },
      {
       "output_type": "stream",
       "stream": "stdout",
       "text": [
        "   train error: 25.19%   test error: 36.36%\n",
        "Total error:  0.0866253069679"
       ]
      },
      {
       "output_type": "stream",
       "stream": "stdout",
       "text": [
        "\n",
        "epoch:   46"
       ]
      },
      {
       "output_type": "stream",
       "stream": "stdout",
       "text": [
        "   train error: 25.19%   test error: 36.36%\n",
        "Total error:  0.0865538238133"
       ]
      },
      {
       "output_type": "stream",
       "stream": "stdout",
       "text": [
        "\n",
        "epoch:   47"
       ]
      },
      {
       "output_type": "stream",
       "stream": "stdout",
       "text": [
        "   train error: 26.67%   test error: 36.36%\n",
        "Total error:  0.0861186905358"
       ]
      },
      {
       "output_type": "stream",
       "stream": "stdout",
       "text": [
        "\n",
        "epoch:   48"
       ]
      },
      {
       "output_type": "stream",
       "stream": "stdout",
       "text": [
        "   train error: 25.19%   test error: 36.36%\n",
        "Total error:  0.0862305425071"
       ]
      },
      {
       "output_type": "stream",
       "stream": "stdout",
       "text": [
        "\n",
        "epoch:   49"
       ]
      },
      {
       "output_type": "stream",
       "stream": "stdout",
       "text": [
        "   train error: 26.67%   test error: 36.36%\n",
        "Total error:  0.0862772230862"
       ]
      },
      {
       "output_type": "stream",
       "stream": "stdout",
       "text": [
        "\n",
        "epoch:   50"
       ]
      },
      {
       "output_type": "stream",
       "stream": "stdout",
       "text": [
        "   train error: 25.19%   test error: 36.36%\n"
       ]
      }
     ],
     "prompt_number": 105
    },
    {
     "cell_type": "code",
     "collapsed": false,
     "input": [
      "train.indim, train.outdim"
     ],
     "language": "python",
     "metadata": {},
     "outputs": [
      {
       "metadata": {},
       "output_type": "pyout",
       "prompt_number": 106,
       "text": [
        "(180000, 2)"
       ]
      }
     ],
     "prompt_number": 106
    },
    {
     "cell_type": "code",
     "collapsed": false,
     "input": [
      "from pylab import imshow, show, cm"
     ],
     "language": "python",
     "metadata": {},
     "outputs": [
      {
       "ename": "ImportError",
       "evalue": "No module named pylab",
       "output_type": "pyerr",
       "traceback": [
        "\u001b[0;31m---------------------------------------------------------------------------\u001b[0m\n\u001b[0;31mImportError\u001b[0m                               Traceback (most recent call last)",
        "\u001b[0;32m<ipython-input-56-8b23d906dce8>\u001b[0m in \u001b[0;36m<module>\u001b[0;34m()\u001b[0m\n\u001b[0;32m----> 1\u001b[0;31m \u001b[0;32mfrom\u001b[0m \u001b[0mpylab\u001b[0m \u001b[0;32mimport\u001b[0m \u001b[0mimshow\u001b[0m\u001b[0;34m,\u001b[0m \u001b[0mshow\u001b[0m\u001b[0;34m,\u001b[0m \u001b[0mcm\u001b[0m\u001b[0;34m\u001b[0m\u001b[0m\n\u001b[0m",
        "\u001b[0;31mImportError\u001b[0m: No module named pylab"
       ]
      }
     ],
     "prompt_number": 56
    },
    {
     "cell_type": "code",
     "collapsed": false,
     "input": [
      "for i in images:\n",
      "    prediction = fnn.activate(convertImage(i))\n",
      "\n",
      "    classIdx = max(xrange(len(prediction)), key=prediction.__getitem__) \n",
      "    className = labelList[classIdx] \n",
      "\n",
      "    print className, i "
     ],
     "language": "python",
     "metadata": {},
     "outputs": [
      {
       "output_type": "stream",
       "stream": "stdout",
       "text": [
        "airplane images/airplane/image_0001.jpg\n",
        "ibis"
       ]
      },
      {
       "output_type": "stream",
       "stream": "stdout",
       "text": [
        " images/airplane/image_0002.jpg\n",
        "airplane"
       ]
      },
      {
       "output_type": "stream",
       "stream": "stdout",
       "text": [
        " images/airplane/image_0003.jpg\n",
        "ibis"
       ]
      },
      {
       "output_type": "stream",
       "stream": "stdout",
       "text": [
        " images/airplane/image_0004.jpg\n",
        "ibis"
       ]
      },
      {
       "output_type": "stream",
       "stream": "stdout",
       "text": [
        " images/airplane/image_0005.jpg\n",
        "ibis"
       ]
      },
      {
       "output_type": "stream",
       "stream": "stdout",
       "text": [
        " images/airplane/image_0006.jpg\n",
        "ibis"
       ]
      },
      {
       "output_type": "stream",
       "stream": "stdout",
       "text": [
        " images/airplane/image_0007.jpg\n",
        "airplane"
       ]
      },
      {
       "output_type": "stream",
       "stream": "stdout",
       "text": [
        " images/airplane/image_0008.jpg\n",
        "airplane"
       ]
      },
      {
       "output_type": "stream",
       "stream": "stdout",
       "text": [
        " images/airplane/image_0009.jpg\n",
        "airplane"
       ]
      },
      {
       "output_type": "stream",
       "stream": "stdout",
       "text": [
        " images/airplane/image_0010.jpg\n",
        "ibis"
       ]
      },
      {
       "output_type": "stream",
       "stream": "stdout",
       "text": [
        " images/airplane/image_0011.jpg\n",
        "airplane"
       ]
      },
      {
       "output_type": "stream",
       "stream": "stdout",
       "text": [
        " images/airplane/image_0012.jpg\n",
        "ibis"
       ]
      },
      {
       "output_type": "stream",
       "stream": "stdout",
       "text": [
        " images/airplane/image_0013.jpg\n",
        "ibis"
       ]
      },
      {
       "output_type": "stream",
       "stream": "stdout",
       "text": [
        " images/airplane/image_0014.jpg\n",
        "ibis"
       ]
      },
      {
       "output_type": "stream",
       "stream": "stdout",
       "text": [
        " images/airplane/image_0015.jpg\n",
        "airplane"
       ]
      },
      {
       "output_type": "stream",
       "stream": "stdout",
       "text": [
        " images/airplane/image_0016.jpg\n",
        "ibis"
       ]
      },
      {
       "output_type": "stream",
       "stream": "stdout",
       "text": [
        " images/airplane/image_0017.jpg\n",
        "ibis"
       ]
      },
      {
       "output_type": "stream",
       "stream": "stdout",
       "text": [
        " images/airplane/image_0018.jpg\n",
        "airplane"
       ]
      },
      {
       "output_type": "stream",
       "stream": "stdout",
       "text": [
        " images/airplane/image_0019.jpg\n",
        "airplane"
       ]
      },
      {
       "output_type": "stream",
       "stream": "stdout",
       "text": [
        " images/airplane/image_0020.jpg\n",
        "airplane"
       ]
      },
      {
       "output_type": "stream",
       "stream": "stdout",
       "text": [
        " images/airplane/image_0021.jpg\n",
        "airplane"
       ]
      },
      {
       "output_type": "stream",
       "stream": "stdout",
       "text": [
        " images/airplane/image_0022.jpg\n",
        "ibis"
       ]
      },
      {
       "output_type": "stream",
       "stream": "stdout",
       "text": [
        " images/airplane/image_0023.jpg\n",
        "airplane"
       ]
      },
      {
       "output_type": "stream",
       "stream": "stdout",
       "text": [
        " images/airplane/image_0024.jpg\n",
        "ibis"
       ]
      },
      {
       "output_type": "stream",
       "stream": "stdout",
       "text": [
        " images/airplane/image_0025.jpg\n",
        "airplane"
       ]
      },
      {
       "output_type": "stream",
       "stream": "stdout",
       "text": [
        " images/airplane/image_0026.jpg\n",
        "ibis"
       ]
      },
      {
       "output_type": "stream",
       "stream": "stdout",
       "text": [
        " images/airplane/image_0027.jpg\n",
        "airplane"
       ]
      },
      {
       "output_type": "stream",
       "stream": "stdout",
       "text": [
        " images/airplane/image_0028.jpg\n",
        "airplane"
       ]
      },
      {
       "output_type": "stream",
       "stream": "stdout",
       "text": [
        " images/airplane/image_0029.jpg\n",
        "airplane"
       ]
      },
      {
       "output_type": "stream",
       "stream": "stdout",
       "text": [
        " images/airplane/image_0030.jpg\n",
        "ibis"
       ]
      },
      {
       "output_type": "stream",
       "stream": "stdout",
       "text": [
        " images/airplane/image_0031.jpg\n",
        "ibis"
       ]
      },
      {
       "output_type": "stream",
       "stream": "stdout",
       "text": [
        " images/airplane/image_0032.jpg\n",
        "airplane"
       ]
      },
      {
       "output_type": "stream",
       "stream": "stdout",
       "text": [
        " images/airplane/image_0033.jpg\n",
        "airplane"
       ]
      },
      {
       "output_type": "stream",
       "stream": "stdout",
       "text": [
        " images/airplane/image_0034.jpg\n",
        "airplane"
       ]
      },
      {
       "output_type": "stream",
       "stream": "stdout",
       "text": [
        " images/airplane/image_0035.jpg\n",
        "airplane"
       ]
      },
      {
       "output_type": "stream",
       "stream": "stdout",
       "text": [
        " images/airplane/image_0036.jpg\n",
        "airplane"
       ]
      },
      {
       "output_type": "stream",
       "stream": "stdout",
       "text": [
        " images/airplane/image_0037.jpg\n",
        "airplane"
       ]
      },
      {
       "output_type": "stream",
       "stream": "stdout",
       "text": [
        " images/airplane/image_0038.jpg\n",
        "ibis"
       ]
      },
      {
       "output_type": "stream",
       "stream": "stdout",
       "text": [
        " images/airplane/image_0039.jpg\n",
        "ibis"
       ]
      },
      {
       "output_type": "stream",
       "stream": "stdout",
       "text": [
        " images/airplane/image_0040.jpg\n",
        "airplane"
       ]
      },
      {
       "output_type": "stream",
       "stream": "stdout",
       "text": [
        " images/airplane/image_0041.jpg\n",
        "ibis"
       ]
      },
      {
       "output_type": "stream",
       "stream": "stdout",
       "text": [
        " images/airplane/image_0042.jpg\n",
        "airplane"
       ]
      },
      {
       "output_type": "stream",
       "stream": "stdout",
       "text": [
        " images/airplane/image_0043.jpg\n",
        "ibis"
       ]
      },
      {
       "output_type": "stream",
       "stream": "stdout",
       "text": [
        " images/airplane/image_0044.jpg\n",
        "airplane"
       ]
      },
      {
       "output_type": "stream",
       "stream": "stdout",
       "text": [
        " images/airplane/image_0045.jpg\n",
        "airplane"
       ]
      },
      {
       "output_type": "stream",
       "stream": "stdout",
       "text": [
        " images/airplane/image_0046.jpg\n",
        "ibis"
       ]
      },
      {
       "output_type": "stream",
       "stream": "stdout",
       "text": [
        " images/airplane/image_0047.jpg\n",
        "ibis"
       ]
      },
      {
       "output_type": "stream",
       "stream": "stdout",
       "text": [
        " images/airplane/image_0048.jpg\n",
        "ibis"
       ]
      },
      {
       "output_type": "stream",
       "stream": "stdout",
       "text": [
        " images/airplane/image_0049.jpg\n",
        "airplane"
       ]
      },
      {
       "output_type": "stream",
       "stream": "stdout",
       "text": [
        " images/airplane/image_0050.jpg\n",
        "ibis"
       ]
      },
      {
       "output_type": "stream",
       "stream": "stdout",
       "text": [
        " images/airplane/image_0051.jpg\n",
        "ibis"
       ]
      },
      {
       "output_type": "stream",
       "stream": "stdout",
       "text": [
        " images/airplane/image_0052.jpg\n",
        "airplane"
       ]
      },
      {
       "output_type": "stream",
       "stream": "stdout",
       "text": [
        " images/airplane/image_0053.jpg\n",
        "airplane"
       ]
      },
      {
       "output_type": "stream",
       "stream": "stdout",
       "text": [
        " images/airplane/image_0054.jpg\n",
        "ibis"
       ]
      },
      {
       "output_type": "stream",
       "stream": "stdout",
       "text": [
        " images/airplane/image_0055.jpg\n",
        "airplane"
       ]
      },
      {
       "output_type": "stream",
       "stream": "stdout",
       "text": [
        " images/airplane/image_0056.jpg\n",
        "airplane"
       ]
      },
      {
       "output_type": "stream",
       "stream": "stdout",
       "text": [
        " images/airplane/image_0057.jpg\n",
        "ibis"
       ]
      },
      {
       "output_type": "stream",
       "stream": "stdout",
       "text": [
        " images/airplane/image_0058.jpg\n",
        "airplane"
       ]
      },
      {
       "output_type": "stream",
       "stream": "stdout",
       "text": [
        " images/airplane/image_0059.jpg\n",
        "ibis"
       ]
      },
      {
       "output_type": "stream",
       "stream": "stdout",
       "text": [
        " images/airplane/image_0060.jpg\n",
        "airplane"
       ]
      },
      {
       "output_type": "stream",
       "stream": "stdout",
       "text": [
        " images/airplane/image_0061.jpg\n",
        "ibis"
       ]
      },
      {
       "output_type": "stream",
       "stream": "stdout",
       "text": [
        " images/airplane/image_0062.jpg\n",
        "ibis"
       ]
      },
      {
       "output_type": "stream",
       "stream": "stdout",
       "text": [
        " images/airplane/image_0063.jpg\n",
        "airplane"
       ]
      },
      {
       "output_type": "stream",
       "stream": "stdout",
       "text": [
        " images/airplane/image_0064.jpg\n",
        "airplane"
       ]
      },
      {
       "output_type": "stream",
       "stream": "stdout",
       "text": [
        " images/airplane/image_0065.jpg\n",
        "airplane"
       ]
      },
      {
       "output_type": "stream",
       "stream": "stdout",
       "text": [
        " images/airplane/image_0066.jpg\n",
        "airplane"
       ]
      },
      {
       "output_type": "stream",
       "stream": "stdout",
       "text": [
        " images/airplane/image_0067.jpg\n",
        "airplane"
       ]
      },
      {
       "output_type": "stream",
       "stream": "stdout",
       "text": [
        " images/airplane/image_0068.jpg\n",
        "airplane"
       ]
      },
      {
       "output_type": "stream",
       "stream": "stdout",
       "text": [
        " images/airplane/image_0069.jpg\n",
        "airplane"
       ]
      },
      {
       "output_type": "stream",
       "stream": "stdout",
       "text": [
        " images/airplane/image_0070.jpg\n",
        "airplane"
       ]
      },
      {
       "output_type": "stream",
       "stream": "stdout",
       "text": [
        " images/airplane/image_0071.jpg\n",
        "airplane"
       ]
      },
      {
       "output_type": "stream",
       "stream": "stdout",
       "text": [
        " images/airplane/image_0072.jpg\n",
        "ibis"
       ]
      },
      {
       "output_type": "stream",
       "stream": "stdout",
       "text": [
        " images/airplane/image_0073.jpg\n",
        "airplane"
       ]
      },
      {
       "output_type": "stream",
       "stream": "stdout",
       "text": [
        " images/airplane/image_0074.jpg\n",
        "airplane"
       ]
      },
      {
       "output_type": "stream",
       "stream": "stdout",
       "text": [
        " images/airplane/image_0075.jpg\n",
        "ibis"
       ]
      },
      {
       "output_type": "stream",
       "stream": "stdout",
       "text": [
        " images/airplane/image_0076.jpg\n",
        "ibis"
       ]
      },
      {
       "output_type": "stream",
       "stream": "stdout",
       "text": [
        " images/airplane/image_0077.jpg\n",
        "airplane"
       ]
      },
      {
       "output_type": "stream",
       "stream": "stdout",
       "text": [
        " images/airplane/image_0078.jpg\n",
        "ibis"
       ]
      },
      {
       "output_type": "stream",
       "stream": "stdout",
       "text": [
        " images/airplane/image_0079.jpg\n",
        "ibis"
       ]
      },
      {
       "output_type": "stream",
       "stream": "stdout",
       "text": [
        " images/airplane/image_0080.jpg\n",
        "ibis"
       ]
      },
      {
       "output_type": "stream",
       "stream": "stdout",
       "text": [
        " images/airplane/image_0081.jpg\n",
        "airplane"
       ]
      },
      {
       "output_type": "stream",
       "stream": "stdout",
       "text": [
        " images/airplane/image_0082.jpg\n",
        "ibis"
       ]
      },
      {
       "output_type": "stream",
       "stream": "stdout",
       "text": [
        " images/airplane/image_0083.jpg\n",
        "airplane"
       ]
      },
      {
       "output_type": "stream",
       "stream": "stdout",
       "text": [
        " images/airplane/image_0084.jpg\n",
        "ibis"
       ]
      },
      {
       "output_type": "stream",
       "stream": "stdout",
       "text": [
        " images/airplane/image_0085.jpg\n",
        "airplane"
       ]
      },
      {
       "output_type": "stream",
       "stream": "stdout",
       "text": [
        " images/airplane/image_0086.jpg\n",
        "airplane"
       ]
      },
      {
       "output_type": "stream",
       "stream": "stdout",
       "text": [
        " images/airplane/image_0087.jpg\n",
        "airplane"
       ]
      },
      {
       "output_type": "stream",
       "stream": "stdout",
       "text": [
        " images/airplane/image_0088.jpg\n",
        "airplane"
       ]
      },
      {
       "output_type": "stream",
       "stream": "stdout",
       "text": [
        " images/airplane/image_0089.jpg\n",
        "airplane"
       ]
      },
      {
       "output_type": "stream",
       "stream": "stdout",
       "text": [
        " images/airplane/image_0090.jpg\n",
        "airplane"
       ]
      },
      {
       "output_type": "stream",
       "stream": "stdout",
       "text": [
        " images/airplane/image_0091.jpg\n",
        "ibis"
       ]
      },
      {
       "output_type": "stream",
       "stream": "stdout",
       "text": [
        " images/airplane/image_0092.jpg\n",
        "airplane"
       ]
      },
      {
       "output_type": "stream",
       "stream": "stdout",
       "text": [
        " images/airplane/image_0093.jpg\n",
        "airplane"
       ]
      },
      {
       "output_type": "stream",
       "stream": "stdout",
       "text": [
        " images/airplane/image_0094.jpg\n",
        "airplane"
       ]
      },
      {
       "output_type": "stream",
       "stream": "stdout",
       "text": [
        " images/airplane/image_0095.jpg\n",
        "ibis"
       ]
      },
      {
       "output_type": "stream",
       "stream": "stdout",
       "text": [
        " images/airplane/image_0096.jpg\n",
        "ibis"
       ]
      },
      {
       "output_type": "stream",
       "stream": "stdout",
       "text": [
        " images/airplane/image_0097.jpg\n",
        "ibis"
       ]
      },
      {
       "output_type": "stream",
       "stream": "stdout",
       "text": [
        " images/airplane/image_0098.jpg\n",
        "ibis"
       ]
      },
      {
       "output_type": "stream",
       "stream": "stdout",
       "text": [
        " images/airplane/image_0099.jpg\n",
        "airplane"
       ]
      },
      {
       "output_type": "stream",
       "stream": "stdout",
       "text": [
        " images/ibis/image_0001.jpg\n",
        "airplane"
       ]
      },
      {
       "output_type": "stream",
       "stream": "stdout",
       "text": [
        " images/ibis/image_0002.jpg\n",
        "airplane"
       ]
      },
      {
       "output_type": "stream",
       "stream": "stdout",
       "text": [
        " images/ibis/image_0003.jpg\n",
        "ibis"
       ]
      },
      {
       "output_type": "stream",
       "stream": "stdout",
       "text": [
        " images/ibis/image_0004.jpg\n",
        "airplane"
       ]
      },
      {
       "output_type": "stream",
       "stream": "stdout",
       "text": [
        " images/ibis/image_0005.jpg\n",
        "airplane"
       ]
      },
      {
       "output_type": "stream",
       "stream": "stdout",
       "text": [
        " images/ibis/image_0006.jpg\n",
        "airplane"
       ]
      },
      {
       "output_type": "stream",
       "stream": "stdout",
       "text": [
        " images/ibis/image_0007.jpg\n",
        "ibis"
       ]
      },
      {
       "output_type": "stream",
       "stream": "stdout",
       "text": [
        " images/ibis/image_0008.jpg\n",
        "airplane"
       ]
      },
      {
       "output_type": "stream",
       "stream": "stdout",
       "text": [
        " images/ibis/image_0009.jpg\n",
        "ibis"
       ]
      },
      {
       "output_type": "stream",
       "stream": "stdout",
       "text": [
        " images/ibis/image_0010.jpg\n",
        "airplane"
       ]
      },
      {
       "output_type": "stream",
       "stream": "stdout",
       "text": [
        " images/ibis/image_0011.jpg\n",
        "airplane"
       ]
      },
      {
       "output_type": "stream",
       "stream": "stdout",
       "text": [
        " images/ibis/image_0012.jpg\n",
        "ibis"
       ]
      },
      {
       "output_type": "stream",
       "stream": "stdout",
       "text": [
        " images/ibis/image_0013.jpg\n",
        "airplane"
       ]
      },
      {
       "output_type": "stream",
       "stream": "stdout",
       "text": [
        " images/ibis/image_0014.jpg\n",
        "airplane"
       ]
      },
      {
       "output_type": "stream",
       "stream": "stdout",
       "text": [
        " images/ibis/image_0015.jpg\n",
        "ibis"
       ]
      },
      {
       "output_type": "stream",
       "stream": "stdout",
       "text": [
        " images/ibis/image_0016.jpg\n",
        "ibis"
       ]
      },
      {
       "output_type": "stream",
       "stream": "stdout",
       "text": [
        " images/ibis/image_0017.jpg\n",
        "ibis"
       ]
      },
      {
       "output_type": "stream",
       "stream": "stdout",
       "text": [
        " images/ibis/image_0018.jpg\n",
        "airplane"
       ]
      },
      {
       "output_type": "stream",
       "stream": "stdout",
       "text": [
        " images/ibis/image_0019.jpg\n",
        "ibis"
       ]
      },
      {
       "output_type": "stream",
       "stream": "stdout",
       "text": [
        " images/ibis/image_0020.jpg\n",
        "airplane"
       ]
      },
      {
       "output_type": "stream",
       "stream": "stdout",
       "text": [
        " images/ibis/image_0021.jpg\n",
        "ibis"
       ]
      },
      {
       "output_type": "stream",
       "stream": "stdout",
       "text": [
        " images/ibis/image_0022.jpg\n",
        "ibis"
       ]
      },
      {
       "output_type": "stream",
       "stream": "stdout",
       "text": [
        " images/ibis/image_0023.jpg\n",
        "ibis"
       ]
      },
      {
       "output_type": "stream",
       "stream": "stdout",
       "text": [
        " images/ibis/image_0024.jpg\n",
        "airplane"
       ]
      },
      {
       "output_type": "stream",
       "stream": "stdout",
       "text": [
        " images/ibis/image_0025.jpg\n",
        "airplane"
       ]
      },
      {
       "output_type": "stream",
       "stream": "stdout",
       "text": [
        " images/ibis/image_0026.jpg\n",
        "ibis"
       ]
      },
      {
       "output_type": "stream",
       "stream": "stdout",
       "text": [
        " images/ibis/image_0027.jpg\n",
        "airplane"
       ]
      },
      {
       "output_type": "stream",
       "stream": "stdout",
       "text": [
        " images/ibis/image_0028.jpg\n",
        "airplane"
       ]
      },
      {
       "output_type": "stream",
       "stream": "stdout",
       "text": [
        " images/ibis/image_0029.jpg\n",
        "ibis"
       ]
      },
      {
       "output_type": "stream",
       "stream": "stdout",
       "text": [
        " images/ibis/image_0030.jpg\n",
        "airplane"
       ]
      },
      {
       "output_type": "stream",
       "stream": "stdout",
       "text": [
        " images/ibis/image_0031.jpg\n",
        "ibis"
       ]
      },
      {
       "output_type": "stream",
       "stream": "stdout",
       "text": [
        " images/ibis/image_0032.jpg\n",
        "ibis"
       ]
      },
      {
       "output_type": "stream",
       "stream": "stdout",
       "text": [
        " images/ibis/image_0033.jpg\n",
        "airplane"
       ]
      },
      {
       "output_type": "stream",
       "stream": "stdout",
       "text": [
        " images/ibis/image_0034.jpg\n",
        "airplane"
       ]
      },
      {
       "output_type": "stream",
       "stream": "stdout",
       "text": [
        " images/ibis/image_0035.jpg\n",
        "ibis"
       ]
      },
      {
       "output_type": "stream",
       "stream": "stdout",
       "text": [
        " images/ibis/image_0036.jpg\n",
        "ibis"
       ]
      },
      {
       "output_type": "stream",
       "stream": "stdout",
       "text": [
        " images/ibis/image_0037.jpg\n",
        "airplane"
       ]
      },
      {
       "output_type": "stream",
       "stream": "stdout",
       "text": [
        " images/ibis/image_0038.jpg\n",
        "airplane"
       ]
      },
      {
       "output_type": "stream",
       "stream": "stdout",
       "text": [
        " images/ibis/image_0039.jpg\n",
        "ibis"
       ]
      },
      {
       "output_type": "stream",
       "stream": "stdout",
       "text": [
        " images/ibis/image_0040.jpg\n",
        "airplane"
       ]
      },
      {
       "output_type": "stream",
       "stream": "stdout",
       "text": [
        " images/ibis/image_0041.jpg\n",
        "ibis"
       ]
      },
      {
       "output_type": "stream",
       "stream": "stdout",
       "text": [
        " images/ibis/image_0042.jpg\n",
        "airplane"
       ]
      },
      {
       "output_type": "stream",
       "stream": "stdout",
       "text": [
        " images/ibis/image_0043.jpg\n",
        "ibis"
       ]
      },
      {
       "output_type": "stream",
       "stream": "stdout",
       "text": [
        " images/ibis/image_0044.jpg\n",
        "airplane"
       ]
      },
      {
       "output_type": "stream",
       "stream": "stdout",
       "text": [
        " images/ibis/image_0045.jpg\n",
        "airplane"
       ]
      },
      {
       "output_type": "stream",
       "stream": "stdout",
       "text": [
        " images/ibis/image_0046.jpg\n",
        "airplane"
       ]
      },
      {
       "output_type": "stream",
       "stream": "stdout",
       "text": [
        " images/ibis/image_0047.jpg\n",
        "airplane"
       ]
      },
      {
       "output_type": "stream",
       "stream": "stdout",
       "text": [
        " images/ibis/image_0048.jpg\n",
        "ibis"
       ]
      },
      {
       "output_type": "stream",
       "stream": "stdout",
       "text": [
        " images/ibis/image_0049.jpg\n",
        "ibis"
       ]
      },
      {
       "output_type": "stream",
       "stream": "stdout",
       "text": [
        " images/ibis/image_0050.jpg\n",
        "airplane"
       ]
      },
      {
       "output_type": "stream",
       "stream": "stdout",
       "text": [
        " images/ibis/image_0051.jpg\n",
        "airplane"
       ]
      },
      {
       "output_type": "stream",
       "stream": "stdout",
       "text": [
        " images/ibis/image_0052.jpg\n",
        "ibis"
       ]
      },
      {
       "output_type": "stream",
       "stream": "stdout",
       "text": [
        " images/ibis/image_0053.jpg\n",
        "airplane"
       ]
      },
      {
       "output_type": "stream",
       "stream": "stdout",
       "text": [
        " images/ibis/image_0054.jpg\n",
        "ibis"
       ]
      },
      {
       "output_type": "stream",
       "stream": "stdout",
       "text": [
        " images/ibis/image_0055.jpg\n",
        "ibis"
       ]
      },
      {
       "output_type": "stream",
       "stream": "stdout",
       "text": [
        " images/ibis/image_0056.jpg\n",
        "ibis"
       ]
      },
      {
       "output_type": "stream",
       "stream": "stdout",
       "text": [
        " images/ibis/image_0057.jpg\n",
        "ibis"
       ]
      },
      {
       "output_type": "stream",
       "stream": "stdout",
       "text": [
        " images/ibis/image_0058.jpg\n",
        "airplane"
       ]
      },
      {
       "output_type": "stream",
       "stream": "stdout",
       "text": [
        " images/ibis/image_0059.jpg\n",
        "airplane"
       ]
      },
      {
       "output_type": "stream",
       "stream": "stdout",
       "text": [
        " images/ibis/image_0060.jpg\n",
        "ibis"
       ]
      },
      {
       "output_type": "stream",
       "stream": "stdout",
       "text": [
        " images/ibis/image_0061.jpg\n",
        "ibis"
       ]
      },
      {
       "output_type": "stream",
       "stream": "stdout",
       "text": [
        " images/ibis/image_0062.jpg\n",
        "ibis"
       ]
      },
      {
       "output_type": "stream",
       "stream": "stdout",
       "text": [
        " images/ibis/image_0063.jpg\n",
        "airplane"
       ]
      },
      {
       "output_type": "stream",
       "stream": "stdout",
       "text": [
        " images/ibis/image_0064.jpg\n",
        "ibis"
       ]
      },
      {
       "output_type": "stream",
       "stream": "stdout",
       "text": [
        " images/ibis/image_0065.jpg\n",
        "ibis"
       ]
      },
      {
       "output_type": "stream",
       "stream": "stdout",
       "text": [
        " images/ibis/image_0066.jpg\n",
        "ibis"
       ]
      },
      {
       "output_type": "stream",
       "stream": "stdout",
       "text": [
        " images/ibis/image_0067.jpg\n",
        "ibis"
       ]
      },
      {
       "output_type": "stream",
       "stream": "stdout",
       "text": [
        " images/ibis/image_0068.jpg\n",
        "airplane"
       ]
      },
      {
       "output_type": "stream",
       "stream": "stdout",
       "text": [
        " images/ibis/image_0069.jpg\n",
        "airplane"
       ]
      },
      {
       "output_type": "stream",
       "stream": "stdout",
       "text": [
        " images/ibis/image_0070.jpg\n",
        "ibis"
       ]
      },
      {
       "output_type": "stream",
       "stream": "stdout",
       "text": [
        " images/ibis/image_0071.jpg\n",
        "ibis"
       ]
      },
      {
       "output_type": "stream",
       "stream": "stdout",
       "text": [
        " images/ibis/image_0072.jpg\n",
        "ibis"
       ]
      },
      {
       "output_type": "stream",
       "stream": "stdout",
       "text": [
        " images/ibis/image_0073.jpg\n",
        "ibis"
       ]
      },
      {
       "output_type": "stream",
       "stream": "stdout",
       "text": [
        " images/ibis/image_0074.jpg\n",
        "ibis"
       ]
      },
      {
       "output_type": "stream",
       "stream": "stdout",
       "text": [
        " images/ibis/image_0075.jpg\n",
        "airplane"
       ]
      },
      {
       "output_type": "stream",
       "stream": "stdout",
       "text": [
        " images/ibis/image_0076.jpg\n",
        "ibis"
       ]
      },
      {
       "output_type": "stream",
       "stream": "stdout",
       "text": [
        " images/ibis/image_0077.jpg\n",
        "ibis"
       ]
      },
      {
       "output_type": "stream",
       "stream": "stdout",
       "text": [
        " images/ibis/image_0078.jpg\n",
        "airplane"
       ]
      },
      {
       "output_type": "stream",
       "stream": "stdout",
       "text": [
        " images/ibis/image_0079.jpg\n",
        "airplane"
       ]
      },
      {
       "output_type": "stream",
       "stream": "stdout",
       "text": [
        " images/ibis/image_0080.jpg\n"
       ]
      }
     ],
     "prompt_number": 104
    }
   ],
   "metadata": {}
  }
 ]
}