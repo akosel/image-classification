{
 "metadata": {
  "name": "check_vs_drivers_license"
 },
 "nbformat": 3,
 "nbformat_minor": 0,
 "worksheets": [
  {
   "cells": [
    {
     "cell_type": "code",
     "collapsed": false,
     "input": [
      "import pandas as pd\n",
      "import numpy as np\n",
      "import pylab as pl\n",
      "from PIL import Image\n",
      "import os"
     ],
     "language": "python",
     "metadata": {},
     "outputs": [],
     "prompt_number": 1
    },
    {
     "cell_type": "code",
     "collapsed": false,
     "input": [
      "from sklearn.decomposition import RandomizedPCA\n",
      "from sklearn.neighbors import KNeighborsClassifier"
     ],
     "language": "python",
     "metadata": {},
     "outputs": [],
     "prompt_number": 2
    },
    {
     "cell_type": "markdown",
     "metadata": {},
     "source": [
      "<h2>Importing Image Data</h2>"
     ]
    },
    {
     "cell_type": "markdown",
     "metadata": {},
     "source": [
      "<h5>Create Processing Functions</h5>"
     ]
    },
    {
     "cell_type": "code",
     "collapsed": false,
     "input": [
      "#setup a standard image size; this will distort some images but will get everything into the same shape\n",
      "STANDARD_SIZE = (300, 167)\n",
      "def img_to_matrix(filename, verbose=False):\n",
      "    \"\"\"\n",
      "    takes a filename and turns it into a numpy array of RGB pixels\n",
      "    \"\"\"\n",
      "    img = Image.open(filename)\n",
      "    if verbose==True:\n",
      "        print \"changing size from %s to %s\" % (str(img.size), str(STANDARD_SIZE))\n",
      "    img = img.resize(STANDARD_SIZE)\n",
      "    img = list(img.getdata())\n",
      "    img = map(list, img)\n",
      "    img = np.array(img)\n",
      "    return img\n",
      "\n",
      "def flatten_image(img):\n",
      "    \"\"\"\n",
      "    takes in an (m, n) numpy array and flattens it \n",
      "    into an array of shape (1, m * n)\n",
      "    \"\"\"\n",
      "    s = img.shape[0] * img.shape[1]\n",
      "    img_wide = img.reshape(1, s)\n",
      "    return img_wide[0]"
     ],
     "language": "python",
     "metadata": {},
     "outputs": [],
     "prompt_number": 3
    },
    {
     "cell_type": "markdown",
     "metadata": {},
     "source": [
      "<h5>Define the location of your data and import it</h5>"
     ]
    },
    {
     "cell_type": "code",
     "collapsed": false,
     "input": [
      "img_dir = \"../../code-exp/09/images/checks_and_dls/\"\n",
      "images = [img_dir+ f for f in os.listdir(img_dir)]\n",
      "labels = [\"check\" if \"check\" in f.split('/')[-1] else \"drivers_license\" for f in images]\n",
      "\n",
      "data = []\n",
      "for image in images:\n",
      "    img = img_to_matrix(image)\n",
      "    img = flatten_image(img)\n",
      "    data.append(img)\n",
      "\n",
      "data = np.array(data)\n",
      "data"
     ],
     "language": "python",
     "metadata": {},
     "outputs": [
      {
       "output_type": "pyout",
       "prompt_number": 4,
       "text": [
        "array([[255, 255, 255, ..., 255, 255, 255],\n",
        "       [255, 255, 255, ..., 253, 253, 253],\n",
        "       [234, 236, 235, ..., 252, 254, 253],\n",
        "       ..., \n",
        "       [255, 255, 255, ..., 200, 200, 200],\n",
        "       [255, 255, 253, ..., 255, 255, 255],\n",
        "       [255, 247, 253, ..., 255, 255, 253]])"
       ]
      }
     ],
     "prompt_number": 4
    },
    {
     "cell_type": "markdown",
     "metadata": {},
     "source": [
      "<h2>Creating Features</h2>"
     ]
    },
    {
     "cell_type": "markdown",
     "metadata": {},
     "source": [
      "<h5>Define a training and test set</h5>"
     ]
    },
    {
     "cell_type": "code",
     "collapsed": false,
     "input": [
      "is_train = np.random.uniform(0, 1, len(data)) <= 0.7\n",
      "y = np.where(np.array(labels)==\"check\", 1, 0)\n",
      "\n",
      "train_x, train_y = data[is_train], y[is_train]\n",
      "test_x, test_y = data[is_train==False], y[is_train==False]"
     ],
     "language": "python",
     "metadata": {},
     "outputs": [],
     "prompt_number": 5
    },
    {
     "cell_type": "markdown",
     "metadata": {},
     "source": [
      "<h5>RandomizedPCA to create features</h5>\n",
      "<p>Before we actually create our feature vectors, we're going to show a demo of <code>RandomizedPCA</code> in 2 dimensions. This makes it easy to plot high dimensional data</p>"
     ]
    },
    {
     "cell_type": "code",
     "collapsed": false,
     "input": [
      "pca = RandomizedPCA(n_components=2)\n",
      "X = pca.fit_transform(data)\n",
      "df = pd.DataFrame({\"x\": X[:, 0], \"y\": X[:, 1], \"label\":np.where(y==1, \"Check\", \"Drivers License\")})\n",
      "colors = [\"red\", \"yellow\"]\n",
      "for label, color in zip(df['label'].unique(), colors):\n",
      "    mask = df['label']==label\n",
      "    pl.scatter(df[mask]['x'], df[mask]['y'], c=color, label=label)\n",
      "pl.legend()"
     ],
     "language": "python",
     "metadata": {},
     "outputs": [
      {
       "output_type": "pyout",
       "prompt_number": 6,
       "text": [
        "<matplotlib.legend.Legend at 0x1018b0e90>"
       ]
      },
      {
       "output_type": "display_data",
       "png": "[encoded data removed]"
      }
     ],
     "prompt_number": 6
    },
    {
     "cell_type": "markdown",
     "metadata": {},
     "source": [
      "<h2>RandomizedPCA in 5 dimensions</h2>\n",
      "<p>Instead of 2 dimenisons, we're going to do RandomizedPCA in 5 dimensions. This will make it a bit harder to visualize, but it will make it easier for some of the classifiers to work with the dataset.</p>"
     ]
    },
    {
     "cell_type": "code",
     "collapsed": false,
     "input": [
      "pca = RandomizedPCA(n_components=5)\n",
      "train_x = pca.fit_transform(train_x)\n",
      "test_x = pca.transform(test_x)"
     ],
     "language": "python",
     "metadata": {},
     "outputs": [],
     "prompt_number": 7
    },
    {
     "cell_type": "markdown",
     "metadata": {},
     "source": [
      "<p>This gives our classifier a nice set of tabular data that we can then use to train the model</p>"
     ]
    },
    {
     "cell_type": "code",
     "collapsed": false,
     "input": [
      "train_x[:5]"
     ],
     "language": "python",
     "metadata": {},
     "outputs": [
      {
       "output_type": "pyout",
       "prompt_number": 8,
       "text": [
        "array([[ 11550.29070555,  -2521.10893063,   -901.38447595,  -2556.89314419,\n",
        "         -9318.88571239],\n",
        "       [  9580.65268127,    598.65640561,   1948.12275551,    145.27548187,\n",
        "           478.66765658],\n",
        "       [ 13886.37791064,  -6400.72575236,   1388.54400811,  -2992.24697506,\n",
        "         -3470.70737902],\n",
        "       [ 12321.40147035,  -1794.00577721,    995.38513986,   1054.90347948,\n",
        "           829.75406119],\n",
        "       [  1651.95676653, -15307.04023135,  -5079.08162521,   1864.08765654,\n",
        "         14916.88592871]])"
       ]
      }
     ],
     "prompt_number": 8
    },
    {
     "cell_type": "markdown",
     "metadata": {},
     "source": [
      "<p>We're going to be using a <code>K-Nearest Neighbors</code> classifier. Based on our set of training data, we're going to caclulate which training obersvations are closest to a given test point. Whichever class has the most votes wins.</p>"
     ]
    },
    {
     "cell_type": "code",
     "collapsed": false,
     "input": [
      "knn = KNeighborsClassifier()\n",
      "knn.fit(train_x, train_y)"
     ],
     "language": "python",
     "metadata": {},
     "outputs": [
      {
       "output_type": "pyout",
       "prompt_number": 9,
       "text": [
        "KNeighborsClassifier(algorithm='auto', leaf_size=30, n_neighbors=5, p=2,\n",
        "           warn_on_equidistant=True, weights='uniform')"
       ]
      }
     ],
     "prompt_number": 9
    },
    {
     "cell_type": "code",
     "collapsed": false,
     "input": [
      "pd.crosstab(test_y, knn.predict(test_x), rownames=[\"Actual\"], colnames=[\"Predicted\"])"
     ],
     "language": "python",
     "metadata": {},
     "outputs": [
      {
       "html": [
        "<div style=\"max-height:1000px;max-width:1500px;overflow:auto;\">\n",
        "<table border=\"1\" class=\"dataframe\">\n",
        "  <thead>\n",
        "    <tr style=\"text-align: right;\">\n",
        "      <th>Predicted</th>\n",
        "      <th>0</th>\n",
        "      <th>1</th>\n",
        "    </tr>\n",
        "    <tr>\n",
        "      <th>Actual</th>\n",
        "      <th></th>\n",
        "      <th></th>\n",
        "    </tr>\n",
        "  </thead>\n",
        "  <tbody>\n",
        "    <tr>\n",
        "      <th>0</th>\n",
        "      <td> 14</td>\n",
        "      <td>  0</td>\n",
        "    </tr>\n",
        "    <tr>\n",
        "      <th>1</th>\n",
        "      <td>  2</td>\n",
        "      <td> 11</td>\n",
        "    </tr>\n",
        "  </tbody>\n",
        "</table>\n",
        "</div>"
       ],
       "output_type": "pyout",
       "prompt_number": 10,
       "text": [
        "Predicted   0   1\n",
        "Actual           \n",
        "0          14   0\n",
        "1           2  11"
       ]
      }
     ],
     "prompt_number": 10
    },
    {
     "cell_type": "code",
     "collapsed": false,
     "input": [
      "from yhat import Yhat, BaseModel"
     ],
     "language": "python",
     "metadata": {},
     "outputs": [],
     "prompt_number": 11
    },
    {
     "cell_type": "code",
     "collapsed": false,
     "input": [
      "class ImageClassifier(BaseModel):\n",
      "    def require(self):\n",
      "        from StringIO import StringIO\n",
      "        from PIL import Image\n",
      "        import base64\n",
      "\n",
      "    def transform(self, image_string):\n",
      "    \t#we need to decode the image from base64\n",
      "    \timage_string = base64.decodestring(image_string)\n",
      "        #since we're seing this as a JSON string, we use StringIO so it acts like a file\n",
      "    \timg = StringIO(image_string)\n",
      "        img = Image.open(img)\n",
      "        img = img.resize(self.STANDARD_SIZE)\n",
      "        img = list(img.getdata())\n",
      "        img = map(list, img)\n",
      "        img = np.array(img)\n",
      "        s = img.shape[0] * img.shape[1]\n",
      "        img_wide = img.reshape(1, s)\n",
      "        return self.pca.transform(img_wide[0])\n",
      "        \n",
      "    def predict(self, data):\n",
      "        preds = self.knn.predict(data)\n",
      "        preds = np.where(preds==1, \"check\", \"drivers_license\")\n",
      "        pred = preds[0]\n",
      "        return {\"image_label\": pred}"
     ],
     "language": "python",
     "metadata": {},
     "outputs": [],
     "prompt_number": 12
    },
    {
     "cell_type": "code",
     "collapsed": false,
     "input": [
      "img_clf = ImageClassifier(pca=pca, knn=knn, STANDARD_SIZE=STANDARD_SIZE)\n",
      " \n",
      "# authenticate\n",
      "yh = Yhat(\"YOUR USERNAME\", \"YOUR API KEY\")\n",
      " \n",
      "# upload model to yhat\n",
      "yh.upload(\"imageClassifier\", img_clf)"
     ],
     "language": "python",
     "metadata": {},
     "outputs": [
      {
       "output_type": "stream",
       "stream": "stdout",
       "text": [
        "uploading... "
       ]
      },
      {
       "output_type": "stream",
       "stream": "stdout",
       "text": [
        "done!\n"
       ]
      },
      {
       "output_type": "pyout",
       "prompt_number": 13,
       "text": [
        "{u'modelname': u'imageClassifier', u'status': u'success', u'version': 4}"
       ]
      }
     ],
     "prompt_number": 13
    },
    {
     "cell_type": "code",
     "collapsed": false,
     "input": [
      "#call the api w/ some example data\n",
      "# this one is a drivers license\n",
      "new_image = open(\"dl16.jpeg\", 'rb').read()\n",
      " \n",
      "import base64\n",
      "#we need to make the image JSON serializeable\n",
      "new_image = base64.encodestring(new_image)\n",
      " \n",
      "print yh.predict(\"imageClassifier\", version=4, data=new_image)"
     ],
     "language": "python",
     "metadata": {},
     "outputs": [
      {
       "output_type": "stream",
       "stream": "stdout",
       "text": [
        "{u'image_label': u'drivers_license'}\n"
       ]
      }
     ],
     "prompt_number": 14
    },
    {
     "cell_type": "code",
     "collapsed": false,
     "input": [],
     "language": "python",
     "metadata": {},
     "outputs": []
    }
   ],
   "metadata": {}
  }
 ]
}