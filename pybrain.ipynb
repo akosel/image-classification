{
 "metadata": {
  "name": "",
  "signature": "sha256:2d98551b0075075c6e8a964f2e5034ec881d38a4bd9d00fbaaf9e2e6f094a9e7"
 },
 "nbformat": 3,
 "nbformat_minor": 0,
 "worksheets": [
  {
   "cells": [
    {
     "cell_type": "code",
     "collapsed": false,
     "input": [
      "import pandas as pd\n",
      "import numpy as np\n",
      "import os\n",
      "import sets\n",
      "from PIL import Image\n",
      "\n",
      "from sklearn.decomposition import RandomizedPCA\n",
      "from sklearn.neighbors import KNeighborsClassifier\n"
     ],
     "language": "python",
     "metadata": {},
     "outputs": [],
     "prompt_number": 1
    },
    {
     "cell_type": "code",
     "collapsed": false,
     "input": [
      "from pybrain.tools.shortcuts import buildNetwork\n",
      "from pybrain.datasets import ClassificationDataSet\n",
      "from pybrain.structure.modules import SoftmaxLayer\n",
      "from pybrain.supervised.trainers import BackpropTrainer\n",
      "from pybrain.utilities import percentError"
     ],
     "language": "python",
     "metadata": {},
     "outputs": [],
     "prompt_number": 49
    },
    {
     "cell_type": "code",
     "collapsed": false,
     "input": [],
     "language": "python",
     "metadata": {},
     "outputs": [],
     "prompt_number": 4
    },
    {
     "cell_type": "code",
     "collapsed": false,
     "input": [
      "# helper functions\n",
      "def getLabel(path):\n",
      "    \"\"\"\n",
      "    small helper that takes a given filename, and returns\n",
      "    the label, assuming the file is named like so:\n",
      "    cornmarket_000079.jpg will return cornmarket\n",
      "    \"\"\"\n",
      "    return path[path.index('/') + 1:path.rindex('_')]\n",
      "# setup a standard image size; this will distort some images but will get everything into the same shape\n",
      "# functions based off of yhat's tutorial http://blog.yhathq.com/posts/image-classification-in-Python.html\n",
      "def img_to_matrix(filename, useHsv=False, imageSize=(200, 200)):\n",
      "    \"\"\"\n",
      "    takes a filename and turns it into a numpy array of RGB pixels\n",
      "    \"\"\"\n",
      "    img = Image.open(filename)\n",
      "    img = img.resize(imageSize)\n",
      "    if useHsv:\n",
      "        rgb_img_data = list(img.getdata())\n",
      "        hsv_img_data = list(img.convert('HSV').getdata())\n",
      "        img = [rgb_img_data[idx] + hsv_img_data[idx] for idx in xrange(len(rgb_img_data))]\n",
      "    else:\n",
      "        img = list(img.getdata())\n",
      "    img = map(list, img)\n",
      "    img = np.array(img)\n",
      "    return img\n",
      "\n",
      "def flatten_image(img):\n",
      "    \"\"\"\n",
      "    takes in an (m, n) numpy array and flattens it \n",
      "    into an array of shape (1, m * n)\n",
      "    \"\"\"\n",
      "    s = img.shape[0] * img.shape[1]\n",
      "    img_wide = img.reshape(1, s)\n",
      "    return img_wide[0]\n",
      "\n",
      "\n",
      "def getPictureList(path):\n",
      "    fileList = []\n",
      "    with open(path) as f:\n",
      "        for row in f:\n",
      "            fileList.append(row.strip() + '.jpg')\n",
      "            \n",
      "    return fileList"
     ],
     "language": "python",
     "metadata": {},
     "outputs": [],
     "prompt_number": 60
    },
    {
     "cell_type": "code",
     "collapsed": false,
     "input": [
      "filenames = getPictureList('not_bad.txt')# os.listdir('img')\n",
      "numberOfClasses = 10\n",
      "\n",
      "images = [os.path.join('img', f) for f in os.listdir('img') if f[0] != '.']\n",
      "\n",
      "# XXX need to work out the sorting here\n",
      "labels = [getLabel(f) for f in images]"
     ],
     "language": "python",
     "metadata": {},
     "outputs": [],
     "prompt_number": 104
    },
    {
     "cell_type": "code",
     "collapsed": false,
     "input": [
      "labelList = sorted(list(sets.Set(labels)))\n",
      "cutoffClass = labelList[numberOfClasses]\n",
      "cutoffIdx = labels.index(cutoffClass)\n",
      "\n",
      "images, labels = images[:cutoffIdx], labels[:cutoffIdx]\n",
      "\n",
      "labelList = sorted(list(sets.Set(labels)))\n",
      "data = []\n",
      "for image in images:\n",
      "    img = img_to_matrix(image, useHsv=False, imageSize=(260, 260))\n",
      "    img = flatten_image(img)\n",
      "    data.append(img)\n",
      "\n",
      "data = np.array(data)"
     ],
     "language": "python",
     "metadata": {},
     "outputs": [],
     "prompt_number": 105
    },
    {
     "cell_type": "code",
     "collapsed": false,
     "input": [
      "inputSize = len(data[0])\n",
      "\n",
      "ds = ClassificationDataSet(inputSize, 1)"
     ],
     "language": "python",
     "metadata": {},
     "outputs": [],
     "prompt_number": 106
    },
    {
     "cell_type": "code",
     "collapsed": false,
     "input": [
      "for idx in xrange(len(images)):\n",
      "    ds.addSample(data[idx], labelList.index(labels[idx]))"
     ],
     "language": "python",
     "metadata": {},
     "outputs": [],
     "prompt_number": 107
    },
    {
     "cell_type": "code",
     "collapsed": false,
     "input": [
      "test, train = ds.splitWithProportion(0.25)"
     ],
     "language": "python",
     "metadata": {},
     "outputs": [],
     "prompt_number": 108
    },
    {
     "cell_type": "code",
     "collapsed": false,
     "input": [
      "test._convertToOneOfMany()\n",
      "train._convertToOneOfMany()"
     ],
     "language": "python",
     "metadata": {},
     "outputs": [],
     "prompt_number": 109
    },
    {
     "cell_type": "code",
     "collapsed": false,
     "input": [
      "fnn = buildNetwork(train.indim, 5, train.outdim, outclass=SoftmaxLayer)"
     ],
     "language": "python",
     "metadata": {},
     "outputs": [],
     "prompt_number": 110
    },
    {
     "cell_type": "code",
     "collapsed": false,
     "input": [
      "trainer = BackpropTrainer(fnn, dataset=train, momentum=0.1, verbose=True, weightdecay=0.01)"
     ],
     "language": "python",
     "metadata": {},
     "outputs": [],
     "prompt_number": 111
    },
    {
     "cell_type": "code",
     "collapsed": false,
     "input": [
      "trainer.trainEpochs(5)"
     ],
     "language": "python",
     "metadata": {},
     "outputs": [
      {
       "output_type": "stream",
       "stream": "stdout",
       "text": [
        "Total error: 0.0436177428211\n",
        "Total error:"
       ]
      },
      {
       "output_type": "stream",
       "stream": "stdout",
       "text": [
        " 0.0417885390302\n",
        "Total error:"
       ]
      },
      {
       "output_type": "stream",
       "stream": "stdout",
       "text": [
        " 0.0415081365375\n",
        "Total error:"
       ]
      },
      {
       "output_type": "stream",
       "stream": "stdout",
       "text": [
        " 0.0414581335926\n",
        "Total error:"
       ]
      },
      {
       "output_type": "stream",
       "stream": "stdout",
       "text": [
        " 0.0413570340007\n"
       ]
      }
     ],
     "prompt_number": 112
    },
    {
     "cell_type": "code",
     "collapsed": false,
     "input": [
      "trainResult = percentError(trainer.testOnClassData(), train['class'])\n",
      "testResult = percentError(trainer.testOnClassData(dataset=test), test['class'])\n",
      "\n",
      "print \"epoch: %4d\" % trainer.totalepochs, \\\n",
      "          \"  train error: %5.2f%%\" % trainResult, \\\n",
      "          \"  test error: %5.2f%%\" % testResult"
     ],
     "language": "python",
     "metadata": {},
     "outputs": [
      {
       "output_type": "stream",
       "stream": "stdout",
       "text": [
        "epoch:    5   train error: 76.73%   test error: 76.12%\n"
       ]
      }
     ],
     "prompt_number": 113
    },
    {
     "cell_type": "code",
     "collapsed": false,
     "input": [
      "testImage = img_to_matrix('img/all_souls_000041.jpg', imageSize=(260,260))\n",
      "testImage = img_to_matrix('img/ashmolean_000304.jpg', imageSize=(260,260))\n",
      "testImage = flatten_image(testImage)"
     ],
     "language": "python",
     "metadata": {},
     "outputs": [],
     "prompt_number": 114
    },
    {
     "cell_type": "code",
     "collapsed": false,
     "input": [
      "fnn.activate(testImage)"
     ],
     "language": "python",
     "metadata": {},
     "outputs": [
      {
       "metadata": {},
       "output_type": "pyout",
       "prompt_number": 115,
       "text": [
        "array([ 0.06080766,  0.07603198,  0.06994594,  0.0859393 ,  0.26307165,\n",
        "        0.03123181,  0.03347576,  0.06954759,  0.05153993,  0.25840838])"
       ]
      }
     ],
     "prompt_number": 115
    },
    {
     "cell_type": "code",
     "collapsed": false,
     "input": [],
     "language": "python",
     "metadata": {},
     "outputs": [],
     "prompt_number": 115
    }
   ],
   "metadata": {}
  }
 ]
}